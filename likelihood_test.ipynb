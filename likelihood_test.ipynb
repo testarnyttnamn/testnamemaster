{
 "cells": [
  {
   "cell_type": "markdown",
   "metadata": {},
   "source": [
    "# Testing the likelihood external file\n",
    "\n",
    "To start playing with this notebook, install the ```Likelihood Package``` and its modules according to README.\n",
    "Alternatively you may be ready to run if ```Cobaya``` and ```CAMB/CLASS``` are installed."
   ]
  },
  {
   "cell_type": "markdown",
   "metadata": {},
   "source": [
    "Cobaya documentation: https://cobaya.readthedocs.io/en/latest/"
   ]
  },
  {
   "cell_type": "code",
   "execution_count": null,
   "metadata": {},
   "outputs": [],
   "source": [
    "#General imports\n",
    "import numpy as np\n",
    "import matplotlib.pyplot as plt\n",
    "from scipy import integrate\n",
    "from scipy import interpolate \n"
   ]
  },
  {
   "cell_type": "markdown",
   "metadata": {},
   "source": [
    "### Specific imports"
   ]
  },
  {
   "cell_type": "code",
   "execution_count": null,
   "metadata": {},
   "outputs": [],
   "source": [
    "#Import cobaya -need to be installed\n",
    "import cobaya\n",
    "#Import external loglike from the Likelihood Package within cobaya interface module\n",
    "from likelihood.cobaya_interface import EuclidLikelihood"
   ]
  },
  {
   "cell_type": "markdown",
   "metadata": {},
   "source": [
    "### Step 1: create your dictionary with general specifications\n",
    "\n",
    "In ```COBAYA```, 'ini files' are 'yaml files', which are in reality understood by Cobaya as python dictionaries. I have added comments explaining each of the lines of the dictionary.\n"
   ]
  },
  {
   "cell_type": "code",
   "execution_count": null,
   "metadata": {},
   "outputs": [],
   "source": [
    "#ATTENTION: CHANGE THIS TO YOUR LOCAL PATH where your external codes are installed: CAMB, polychord, likelihoods...\n",
    "modules_path = \"/data2/cobaya_modules/\"\n",
    "\n",
    "# Info is the 'ini file' dictionary. \n",
    "# You can translate this info-dictionary into a yaml file and run: cobaya-run info.yaml such as CosmoMC like\n",
    "\n",
    "info = {\n",
    "    #Which parameters would you like to sample?\n",
    "    'params': {\n",
    "        # Fixed\n",
    "        'ombh2': 0.022, 'omch2': 0.12, 'H0': 68, 'tau': 0.07,\n",
    "        'mnu': 0.06, 'nnu': 3.046,\n",
    "        # Sampled - just as an example we assume we will be sampling over ns\n",
    "        'ns': {'prior': {'min': 0.8, 'max': 1.2}},\n",
    "        #To be passed to euclid which likelihood to use (preliminary)\n",
    "        # 1: shear\n",
    "        # 2: spec\n",
    "        # 12: both\n",
    "        'like_selection': 12,\n",
    "        'As': 2.1e-9},\n",
    "    #Which theory code you want to use? HERE CAMB\n",
    "    'theory': {'camb': {'stop_at_error': True, 'extra_args':{'num_massive_neutrinos': 1}}},\n",
    "    #Which sample do you want to use? HERE I use MCMC for testing\n",
    "    'sampler': {'mcmc': None},  \n",
    "    #Where have you installed your modules (i.e: CAMB, polychord, likelihoods...)\n",
    "    'packages_path': modules_path,\n",
    "    #Where are the results going to be stored?\n",
    "    'output': 'chains/my_euclid_experiment',\n",
    "    #Likelihood: we load the likelihood as an external function\n",
    "    'likelihood': {'Euclid': EuclidLikelihood},\n",
    "    'debug': False,\n",
    "    'force': True\n",
    "    }"
   ]
  },
  {
   "cell_type": "markdown",
   "metadata": {},
   "source": [
    "### Step 2: Call the 'model' wrapper of ```COBAYA```\n",
    "\n",
    "In principle, we could run directly cobaya with the above dictionary and start producing chains. However, for testing purposes, the 'model' wrapper is created, which allows to enter directly to theory code's quantities. It works similarly as an 'evaluator'.\n",
    "\n",
    "I use it here to give a feeling of what ```COBAYA``` is doing internally. Advice: good for debbuging too."
   ]
  },
  {
   "cell_type": "code",
   "execution_count": null,
   "metadata": {
    "scrolled": false
   },
   "outputs": [],
   "source": [
    "# Model wrapper of cobaya\n",
    "from cobaya.model import get_model\n",
    "model = get_model(info)"
   ]
  },
  {
   "cell_type": "code",
   "execution_count": null,
   "metadata": {},
   "outputs": [],
   "source": [
    "# Which theory requirements is the likelihood asking to the Boltzman Solver?\n",
    "print('\\n Requirements \\n')\n",
    "print(model.provider.requirement_providers)\n",
    "# So, what have we requested?\n",
    "print('\\n Requested \\n')\n",
    "print(model.requested())"
   ]
  },
  {
   "cell_type": "code",
   "execution_count": null,
   "metadata": {},
   "outputs": [],
   "source": [
    "# To execute the likelihood, you need to make an evaluation of the posterior\n",
    "# Attention: this chi2 for the moment, does not make sense yet\n",
    "# As ns is sampled, we need to obtain a value from the prior\n",
    "point = dict(zip(model.parameterization.sampled_params(),\n",
    "                 model.prior.sample(ignore_external=True)[0]))\n",
    "\n",
    "\n",
    "model.logposterior(point)"
   ]
  },
  {
   "cell_type": "code",
   "execution_count": null,
   "metadata": {},
   "outputs": [],
   "source": [
    "# which parameters does the model have?\n",
    "print(model.provider.params)"
   ]
  },
  {
   "cell_type": "markdown",
   "metadata": {},
   "source": [
    "### Step 3: Call the sampler of  ```COBAYA```\n",
    "\n",
    "Let's check if ```cobaya```works properly with samplers"
   ]
  },
  {
   "cell_type": "code",
   "execution_count": null,
   "metadata": {
    "scrolled": false
   },
   "outputs": [],
   "source": [
    "from cobaya.run import run\n",
    "info_updated, samples = run(info)"
   ]
  },
  {
   "cell_type": "markdown",
   "metadata": {},
   "source": [
    "### Step 4: Cosmology module and ```COBAYA```\n",
    "\n",
    "In principle, the cobaya interface only pass cosmology parameters (for instance $\\Omega_m$, $\\Omega_b$, $H$) and ask for theory requirements from the boltzmann solver. Internally, the likelihood module uses the cosmology class to deal with the different GCspec, GCphot, WL recipes."
   ]
  },
  {
   "cell_type": "code",
   "execution_count": null,
   "metadata": {},
   "outputs": [],
   "source": [
    "#Import Cosmology module from the Likelihood Package to play with cosmological quantities\n",
    "from likelihood.cosmo.cosmology import Cosmology"
   ]
  },
  {
   "cell_type": "code",
   "execution_count": null,
   "metadata": {},
   "outputs": [],
   "source": [
    "# Some of the theory needs require extra info (redshift, ks)...\n",
    "z_min = 0.0\n",
    "z_max = 2.5\n",
    "z_samp = 10\n",
    "z_win = np.linspace(z_min, z_max, z_samp)"
   ]
  },
  {
   "cell_type": "code",
   "execution_count": null,
   "metadata": {},
   "outputs": [],
   "source": [
    "# Cobaya_interface save the cosmology parameters and the cosmology requirements \n",
    "# from CAMB/CLASS via COBAYA to the cosmology class\n",
    "\n",
    "# This dictionary collects info from cobaya\n",
    "theory_dic = {'H0': model.provider.get_param('H0'),\n",
    "                  'omch2': model.provider.get_param('omch2'),\n",
    "                  'ombh2': model.provider.get_param('ombh2'),\n",
    "                  'mnu': model.provider.get_param('mnu'),\n",
    "                  'comov_dist': model.provider.get_comoving_radial_distance(z_win),\n",
    "                  'H': model.provider.get_Hubble(z_win),\n",
    "                  'Pk_interpolator': model.provider.get_Pk_interpolator(nonlinear=False),\n",
    "                  'Pk_delta': None,\n",
    "                  'fsigma8': None,\n",
    "                  'z_win': z_win\n",
    "                  }\n",
    "theory_dic['Pk_delta'] = model.provider.get_Pk_interpolator((\"delta_tot\", \"delta_tot\"), nonlinear=False)\n",
    "theory_dic['fsigma8'] = model.provider.get_fsigma8(z_win)"
   ]
  },
  {
   "cell_type": "code",
   "execution_count": null,
   "metadata": {},
   "outputs": [],
   "source": [
    "# Initialize cosmology class from likelihood.cosmo.cosmology\n",
    "# By default: LCDM\n",
    "cosmology = Cosmology()\n",
    "print(cosmology.cosmo_dic)"
   ]
  },
  {
   "cell_type": "code",
   "execution_count": null,
   "metadata": {},
   "outputs": [],
   "source": [
    "# the cobaya_interface.py save cobaya theory dictionary as above into cosmology.cosmo_dic\n",
    "cosmology.cosmo_dic.update(theory_dic)\n",
    "cosmology.interp_comoving_dist()\n",
    "cosmology.interp_H()\n",
    "print(cosmology.cosmo_dic)"
   ]
  },
  {
   "cell_type": "code",
   "execution_count": null,
   "metadata": {},
   "outputs": [],
   "source": [
    "# Cosmology class calculates other cosmology quantities needed by GC, WL...\n",
    "# Growth factor\n",
    "D=cosmology.growth_factor(2, 0.002)\n",
    "print('D(2, 0.002) =', D)\n",
    "# Growth rate\n",
    "f=cosmology.growth_rate(z_win, 0.002)\n",
    "print('f(z, 0.002) =', f)"
   ]
  },
  {
   "cell_type": "markdown",
   "metadata": {},
   "source": [
    "### Step 5: Shear module and ```COBAYA```\n",
    "\n"
   ]
  },
  {
   "cell_type": "code",
   "execution_count": null,
   "metadata": {},
   "outputs": [],
   "source": [
    "from likelihood.photometric_survey.shear import Shear\n",
    "from likelihood.general_specs.estimates import Galdist"
   ]
  },
  {
   "cell_type": "code",
   "execution_count": null,
   "metadata": {},
   "outputs": [],
   "source": [
    "galdist = Galdist(1)\n",
    "n_z_normalized = galdist.n_i\n",
    "n_z_normalized(3.85)"
   ]
  },
  {
   "cell_type": "code",
   "execution_count": null,
   "metadata": {},
   "outputs": [],
   "source": [
    "shear = Shear(cosmology.cosmo_dic)"
   ]
  },
  {
   "cell_type": "code",
   "execution_count": null,
   "metadata": {},
   "outputs": [],
   "source": []
  }
 ],
 "metadata": {
  "kernelspec": {
   "display_name": "Python 3",
   "language": "python",
   "name": "python3"
  },
  "language_info": {
   "codemirror_mode": {
    "name": "ipython",
    "version": 3
   },
   "file_extension": ".py",
   "mimetype": "text/x-python",
   "name": "python",
   "nbconvert_exporter": "python",
   "pygments_lexer": "ipython3",
   "version": "3.7.6"
  }
 },
 "nbformat": 4,
 "nbformat_minor": 2
}
