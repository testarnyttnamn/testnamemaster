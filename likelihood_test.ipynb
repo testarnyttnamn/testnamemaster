{
 "cells": [
  {
   "cell_type": "markdown",
   "metadata": {},
   "source": [
    "# Testing the likelihood external file\n",
    "\n",
    "To start playing with this notebook, install the ```Likelihood Package``` and its modules according to README.\n",
    "Alternatively you may be ready to run if ```Cobaya``` and ```CAMB/CLASS``` are installed."
   ]
  },
  {
   "cell_type": "markdown",
   "metadata": {},
   "source": [
    "Cobaya documentation: https://cobaya.readthedocs.io/en/latest/"
   ]
  },
  {
   "cell_type": "code",
   "execution_count": 1,
   "metadata": {},
   "outputs": [],
   "source": [
    "#General imports\n",
    "import numpy as np\n",
    "import matplotlib.pyplot as plt"
   ]
  },
  {
   "cell_type": "markdown",
   "metadata": {},
   "source": [
    "### Specific imports"
   ]
  },
  {
   "cell_type": "code",
   "execution_count": 2,
   "metadata": {},
   "outputs": [],
   "source": [
    "#Import cobaya -need to be installed\n",
    "import cobaya\n",
    "#Import external loglike from the Likelihood Package within cobaya interface module\n",
    "from likelihood.cobaya_interface import loglike"
   ]
  },
  {
   "cell_type": "markdown",
   "metadata": {},
   "source": [
    "### Step 1: create your dictionary with general specifications\n",
    "\n",
    "In ```COBAYA```, 'ini files' are 'yaml files', which are in reality understood by Cobaya as python dictionaries. I have added comments explaining each of the lines of the dictionary.\n"
   ]
  },
  {
   "cell_type": "code",
   "execution_count": 5,
   "metadata": {},
   "outputs": [],
   "source": [
    "#ATTENTION: CHANGE THIS TO YOUR LOCAL PATH where your external codes are installed: CAMB, polychord, likelihoods...\n",
    "modules_path = \"/data2/cobaya_modules/\"\n",
    "\n",
    "# Info is the 'ini file' dictionary. \n",
    "# You can translate this info-dictionary into a yaml file and run: cobaya-run info.yaml such as CosmoMC like\n",
    "\n",
    "info = {\n",
    "    #Which parameters would you like to sample?\n",
    "    'params': {\n",
    "        # Fixed\n",
    "        'pivot_scalar': 0.002,\n",
    "        'ombh2': 0.022, 'omch2': 0.12, 'H0': 68, 'tau': 0.07,\n",
    "        'mnu': 0.06, 'nnu': 3.046, 'num_massive_neutrinos': 1,\n",
    "        'ns': 0.9674,\n",
    "        #To be passed to euclid which likelihood to use (preliminary)\n",
    "        # 1: shear\n",
    "        # 2: spec\n",
    "        # 12: both\n",
    "        'like_selection': 12,\n",
    "        # Sampled - just as an example we assume we will be sampling over A_s\n",
    "        'As': 2.1e-9},\n",
    "    #Which theory code you want to use? HERE CAMB\n",
    "    'theory': {'camb': {'stop_at_error': True}},\n",
    "    #Which sample do you want to use? HERE I use MCMC for testing\n",
    "    'sampler': {'mcmc': None},  \n",
    "    #Where have you installed your modules (i.e: CAMB, polychord, likelihoods...)\n",
    "    'modules': modules_path,\n",
    "    #Where are the results going to be stored?\n",
    "    'output': 'chains/my_euclid_experiment',\n",
    "    #Likelihood: we load the likelihood as an external function\n",
    "    'likelihood': {'euclid': \"import_module('likelihood.cobaya_interface').loglike\"},\n",
    "    }"
   ]
  },
  {
   "cell_type": "markdown",
   "metadata": {},
   "source": [
    "### Step 2: Call the 'model' function of ```COBAYA```\n",
    "\n",
    "In principle, we could run directly cobaya with the above dictionary and start producing chains. However, for testing purposes, the 'model' wrapper is created, which allows to enter directly to theory code's quantities. It works similarly as an 'evaluator'.\n",
    "\n",
    "I use it here to give a feeling of what ```COBAYA``` is doing internally. Advice: good for debbuging too."
   ]
  },
  {
   "cell_type": "code",
   "execution_count": 6,
   "metadata": {},
   "outputs": [
    {
     "name": "stdout",
     "output_type": "stream",
     "text": [
      "[model] *WARNING* Ignored blocks/options: ['sampler', 'output']\n",
      "[prior] *WARNING* No sampled parameters requested! This will fail for non-mock samplers.\n",
      "[euclid] Initialised external likelihood.\n",
      "[camb] Importing *local* CAMB from /data2/cobaya_modules/code/CAMB\n",
      "[likelihood] The theory code will compute the following products, requested by the likelihoods: ['Pk_interpolator', 'comoving_radial_distance', 'H', 'fsigma8']\n"
     ]
    }
   ],
   "source": [
    "# Model wrapper of cobaya\n",
    "from cobaya.model import get_model\n",
    "model = get_model(info)"
   ]
  },
  {
   "cell_type": "code",
   "execution_count": 12,
   "metadata": {},
   "outputs": [
    {
     "name": "stdout",
     "output_type": "stream",
     "text": [
      "{'Pk_interpolator': {'z': array([0.        , 0.27777778, 0.55555556, 0.83333333, 1.11111111,\n",
      "       1.38888889, 1.66666667, 1.94444444, 2.22222222, 2.5       ]), 'k_max': 0.2, 'vars_pairs': {('delta_tot', 'delta_tot')}, 'extrap_kmax': 2, 'nonlinear': False}, 'comoving_radial_distance': {'z': array([0.        , 0.27777778, 0.55555556, 0.83333333, 1.11111111,\n",
      "       1.38888889, 1.66666667, 1.94444444, 2.22222222, 2.5       ])}, 'H': {'z': array([0.        , 0.27777778, 0.55555556, 0.83333333, 1.11111111,\n",
      "       1.38888889, 1.66666667, 1.94444444, 2.22222222, 2.5       ])}, 'fsigma8': {'z': array([0.        , 0.27777778, 0.55555556, 0.83333333, 1.11111111,\n",
      "       1.38888889, 1.66666667, 1.94444444, 2.22222222, 2.5       ])}}\n"
     ]
    }
   ],
   "source": [
    "# Which theory requirements is the likelihood asking to the Boltzman Solver?\n",
    "print(model.likelihood.theory.requested())"
   ]
  },
  {
   "cell_type": "code",
   "execution_count": 13,
   "metadata": {},
   "outputs": [
    {
     "data": {
      "text/plain": [
       "logposterior(logpost=34206.19192968892, logpriors=[0], loglikes=array([34206.19192969]), derived=[])"
      ]
     },
     "execution_count": 13,
     "metadata": {},
     "output_type": "execute_result"
    }
   ],
   "source": [
    "# To execute the likelihood, you need to make an evaluation of the posterior\n",
    "# Attention: this chi2 for the moment, does not make sense yet\n",
    "model.logposterior({})"
   ]
  },
  {
   "cell_type": "markdown",
   "metadata": {},
   "source": [
    "### Step 3: Cosmology module and ```COBAYA```\n",
    "\n",
    "In principle, the cobaya interface only pass cosmology parameters (for instance $\\Omega_m$, $\\Omega_b$, $H$) and ask for theory requirements from the boltzmann solver. Internally, the likelihood module uses the cosmology class to deal with the different GCspec, GCphot, WL recipes."
   ]
  },
  {
   "cell_type": "code",
   "execution_count": 14,
   "metadata": {},
   "outputs": [],
   "source": [
    "#Import Cosmology module from the Likelihood Package to play with cosmological quantities\n",
    "from likelihood.cosmo.cosmology import Cosmology"
   ]
  },
  {
   "cell_type": "code",
   "execution_count": 17,
   "metadata": {},
   "outputs": [],
   "source": [
    "# Some of the theory needs require extra info (redshift, ks)...\n",
    "z_min = 0.0\n",
    "z_max = 2.5\n",
    "z_samp = 10\n",
    "z_win = np.linspace(z_min, z_max, z_samp)"
   ]
  },
  {
   "cell_type": "code",
   "execution_count": 18,
   "metadata": {},
   "outputs": [],
   "source": [
    "# Cobaya_interface save the cosmology parameters and the cosmology requirements \n",
    "# from CAMB/CLASS via COBAYA to the cosmology class\n",
    "\n",
    "# This dictionary collects info from cobaya\n",
    "theory_dic = {'H0': model.parameterization.constant_params()['H0'],\n",
    "                  'omch2': model.parameterization.constant_params()['omch2'],\n",
    "                  'ombh2': model.parameterization.constant_params()['ombh2'],\n",
    "                  'mnu': model.parameterization.constant_params()['mnu'],\n",
    "                  'comov_dist': model.likelihood.theory.get_comoving_radial_distance(z_win),\n",
    "                  'H': model.likelihood.theory.get_H(z_win),\n",
    "                  'Pk_interpolator': model.likelihood.theory.get_Pk_interpolator(),\n",
    "                  'Pk_delta': None,\n",
    "                  'fsigma8': None,\n",
    "                  }\n",
    "theory_dic['Pk_delta'] = (theory_dic['Pk_interpolator']\n",
    "                              ['delta_tot_delta_tot'])\n",
    "theory_dic['fsigma8'] = model.likelihood.theory.get_fsigma8(z_win)"
   ]
  },
  {
   "cell_type": "code",
   "execution_count": 22,
   "metadata": {},
   "outputs": [
    {
     "name": "stdout",
     "output_type": "stream",
     "text": [
      "{'H0': 67.5, 'omch2': 0.122, 'ombh2': 0.022, 'mnu': 0.06, 'comov_dist': None, 'H': None, 'Pk_interpolator': None, 'Pk_delta': None, 'fsigma8': None, 'zk': None, 'b_gal': None, 'sigma_8': None}\n"
     ]
    }
   ],
   "source": [
    "# Initialize cosmology class from likelihood.cosmo.cosmology\n",
    "# By default: LCDM\n",
    "cosmology = Cosmology()\n",
    "print(cosmology.cosmo_dic)"
   ]
  },
  {
   "cell_type": "code",
   "execution_count": 24,
   "metadata": {},
   "outputs": [
    {
     "name": "stdout",
     "output_type": "stream",
     "text": [
      "{'H0': 68, 'omch2': 0.12, 'ombh2': 0.022, 'mnu': 0.06, 'comov_dist': array([   0.        , 1142.9773538 , 2121.38122264, 2949.39932325,\n",
      "       3650.57669895, 4248.45789676, 4763.09734232, 5210.53588629,\n",
      "       5603.31481708, 5951.19577302]), 'H': array([ 68.        ,  78.57533123,  92.56648293, 109.50397342,\n",
      "       128.94006714, 150.51786245, 173.9690815 , 199.09369509,\n",
      "       225.74048994, 253.79257143]), 'Pk_interpolator': {'delta_tot_delta_tot': <camb.results.CAMBdata.get_matter_power_interpolator.<locals>.PKInterpolator object at 0x7fc11c7ce710>}, 'Pk_delta': <camb.results.CAMBdata.get_matter_power_interpolator.<locals>.PKInterpolator object at 0x7fc11c7ce710>, 'fsigma8': array([0.40225215, 0.44653764, 0.44818458, 0.42791323, 0.39935048,\n",
      "       0.36939237, 0.34099903, 0.31520664, 0.29219735, 0.27180789])}\n"
     ]
    }
   ],
   "source": [
    "# the cobaya_interface.py save cobaya theory dictionary as above into cosmology.cosmo_dic\n",
    "cosmology.cosmo_dic = theory_dic\n",
    "print(cosmology.cosmo_dic)"
   ]
  },
  {
   "cell_type": "code",
   "execution_count": 32,
   "metadata": {},
   "outputs": [
    {
     "name": "stdout",
     "output_type": "stream",
     "text": [
      "D(2, 0.002) = 0.4190851648999532\n",
      "f(z, 0.002) = [0.13581661 0.18509345 0.21576715 0.23607684 0.24916947 0.25764292\n",
      " 0.26322966 0.26700238 0.26961407 0.29182622]\n"
     ]
    }
   ],
   "source": [
    "# Cosmology class calculates other cosmology quantities needed by GC, WL...\n",
    "# Growth factor\n",
    "D=cosmology.growth_factor(2, 0.002)\n",
    "print('D(2, 0.002) =', D)\n",
    "# Growth rate\n",
    "f=cosmology.growth_rate(z_win, 0.002)\n",
    "print('f(z, 0.002) =', f)"
   ]
  }
 ],
 "metadata": {
  "kernelspec": {
   "display_name": "Python 3",
   "language": "python",
   "name": "python3"
  },
  "language_info": {
   "codemirror_mode": {
    "name": "ipython",
    "version": 3
   },
   "file_extension": ".py",
   "mimetype": "text/x-python",
   "name": "python",
   "nbconvert_exporter": "python",
   "pygments_lexer": "ipython3",
   "version": "3.7.6"
  }
 },
 "nbformat": 4,
 "nbformat_minor": 2
}
