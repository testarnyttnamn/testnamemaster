{
 "cells": [
  {
   "cell_type": "markdown",
   "metadata": {},
   "source": [
    "# Testing the likelihood external file\n",
    "\n",
    "To start playing with this notebook, install ```COBAYA``` and its modules according to README"
   ]
  },
  {
   "cell_type": "code",
   "execution_count": 1,
   "metadata": {},
   "outputs": [],
   "source": [
    "#General imports\n",
    "import numpy as np\n",
    "import matplotlib.pyplot as plt"
   ]
  },
  {
   "cell_type": "code",
   "execution_count": 2,
   "metadata": {},
   "outputs": [],
   "source": [
    "#Import cobaya -need to be installed\n",
    "import cobaya"
   ]
  },
  {
   "cell_type": "code",
   "execution_count": 3,
   "metadata": {},
   "outputs": [],
   "source": [
    "from likelihood.cobaya_interface import loglike"
   ]
  },
  {
   "cell_type": "markdown",
   "metadata": {},
   "source": [
    "### Step 1: create your dictionary with general specifications\n",
    "\n",
    "In ```COBAYA```, 'ini files' are 'yaml files', which are in reality understood by Cobaya as python dictionaries. I have added comments explaining each of the lines of the dictionary.\n"
   ]
  },
  {
   "cell_type": "code",
   "execution_count": 5,
   "metadata": {},
   "outputs": [],
   "source": [
    "#ATTENTION: CHANGE THIS TO YOUR LOCAL PATH where your external codes are installed: CAMB, polychord, likelihoods...\n",
    "modules_path = \"/data2/cobaya_modules/\"\n",
    "\n",
    "# Info is the 'ini file' dictionary\n",
    "info = {\n",
    "    #Which parameters would you like to sample?\n",
    "    'params': {\n",
    "        # Fixed\n",
    "        'ombh2': 0.022, 'omch2': 0.12, 'H0': 68, 'tau': 0.07,\n",
    "        'mnu': 0.06, 'nnu': 3.046, 'num_massive_neutrinos': 1,\n",
    "        'ns': 0.9674,\n",
    "        #To be passed to euclid which likelihood to use (preliminary)\n",
    "        # 1: shear\n",
    "        # 2: spec\n",
    "        # 12: both\n",
    "        'like_selection': 12,\n",
    "        # Sampled - just as an example we assume we will be sampling over A_s\n",
    "        'As': {'prior': {'min': 1e-9, 'max': 4e-9}, 'latex': 'A_s'}},\n",
    "    #Which theory code you want to use? HERE CAMB\n",
    "    'theory': {'camb': {'stop_at_error': True}},\n",
    "    #Which sample do you want to use? HERE I use MCMC for testing\n",
    "    'sampler': {'mcmc': None},  \n",
    "    #Where have you installed your modules (i.e: CAMB, polychord, likelihoods...)\n",
    "    'modules': modules_path,\n",
    "    #Where are the results going to be stored?\n",
    "    'output': 'chains/my_euclid_experiment',\n",
    "    #Likelihood: we load the likelihood as an external function\n",
    "    'likelihood': {'euclid': \"import_module('likelihood.cobaya_interface').loglike\"},\n",
    "    }"
   ]
  },
  {
   "cell_type": "markdown",
   "metadata": {},
   "source": [
    "### Step 2: Call the 'model' function of ```COBAYA```\n",
    "\n",
    "In principle, we could run directly cobaya with the above dictionary and start producing chains. However, for testing purposes, the 'model' function is created, which allows to enter directly to theory code's quantities."
   ]
  },
  {
   "cell_type": "code",
   "execution_count": 6,
   "metadata": {},
   "outputs": [
    {
     "name": "stdout",
     "output_type": "stream",
     "text": [
      "[model] *WARNING* Ignored blocks/options: ['sampler', 'output']\n",
      "[euclid] Initialised external likelihood.\n",
      "[camb] Importing *local* CAMB from /data2/cobaya_modules/code/CAMB\n",
      "[likelihood] The theory code will compute the following products, requested by the likelihoods: ['Pk_interpolator', 'comoving_radial_distance', 'H', 'fsigma8']\n"
     ]
    }
   ],
   "source": [
    "from cobaya.model import get_model\n",
    "model = get_model(info)"
   ]
  },
  {
   "cell_type": "code",
   "execution_count": 7,
   "metadata": {},
   "outputs": [],
   "source": [
    "As = np.linspace(1e-9, 4e-9, 4)\n",
    "likes = [model.loglike({'As': A})[0] for A in As]"
   ]
  },
  {
   "cell_type": "code",
   "execution_count": null,
   "metadata": {},
   "outputs": [],
   "source": [
    "plt.plot(As, likes)\n",
    "plt.show()\n",
    "#Return zero because the function gc_spec_like returns zero"
   ]
  },
  {
   "cell_type": "raw",
   "metadata": {},
   "source": []
  }
 ],
 "metadata": {
  "kernelspec": {
   "display_name": "Python 3",
   "language": "python",
   "name": "python3"
  },
  "language_info": {
   "codemirror_mode": {
    "name": "ipython",
    "version": 3
   },
   "file_extension": ".py",
   "mimetype": "text/x-python",
   "name": "python",
   "nbconvert_exporter": "python",
   "pygments_lexer": "ipython3",
   "version": "3.7.6"
  }
 },
 "nbformat": 4,
 "nbformat_minor": 2
}
