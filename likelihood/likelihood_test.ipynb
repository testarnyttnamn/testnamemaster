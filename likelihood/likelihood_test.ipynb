{
 "cells": [
  {
   "cell_type": "markdown",
   "metadata": {},
   "source": [
    "# Testing the likelihood external file\n",
    "\n",
    "To start playing with this notebook, install ```COBAYA``` and its modules according to README"
   ]
  },
  {
   "cell_type": "code",
   "execution_count": 5,
   "metadata": {},
   "outputs": [],
   "source": [
    "#General imports\n",
    "import numpy as np\n",
    "import matplotlib.pyplot as plt"
   ]
  },
  {
   "cell_type": "code",
   "execution_count": 6,
   "metadata": {},
   "outputs": [],
   "source": [
    "#Import cobaya -need to be installed\n",
    "import cobaya"
   ]
  },
  {
   "cell_type": "markdown",
   "metadata": {},
   "source": [
    "### Step 1: create your dictionary with general specifications\n",
    "\n",
    "In ```COBAYA```, 'ini files' are 'yaml files', which are in reality understood by Cobaya as python dictionaries. I have added comments explaining each of the lines of the dictionary.\n"
   ]
  },
  {
   "cell_type": "code",
   "execution_count": 7,
   "metadata": {},
   "outputs": [],
   "source": [
    "#ATTENTION: CHANGE THIS TO YOUR LOCAL PATH where your external codes are installed: CAMB, polychord, likelihoods...\n",
    "modules_path = \"/cosma7/data/dp016/dc-joud1/euclidlikelihoodgit/likelihood-implementation/\"\n",
    "\n",
    "# Info is the 'ini file' dictionary\n",
    "info = {\n",
    "    #Which parameters would you like to sample?\n",
    "    'params': {\n",
    "        # Fixed\n",
    "        'ombh2': 0.022, 'omch2': 0.12, 'H0': 68, 'tau': 0.07,\n",
    "        'mnu': 0.06, 'nnu': 3.046, 'num_massive_neutrinos': 1,\n",
    "        'ns': 0.9674,\n",
    "#        'As':3e-9},\n",
    "        # Sampled - just as an example we assume we will be sampling over A_s\n",
    "        'As': {'prior': {'min': 1e-9, 'max': 4e-9}, 'latex': 'A_\\mathrm{s}'}},\n",
    "    #Which theory code you want to use? HERE CAMB\n",
    "    'theory': {'camb': {'stop_at_error': True}},\n",
    "    #Which sample do you want to use? HERE I use MCMC for testing\n",
    "    'sampler': {'mcmc': None},  \n",
    "    #Where have you installed your modules (i.e: CAMB, polychord, likelihoods...)\n",
    "    'modules': modules_path,\n",
    "    #Where are the results going to be stored?\n",
    "    'output': 'chains/my_euclid_experiment',\n",
    "    #Likelihood: we load the likelihood as an external function\n",
    "    'likelihood': {'galaxy_clustering': \"import_module('_gc_spec_prototype').gc_spec_like\"},\n",
    "    }"
   ]
  },
  {
   "cell_type": "markdown",
   "metadata": {},
   "source": [
    "### Step 2: Call the 'model' function of ```COBAYA```\n",
    "\n",
    "In principle, we could run directly cobaya with the above dictionary and start producing chains. However, for testing purposes, the 'model' function is created, which allows to enter directly to theory code's quantities."
   ]
  },
  {
   "cell_type": "code",
   "execution_count": 8,
   "metadata": {},
   "outputs": [
    {
     "name": "stdout",
     "output_type": "stream",
     "text": [
      "[model] *WARNING* Ignored blocks/options: ['sampler', 'output']\n",
      "[galaxy_clustering] Initialised external likelihood.\n",
      "[camb] Importing *local* CAMB from /cosma7/data/dp016/dc-joud1/euclidlikelihoodgit/likelihood-implementation/code/CAMB\n",
      "[likelihood] The theory code will compute the following products, requested by the likelihoods: ['Pk_interpolator', 'comoving_radial_distance', 'H', 'fsigma8']\n"
     ]
    }
   ],
   "source": [
    "from cobaya.model import get_model\n",
    "model = get_model(info)"
   ]
  },
  {
   "cell_type": "code",
   "execution_count": 9,
   "metadata": {},
   "outputs": [
    {
     "name": "stdout",
     "output_type": "stream",
     "text": [
      "[17991.7169757793, 44700.54331917728, 71117.74917826006]\n"
     ]
    }
   ],
   "source": [
    "As = np.linspace(1e-9, 4e-9, 3)\n",
    "likes = [model.loglike({'As': A})[0] for A in As]\n",
    "print(likes)"
   ]
  },
  {
   "cell_type": "code",
   "execution_count": 10,
   "metadata": {},
   "outputs": [
    {
     "data": {
      "image/png": "[encoded data removed]",
      "text/plain": [
       "<Figure size 432x288 with 1 Axes>"
      ]
     },
     "metadata": {},
     "output_type": "display_data"
    }
   ],
   "source": [
    "plt.plot(As, likes)\n",
    "plt.show()\n",
    "#Return zero because the function gc_spec_like returns zero"
   ]
  },
  {
   "cell_type": "code",
   "execution_count": 11,
   "metadata": {},
   "outputs": [
    {
     "name": "stdout",
     "output_type": "stream",
     "text": [
      "[1.00000000e-03 2.78666667e-01 5.56333333e-01 8.34000000e-01\n",
      " 1.11166667e+00 1.38933333e+00 1.66700000e+00 1.94466667e+00\n",
      " 2.22233333e+00 2.50000000e+00]\n"
     ]
    }
   ],
   "source": [
    "print(np.linspace(0.001,2.5,10))"
   ]
  },
  {
   "cell_type": "code",
   "execution_count": 12,
   "metadata": {},
   "outputs": [
    {
     "name": "stdout",
     "output_type": "stream",
     "text": [
      "{'Pk_interpolator': {'z': array([1.00000000e-03, 2.78666667e-01, 5.56333333e-01, 8.34000000e-01,\n",
      "       1.11166667e+00, 1.38933333e+00, 1.66700000e+00, 1.94466667e+00,\n",
      "       2.22233333e+00, 2.50000000e+00]), 'k_max': 0.2, 'vars_pairs': {('delta_tot', 'delta_tot')}, 'extrap_kmax': 2, 'nonlinear': True}, 'comoving_radial_distance': {'z': array([1.00000000e-03, 2.78666667e-01, 5.56333333e-01, 8.34000000e-01,\n",
      "       1.11166667e+00, 1.38933333e+00, 1.66700000e+00, 1.94466667e+00,\n",
      "       2.22233333e+00, 2.50000000e+00])}, 'H': {'z': array([1.00000000e-03, 2.78666667e-01, 5.56333333e-01, 8.34000000e-01,\n",
      "       1.11166667e+00, 1.38933333e+00, 1.66700000e+00, 1.94466667e+00,\n",
      "       2.22233333e+00, 2.50000000e+00])}, 'fsigma8': {'z': array([1.00000000e-03, 2.78666667e-01, 5.56333333e-01, 8.34000000e-01,\n",
      "       1.11166667e+00, 1.38933333e+00, 1.66700000e+00, 1.94466667e+00,\n",
      "       2.22233333e+00, 2.50000000e+00])}}\n"
     ]
    }
   ],
   "source": [
    "print(model.likelihood.theory.requested())"
   ]
  },
  {
   "cell_type": "code",
   "execution_count": 13,
   "metadata": {},
   "outputs": [
    {
     "name": "stdout",
     "output_type": "stream",
     "text": [
      "[ 68.03150067  78.61488615  92.61002053 109.5477912  128.9811883\n",
      " 150.55394934 173.99826264 199.11442169 225.7514367  253.79257143]\n"
     ]
    }
   ],
   "source": [
    "print(model.likelihood.theory.get_H(np.linspace(0.001,2.5,10)))"
   ]
  },
  {
   "cell_type": "code",
   "execution_count": 14,
   "metadata": {},
   "outputs": [
    {
     "name": "stdout",
     "output_type": "stream",
     "text": [
      "[0.58544624 0.64956753 0.65182393 0.62229892 0.58075871 0.53720404\n",
      " 0.49592773 0.45843233 0.42498164 0.39533824]\n"
     ]
    }
   ],
   "source": [
    "print(model.likelihood.theory.get_fsigma8(np.linspace(0.001,2.5,10)))"
   ]
  },
  {
   "cell_type": "code",
   "execution_count": 15,
   "metadata": {},
   "outputs": [
    {
     "name": "stdout",
     "output_type": "stream",
     "text": [
      "[4.40769204e+00 1.14636792e+03 2.12389960e+03 2.95122411e+03\n",
      " 3.65186819e+03 4.24934301e+03 4.76367171e+03 5.21087049e+03\n",
      " 5.60346237e+03 5.95119577e+03]\n"
     ]
    }
   ],
   "source": [
    "print(model.likelihood.theory.get_comoving_radial_distance(np.linspace(0.001,2.5,10)))"
   ]
  },
  {
   "cell_type": "code",
   "execution_count": 16,
   "metadata": {},
   "outputs": [],
   "source": [
    "pkint = model.likelihood.theory.get_Pk_interpolator()"
   ]
  },
  {
   "cell_type": "code",
   "execution_count": 17,
   "metadata": {},
   "outputs": [
    {
     "name": "stdout",
     "output_type": "stream",
     "text": [
      "<camb.results.CAMBdata.get_matter_power_interpolator.<locals>.PKInterpolator object at 0x2adb417a7f60>\n"
     ]
    }
   ],
   "source": [
    "print(pkint[\"delta_tot_delta_tot\"])"
   ]
  },
  {
   "cell_type": "code",
   "execution_count": null,
   "metadata": {},
   "outputs": [],
   "source": []
  },
  {
   "cell_type": "code",
   "execution_count": null,
   "metadata": {},
   "outputs": [],
   "source": []
  }
 ],
 "metadata": {
  "kernelspec": {
   "display_name": "Python 3",
   "language": "python",
   "name": "python3"
  },
  "language_info": {
   "codemirror_mode": {
    "name": "ipython",
    "version": 3
   },
   "file_extension": ".py",
   "mimetype": "text/x-python",
   "name": "python",
   "nbconvert_exporter": "python",
   "pygments_lexer": "ipython3",
   "version": "3.6.2"
  }
 },
 "nbformat": 4,
 "nbformat_minor": 2
}
