{
 "cells": [
  {
   "cell_type": "markdown",
   "metadata": {},
   "source": [
    "# DEMO: EUCLID-BOX\n",
    "\n",
    "Here... a definition of the euclidbox\n",
    "\n",
    "Install: To start playing with this notebook, install the ```Likelihood Package``` and its modules according to README.\n",
    "Alternatively you may be ready to run if ```Cobaya``` and ```CAMB/CLASS``` are installed.\n"
   ]
  },
  {
   "cell_type": "markdown",
   "metadata": {},
   "source": [
    "Cobaya documentation: https://cobaya.readthedocs.io/en/latest/"
   ]
  },
  {
   "cell_type": "code",
   "execution_count": 2,
   "metadata": {},
   "outputs": [],
   "source": [
    "# General python imports\n",
    "import numpy as np\n",
    "import matplotlib.pyplot as plt\n",
    "from scipy import integrate\n",
    "from scipy import interpolate \n",
    "import time \n",
    "\n",
    "# Import Cobaya -need to be installed\n",
    "from cobaya.run import run\n",
    "# Import model wrapper of Cobaya to play around\n",
    "from cobaya.model import get_model\n",
    "# Import external loglike from the Likelihood Package within cobaya_interface.py\n",
    "from likelihood.cobaya_interface import EuclidLikelihood\n",
    "\n",
    "# Where sit your cobaya modules?\n",
    "modules_path = \"/data2/cobaya_modules/\""
   ]
  },
  {
   "cell_type": "markdown",
   "metadata": {},
   "source": [
    "## Case 1: Run `Cobaya` with Euclid-Likelihood "
   ]
  },
  {
   "cell_type": "code",
   "execution_count": 3,
   "metadata": {},
   "outputs": [],
   "source": [
    "# We are running the Euclid-Likelihood as an external likelihood class for Cobaya\n",
    "# Cobaya needs a dictionary or yaml file as input to start running\n",
    "\n",
    "info = {\n",
    "    #Which parameters would you like to sample?\n",
    "    'params': {\n",
    "        # If the prior dictionary is not passed to a parameter, this parameter is fixed\n",
    "        'ombh2': 0.022445, 'omch2': 0.1205579307, 'H0': 67, 'tau': 0.0925,\n",
    "        'mnu': 0.06, 'nnu': 3.046, 'As': 2.12605e-9,\n",
    "        'ns': 0.96, \n",
    "        # Which observational probe would you like to use?\n",
    "        # 1: photo-z\n",
    "        # 2: spec\n",
    "        # 12: both\n",
    "        'like_selection': 2,\n",
    "        # Want to use GC+XC+WL in photo? Then full_phot must be True\n",
    "        'full_photo': True,\n",
    "        # Bias parameters\n",
    "        # Photo IST:F values\n",
    "        'b1_photo': 1.0997727037892875,\n",
    "        'b2_photo': 1.220245876862528,\n",
    "        'b3_photo': 1.2723993083933989,\n",
    "        'b4_photo': 1.316624471897739,\n",
    "        'b5_photo': 1.35812370570578,\n",
    "        'b6_photo': 1.3998214171814918,\n",
    "        'b7_photo': 1.4446452851824907,\n",
    "        'b8_photo': 1.4964959071110084,\n",
    "        'b9_photo': 1.5652475842498528,\n",
    "        'b10_photo': 1.7429859437184225,\n",
    "        # Spec IST:F values\n",
    "        'b1_spec': 1.46,\n",
    "        'b2_spec': 1.61,\n",
    "        'b3_spec': 1.75,\n",
    "        'b4_spec': 1.90},\n",
    "    # Which theory code you want to use, CAMB/CLASS? \n",
    "    # Here we use CAMB and specify CAMB args\n",
    "    'theory': {'camb': {'stop_at_error': True, 'extra_args':{'num_massive_neutrinos': 1}}},\n",
    "    # Which sampler do you want to use? Check COBAYA docs to see the list of available samplers\n",
    "    # Here we use 'evaluate'\n",
    "    'sampler': {'evaluate': None},  \n",
    "    # Where have you installed your COBAYA modules (i.e: CAMB, polychord, likelihoods...)?\n",
    "    'packages_path': modules_path,\n",
    "    # Where are the results going to be stored, in case the sampler produce output files? \n",
    "    'output': 'chains/my_euclid_experiment',\n",
    "    # Likelihood: we load the Euclid-Likelihood as an external function, and give the name 'Euclid'\n",
    "    'likelihood': {'Euclid': EuclidLikelihood},\n",
    "    # How much infomartion you want Cobaya to print? If debug = True, it prints every single detail\n",
    "    'debug': False,\n",
    "    # If timing = True, Cobaya returns how much time it took him to make a computation of the posterior\n",
    "    'timing': True\n",
    "    }"
   ]
  },
  {
   "cell_type": "code",
   "execution_count": 4,
   "metadata": {},
   "outputs": [
    {
     "name": "stdout",
     "output_type": "stream",
     "text": [
      "[output_mpi] Output to be read-from/written-into folder 'chains', with prefix 'my_euclid_experiment'\n",
      "[output_mpi] Found existing info files with the requested output prefix: 'chains/my_euclid_experiment'\n",
      "[prior] *WARNING* No sampled parameters requested! This will fail for non-mock samplers.\n",
      "[camb] Importing *local* CAMB from /data2/cobaya_modules/code/CAMB\n",
      "[prior] *WARNING* No sampled parameters requested! This will fail for non-mock samplers.\n",
      "[camb] Importing *local* CAMB from /data2/cobaya_modules/code/CAMB\n",
      "[evaluate] Initialized!\n",
      "[evaluate] Looking for a reference point with non-zero prior.\n",
      "[evaluate] Reference point:\n",
      "   \n",
      "[evaluate] Evaluating prior and likelihoods...\n",
      "[evaluate] log-posterior  = 14.7305\n",
      "[evaluate] log-prior      = 0\n",
      "[evaluate]    logprior_0 = 0\n",
      "[evaluate] log-likelihood = 14.7305\n",
      "[evaluate]    chi2_Euclid = -29.461\n",
      "[evaluate] Derived params:\n",
      "[euclid] Average evaluation time for Euclid: 8.25622 s  (1 evaluations)\n",
      "[camb.transfers] Average evaluation time for camb.transfers: 0.656597 s  (1 evaluations)\n",
      "[camb] Average evaluation time for camb: 0.184602 s  (1 evaluations)\n"
     ]
    }
   ],
   "source": [
    "# Let's run Cobaya\n",
    "info_updated, samples = run(info)"
   ]
  },
  {
   "cell_type": "markdown",
   "metadata": {},
   "source": [
    "## Case 2: Run `Cobaya model` with Euclid-Likelihood "
   ]
  },
  {
   "cell_type": "code",
   "execution_count": 27,
   "metadata": {},
   "outputs": [
    {
     "name": "stdout",
     "output_type": "stream",
     "text": [
      "[model] *WARNING* Ignored blocks/options: ['sampler', 'output']\n",
      "[prior] *WARNING* No sampled parameters requested! This will fail for non-mock samplers.\n",
      "[camb] Importing *local* CAMB from /data2/cobaya_modules/code/CAMB\n",
      "[prior] *WARNING* No sampled parameters requested! This will fail for non-mock samplers.\n",
      "[camb] Importing *local* CAMB from /data2/cobaya_modules/code/CAMB\n",
      "Time for initialization of the likelihood:  9.460456848144531\n"
     ]
    }
   ],
   "source": [
    "# You can reproduce the option 'evaluate' with the model wrapper of Cobaya, which gives you more flexibility\n",
    "# Create a Cobaya model using the model wrapper of Cobaya. Remember, as input, it needs a yaml or dictionary\n",
    "t1 = time.time()\n",
    "model = get_model(info)\n",
    "print('Time for initialization of the likelihood: ', time.time()-t1)"
   ]
  },
  {
   "cell_type": "markdown",
   "metadata": {},
   "source": [
    "**Comment**: You will see as Cobaya output:\n",
    "- Model: it tells you Cobaya is using the `model` wrapper and it's reading the info dictionary.\n",
    "- Prior: which parameters are you sampling? In this case, none, this is why it reminds you that.\n",
    "- CAMB: it calls the theory code you wanted to use (CAMB/CLASS, in this case, CAMB, and where it is installed)\n",
    "\n",
    "You see these output repeated twice because you are internally calling `Cobaya`, within the EuclidLikelihood, to calculate the fiducial cosmology.\n",
    "\n",
    "It takes around 10 seconds to initialize the likelihood (reading ou-level3 data and compute fiducial cosmology) "
   ]
  },
  {
   "cell_type": "code",
   "execution_count": 6,
   "metadata": {},
   "outputs": [
    {
     "name": "stdout",
     "output_type": "stream",
     "text": [
      "\n",
      " Requirements \n",
      "\n",
      "{'Pk_interpolator': camb, 'comoving_radial_distance': camb, 'angular_diameter_distance': camb, 'Hubble': camb, 'sigma_R': camb, 'fsigma8': camb, 'CAMB_transfers': camb.transfers}\n",
      "\n",
      " Requested \n",
      "\n",
      "{'camb.transfers': [{'CAMB_transfers':{'non_linear': False, 'needs_perts': True}}], 'camb': [{'Pk_interpolator':{}}, {'comoving_radial_distance':{'z': array([0.        , 0.04040404, 0.08080808, 0.12121212, 0.16161616,\n",
      "       0.2020202 , 0.24242424, 0.28282828, 0.32323232, 0.36363636,\n",
      "       0.4040404 , 0.44444444, 0.48484848, 0.52525253, 0.56565657,\n",
      "       0.60606061, 0.64646465, 0.68686869, 0.72727273, 0.76767677,\n",
      "       0.80808081, 0.84848485, 0.88888889, 0.92929293, 0.96969697,\n",
      "       1.01010101, 1.05050505, 1.09090909, 1.13131313, 1.17171717,\n",
      "       1.21212121, 1.25252525, 1.29292929, 1.33333333, 1.37373737,\n",
      "       1.41414141, 1.45454545, 1.49494949, 1.53535354, 1.57575758,\n",
      "       1.61616162, 1.65656566, 1.6969697 , 1.73737374, 1.77777778,\n",
      "       1.81818182, 1.85858586, 1.8989899 , 1.93939394, 1.97979798,\n",
      "       2.02020202, 2.06060606, 2.1010101 , 2.14141414, 2.18181818,\n",
      "       2.22222222, 2.26262626, 2.3030303 , 2.34343434, 2.38383838,\n",
      "       2.42424242, 2.46464646, 2.50505051, 2.54545455, 2.58585859,\n",
      "       2.62626263, 2.66666667, 2.70707071, 2.74747475, 2.78787879,\n",
      "       2.82828283, 2.86868687, 2.90909091, 2.94949495, 2.98989899,\n",
      "       3.03030303, 3.07070707, 3.11111111, 3.15151515, 3.19191919,\n",
      "       3.23232323, 3.27272727, 3.31313131, 3.35353535, 3.39393939,\n",
      "       3.43434343, 3.47474747, 3.51515152, 3.55555556, 3.5959596 ,\n",
      "       3.63636364, 3.67676768, 3.71717172, 3.75757576, 3.7979798 ,\n",
      "       3.83838384, 3.87878788, 3.91919192, 3.95959596, 4.        ])}}, {'angular_diameter_distance':{'z': array([0.        , 0.04040404, 0.08080808, 0.12121212, 0.16161616,\n",
      "       0.2020202 , 0.24242424, 0.28282828, 0.32323232, 0.36363636,\n",
      "       0.4040404 , 0.44444444, 0.48484848, 0.52525253, 0.56565657,\n",
      "       0.60606061, 0.64646465, 0.68686869, 0.72727273, 0.76767677,\n",
      "       0.80808081, 0.84848485, 0.88888889, 0.92929293, 0.96969697,\n",
      "       1.01010101, 1.05050505, 1.09090909, 1.13131313, 1.17171717,\n",
      "       1.21212121, 1.25252525, 1.29292929, 1.33333333, 1.37373737,\n",
      "       1.41414141, 1.45454545, 1.49494949, 1.53535354, 1.57575758,\n",
      "       1.61616162, 1.65656566, 1.6969697 , 1.73737374, 1.77777778,\n",
      "       1.81818182, 1.85858586, 1.8989899 , 1.93939394, 1.97979798,\n",
      "       2.02020202, 2.06060606, 2.1010101 , 2.14141414, 2.18181818,\n",
      "       2.22222222, 2.26262626, 2.3030303 , 2.34343434, 2.38383838,\n",
      "       2.42424242, 2.46464646, 2.50505051, 2.54545455, 2.58585859,\n",
      "       2.62626263, 2.66666667, 2.70707071, 2.74747475, 2.78787879,\n",
      "       2.82828283, 2.86868687, 2.90909091, 2.94949495, 2.98989899,\n",
      "       3.03030303, 3.07070707, 3.11111111, 3.15151515, 3.19191919,\n",
      "       3.23232323, 3.27272727, 3.31313131, 3.35353535, 3.39393939,\n",
      "       3.43434343, 3.47474747, 3.51515152, 3.55555556, 3.5959596 ,\n",
      "       3.63636364, 3.67676768, 3.71717172, 3.75757576, 3.7979798 ,\n",
      "       3.83838384, 3.87878788, 3.91919192, 3.95959596, 4.        ])}}, {'Hubble':{'z': array([0.        , 0.04040404, 0.08080808, 0.12121212, 0.16161616,\n",
      "       0.2020202 , 0.24242424, 0.28282828, 0.32323232, 0.36363636,\n",
      "       0.4040404 , 0.44444444, 0.48484848, 0.52525253, 0.56565657,\n",
      "       0.60606061, 0.64646465, 0.68686869, 0.72727273, 0.76767677,\n",
      "       0.80808081, 0.84848485, 0.88888889, 0.92929293, 0.96969697,\n",
      "       1.01010101, 1.05050505, 1.09090909, 1.13131313, 1.17171717,\n",
      "       1.21212121, 1.25252525, 1.29292929, 1.33333333, 1.37373737,\n",
      "       1.41414141, 1.45454545, 1.49494949, 1.53535354, 1.57575758,\n",
      "       1.61616162, 1.65656566, 1.6969697 , 1.73737374, 1.77777778,\n",
      "       1.81818182, 1.85858586, 1.8989899 , 1.93939394, 1.97979798,\n",
      "       2.02020202, 2.06060606, 2.1010101 , 2.14141414, 2.18181818,\n",
      "       2.22222222, 2.26262626, 2.3030303 , 2.34343434, 2.38383838,\n",
      "       2.42424242, 2.46464646, 2.50505051, 2.54545455, 2.58585859,\n",
      "       2.62626263, 2.66666667, 2.70707071, 2.74747475, 2.78787879,\n",
      "       2.82828283, 2.86868687, 2.90909091, 2.94949495, 2.98989899,\n",
      "       3.03030303, 3.07070707, 3.11111111, 3.15151515, 3.19191919,\n",
      "       3.23232323, 3.27272727, 3.31313131, 3.35353535, 3.39393939,\n",
      "       3.43434343, 3.47474747, 3.51515152, 3.55555556, 3.5959596 ,\n",
      "       3.63636364, 3.67676768, 3.71717172, 3.75757576, 3.7979798 ,\n",
      "       3.83838384, 3.87878788, 3.91919192, 3.95959596, 4.        ]), 'units': 'km/s/Mpc'}}, {'sigma_R':{'z': array([0.        , 0.04040404, 0.08080808, 0.12121212, 0.16161616,\n",
      "       0.2020202 , 0.24242424, 0.28282828, 0.32323232, 0.36363636,\n",
      "       0.4040404 , 0.44444444, 0.48484848, 0.52525253, 0.56565657,\n",
      "       0.60606061, 0.64646465, 0.68686869, 0.72727273, 0.76767677,\n",
      "       0.80808081, 0.84848485, 0.88888889, 0.92929293, 0.96969697,\n",
      "       1.01010101, 1.05050505, 1.09090909, 1.13131313, 1.17171717,\n",
      "       1.21212121, 1.25252525, 1.29292929, 1.33333333, 1.37373737,\n",
      "       1.41414141, 1.45454545, 1.49494949, 1.53535354, 1.57575758,\n",
      "       1.61616162, 1.65656566, 1.6969697 , 1.73737374, 1.77777778,\n",
      "       1.81818182, 1.85858586, 1.8989899 , 1.93939394, 1.97979798,\n",
      "       2.02020202, 2.06060606, 2.1010101 , 2.14141414, 2.18181818,\n",
      "       2.22222222, 2.26262626, 2.3030303 , 2.34343434, 2.38383838,\n",
      "       2.42424242, 2.46464646, 2.50505051, 2.54545455, 2.58585859,\n",
      "       2.62626263, 2.66666667, 2.70707071, 2.74747475, 2.78787879,\n",
      "       2.82828283, 2.86868687, 2.90909091, 2.94949495, 2.98989899,\n",
      "       3.03030303, 3.07070707, 3.11111111, 3.15151515, 3.19191919,\n",
      "       3.23232323, 3.27272727, 3.31313131, 3.35353535, 3.39393939,\n",
      "       3.43434343, 3.47474747, 3.51515152, 3.55555556, 3.5959596 ,\n",
      "       3.63636364, 3.67676768, 3.71717172, 3.75757576, 3.7979798 ,\n",
      "       3.83838384, 3.87878788, 3.91919192, 3.95959596, 4.        ]), 'R': [11.940298507462686]}}, {'fsigma8':{'z': array([0.        , 0.04040404, 0.08080808, 0.12121212, 0.16161616,\n",
      "       0.2020202 , 0.24242424, 0.28282828, 0.32323232, 0.36363636,\n",
      "       0.4040404 , 0.44444444, 0.48484848, 0.52525253, 0.56565657,\n",
      "       0.60606061, 0.64646465, 0.68686869, 0.72727273, 0.76767677,\n",
      "       0.80808081, 0.84848485, 0.88888889, 0.92929293, 0.96969697,\n",
      "       1.01010101, 1.05050505, 1.09090909, 1.13131313, 1.17171717,\n",
      "       1.21212121, 1.25252525, 1.29292929, 1.33333333, 1.37373737,\n",
      "       1.41414141, 1.45454545, 1.49494949, 1.53535354, 1.57575758,\n",
      "       1.61616162, 1.65656566, 1.6969697 , 1.73737374, 1.77777778,\n",
      "       1.81818182, 1.85858586, 1.8989899 , 1.93939394, 1.97979798,\n",
      "       2.02020202, 2.06060606, 2.1010101 , 2.14141414, 2.18181818,\n",
      "       2.22222222, 2.26262626, 2.3030303 , 2.34343434, 2.38383838,\n",
      "       2.42424242, 2.46464646, 2.50505051, 2.54545455, 2.58585859,\n",
      "       2.62626263, 2.66666667, 2.70707071, 2.74747475, 2.78787879,\n",
      "       2.82828283, 2.86868687, 2.90909091, 2.94949495, 2.98989899,\n",
      "       3.03030303, 3.07070707, 3.11111111, 3.15151515, 3.19191919,\n",
      "       3.23232323, 3.27272727, 3.31313131, 3.35353535, 3.39393939,\n",
      "       3.43434343, 3.47474747, 3.51515152, 3.55555556, 3.5959596 ,\n",
      "       3.63636364, 3.67676768, 3.71717172, 3.75757576, 3.7979798 ,\n",
      "       3.83838384, 3.87878788, 3.91919192, 3.95959596, 4.        ]), 'units': None}}]}\n"
     ]
    }
   ],
   "source": [
    "# Which theory requirements is the likelihood asking to the theory code (aka CAMB)?\n",
    "print('\\n Requirements \\n')\n",
    "print(model.provider.requirement_providers)\n",
    "# So, what have we requested?\n",
    "print('\\n Requested \\n')\n",
    "print(model.requested())"
   ]
  },
  {
   "cell_type": "code",
   "execution_count": 28,
   "metadata": {},
   "outputs": [
    {
     "name": "stdout",
     "output_type": "stream",
     "text": [
      "Time to compute the log-post:  9.320016622543335\n",
      "Full log-posterior:\n",
      "   logposterior: 14.7305\n",
      "   logpriors: {'0': 0.0}\n",
      "   loglikelihoods: {'Euclid': 14.730522949683738}\n",
      "   derived params: {}\n"
     ]
    }
   ],
   "source": [
    "# To execute the likelihood, you need to make an evaluation of the posterior\n",
    "# Attention: if a parameter is sampled, we need to obtain a value from the prior\n",
    "# i.e: \n",
    "# point = dict(zip(model.parameterization.sampled_params(),\n",
    "#                 model.prior.sample(ignore_external=True)[0]))\n",
    "# If all the parameters are fixed, just call the posterior\n",
    "t1 = time.time()\n",
    "logposterior = model.logposterior({})\n",
    "t2 = time.time()\n",
    "print('Time to compute the logposterior: ', t2-t1)\n",
    "print('Full log-posterior:')\n",
    "print('   logposterior: %g' % logposterior.logpost)\n",
    "print('   logpriors: %r' % dict(zip(list(model.prior), logposterior.logpriors)))\n",
    "print('   loglikelihoods: %r' % dict(zip(list(model.likelihood), logposterior.loglikes)))\n",
    "print('   derived params: %r' % dict(zip(list(model.parameterization.derived_params()), logposterior.derived)))"
   ]
  },
  {
   "cell_type": "markdown",
   "metadata": {},
   "source": [
    "## Case 3: EuclidLikelihood package\n",
    "\n",
    "Let's go one level deeper in the computation: we are going to have a grasp of what EuclidLikelihood actually does. The steps below are done internally by `Cobaya` at each step of the sampling procedure"
   ]
  },
  {
   "cell_type": "code",
   "execution_count": 31,
   "metadata": {},
   "outputs": [
    {
     "name": "stdout",
     "output_type": "stream",
     "text": [
      "[prior] *WARNING* No sampled parameters requested! This will fail for non-mock samplers.\n",
      "[camb] Importing *local* CAMB from /data2/cobaya_modules/code/CAMB\n",
      "[prior] *WARNING* No sampled parameters requested! This will fail for non-mock samplers.\n",
      "[camb] Importing *local* CAMB from /data2/cobaya_modules/code/CAMB\n",
      "\n",
      "Keys of the cosmo_dic: \n",
      " dict_keys(['H0', 'omch2', 'ombh2', 'omnuh2', 'omkh2', 'w', 'mnu', 'tau', 'nnu', 'ns', 'As', 'sigma_8_0', 'comov_dist', 'angular_dist', 'H', 'Pk_interpolator', 'Pk_delta', 'Pgg_phot', 'Pgdelta_phot', 'Pgg_spec', 'Pgdelta_spec', 'Pii', 'Pdeltai', 'Pgi_phot', 'Pgi_spec', 'fsigma8', 'sigma_8', 'c', 'z_win', 'k_win', 'r_z_func', 'd_z_func', 'H_z_func', 'sigma8_z_func', 'fsigma8_z_func', 'MG_mu', 'MG_sigma', 'nuisance_parameters', 'D_z_k', 'f_z_k'])\n"
     ]
    }
   ],
   "source": [
    "# Create an instance of the class EuclidLikelihood\n",
    "like = EuclidLikelihood()\n",
    "# Initialize default parameters for redshift, k-array, fiducial cosmology...\n",
    "like.initialize()\n",
    "# Get the cosmo_dictionary where all the cosmology + theory parameters are saved\n",
    "# ATTENTION: you need to pass the `cobaya wrapper` model as an argument of the function\n",
    "like.passing_requirements(model, **model.provider.params)\n",
    "# Update the cosmology dictionary with interpolators + basic quantities such as\n",
    "# P_gg, P_delta...\n",
    "like.cosmo.update_cosmo_dic(like.cosmo.cosmo_dic['z_win'], 0.05)\n",
    "# Show what the cosmo_dic actually contains\n",
    "print('\\nKeys of the cosmo_dic: \\n', like.cosmo.cosmo_dic.keys())"
   ]
  },
  {
   "cell_type": "code",
   "execution_count": null,
   "metadata": {},
   "outputs": [],
   "source": []
  },
  {
   "cell_type": "code",
   "execution_count": null,
   "metadata": {},
   "outputs": [],
   "source": []
  }
 ],
 "metadata": {
  "kernelspec": {
   "display_name": "Python 3",
   "language": "python",
   "name": "python3"
  },
  "language_info": {
   "codemirror_mode": {
    "name": "ipython",
    "version": 3
   },
   "file_extension": ".py",
   "mimetype": "text/x-python",
   "name": "python",
   "nbconvert_exporter": "python",
   "pygments_lexer": "ipython3",
   "version": "3.7.6"
  }
 },
 "nbformat": 4,
 "nbformat_minor": 4
}
