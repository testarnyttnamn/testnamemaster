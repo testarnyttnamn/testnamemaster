{
 "cells": [
  {
   "cell_type": "markdown",
   "metadata": {},
   "source": [
    "# Testing the Tests Notebook\n",
    "\n",
    "This notebook is useful to test locally for new numbers of the test benchmarks in case of major changes on the code or code optimization commits."
   ]
  },
  {
   "cell_type": "markdown",
   "metadata": {},
   "source": [
    "## Set-up\n",
    "\n",
    "We apply the same Set Up as the `test_phot.py` in this case."
   ]
  },
  {
   "cell_type": "code",
   "execution_count": 12,
   "metadata": {},
   "outputs": [],
   "source": [
    "from unittest import TestCase\n",
    "import numpy as np\n",
    "import numpy.testing as npt\n",
    "from scipy import interpolate\n",
    "from likelihood.photometric_survey import photo\n",
    "from astropy import constants as const\n",
    "from pathlib import Path"
   ]
  },
  {
   "cell_type": "code",
   "execution_count": 13,
   "metadata": {},
   "outputs": [
    {
     "name": "stdout",
     "output_type": "stream",
     "text": [
      "/local/home/scasas/CosmoProjects/EuclidIST/IST-Likelihood/likelihood-implementation/notebooks\r\n"
     ]
    }
   ],
   "source": [
    "!pwd"
   ]
  },
  {
   "cell_type": "code",
   "execution_count": 14,
   "metadata": {},
   "outputs": [],
   "source": [
    "## We modify the cur_dir to account for the fact that we are located now on the notebooks dir\n",
    "cur_dir = '../likelihood/tests/'"
   ]
  },
  {
   "cell_type": "code",
   "execution_count": 15,
   "metadata": {},
   "outputs": [],
   "source": [
    "## Test that one of the inputs loads\n",
    "cmov_file = np.loadtxt(str(cur_dir) +\n",
    "                               '/test_input/ComDist-LCDM-Lin-zNLA.dat')"
   ]
  },
  {
   "cell_type": "code",
   "execution_count": 16,
   "metadata": {},
   "outputs": [],
   "source": [
    "def mock_MG_func(z, k):\n",
    "    \"\"\"\n",
    "    Test MG function that simply returns 1.\n",
    "\n",
    "    Parameters\n",
    "    ----------\n",
    "    z: float\n",
    "        Redshift.\n",
    "    k: float\n",
    "        Angular scale.\n",
    "\n",
    "    Returns\n",
    "    -------\n",
    "    float\n",
    "        Returns 1 for test purposes.\n",
    "    \"\"\"\n",
    "    return 1.0\n",
    "\n",
    "\n",
    "class mock_P_obj:\n",
    "    def __init__(self, p_interp):\n",
    "        self.P = p_interp\n",
    "\n",
    "\n",
    "class photoinitTestCase(TestCase):\n",
    "\n",
    "    def setUp(self):\n",
    "        #cur_dir = Path(__file__).resolve().parents[0]\n",
    "        cmov_file = np.loadtxt(str(cur_dir) +\n",
    "                               '/test_input/ComDist-LCDM-Lin-zNLA.dat')\n",
    "        zs_r = cmov_file[:, 0]\n",
    "        rs = cmov_file[:, 1]\n",
    "        ang_dists = rs / (1.0 + zs_r)\n",
    "\n",
    "        rz_interp = interpolate.InterpolatedUnivariateSpline(x=zs_r, y=rs,\n",
    "                                                             ext=0)\n",
    "        dz_interp = interpolate.InterpolatedUnivariateSpline(x=zs_r,\n",
    "                                                             y=ang_dists,\n",
    "                                                             ext=0)\n",
    "\n",
    "        Hz_file = np.loadtxt(str(cur_dir) + '/test_input/Hz.dat')\n",
    "        zs_H = Hz_file[:, 0]\n",
    "        Hs = Hz_file[:, 1]\n",
    "        Hs_mpc = Hz_file[:, 1] / const.c.to('km/s').value\n",
    "\n",
    "        Hz_interp = interpolate.InterpolatedUnivariateSpline(x=zs_H, y=Hs,\n",
    "                                                             ext=0)\n",
    "\n",
    "        Hmpc_interp = interpolate.InterpolatedUnivariateSpline(x=zs_H,\n",
    "                                                               y=Hs_mpc,\n",
    "                                                               ext=0)\n",
    "\n",
    "        f_sig_8_arr = np.load(str(cur_dir) +\n",
    "                              '/test_input/f_sig_8_arr.npy',\n",
    "                              allow_pickle=True)\n",
    "        sig_8_arr = np.load(str(cur_dir) +\n",
    "                            '/test_input/sig_8_arr.npy',\n",
    "                            allow_pickle=True)\n",
    "\n",
    "        sig_8_interp = interpolate.InterpolatedUnivariateSpline(\n",
    "                       x=np.linspace(0.0, 5.0, 50),\n",
    "                       y=sig_8_arr[::-1], ext=0)\n",
    "        f_sig_8_interp = interpolate.InterpolatedUnivariateSpline(\n",
    "                         x=np.linspace(0.0, 5.0, 50),\n",
    "                         y=f_sig_8_arr[::-1], ext=0)\n",
    "\n",
    "        MG_interp = mock_MG_func\n",
    "\n",
    "        pdd = np.load(str(cur_dir) + '/test_input/pdd.npy')\n",
    "        pdi = np.load(str(cur_dir) + '/test_input/pdi.npy')\n",
    "        pgd = np.load(str(cur_dir) + '/test_input/pgd.npy')\n",
    "        pgg = np.load(str(cur_dir) + '/test_input/pgg.npy')\n",
    "        pgi_phot = np.load(str(cur_dir) + '/test_input/pgi_phot.npy')\n",
    "        pgi_spec = np.load(str(cur_dir) + '/test_input/pgi_spec.npy')\n",
    "        pii = np.load(str(cur_dir) + '/test_input/pii.npy')\n",
    "\n",
    "        zs_base = np.linspace(0.0, 4.0, 100)\n",
    "        ks_base = np.logspace(-3.0, 1.0, 100)\n",
    "\n",
    "        mock_cosmo_dic = {'ombh2': 0.022445, 'omch2': 0.121203, 'H0': 67.0,\n",
    "                          'tau': 0.07, 'mnu': 0.06, 'nnu': 3.046,\n",
    "                          'omkh2': 0.0, 'omnuh2': 0.0, 'ns': 0.96,\n",
    "                          'w': -1.0, 'sigma_8_0': 0.816,\n",
    "                          'As': 2.115e-9, 'sigma8_z_func': sig_8_interp,\n",
    "                          'fsigma8_z_func': f_sig_8_interp,\n",
    "                          'r_z_func': rz_interp, 'd_z_func': dz_interp,\n",
    "                          'H_z_func_Mpc': Hmpc_interp,\n",
    "                          'H_z_func': Hz_interp,\n",
    "                          'z_win': np.linspace(0.0, 4.0, 100),\n",
    "                          'k_win': np.linspace(0.001, 10.0, 100),\n",
    "                          'MG_sigma': MG_interp, 'c': const.c.to('km/s').value}\n",
    "\n",
    "        # MM: precomputed parameters\n",
    "        mock_cosmo_dic['H0_Mpc'] = \\\n",
    "            mock_cosmo_dic['H0'] / const.c.to('km/s').value\n",
    "        mock_cosmo_dic['Omb'] = \\\n",
    "            mock_cosmo_dic['ombh2'] / (mock_cosmo_dic['H0'] / 100.)**2.\n",
    "        mock_cosmo_dic['Omc'] = \\\n",
    "            mock_cosmo_dic['omch2'] / (mock_cosmo_dic['H0'] / 100.)**2.\n",
    "        mock_cosmo_dic['Omnu'] = \\\n",
    "            mock_cosmo_dic['omnuh2'] / (mock_cosmo_dic['H0'] / 100.)**2.\n",
    "        mock_cosmo_dic['Omm'] = (mock_cosmo_dic['Omnu'] +\n",
    "                                 mock_cosmo_dic['Omc'] +\n",
    "                                 mock_cosmo_dic['Omb'])\n",
    "\n",
    "        # (SJ): by setting below to zero, obtain previous non-IA results\n",
    "        # mock_cosmo_dic['nuisance_parameters']['aia'] = 0\n",
    "        # mock_cosmo_dic['nuisance_parameters']['bia'] = 0\n",
    "        # mock_cosmo_dic['nuisance_parameters']['nia'] = 0\n",
    "\n",
    "        p_matter = mock_P_obj(interpolate.interp2d(zs_base, ks_base, pdd.T,\n",
    "                                                   fill_value=0))\n",
    "        mock_cosmo_dic['Pk_interpolator'] = p_matter\n",
    "        mock_cosmo_dic['Pk_delta'] = p_matter\n",
    "        mock_cosmo_dic['Pgg_phot'] = interpolate.interp2d(zs_base, ks_base,\n",
    "                                                          pgg.T,\n",
    "                                                          fill_value=0.0)\n",
    "        mock_cosmo_dic['Pgdelta_phot'] = interpolate.interp2d(zs_base, ks_base,\n",
    "                                                              pgd.T,\n",
    "                                                              fill_value=0.0)\n",
    "        mock_cosmo_dic['Pii'] = interpolate.interp2d(zs_base, ks_base,\n",
    "                                                     pii.T,\n",
    "                                                     fill_value=0.0)\n",
    "        mock_cosmo_dic['Pdeltai'] = interpolate.interp2d(zs_base, ks_base,\n",
    "                                                         pdi.T,\n",
    "                                                         fill_value=0.0)\n",
    "        mock_cosmo_dic['Pgi_phot'] = interpolate.interp2d(zs_base, ks_base,\n",
    "                                                          pgi_phot.T,\n",
    "                                                          fill_value=0.0)\n",
    "        mock_cosmo_dic['Pgi_spec'] = interpolate.interp2d(zs_base, ks_base,\n",
    "                                                          pgi_spec.T,\n",
    "                                                          fill_value=0.0)\n",
    "\n",
    "        nz_dic_WL = np.load(str(cur_dir) +\n",
    "                            '/test_input/nz_dict_WL.npy',\n",
    "                            allow_pickle=True).item()\n",
    "        nz_dic_GC = np.load(str(cur_dir) +\n",
    "                            '/test_input/nz_dict_GC_phot.npy',\n",
    "                            allow_pickle=True).item()\n",
    "        self.cosmo_dict = mock_cosmo_dic\n",
    "        self.integrand_check = -0.948932\n",
    "        self.wbincheck = 1.573854e-06\n",
    "        self.H0 = 67.0\n",
    "        self.c = const.c.to('km/s').value\n",
    "        self.omch2 = 0.12\n",
    "        self.ombh2 = 0.022\n",
    "        self.phot = photo.Photo(mock_cosmo_dic,\n",
    "                                nz_dic_WL, nz_dic_GC)\n",
    "        self.W_i_Gcheck = 5.241556e-09\n",
    "        self.W_IA_check = 0.0001049580\n",
    "        self.cl_integrand_check = 0.000718\n",
    "        self.cl_WL_check = 7.100511e-09\n",
    "        self.cl_GC_check = 2.890929e-05\n",
    "        self.cl_cross_check = 1.133102e-07\n",
    "        self.flatnz = interpolate.InterpolatedUnivariateSpline(\n",
    "            np.linspace(0.0, 4.6, 20), np.ones(20), ext=2)\n"
   ]
  },
  {
   "cell_type": "markdown",
   "metadata": {},
   "source": [
    "## Run some or all of the tests\n",
    "\n",
    "Here we can run one of the tests, to see if they pass or not"
   ]
  },
  {
   "cell_type": "code",
   "execution_count": 17,
   "metadata": {},
   "outputs": [],
   "source": [
    "## Initialize the class\n",
    "cosmotest = photoinitTestCase()\n",
    "cosmotest.setUp()"
   ]
  },
  {
   "cell_type": "code",
   "execution_count": 18,
   "metadata": {},
   "outputs": [],
   "source": [
    "def test_GC_window(self):\n",
    "        npt.assert_allclose(self.phot.GC_window(0.001, 1),\n",
    "                            self.W_i_Gcheck, rtol=1e-05,\n",
    "                            err_msg='GC_window failed')\n",
    "test_GC_window(cosmotest)"
   ]
  },
  {
   "cell_type": "code",
   "execution_count": 19,
   "metadata": {},
   "outputs": [],
   "source": [
    "def test_IA_window(self):\n",
    "        npt.assert_allclose(self.phot.IA_window(0.1, 1),\n",
    "                            self.W_IA_check, rtol=1e-05,\n",
    "                            err_msg='IA_window failed')\n",
    "test_IA_window(cosmotest)"
   ]
  },
  {
   "cell_type": "code",
   "execution_count": 20,
   "metadata": {},
   "outputs": [],
   "source": [
    "def test_w_integrand(self):\n",
    "        int_comp = self.phot.WL_window_integrand(0.1, 0.2, self.flatnz)\n",
    "        npt.assert_allclose(int_comp, self.integrand_check, rtol=1e-05,\n",
    "                            err_msg='Integrand of WL kernel failed')\n",
    "test_w_integrand(cosmotest)"
   ]
  },
  {
   "cell_type": "markdown",
   "metadata": {},
   "source": [
    "### Investigate a particular number"
   ]
  },
  {
   "cell_type": "code",
   "execution_count": 21,
   "metadata": {},
   "outputs": [
    {
     "data": {
      "text/plain": [
       "1.5738542652552912e-06"
      ]
     },
     "execution_count": 21,
     "metadata": {},
     "output_type": "execute_result"
    }
   ],
   "source": [
    "int_comp = cosmotest.phot.WL_window(1, 0.01)[10]\n",
    "int_comp"
   ]
  },
  {
   "cell_type": "code",
   "execution_count": 22,
   "metadata": {},
   "outputs": [],
   "source": [
    "## Uncomment this to see how it fails\n",
    "#def test_WL_window(self):\n",
    "#        int_comp = self.phot.WL_window(0.1, 1, 0.1)\n",
    "#        npt.assert_allclose(int_comp, self.wbincheck, rtol=1e-05,\n",
    "#                            err_msg='WL_window failed')\n",
    "#test_WL_window(cosmotest)"
   ]
  },
  {
   "cell_type": "markdown",
   "metadata": {},
   "source": [
    "### Define new test\n",
    "Modify first the benchmark number in the definition of photoinitTestCase"
   ]
  },
  {
   "cell_type": "code",
   "execution_count": 23,
   "metadata": {},
   "outputs": [],
   "source": [
    "def test_WL_window(self):\n",
    "        int_comp = self.phot.WL_window(1, 0.01)[10]\n",
    "        npt.assert_allclose(int_comp, self.wbincheck, rtol=1e-05,\n",
    "                            err_msg='WL_window failed')\n",
    "test_WL_window(cosmotest)"
   ]
  },
  {
   "cell_type": "code",
   "execution_count": 24,
   "metadata": {},
   "outputs": [],
   "source": [
    "def test_power_exception(self):\n",
    "        pow = float(\"NaN\")\n",
    "        wab = 1.0 * 2.0\n",
    "        pandw = wab * np.atleast_1d(pow)[0]\n",
    "        npt.assert_raises(Exception, self.phot.Cl_generic_integrand,\n",
    "                          10.0, pandw)\n",
    "test_power_exception(cosmotest)"
   ]
  },
  {
   "cell_type": "markdown",
   "metadata": {},
   "source": [
    "### In this case, the tolerance had to be modified to pass the test"
   ]
  },
  {
   "cell_type": "code",
   "execution_count": 25,
   "metadata": {},
   "outputs": [],
   "source": [
    "def test_cl_WL(self):\n",
    "        cl_int = self.phot.Cl_WL(10.0, 1, 1)\n",
    "        npt.assert_allclose(cl_int, self.cl_WL_check, rtol=1e-03,\n",
    "                            err_msg='Cl WL test failed')\n",
    "test_cl_WL(cosmotest)"
   ]
  },
  {
   "cell_type": "code",
   "execution_count": 26,
   "metadata": {},
   "outputs": [],
   "source": [
    "def test_cl_GC(self):\n",
    "        cl_int = self.phot.Cl_GC_phot(10.0, 1, 1)\n",
    "        npt.assert_allclose(cl_int, self.cl_GC_check, rtol=1e-05,\n",
    "                            err_msg='Cl GC photometric test failed')\n",
    "test_cl_GC(cosmotest)"
   ]
  },
  {
   "cell_type": "markdown",
   "metadata": {},
   "source": [
    "### In this case, the tolerance had to be modified to pass the test"
   ]
  },
  {
   "cell_type": "code",
   "execution_count": 27,
   "metadata": {},
   "outputs": [],
   "source": [
    "def test_cl_cross(self):\n",
    "        cl_int = self.phot.Cl_cross(10.0, 1, 1)\n",
    "        npt.assert_allclose(cl_int, self.cl_cross_check, rtol=1e-03,\n",
    "                            err_msg='Cl photometric cross test failed')\n",
    "test_cl_cross(cosmotest)"
   ]
  }
 ],
 "metadata": {
  "hide_input": false,
  "kernelspec": {
   "display_name": "Python 3",
   "language": "python",
   "name": "python3"
  },
  "language_info": {
   "codemirror_mode": {
    "name": "ipython",
    "version": 3
   },
   "file_extension": ".py",
   "mimetype": "text/x-python",
   "name": "python",
   "nbconvert_exporter": "python",
   "pygments_lexer": "ipython3",
   "version": "3.6.11"
  },
  "toc": {
   "base_numbering": 1,
   "nav_menu": {},
   "number_sections": true,
   "sideBar": true,
   "skip_h1_title": false,
   "title_cell": "Table of Contents",
   "title_sidebar": "Contents",
   "toc_cell": false,
   "toc_position": {},
   "toc_section_display": true,
   "toc_window_display": false
  }
 },
 "nbformat": 4,
 "nbformat_minor": 4
}
