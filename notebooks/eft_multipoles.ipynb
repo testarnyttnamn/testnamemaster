{
 "cells": [
  {
   "cell_type": "markdown",
   "id": "54de6992",
   "metadata": {},
   "source": [
    "# DEMO notebook for the eft model\n",
    "This demo showcases the implementation of the eft model for the anisotropic galaxy power spectrum.\n",
    "The model implemented is the one of [2004.10607](https://arxiv.org/pdf/2004.10607.pdf), and features:\n",
    "* 1-loop galaxy bias, with locan and non local contributions. The bias expansion assumed is an Eulerian one, with $\\{b_1,~b_2,~b_{\\gamma_2},~b_{\\Gamma_3}\\}$;\n",
    "* 1-loop corrections, computed in an efficient way with a custom implementation based on the FastPT package [1603.04826](https://arxiv.org/pdf/1603.04826.pdf). These include EFT couterterms for the three multipoles $\\{c_0,~c_2,~c_4\\}$;\n",
    "* a customized IR-resummation routine to account for the non-linear evolution of the BAO peak;\n",
    "* a stochastic contribution to the power spectrum that includes a constant deviation from Poisson shot noise as well as scale dependent terms $\\{\\alpha_P,~\\epsilon_{0,k^2},~\\epsilon_{2,k^2}\\}$.\n",
    "\n",
    "The code takes in the cosmology dictionary and returns a 2D interpolator for the anisotropic power spectrum $P(k,\\mu)$."
   ]
  },
  {
   "cell_type": "code",
   "execution_count": null,
   "id": "75560327",
   "metadata": {},
   "outputs": [],
   "source": [
    "# Import relevant packages\n",
    "import numpy as np\n",
    "import matplotlib.pyplot as plt\n",
    "import time \n",
    "import os, sys\n",
    "import copy\n",
    "from scipy.special import legendre\n",
    "import scipy.integrate as integ"
   ]
  },
  {
   "cell_type": "code",
   "execution_count": null,
   "id": "44e5bc34",
   "metadata": {},
   "outputs": [],
   "source": [
    "# Set path\n",
    "likelihood_path = os.path.realpath(os.path.join(os.getcwd(),'..'))\n",
    "sys.path.insert(0, likelihood_path)\n",
    "print('Setting as working directory: ', likelihood_path)"
   ]
  },
  {
   "cell_type": "code",
   "execution_count": null,
   "id": "3438de7f",
   "metadata": {},
   "outputs": [],
   "source": [
    "# Matplotlib params set-up\n",
    "%matplotlib inline\n",
    "plt.rc('text', usetex=True)\n",
    "plt.rc('font', size=20)\n",
    "plt.rc('xtick', direction='in', labelsize=16)\n",
    "plt.rc('ytick', direction='in', labelsize=16)\n",
    "plt.rc('axes', titlesize=26)\n",
    "plt.rc('axes', labelsize=25)\n",
    "plt.rc('lines', linewidth=2)\n",
    "plt.rc('lines', markersize=6)\n",
    "plt.rc('legend', fontsize=20)\n",
    "font = {'family' : 'serif'}\n",
    "plt.rc('font', **font)  # pass in the font dict as kwargs"
   ]
  },
  {
   "cell_type": "code",
   "execution_count": null,
   "id": "b0711d55",
   "metadata": {},
   "outputs": [],
   "source": [
    "from cloe.cobaya_interface import EuclidLikelihood"
   ]
  },
  {
   "cell_type": "code",
   "execution_count": null,
   "id": "be494a67",
   "metadata": {},
   "outputs": [],
   "source": [
    "info = {\n",
    "'params': {\n",
    "        'ombh2': 0.022445, #Omega density of baryons times the reduced Hubble parameter squared\n",
    "        'omch2': 0.1205579307, #Omega density of cold dark matter times the reduced Hubble parameter squared\n",
    "        'H0': 67, #Hubble parameter evaluated today (z=0) in km/s/Mpc\n",
    "        'tau': 0.0925, #optical depth\n",
    "        'mnu': 0.06, #  sum of the mass of neutrinos in eV\n",
    "        'nnu': 3.046, #N_eff of relativistic species \n",
    "        'As': 2.12605e-9, #Amplitude of the primordial scalar power spectrum\n",
    "        'ns':0.965,\n",
    "        'w': -1, #Dark energy fluid model\n",
    "        'wa': 0, #Dark energy fluid model\n",
    "        'omk': 0.0, #curvature density\n",
    "        'omegam': None, #DERIVED parameter: Omega matter density\n",
    "        'omegab': None, #DERIVED parameter: Omega barion density\n",
    "        'omeganu': None, #DERIVED parameter: Omega neutrino density\n",
    "        'omnuh2': None, #DERIVED parameter: Omega neutrino density times de reduced Hubble parameter squared\n",
    "        'omegac': None, #DERIVED parameter: Omega cold dark matter density\n",
    "        'N_eff': None},\n",
    "    'theory': {'camb': \n",
    "               {'stop_at_error': True, \n",
    "                'extra_args':{'num_massive_neutrinos': 1,\n",
    "                              'dark_energy_model': 'ppf'}}},\n",
    "    'sampler': {'evaluate': None},  \n",
    "    'output': 'chains/my_euclid_experiment',\n",
    "    'debug': True,\n",
    "    'timing': True,\n",
    "    'force': True,\n",
    "}"
   ]
  },
  {
   "cell_type": "code",
   "execution_count": null,
   "id": "7504d8cb",
   "metadata": {},
   "outputs": [],
   "source": [
    "info['likelihood'] = {'Euclid': \n",
    "                         {'external': EuclidLikelihood, # Likelihood Class to be read as external\n",
    "                         'observables_selection': {\n",
    "                             'WL': {'WL': False, 'GCphot': False, 'GCspectro': False},\n",
    "                             'GCphot': {'GCphot': False, 'GCspectro': False},\n",
    "                             'GCspectro': {'GCspectro': True},\n",
    "                             'CG': {'CG': False},\n",
    "                             'add_phot_RSD': False,\n",
    "                             'matrix_transform_phot' : False # 'BNT' or 'BNT-test'\n",
    "                             },\n",
    "                         'plot_observables_selection': True,  \n",
    "                         'NL_flag_phot_matter': 4,\n",
    "                         'NL_flag_phot_baryon': 0,\n",
    "                         'NL_flag_phot_bias': 0,\n",
    "                         'NL_flag_spectro': 0,\n",
    "                         'IA_flag': 0,\n",
    "                         'k_max_extrap': 500.0,\n",
    "                         'k_min_extrap': 1E-5,\n",
    "                         'k_samp': 1000,\n",
    "                         # z limit values and size z-array\n",
    "                         'z_min': 0.0,\n",
    "                         'z_max': 4.0,\n",
    "                         'z_samp': 100,\n",
    "                         # Use MG gamma\n",
    "                         'use_gamma_MG': False,\n",
    "                         # Use Weyl bypass\n",
    "                         'use_Weyl': False,\n",
    "                         # Use redshift-dependent purity for GCspectro or not\n",
    "                         'f_out_z_dep': False,\n",
    "                         # Add spectroscopic redshift errors\n",
    "                         'GCsp_z_err': True,\n",
    "                         # Print theory predictions\n",
    "                         'print_theory': False,\n",
    "                         'use_magnification_bias_spectro': 0,\n",
    "                         'use_Weyl': False,\n",
    "                         # Plot the selected observables matrix\n",
    "                         'plot_observables_selection': True,\n",
    "                         'IR_resum': 'DST',\n",
    "                         'use_magnification_bias_spectro': 0,\n",
    "                         'Baryon_redshift_model': False,\n",
    "                         'data': { \n",
    "                            'sample': 'ExternalBenchmark',\n",
    "                            'spectro': {\n",
    "                                'root': 'cov_power_galaxies_dk0p004_z{:s}.fits',\n",
    "                                'redshifts': [\"1.\", \"1.2\", \"1.4\", \"1.65\"],\n",
    "                                'edges': [0.9, 1.1, 1.3, 1.5, 1.8],\n",
    "                                'root_mixing_matrix': 'mm_FS230degCircle_m3_nosm_obsz_z0.9-1.1.fits',\n",
    "                                'Fourier': True,\n",
    "                                'scale_cuts_fourier': 'GCspectro-FourierSpace.yaml'},\n",
    "                            'photo': {\n",
    "                                'redshifts': [0.2095, 0.489, 0.619, 0.7335, 0.8445, 0.9595, 1.087, 1.2395, 1.45, 2.038],\n",
    "                                'ndens_GC': 'niTab-EP10-RB00.dat',\n",
    "                                'ndens_WL': 'niTab-EP10-RB00.dat',\n",
    "                                'root_GC': 'Cls_{:s}_PosPos.dat',\n",
    "                                'root_WL': 'Cls_{:s}_ShearShear.dat',\n",
    "                                'root_XC': 'Cls_{:s}_PosShear.dat',\n",
    "                                'IA_model': 'zNLA',\n",
    "                                'Fourier': True,\n",
    "                                'luminosity_ratio': 'luminosity_ratio.dat',\n",
    "                                'photo_data': 'standard',\n",
    "                                'root_mixing_matrix': 'fs2_mms_10zbins_32ellbins.fits',\n",
    "                                'cov_GC': 'CovMat-PosPos-{:s}-20Bins.npz',\n",
    "                                'cov_WL': 'CovMat-ShearShear-{:s}-20Bins.npz',\n",
    "                                'cov_3x2': 'CovMat-3x2pt-{:s}-20Bins.npz',\n",
    "                                'cov_model': 'Gauss'}\n",
    "                         }                 \n",
    "                        }\n",
    "                     }"
   ]
  },
  {
   "cell_type": "code",
   "execution_count": null,
   "id": "417d911c",
   "metadata": {},
   "outputs": [],
   "source": [
    "from cobaya.model import get_model\n",
    "\n",
    "from cloe.auxiliary.yaml_handler import yaml_write\n",
    "yaml_write('test',info, overwrite=True)\n",
    "# The `get_model` function of Cobaya imported in the line above needs a yaml or dictionary as an argument\n",
    "# \n",
    "# We measure the time to give us an estimation of how much time it takes to make the initialization of the\n",
    "# likelihood\n",
    "t1 = time.time()\n",
    "\n",
    "# Second: create an instance of the `model` wrapper called model\n",
    "model = get_model(info)\n",
    "print('Time for initialization of the likelihood: ', time.time()-t1)\n",
    "# We need to sample the log posterior to create model.provider.params\n",
    "logposterior = model.logposterior({})"
   ]
  },
  {
   "cell_type": "code",
   "execution_count": null,
   "id": "e586d626",
   "metadata": {},
   "outputs": [],
   "source": [
    "# Create an instance of the class EuclidLikelihood and initialize it (general case)\n",
    "like = EuclidLikelihood()\n",
    "like.initialize()\n",
    "like.passing_requirements(model, info, **model.provider.params)\n",
    "\n",
    "# Update the cosmology dictionary with interpolators + basic quantities such as\n",
    "# P_gg, P_delta...\n",
    "like.cosmo.update_cosmo_dic(like.cosmo.cosmo_dic['z_win'], 0.05)"
   ]
  },
  {
   "cell_type": "markdown",
   "id": "7492e13f",
   "metadata": {},
   "source": [
    "## Non-linear power spectrum\n",
    "\n",
    "There are now two options to access the non-linear power spectrum:\n",
    "1. **through the cosmology dictionary**: if the non-linear flag is set to `NL_flag=5`, the `Pgg_spectro` entry of the cosmology dictionary contains the eft non-linear Pgg. This is computed for a set of bias parameters specified in the `info` dictionary, in the `['params']` entry. If they are not specified, the code defaults to the `params.yaml` file in the `configs` folder, i.e. to the matter power spectrum ($b_1=1$, all other parameters set to 0).\n",
    "\n",
    "2. **through the eft module**: in this case both the redshift and the bias parameters can be specified directly (the latter using a dictionary).\n",
    "\n",
    "**NOTE**: the `Pgg_spectro` entry of the cosmology dictionary has HARDCODED redshifts. This is done to avoid a 3D interpolation (over $k$,$\\mu$,$z$), but still have the `spectro` function redshift dependent as the linear one. The hardcoded redshifts are the ones of the IST:Forecast paper. This means that requesting a power spectrum at $z=0.95$, will result in a $P(k,\\mu)$ at $z=1$, the center of the first redshift bins.\n",
    "\n",
    "### Example 1: access through the cosmology dictionary"
   ]
  },
  {
   "cell_type": "code",
   "execution_count": null,
   "id": "f949d2cb",
   "metadata": {},
   "outputs": [],
   "source": [
    "# Check the non linear flag\n",
    "print(\"Non-linear flag:\",like.cosmo.cosmo_dic['NL_flag_phot_matter'])"
   ]
  },
  {
   "cell_type": "code",
   "execution_count": null,
   "id": "6e60e2e5",
   "metadata": {},
   "outputs": [],
   "source": [
    "# Set up k, mu vectors and redshift values\n",
    "kvec = np.logspace(-3,1,1000)\n",
    "muvec = np.linspace(-1,1,101)\n",
    "z0 = 0.0\n",
    "z1 = 1.0"
   ]
  },
  {
   "cell_type": "code",
   "execution_count": null,
   "id": "cbb08c51",
   "metadata": {},
   "outputs": [],
   "source": [
    "# Select z=1 and put P(k,mu) in an array\n",
    "zz = z1\n",
    "pkmu = np.array(like.cosmo.cosmo_dic['Pgg_spectro'](zz, kvec, muvec[0]))\n",
    "print(\"k, mu:\",pkmu.shape)"
   ]
  },
  {
   "cell_type": "markdown",
   "id": "b8864902",
   "metadata": {},
   "source": [
    "For illustrative purposes here we do the projection to multipoles manually. In CLOE this is done by IST:L, as well as the inclusion of the Alcock-Paczynski effect."
   ]
  },
  {
   "cell_type": "code",
   "execution_count": null,
   "id": "ed274aa7",
   "metadata": {},
   "outputs": [],
   "source": [
    "# Project to multipoles\n",
    "pk_multipoles = np.zeros((3,len(kvec)))\n",
    "for i in range(3):\n",
    "    integrand=np.array([pkmu[j]*legendre(2*i)(muvec) for j in range(len(kvec))])\n",
    "    pk_multipoles[i] = integ.simps(integrand, x=muvec, axis=1) * (4.*i+1)/2"
   ]
  },
  {
   "cell_type": "code",
   "execution_count": null,
   "id": "9afdc23f",
   "metadata": {},
   "outputs": [],
   "source": [
    "# Plot multipoles -- remember these are matter with no counterterm and no shot noise\n",
    "fig = plt.figure(figsize=(12, 6))\n",
    "ax = fig.add_subplot(111)\n",
    "ax.set_title(r'$z={0}$'.format(zz))\n",
    "plt.plot(kvec, pk_multipoles[0], label=r'$P_0$')\n",
    "plt.plot(kvec, pk_multipoles[1], label=r'$P_2$')\n",
    "plt.plot(kvec, pk_multipoles[2], label=r'$P_4$')\n",
    "ax.set_ylabel(r\"$P_{mm,\\ell}$\")\n",
    "ax.set_xlabel(r'$k$')\n",
    "ax.set_xscale('log')\n",
    "ax.set_yscale('log')\n",
    "plt.legend()\n",
    "plt.show()"
   ]
  },
  {
   "cell_type": "markdown",
   "id": "5b75f0d6",
   "metadata": {},
   "source": [
    "### Example 2: eft module\n",
    "Here I access the `P_kmu_z` function of the `eft` module directly, but don't specify the bias parameters, i.e. it's still the matter power spectrum, now computed at redshift $z=0$. This requires importing the `EFTofLSS` module."
   ]
  },
  {
   "cell_type": "code",
   "execution_count": null,
   "id": "2d6386ed",
   "metadata": {},
   "outputs": [],
   "source": [
    "from cloe.non_linear.eft import EFTofLSS\n",
    "zz = z0 # select redshift zero\n",
    "\n",
    "# Initialize eftobject and compute loop corrections\n",
    "eftobj = EFTofLSS(like.cosmo.cosmo_dic)\n",
    "eftobj._Pgg_kmu_terms(zz)\n",
    "\n",
    "# Construct anisotropic power spectrum\n",
    "Pkmu = eftobj.P_kmu_z(zz, f=like.cosmo.cosmo_dic['f_z'](zz), D=like.cosmo.cosmo_dic['D_z_k_func'](zz, 1e-5),\n",
    "                      **like.cosmo.cosmo_dic) # this is the k,mu interpolator\n",
    "pkmu_nlmod = Pkmu(kvec, muvec) # compute over the kvec, muvec grid"
   ]
  },
  {
   "cell_type": "code",
   "execution_count": null,
   "id": "0f7e1662",
   "metadata": {},
   "outputs": [],
   "source": [
    "# Project to multipoles\n",
    "pk_nlmod = np.zeros((3,len(kvec)))\n",
    "for i in range(3):\n",
    "    integrand=np.array([pkmu_nlmod[j]*legendre(2*i)(muvec) for j in range(len(kvec))])\n",
    "    pk_nlmod[i] = integ.simps(integrand, x=muvec, axis=1) * (4.*i+1)/2"
   ]
  },
  {
   "cell_type": "code",
   "execution_count": null,
   "id": "0d8cb89a",
   "metadata": {},
   "outputs": [],
   "source": [
    "# Plot\n",
    "fig = plt.figure(figsize=(12, 6))\n",
    "ax = fig.add_subplot(111)\n",
    "ax.set_title(r'$z={0}$'.format(zz))\n",
    "plt.plot(kvec, pk_nlmod[0], label=r'$P_0$')\n",
    "plt.plot(kvec, pk_nlmod[1], label=r'$P_2$')\n",
    "plt.plot(kvec, pk_nlmod[2], label=r'$P_4$')\n",
    "ax.set_ylabel(r\"$P_{mm,\\ell}$\")\n",
    "ax.set_xlabel(r'$k$')\n",
    "ax.set_xscale('log')\n",
    "ax.set_yscale('log')\n",
    "plt.legend()\n",
    "plt.show()"
   ]
  },
  {
   "cell_type": "markdown",
   "id": "56ba6f23",
   "metadata": {},
   "source": [
    "### Example 3: eft module + bias parameters\n",
    "This is the same as Example 2, i.e. the non-linear power spectrum is accessed directly through the `eft` module, but with a full set of bias parameters."
   ]
  },
  {
   "cell_type": "code",
   "execution_count": null,
   "id": "7e0d878c",
   "metadata": {},
   "outputs": [],
   "source": [
    "# Bias parameters are specified in a dictionary\n",
    "biasdict_z1 = {'b1': 1.369988, 'b2': -0.513959, 'bG2': -0.105710, 'bG3': -0.34522775,\n",
    "               'c0': 9.542350, 'c2': 11.390455, 'c4': 2.469497, 'cnlo': 12.972343,\n",
    "               'aP': 0.315394, 'Psn': 489.569369}"
   ]
  },
  {
   "cell_type": "code",
   "execution_count": null,
   "id": "55fab4cb",
   "metadata": {},
   "outputs": [],
   "source": [
    "# Compute the power spectrum using the bias dictionary\n",
    "Pkmu = eftobj.P_kmu_z(zz, f=like.cosmo.cosmo_dic['f_z'](zz), D=like.cosmo.cosmo_dic['D_z_k_func'](zz, 1e-5),\n",
    "                      **biasdict_z1)\n",
    "pkmu_bias = Pkmu(kvec, muvec)\n",
    "\n",
    "# Project to multipoles\n",
    "pk_gg = np.zeros((3,len(kvec)))\n",
    "for i in range(3):\n",
    "    integrand=np.array([pkmu_bias[j]*legendre(2*i)(muvec) for j in range(len(kvec))])\n",
    "    pk_gg[i] = integ.simps(integrand, x=muvec, axis=1) * (4.*i+1)/2"
   ]
  },
  {
   "cell_type": "code",
   "execution_count": null,
   "id": "42f77d65",
   "metadata": {},
   "outputs": [],
   "source": [
    "# Plot\n",
    "fig = plt.figure(figsize=(12, 6))\n",
    "ax = fig.add_subplot(111)\n",
    "ax.set_title(r'$z={0}$'.format(zz))\n",
    "plt.plot(kvec, pk_gg[0], label=r'$P_0$')\n",
    "plt.plot(kvec, pk_gg[1], label=r'$P_2$')\n",
    "plt.plot(kvec, pk_gg[2], label=r'$P_4$')\n",
    "ax.set_ylabel(r\"$P_{gg,\\ell}$\")\n",
    "ax.set_xlabel(r'$k$')\n",
    "ax.set_xscale('log')\n",
    "ax.set_yscale('log')\n",
    "plt.legend()\n",
    "plt.show()"
   ]
  }
 ],
 "metadata": {
  "kernelspec": {
   "display_name": "Python 3 (ipykernel)",
   "language": "python",
   "name": "python3"
  },
  "language_info": {
   "codemirror_mode": {
    "name": "ipython",
    "version": 3
   },
   "file_extension": ".py",
   "mimetype": "text/x-python",
   "name": "python",
   "nbconvert_exporter": "python",
   "pygments_lexer": "ipython3",
   "version": "3.9.18"
  }
 },
 "nbformat": 4,
 "nbformat_minor": 5
}
