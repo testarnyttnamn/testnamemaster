{
 "cells": [
  {
   "cell_type": "markdown",
   "metadata": {},
   "source": [
    "# DEMO: CLOE\n",
    "\n",
    "**Description**: this DEMO allows to compute the Galaxy Clustering and Weak Lensing observational probes as defined in the current recipe and computes the likelihood value given some benchmark data. It uses `Cobaya` as the main Bayesian Analysis tool.\n",
    "\n",
    "It contains three potential different scenarios for the user (called user-cases) corresponding to CASE 1, 2 and 3 in the notebook. A basic description of each of the user-case is the following:\n",
    "\n",
    "* **CASE 1**: samples the posterior distribution of the parameters of interest (cosmological or nuisance parameters) by running `Cobaya` with the external Euclid Likelihood and the sampler of your choice within the list of samplers available in `Cobaya`. At the moment, this user case executes a single point evaluation of the likelihood using the `Cobaya` sampler `evaluate`.\n",
    "\n",
    "* **CASE 2**: creates a `model` of `Cobaya` using an internal wrapper of `Cobaya` itself. This wrapper is based on the sampler `evaluate` of `Cobaya`. The `model` allows you to make a single computation of the priors, likelihoods and posterior, measure the time needed by each module or retrieve the information of which theoretical quantities were asked to the Boltzman solvers, for instance. This `model` instance is important, because it is the way the connection between `Cobaya` and the `EuclidLikelihood` code is made internally within `cobaya_interface.py`. In fact, the `model` instance is essential if you want to run CASE 2.1.\n",
    "\n",
    "* **CASE 2.1**: the final section of the notebook retrieves and plots internal theoretical quantities computed by the CLOE code. Be aware that, to be able to retrieve and plot quantities, you need to run first **CASE 2**, because CASE 2.1 requires the `model` instance to be loaded. You can plot the following quantities:\n",
    "    * $H(z)$: Hubble factor\n",
    "    * $r(z)$, $D_A$: comoving and angular diameter distances\n",
    "    * $\\sigma_8$, $f\\sigma_8$: amplitude of the (linear) power spectrum on the scale of 8 $h^{-1} Mpc$, and the product of the growth rate, and the amplitude of the (linear) power spectrum on the scale of 8 $h^{-1} Mpc$\n",
    "    * $D(z)$, $f(z)$: growth factor and growth rate\n",
    "    * $P_m, P_{gg}, P_{g\\delta}, P_{\\delta i}, P_{gi}, P_{ii}$: matter power spectrum obtained by the Boltzman solver by `Cobaya` and different power spectra\n",
    "    * $n(z)$: galaxy density distributions\n",
    "    * $W_i^{GC}, W_i^{\\gamma}, W_i^{IA}$: window functions or kernel for Galaxy Clustering (GC), Shear ($\\gamma$) and Intrinsic Alignment.\n",
    "    * $C_\\ell$: angular power spectra\n",
    "    * $P_\\ell$: Legendre multiples\n",
    "\n",
    "\n",
    "**README**: https://gitlab.euclid-sgs.uk/pf-ist-likelihood/likelihood-implementation/-/blob/master/README.md\n",
    "\n",
    "**Install**: in order to use this DEMO notebook, you need to clone the repository `https://gitlab.euclid-sgs.uk/pf-ist-likelihood/likelihood-implementation.git`, and install the CLOE as described in the README.\n",
    "Alternatively you may be ready to run if ```Cobaya``` and ```CAMB/CLASS``` are installed. See details below. \n",
    "\n",
    "**Cobaya documentation**: https://cobaya.readthedocs.io/en/latest/\n",
    "\n",
    "**Python information**: if the user is not confortable with some python vocabulary used in this notebook,\n",
    "a nice python review can be found here\n",
    "https://wiki.python.org/moin/BeginnersGuide"
   ]
  },
  {
   "cell_type": "code",
   "execution_count": 1,
   "metadata": {},
   "outputs": [],
   "source": [
    "# General python imports\n",
    "\n",
    "import numpy as np\n",
    "import matplotlib.pyplot as plt\n",
    "import time \n",
    "import os, sys"
   ]
  },
  {
   "cell_type": "code",
   "execution_count": 2,
   "metadata": {},
   "outputs": [
    {
     "name": "stdout",
     "output_type": "stream",
     "text": [
      "Setting as working directory:  /home/santiago/CosmoProjects/EuclidIST/ISTL/BNT-likelihood-implementation\n"
     ]
    }
   ],
   "source": [
    "# If you have clone the repository and open this notebook,\n",
    "# this notebook should be in likelihood-implementation/notebooks\n",
    "# Let's set the working directory to be likelihood-implementation\n",
    "\n",
    "likelihood_path = os.path.realpath(os.path.join(os.getcwd(),'..'))\n",
    "sys.path.insert(0, likelihood_path)\n",
    "print('Setting as working directory: ', likelihood_path)"
   ]
  },
  {
   "cell_type": "code",
   "execution_count": 3,
   "metadata": {},
   "outputs": [],
   "source": [
    "# Matplotlib params set-up\n",
    "\n",
    "%matplotlib inline\n",
    "plt.rc('xtick',labelsize=16)\n",
    "plt.rc('ytick',labelsize=16)\n",
    "plt.rc('font',size=25)\n",
    "plt.rc('axes', titlesize=26)\n",
    "plt.rc('axes', labelsize=25)\n",
    "plt.rc('lines', linewidth=2)\n",
    "plt.rc('lines', markersize=6)\n",
    "plt.rc('legend', fontsize=20)\n",
    "plt.rc('mathtext', fontset='stix')\n",
    "plt.rc('font', family='STIXGeneral')"
   ]
  },
  {
   "cell_type": "markdown",
   "metadata": {},
   "source": [
    "`Cobaya` needs some modules to run: i.e: CAMB, CLASS, Polychord, other likelihood codes, and data (Planck 18, DES...)\n",
    "If you have installed the CLOE as in the README instructions, you need to activate the conda environment `likelihood` to run. This conda environment has CAMB installed, so you won't need to worry about anything else\n",
    "\n",
    "Alternatively, if you have already installed Cobaya and other Cosmological codes such as CAMB, CLASS, Polychord, or Planck 18 you have 2 options:\n",
    "\n",
    "* **(1)**:  point out where each of them is installed with the flag 'path' in the dictionary of cell 5. See the comment in the cell 5 corresponding to the 'theory' key of the 'info' dictionary\n",
    "\n",
    "\n",
    "* **(2)**: if you installed the Cosmological codes as Cobaya automatic installation suggests  (https://cobaya.readthedocs.io/en/latest/installation_cosmo.html) you need to point out the path to your modules\n",
    "as in the variable `modules_path` below:"
   ]
  },
  {
   "cell_type": "code",
   "execution_count": 4,
   "metadata": {},
   "outputs": [],
   "source": [
    "# ATTENTION: write down the path to your COBAYA modules if you want to follow option (2) above.\n",
    "# Otherwise skip this cell\n",
    "# modules_path = \"/data2/cobaya_modules/\""
   ]
  },
  {
   "cell_type": "markdown",
   "metadata": {},
   "source": [
    "## CASE 1: 'Run `Cobaya` with Euclid-Likelihood \n",
    "**User-case**: *Run and go*. This is the most straightforward case where the user calls `Cobaya` to sample the posterior distribution of the parameters of interest. At the moment, this user-case runs one computation of the likelihood on one point of the parameters space given some theoretical predictions of Euclid observables.\n",
    "\n",
    "To run, Cobaya needs an 'input file'. Please, read carefully the comments in the cells below to understand \n",
    "how this input file looks like and which options are available to be modified by the user."
   ]
  },
  {
   "cell_type": "code",
   "execution_count": 5,
   "metadata": {},
   "outputs": [
    {
     "name": "stdout",
     "output_type": "stream",
     "text": [
      "\n",
      "Classy could not be found in your system.\n",
      "Here are some suggestions:\n",
      "\n",
      "\t -Download the Class from class-code.net and install it\n",
      "\t  together with its wrapper classy (type 'make' instead of\n",
      "\t  'make class'\n",
      "\t -If you know that Class is installed on your system\n",
      "\t  and yet classy could not be installed, try re-compiling\n",
      "\t  Class with just ''make'' instead of ''make class''\n",
      "NOTICE: Even without classy you can still use EuclidEmulator2\n",
      "        to emulate boost factors. You won't be able to compute\n",
      "        full power spectra, though.\n"
     ]
    },
    {
     "name": "stderr",
     "output_type": "stream",
     "text": [
      "2023-03-30 10:38:58.853698: I tensorflow/core/util/port.cc:110] oneDNN custom operations are on. You may see slightly different numerical results due to floating-point round-off errors from different computation orders. To turn them off, set the environment variable `TF_ENABLE_ONEDNN_OPTS=0`.\n",
      "2023-03-30 10:38:58.855132: I tensorflow/tsl/cuda/cudart_stub.cc:28] Could not find cuda drivers on your machine, GPU will not be used.\n",
      "2023-03-30 10:38:58.881195: I tensorflow/tsl/cuda/cudart_stub.cc:28] Could not find cuda drivers on your machine, GPU will not be used.\n",
      "2023-03-30 10:38:58.881612: I tensorflow/core/platform/cpu_feature_guard.cc:182] This TensorFlow binary is optimized to use available CPU instructions in performance-critical operations.\n",
      "To enable the following instructions: AVX2 AVX512F AVX512_VNNI FMA, in other operations, rebuild TensorFlow with the appropriate compiler flags.\n",
      "2023-03-30 10:38:59.329771: W tensorflow/compiler/tf2tensorrt/utils/py_utils.cc:38] TF-TRT Warning: Could not find TensorRT\n",
      "2023-03-30 10:38:59.729800: I tensorflow/compiler/xla/stream_executor/cuda/cuda_gpu_executor.cc:996] successful NUMA node read from SysFS had negative value (-1), but there must be at least one NUMA node, so returning NUMA node zero. See more at https://github.com/torvalds/linux/blob/v6.0/Documentation/ABI/testing/sysfs-bus-pci#L344-L355\n",
      "2023-03-30 10:38:59.730191: W tensorflow/core/common_runtime/gpu/gpu_device.cc:1956] Cannot dlopen some GPU libraries. Please make sure the missing libraries mentioned above are installed properly if you would like to use GPU. Follow the guide at https://www.tensorflow.org/install/gpu for how to download and setup the required libraries for your platform.\n",
      "Skipping registering GPU devices...\n"
     ]
    }
   ],
   "source": [
    "# Import external loglike from the Likelihood Package within cobaya_interface.py\n",
    "\n",
    "from cloe.cobaya_interface import EuclidLikelihood"
   ]
  },
  {
   "cell_type": "code",
   "execution_count": 6,
   "metadata": {},
   "outputs": [],
   "source": [
    "# We are running the Euclid-Likelihood as an external likelihood class for Cobaya\n",
    "# Cobaya needs a dictionary or yaml file as input to start running\n",
    "# This dictionary below ('info') can be modified up to some point by the user to\n",
    "# adapt it to the user's needs.\n",
    "# The options that can be modified by the user are pointed with the acronym (UC).\n",
    "\n",
    "info = {\n",
    "    #'params': Cobaya's protected key of the input dictionary. \n",
    "    # Includes the parameters that the user would like to sample over:\n",
    "'params': {\n",
    "        # (UC): each parameter below (which is a 'key' of another sub-dictionary) can contain a dictionary\n",
    "        # with the key 'prior', 'latex'...\n",
    "        # If the prior dictionary is not passed to a parameter, this parameter is fixed.\n",
    "        # In this example, we are sampling the parameter ns\n",
    "        # For more information see: https://cobaya.readthedocs.io/en/latest/example.html\n",
    "        'ombh2': 0.022445, #Omega density of baryons times the reduced Hubble parameter squared\n",
    "        'omch2': 0.1205579307, #Omega density of cold dark matter times the reduced Hubble parameter squared\n",
    "        'H0': 67.0, #Hubble parameter evaluated today (z=0) in km/s/Mpc\n",
    "        'tau': 0.0925, #optical depth\n",
    "        'mnu': 0.06, #  sum of the mass of neutrinos in eV\n",
    "        'nnu': 3.046, #N_eff of relativistic species \n",
    "        'As': 2.12605e-9, #Amplitude of the primordial scalar power spectrum\n",
    "        'ns': 0.96, #{'prior':{'min':0.8, 'max':1.2}}, # primordial power spectrum tilt (sampled with an uniform prior)\n",
    "        'w': -1.0, #Dark energy fluid model\n",
    "        'wa': 0.0, #Dark energy fluid model\n",
    "        'omk': 0.0, #curvature density\n",
    "        'omegam': None, #DERIVED parameter: Omega matter density\n",
    "        'omegab': None, #DERIVED parameter: Omega baryon density\n",
    "        'omeganu': None, #DERIVED parameter: Omega neutrino density\n",
    "        'omnuh2': None, #DERIVED parameter: Omega neutrino density times de reduced Hubble parameter squared\n",
    "        'omegac': None, #DERIVED parameter: Omega cold dark matter density\n",
    "        'N_eff': None,\n",
    "        # (UC): galaxy bias parameters:\n",
    "        # The bias parameters below are currently fixed to the\n",
    "        # values used by the Inter Science Taskforce: Forecast (IST:F)\n",
    "        # and presented in the corresponding IST:F paper (arXiv: 1910.09273).\n",
    "        # However, they can be changed by the user and even sample over them by putting a prior\n",
    "        # Photometric bias parameters\n",
    "        'b1_photo': 1.0997727037892875,\n",
    "        'b2_photo': 1.220245876862528,\n",
    "        'b3_photo': 1.2723993083933989,\n",
    "        'b4_photo': 1.316624471897739,\n",
    "        'b5_photo': 1.35812370570578,\n",
    "        'b6_photo': 1.3998214171814918,\n",
    "        'b7_photo': 1.4446452851824907,\n",
    "        'b8_photo': 1.4964959071110084,\n",
    "        'b9_photo': 1.5652475842498528,\n",
    "        'b10_photo': 1.7429859437184225,\n",
    "        # Magnification bias parameters\n",
    "        'magnification_bias_1': 0.0,\n",
    "        'magnification_bias_2': 0.0,\n",
    "        'magnification_bias_3': 0.0,\n",
    "        'magnification_bias_4': 0.0,\n",
    "        'magnification_bias_5': 0.0,\n",
    "        'magnification_bias_6': 0.0,\n",
    "        'magnification_bias_7': 0.0,\n",
    "        'magnification_bias_8': 0.0,\n",
    "        'magnification_bias_9': 0.0,\n",
    "        'magnification_bias_10': 0.0,\n",
    "        # Shear calibration multiplicative bias parameters                                                                                                                                                                                                                                                                                                            \n",
    "        'multiplicative_bias_1': 0.0,\n",
    "        'multiplicative_bias_2': 0.0,\n",
    "        'multiplicative_bias_3': 0.0,\n",
    "        'multiplicative_bias_4': 0.0,\n",
    "        'multiplicative_bias_5': 0.0,\n",
    "        'multiplicative_bias_6': 0.0,\n",
    "        'multiplicative_bias_7': 0.0,\n",
    "        'multiplicative_bias_8': 0.0,\n",
    "        'multiplicative_bias_9': 0.0,\n",
    "        'multiplicative_bias_10': 0.0,\n",
    "        # Spectroscopic bias parameters\n",
    "        'b1_spectro': 1.46,\n",
    "        'b2_spectro': 1.61,\n",
    "        'b3_spectro': 1.75,\n",
    "        'b4_spectro': 1.90,\n",
    "        # Intrinsic alignment parameters\n",
    "        'aia': 1.72,\n",
    "        'nia': -0.41,\n",
    "        'bia': 0.0,\n",
    "        # Redshift distributions nuisance parameters: shifts\n",
    "        'dz_1_GCphot': 0.0, 'dz_1_WL': 0.0,\n",
    "        'dz_2_GCphot': 0.0, 'dz_2_WL': 0.0,\n",
    "        'dz_3_GCphot': 0.0, 'dz_3_WL': 0.0,\n",
    "        'dz_4_GCphot': 0.0, 'dz_4_WL': 0.0,\n",
    "        'dz_5_GCphot': 0.0, 'dz_5_WL': 0.0,\n",
    "        'dz_6_GCphot': 0.0, 'dz_6_WL': 0.0,\n",
    "        'dz_7_GCphot': 0.0, 'dz_7_WL': 0.0,\n",
    "        'dz_8_GCphot': 0.0, 'dz_8_WL': 0.0,\n",
    "        'dz_9_GCphot': 0.0, 'dz_9_WL': 0.0,\n",
    "        'dz_10_GCphot': 0.0, 'dz_10_WL': 0.0},\n",
    "    #'theory': Cobaya's protected key of the input dictionary.\n",
    "    # Cobaya needs to ask some minimum theoretical requirements to a Boltzman Solver\n",
    "    # (UC): you can choose between CAMB or CLASS\n",
    "    # In this DEMO, we use CAMB and specify some CAMB arguments\n",
    "    # such as the number of massive neutrinos\n",
    "    # and the dark energy model\n",
    "    #\n",
    "    # ATTENTION: If you have CAMB/CLASS already installed and \n",
    "    # you are not using the likelihood conda environment \n",
    "    # or option (2) in cell (3) (Cobaya modules), you can add an extra key called 'path' within the camb dictionary\n",
    "    # to point to your already installed CAMB code\n",
    "    # NOTE: for values of the non-linear flag larger than 0, a new key is added in info['theory']['camb']['extra_args'],\n",
    "    # i.e. 'halofit_version', which contains the requested version of halofit, as described above\n",
    "    'theory': {'camb': \n",
    "               {'stop_at_error': True, \n",
    "                'extra_args':{'num_massive_neutrinos': 1,\n",
    "                              'dark_energy_model': 'ppf'}}},\n",
    "    #'sampler': Cobaya's protected key of the input dictionary.\n",
    "    # (UC): you can choose the sampler you want to use.\n",
    "    # Check Cobaya's documentation to see the list of available samplers\n",
    "    # In this DEMO, we use the 'evaluate' sampler to make a single computation of the posterior distributions\n",
    "    # Note: if you want to run a simple MCMC sampling choose 'mcmc'\n",
    "    'sampler': {'evaluate': None},  \n",
    "    # 'packages_path': Cobaya's protected key of the input dictionary.\n",
    "    # This is the variable you need to update\n",
    "    # if you are running Cobaya with cobaya_modules (option (2) above).\n",
    "    # If you are using the conda likelihood environment or option (1),\n",
    "    # please, keep the line below commented\n",
    "    #\n",
    "    #'packages_path': modules_path,\n",
    "    #\n",
    "    #'output': Cobaya's protected key of the input dictionary.\n",
    "    # Where are the results going to be stored, in case that the sampler produce output files? \n",
    "    # For example: chains...\n",
    "    # (UC): modify the path below within 'output' to choose a name and a directory for those files\n",
    "    'output': 'chains/my_euclid_experiment',\n",
    "    #'debug': Cobaya's protected key of the input dictionary.\n",
    "    # (UC): how much information you want Cobaya to print? If debug: True, it prints every single detail\n",
    "    # that is going on internally in Cobaya\n",
    "    'debug': False,\n",
    "    #'timing': Cobaya's protected key of the input dictionary.\n",
    "    # (UC): if timing: True, Cobaya returns how much time it took it to make a computation of the posterior\n",
    "    # and how much time take each of the modules to perform their tasks\n",
    "    'timing': True,\n",
    "    #'force': Cobaya's protected key of the input dictionary.\n",
    "    # (UC): if 'force': True, Cobaya forces deleting the previous output files, if found, with the same name\n",
    "    'force': True,\n",
    "    }"
   ]
  },
  {
   "cell_type": "code",
   "execution_count": 7,
   "metadata": {},
   "outputs": [],
   "source": [
    "#'likelihood': Cobaya's protected key of the input dictionary.\n",
    "#'likelihood': Cobaya's protected key of the input dictionary.\n",
    "# (UC): The user can select which data wants to use for the analysis.\n",
    "# Check Cobaya's documentation to see the list of the current available data experiments\n",
    "# In this DEMO, we load the Euclid-Likelihood as an external function, and name it 'Euclid'\n",
    "info['likelihood'] = {'Euclid': \n",
    "                     {'external': EuclidLikelihood, # Likelihood Class to be read as external\n",
    "                     # Note: everything down below will overwrite the information read\n",
    "                     # in the config folder\n",
    "                     #\n",
    "                     # Select which observables want to use during the analysis\n",
    "                     # by setting them to True or False\n",
    "                     'observables_selection': {\n",
    "                         'WL': {'WL': True, 'GCphot': False, 'GCspectro': False},\n",
    "                         'GCphot': {'GCphot': False, 'GCspectro': False},\n",
    "                         'GCspectro': {'GCspectro': False}\n",
    "                     },\n",
    "                     # Plot the selected observables matrx\n",
    "                     'plot_observables_selection': True,\n",
    "                     'solver': 'camb', \n",
    "                      # Non-linear flag\n",
    "                      # With this, the user can specify which non-linear model they want\n",
    "                      # For the time-being the available options are: \n",
    "                            #0 -> linear-only\n",
    "                            #1 -> Takahashi\n",
    "                            #2 -> Mead2020 (w/o baryon corrections)\n",
    "                     'NL_flag_phot_matter': 0,\n",
    "                     'NL_flag_spectro': 0,\n",
    "                     # k values for extrapolation of the matter power spectrum and size k-array\n",
    "                     'k_max_extrap': 500.0,\n",
    "                     'k_min_extrap': 1E-5,   \n",
    "                     'k_samp': 1000,\n",
    "                     # z limit values and size z-array\n",
    "                     'z_min': 0.0,\n",
    "                     'z_max': 4.0,\n",
    "                     'z_samp': 100,\n",
    "                     # Add RSD to photometric probes\n",
    "                     'add_phot_RSD': False,\n",
    "                     'matrix_transform_phot': 'BNT',\n",
    "                     #'matrix_transform_phot': False,\n",
    "                     #'data': This give specifications for the paths of the input data files\n",
    "                     'data': { \n",
    "                        #'sample' specifies the first folder below the main data folder\n",
    "                        'sample': 'ExternalBenchmark',\n",
    "                        #'spectro' and 'photo' specify paths to data files.\n",
    "                        'spectro': {\n",
    "                            # GC Spectro root name should contain z{:s} string\n",
    "                            # to enable iteration over bins\n",
    "                            'root': 'cov_power_galaxies_dk0p004_z{:s}.fits',\n",
    "                            'redshifts': [\"1.\", \"1.2\", \"1.4\", \"1.65\"],\n",
    "                            'edges': [0.9, 1.1, 1.3, 1.5, 1.8]},\n",
    "                        'photo': {\n",
    "                            'ndens_GC': 'niTab-EP10-RB00.dat',\n",
    "                            'ndens_WL': 'niTab-EP10-RB00.dat',\n",
    "                            'luminosity_ratio': 'luminosity_ratio.dat',\n",
    "                            # Photometric root names should contain z{:s} string\n",
    "                            # to specify IA model\n",
    "                            'root_GC': 'Cls_{:s}_PosPos.dat',\n",
    "                            'root_WL': 'Cls_{:s}_ShearShear.dat',\n",
    "                            'root_XC': 'Cls_{:s}_PosShear.dat',\n",
    "                            'IA_model': 'zNLA',\n",
    "                            # Photometric covariances root names should contain z{:s} string\n",
    "                            # to specify how the covariance was calculated\n",
    "                            'cov_GC': 'CovMat-PosPos-{:s}-20Bins.npy',\n",
    "                            'cov_WL': 'CovMat-ShearShear-{:s}-20Bins.npy',\n",
    "                            'cov_3x2pt': 'CovMat-3x2pt-{:s}-20Bins.npy',\n",
    "                            'cov_model': 'Gauss',\n",
    "                            #'cov_model': 'BNT-Gauss'\n",
    "                            }}, \n",
    "                   \n",
    "                    }}"
   ]
  },
  {
   "cell_type": "markdown",
   "metadata": {},
   "source": [
    "### Create the yaml file corresponding to the Likelihood Parameters\n",
    "Cobaya needs to know which parameters the likelihood `EuclidLikelihood` expects (for example, nuisance parameters), apart from the cosmological parameters (i.e: $\\Omega_b$, $H_0$, $n_s$...) which are already known by the theory code (CAMB/CLASS). \n",
    "\n",
    "For that, a `yaml` file is generated instead of having those likelihood parameters hard-coded within `cobaya_interface.py`. To generate this `yaml` file, execute either the next cell or the next-to-next.\n",
    "\n",
    "Please, be aware that this function will only make Cobaya expect those likelihood parameters. To set some fixed values or put a prior on them, the user needs to do so within the `info` python dictionary above. "
   ]
  },
  {
   "cell_type": "code",
   "execution_count": 8,
   "metadata": {},
   "outputs": [
    {
     "ename": "KeyError",
     "evalue": "'NL_flag'",
     "output_type": "error",
     "traceback": [
      "\u001b[0;31m---------------------------------------------------------------------------\u001b[0m",
      "\u001b[0;31mKeyError\u001b[0m                                  Traceback (most recent call last)",
      "Cell \u001b[0;32mIn[8], line 3\u001b[0m\n\u001b[1;32m      1\u001b[0m \u001b[39mfrom\u001b[39;00m \u001b[39mcloe\u001b[39;00m\u001b[39m.\u001b[39;00m\u001b[39mauxiliary\u001b[39;00m\u001b[39m.\u001b[39;00m\u001b[39mlikelihood_yaml_handler\u001b[39;00m \u001b[39mimport\u001b[39;00m set_halofit_version\n\u001b[1;32m      2\u001b[0m \u001b[39m# Set the correct halofit version under the 'extra_args' field in ['theory']['camb']\u001b[39;00m\n\u001b[0;32m----> 3\u001b[0m set_halofit_version(info, info[\u001b[39m'\u001b[39;49m\u001b[39mlikelihood\u001b[39;49m\u001b[39m'\u001b[39;49m][\u001b[39m'\u001b[39;49m\u001b[39mEuclid\u001b[39;49m\u001b[39m'\u001b[39;49m][\u001b[39m'\u001b[39;49m\u001b[39mNL_flag\u001b[39;49m\u001b[39m'\u001b[39;49m])\n\u001b[1;32m      4\u001b[0m \u001b[39m# Now we are ready to run Cobaya\u001b[39;00m\n",
      "\u001b[0;31mKeyError\u001b[0m: 'NL_flag'"
     ]
    }
   ],
   "source": [
    "from cloe.auxiliary.likelihood_yaml_handler import set_halofit_version\n",
    "# Set the correct halofit version under the 'extra_args' field in ['theory']['camb']\n",
    "set_halofit_version(info, info['likelihood']['Euclid']['NL_flag'])\n",
    "# Now we are ready to run Cobaya"
   ]
  },
  {
   "cell_type": "code",
   "execution_count": 9,
   "metadata": {},
   "outputs": [],
   "source": [
    "# An alternative way from using an hardcoded Cobaya info dictionary is loading the Cobaya configuration from a yaml file.\n",
    "# Run this cell only if you want to load the info dictionary from file.\n",
    "run_this_cell = False\n",
    "# WARNING: running this cell will overload the info dictionary defined in the previous cells\n",
    "\n",
    "from cloe.auxiliary.likelihood_yaml_handler import get_default_configs_path\n",
    "from cloe.auxiliary.likelihood_yaml_handler import update_cobaya_params_from_model_yaml\n",
    "from cloe.auxiliary.likelihood_yaml_handler import update_cobaya_dict_with_halofit_version\n",
    "from cloe.auxiliary.yaml_handler import yaml_read\n",
    "\n",
    "if run_this_cell:\n",
    "    # A test configuration yaml file is in 'configs/config_test.yaml'\n",
    "    # We can play with this file, or use another config file ...\n",
    "    config_test_path = get_default_configs_path() / 'config_test.yaml'\n",
    "    # Loading the dictionary from the file\n",
    "    config_test_dict = yaml_read(config_test_path)\n",
    "    info = config_test_dict['Cobaya']\n",
    "    # And read the model file name (only for this case, 'params' value is a file name where the model is specified)\n",
    "    # We can play with this model file, or use another model file ...\n",
    "    model_file = info['params']\n",
    "    # Joining the complete path for the model file\n",
    "    model_path = config_test_path.parent.joinpath(model_file)\n",
    "    # Updating the Cobaya info dictionary from the model\n",
    "    # i.e. writing the whole 'params' dict instead of the model file name\n",
    "    update_cobaya_params_from_model_yaml(info, model_path)\n",
    "    # Updating the Cobaya dictionary to add the halofit version corresponding to the selected NL flag\n",
    "    update_cobaya_dict_with_halofit_version(info)\n",
    "    set_halofit_version(info, info['likelihood']['Euclid']['NL_flag'])\n",
    "\n",
    "\n",
    "# Now we are ready to run cobaya"
   ]
  },
  {
   "cell_type": "code",
   "execution_count": 10,
   "metadata": {
    "scrolled": false
   },
   "outputs": [
    {
     "name": "stdout",
     "output_type": "stream",
     "text": [
      "[output] Output to be read-from/written-into folder 'chains', with prefix 'my_euclid_experiment'\n",
      "[camb] `camb` module loaded successfully from /home/santiago/anaconda3/envs/cloe/lib/python3.9/site-packages/camb\n",
      "[matplotlib.font_manager] *WARNING* findfont: Generic family 'serif' not found because none of the following families were found: Times\n",
      "[matplotlib.font_manager] *WARNING* findfont: Generic family 'serif' not found because none of the following families were found: Times\n",
      "[matplotlib.font_manager] *WARNING* findfont: Generic family 'serif' not found because none of the following families were found: Times\n",
      "[matplotlib.font_manager] *WARNING* findfont: Generic family 'serif' not found because none of the following families were found: Times\n",
      "[matplotlib.font_manager] *WARNING* findfont: Generic family 'serif' not found because none of the following families were found: Times\n",
      "[matplotlib.font_manager] *WARNING* findfont: Generic family 'serif' not found because none of the following families were found: Times\n",
      "[matplotlib.font_manager] *WARNING* findfont: Generic family 'serif' not found because none of the following families were found: Times\n",
      "[matplotlib.font_manager] *WARNING* findfont: Generic family 'serif' not found because none of the following families were found: Times\n",
      "[matplotlib.font_manager] *WARNING* findfont: Generic family 'serif' not found because none of the following families were found: Times\n",
      "[matplotlib.font_manager] *WARNING* findfont: Generic family 'serif' not found because none of the following families were found: Times\n",
      "[matplotlib.font_manager] *WARNING* findfont: Generic family 'serif' not found because none of the following families were found: Times\n",
      "[matplotlib.font_manager] *WARNING* findfont: Generic family 'serif' not found because none of the following families were found: Times\n",
      "[matplotlib.font_manager] *WARNING* findfont: Generic family 'serif' not found because none of the following families were found: Times\n",
      "[matplotlib.font_manager] *WARNING* findfont: Generic family 'serif' not found because none of the following families were found: Times\n",
      "[matplotlib.font_manager] *WARNING* findfont: Generic family 'serif' not found because none of the following families were found: Times\n",
      "[matplotlib.font_manager] *WARNING* findfont: Generic family 'serif' not found because none of the following families were found: Times\n",
      "[matplotlib.font_manager] *WARNING* findfont: Generic family 'serif' not found because none of the following families were found: Times\n",
      "[matplotlib.font_manager] *WARNING* findfont: Generic family 'serif' not found because none of the following families were found: Times\n",
      "[matplotlib.font_manager] *WARNING* findfont: Generic family 'serif' not found because none of the following families were found: Times\n",
      "[matplotlib.font_manager] *WARNING* findfont: Generic family 'serif' not found because none of the following families were found: Times\n",
      "[matplotlib.font_manager] *WARNING* findfont: Generic family 'serif' not found because none of the following families were found: Times\n",
      "[matplotlib.font_manager] *WARNING* findfont: Generic family 'serif' not found because none of the following families were found: Times\n",
      "[matplotlib.font_manager] *WARNING* findfont: Generic family 'serif' not found because none of the following families were found: Times\n",
      "[matplotlib.font_manager] *WARNING* findfont: Generic family 'serif' not found because none of the following families were found: Times\n",
      "[matplotlib.font_manager] *WARNING* findfont: Generic family 'serif' not found because none of the following families were found: Times\n",
      "[matplotlib.font_manager] *WARNING* findfont: Generic family 'serif' not found because none of the following families were found: Times\n",
      "[matplotlib.font_manager] *WARNING* findfont: Generic family 'serif' not found because none of the following families were found: Times\n",
      "[matplotlib.font_manager] *WARNING* findfont: Generic family 'serif' not found because none of the following families were found: Times\n",
      "[matplotlib.font_manager] *WARNING* findfont: Generic family 'serif' not found because none of the following families were found: Times\n",
      "[matplotlib.font_manager] *WARNING* findfont: Generic family 'serif' not found because none of the following families were found: Times\n",
      "[matplotlib.font_manager] *WARNING* findfont: Generic family 'serif' not found because none of the following families were found: Times\n",
      "[matplotlib.font_manager] *WARNING* findfont: Generic family 'serif' not found because none of the following families were found: Times\n",
      "[matplotlib.font_manager] *WARNING* findfont: Generic family 'serif' not found because none of the following families were found: Times\n",
      "[matplotlib.font_manager] *WARNING* findfont: Generic family 'serif' not found because none of the following families were found: Times\n",
      "[matplotlib.font_manager] *WARNING* findfont: Generic family 'serif' not found because none of the following families were found: Times\n",
      "[matplotlib.font_manager] *WARNING* findfont: Generic family 'serif' not found because none of the following families were found: Times\n",
      "[matplotlib.font_manager] *WARNING* findfont: Generic family 'serif' not found because none of the following families were found: Times\n",
      "[matplotlib.font_manager] *WARNING* findfont: Generic family 'serif' not found because none of the following families were found: Times\n",
      "[matplotlib.font_manager] *WARNING* findfont: Generic family 'serif' not found because none of the following families were found: Times\n",
      "[matplotlib.font_manager] *WARNING* findfont: Generic family 'serif' not found because none of the following families were found: Times\n",
      "[matplotlib.font_manager] *WARNING* findfont: Generic family 'serif' not found because none of the following families were found: Times\n",
      "[matplotlib.font_manager] *WARNING* findfont: Generic family 'serif' not found because none of the following families were found: Times\n",
      "[matplotlib.font_manager] *WARNING* findfont: Generic family 'serif' not found because none of the following families were found: Times\n",
      "[matplotlib.font_manager] *WARNING* findfont: Generic family 'serif' not found because none of the following families were found: Times\n",
      "[matplotlib.font_manager] *WARNING* findfont: Generic family 'serif' not found because none of the following families were found: Times\n",
      "[matplotlib.font_manager] *WARNING* findfont: Generic family 'serif' not found because none of the following families were found: Times\n",
      "[matplotlib.font_manager] *WARNING* findfont: Generic family 'serif' not found because none of the following families were found: Times\n",
      "[matplotlib.font_manager] *WARNING* findfont: Generic family 'serif' not found because none of the following families were found: Times\n",
      "[matplotlib.font_manager] *WARNING* findfont: Generic family 'serif' not found because none of the following families were found: Times\n",
      "[matplotlib.font_manager] *WARNING* findfont: Generic family 'serif' not found because none of the following families were found: Times\n",
      "[matplotlib.font_manager] *WARNING* findfont: Generic family 'serif' not found because none of the following families were found: Times\n",
      "[matplotlib.font_manager] *WARNING* findfont: Generic family 'serif' not found because none of the following families were found: Times\n"
     ]
    },
    {
     "data": {
      "image/png": "[encoded data removed]",
      "text/plain": [
       "<Figure size 640x480 with 2 Axes>"
      ]
     },
     "metadata": {},
     "output_type": "display_data"
    },
    {
     "ename": "AttributeError",
     "evalue": "'EuclidLikelihood' object has no attribute 'likefinal'",
     "output_type": "error",
     "traceback": [
      "\u001b[0;31m---------------------------------------------------------------------------\u001b[0m",
      "\u001b[0;31mAttributeError\u001b[0m                            Traceback (most recent call last)",
      "Cell \u001b[0;32mIn[10], line 14\u001b[0m\n\u001b[1;32m      4\u001b[0m matplotlib\u001b[39m.\u001b[39mrcParams[\u001b[39m'\u001b[39m\u001b[39mtext.usetex\u001b[39m\u001b[39m'\u001b[39m] \u001b[39m=\u001b[39m \u001b[39mFalse\u001b[39;00m\n\u001b[1;32m      6\u001b[0m \u001b[39m# Let's run Cobaya\u001b[39;00m\n\u001b[1;32m      7\u001b[0m \u001b[39m# the function run returns\u001b[39;00m\n\u001b[1;32m      8\u001b[0m \u001b[39m# info_updated: an information dictionary updated with the defaults, \u001b[39;00m\n\u001b[0;32m   (...)\u001b[0m\n\u001b[1;32m     11\u001b[0m \u001b[39m# being a dictionary of results. \u001b[39;00m\n\u001b[1;32m     12\u001b[0m \u001b[39m# For the mcmc sampler, the dictionary contains only one chain under the key sample.\u001b[39;00m\n\u001b[0;32m---> 14\u001b[0m info_updated, samples \u001b[39m=\u001b[39m run(info)\n",
      "File \u001b[0;32m~/anaconda3/envs/cloe/lib/python3.9/site-packages/cobaya/run.py:132\u001b[0m, in \u001b[0;36mrun\u001b[0;34m(info_or_yaml_or_file, packages_path, output, debug, stop_at_error, resume, force, minimize, no_mpi, test, override)\u001b[0m\n\u001b[1;32m    129\u001b[0m sampler_class\u001b[39m.\u001b[39mcheck_force_resume(\n\u001b[1;32m    130\u001b[0m     out, info\u001b[39m=\u001b[39mupdated_info[\u001b[39m\"\u001b[39m\u001b[39msampler\u001b[39m\u001b[39m\"\u001b[39m][sampler_name])\n\u001b[1;32m    131\u001b[0m \u001b[39m# 4. Initialize the posterior and the sampler\u001b[39;00m\n\u001b[0;32m--> 132\u001b[0m \u001b[39mwith\u001b[39;00m Model(updated_info[\u001b[39m\"\u001b[39;49m\u001b[39mparams\u001b[39;49m\u001b[39m\"\u001b[39;49m], updated_info[\u001b[39m\"\u001b[39;49m\u001b[39mlikelihood\u001b[39;49m\u001b[39m\"\u001b[39;49m],\n\u001b[1;32m    133\u001b[0m            updated_info\u001b[39m.\u001b[39;49mget(\u001b[39m\"\u001b[39;49m\u001b[39mprior\u001b[39;49m\u001b[39m\"\u001b[39;49m), updated_info\u001b[39m.\u001b[39;49mget(\u001b[39m\"\u001b[39;49m\u001b[39mtheory\u001b[39;49m\u001b[39m\"\u001b[39;49m),\n\u001b[1;32m    134\u001b[0m            packages_path\u001b[39m=\u001b[39;49minfo\u001b[39m.\u001b[39;49mget(packages_path_input),\n\u001b[1;32m    135\u001b[0m            timing\u001b[39m=\u001b[39;49mupdated_info\u001b[39m.\u001b[39;49mget(\u001b[39m\"\u001b[39;49m\u001b[39mtiming\u001b[39;49m\u001b[39m\"\u001b[39;49m),\n\u001b[1;32m    136\u001b[0m            allow_renames\u001b[39m=\u001b[39;49m\u001b[39mFalse\u001b[39;49;00m,\n\u001b[1;32m    137\u001b[0m            stop_at_error\u001b[39m=\u001b[39;49minfo\u001b[39m.\u001b[39;49mget(\u001b[39m\"\u001b[39;49m\u001b[39mstop_at_error\u001b[39;49m\u001b[39m\"\u001b[39;49m, \u001b[39mFalse\u001b[39;49;00m)) \u001b[39mas\u001b[39;00m model:\n\u001b[1;32m    138\u001b[0m     \u001b[39m# Re-dump the updated info, now containing parameter routes and version\u001b[39;00m\n\u001b[1;32m    139\u001b[0m     updated_info \u001b[39m=\u001b[39m recursive_update(updated_info, model\u001b[39m.\u001b[39minfo())\n\u001b[1;32m    140\u001b[0m     out\u001b[39m.\u001b[39mcheck_and_dump_info(\u001b[39mNone\u001b[39;00m, updated_info, check_compatible\u001b[39m=\u001b[39m\u001b[39mFalse\u001b[39;00m)\n",
      "File \u001b[0;32m~/anaconda3/envs/cloe/lib/python3.9/site-packages/cobaya/model.py:247\u001b[0m, in \u001b[0;36mModel.__init__\u001b[0;34m(self, info_params, info_likelihood, info_prior, info_theory, packages_path, timing, allow_renames, stop_at_error, post, skip_unused_theories, dropped_theory_params)\u001b[0m\n\u001b[1;32m    244\u001b[0m \u001b[39mself\u001b[39m\u001b[39m.\u001b[39mtheory \u001b[39m=\u001b[39m TheoryCollection(info_theory \u001b[39mor\u001b[39;00m {}, packages_path\u001b[39m=\u001b[39mpackages_path,\n\u001b[1;32m    245\u001b[0m                                timing\u001b[39m=\u001b[39mtiming)\n\u001b[1;32m    246\u001b[0m info_likelihood \u001b[39m=\u001b[39m \u001b[39mself\u001b[39m\u001b[39m.\u001b[39m_updated_info[\u001b[39m\"\u001b[39m\u001b[39mlikelihood\u001b[39m\u001b[39m\"\u001b[39m]\n\u001b[0;32m--> 247\u001b[0m \u001b[39mself\u001b[39m\u001b[39m.\u001b[39mlikelihood \u001b[39m=\u001b[39m LikelihoodCollection(info_likelihood, theory\u001b[39m=\u001b[39;49m\u001b[39mself\u001b[39;49m\u001b[39m.\u001b[39;49mtheory,\n\u001b[1;32m    248\u001b[0m                                        packages_path\u001b[39m=\u001b[39;49mpackages_path, timing\u001b[39m=\u001b[39;49mtiming)\n\u001b[1;32m    249\u001b[0m \u001b[39mif\u001b[39;00m stop_at_error:\n\u001b[1;32m    250\u001b[0m     \u001b[39mfor\u001b[39;00m component \u001b[39min\u001b[39;00m \u001b[39mself\u001b[39m\u001b[39m.\u001b[39mcomponents:\n",
      "File \u001b[0;32m~/anaconda3/envs/cloe/lib/python3.9/site-packages/cobaya/likelihood.py:242\u001b[0m, in \u001b[0;36mLikelihoodCollection.__init__\u001b[0;34m(self, info_likelihood, packages_path, timing, theory)\u001b[0m\n\u001b[1;32m    236\u001b[0m     \u001b[39mif\u001b[39;00m \u001b[39mnot\u001b[39;00m is_LikelihoodInterface(external) \u001b[39mor\u001b[39;00m \\\n\u001b[1;32m    237\u001b[0m             \u001b[39mnot\u001b[39;00m \u001b[39missubclass\u001b[39m(external, Theory):\n\u001b[1;32m    238\u001b[0m         \u001b[39mraise\u001b[39;00m LoggedError(\u001b[39mself\u001b[39m\u001b[39m.\u001b[39mlog, \u001b[39m\"\u001b[39m\u001b[39m%s\u001b[39;00m\u001b[39m: external class likelihood must \u001b[39m\u001b[39m\"\u001b[39m\n\u001b[1;32m    239\u001b[0m                                     \u001b[39m\"\u001b[39m\u001b[39mbe a subclass of Theory and have \u001b[39m\u001b[39m\"\u001b[39m\n\u001b[1;32m    240\u001b[0m                                     \u001b[39m\"\u001b[39m\u001b[39mlogp, current_logp attributes\u001b[39m\u001b[39m\"\u001b[39m,\n\u001b[1;32m    241\u001b[0m                           external\u001b[39m.\u001b[39m\u001b[39m__name__\u001b[39m)\n\u001b[0;32m--> 242\u001b[0m     \u001b[39mself\u001b[39m\u001b[39m.\u001b[39madd_instance(name, external(info, packages_path\u001b[39m=\u001b[39;49mpackages_path,\n\u001b[1;32m    243\u001b[0m                                      timing\u001b[39m=\u001b[39;49mtiming, standalone\u001b[39m=\u001b[39;49m\u001b[39mFalse\u001b[39;49;00m,\n\u001b[1;32m    244\u001b[0m                                      name\u001b[39m=\u001b[39;49mname))\n\u001b[1;32m    245\u001b[0m \u001b[39melse\u001b[39;00m:\n\u001b[1;32m    246\u001b[0m     \u001b[39m# If it has an \"external\" key, wrap it up. Else, load it up\u001b[39;00m\n\u001b[1;32m    247\u001b[0m     \u001b[39mself\u001b[39m\u001b[39m.\u001b[39madd_instance(name, LikelihoodExternalFunction(info, name,\n\u001b[1;32m    248\u001b[0m                                                        timing\u001b[39m=\u001b[39mtiming))\n",
      "File \u001b[0;32m~/anaconda3/envs/cloe/lib/python3.9/site-packages/cobaya/likelihood.py:89\u001b[0m, in \u001b[0;36mLikelihood.__init__\u001b[0;34m(self, info, name, timing, packages_path, initialize, standalone)\u001b[0m\n\u001b[1;32m     83\u001b[0m \u001b[39mdef\u001b[39;00m \u001b[39m__init__\u001b[39m(\u001b[39mself\u001b[39m, info: LikeDictIn \u001b[39m=\u001b[39m empty_dict,\n\u001b[1;32m     84\u001b[0m              name: Optional[\u001b[39mstr\u001b[39m] \u001b[39m=\u001b[39m \u001b[39mNone\u001b[39;00m,\n\u001b[1;32m     85\u001b[0m              timing: Optional[\u001b[39mbool\u001b[39m] \u001b[39m=\u001b[39m \u001b[39mNone\u001b[39;00m,\n\u001b[1;32m     86\u001b[0m              packages_path: Optional[\u001b[39mstr\u001b[39m] \u001b[39m=\u001b[39m \u001b[39mNone\u001b[39;00m,\n\u001b[1;32m     87\u001b[0m              initialize\u001b[39m=\u001b[39m\u001b[39mTrue\u001b[39;00m, standalone\u001b[39m=\u001b[39m\u001b[39mTrue\u001b[39;00m):\n\u001b[1;32m     88\u001b[0m     \u001b[39mself\u001b[39m\u001b[39m.\u001b[39mdelay \u001b[39m=\u001b[39m \u001b[39m0\u001b[39m\n\u001b[0;32m---> 89\u001b[0m     \u001b[39msuper\u001b[39;49m()\u001b[39m.\u001b[39;49m\u001b[39m__init__\u001b[39;49m(info, name\u001b[39m=\u001b[39;49mname, timing\u001b[39m=\u001b[39;49mtiming,\n\u001b[1;32m     90\u001b[0m                      packages_path\u001b[39m=\u001b[39;49mpackages_path, initialize\u001b[39m=\u001b[39;49minitialize,\n\u001b[1;32m     91\u001b[0m                      standalone\u001b[39m=\u001b[39;49mstandalone)\n",
      "File \u001b[0;32m~/anaconda3/envs/cloe/lib/python3.9/site-packages/cobaya/theory.py:65\u001b[0m, in \u001b[0;36mTheory.__init__\u001b[0;34m(self, info, name, timing, packages_path, initialize, standalone)\u001b[0m\n\u001b[1;32m     59\u001b[0m \u001b[39mdef\u001b[39;00m \u001b[39m__init__\u001b[39m(\u001b[39mself\u001b[39m, info: TheoryDictIn \u001b[39m=\u001b[39m empty_dict,\n\u001b[1;32m     60\u001b[0m              name: Optional[\u001b[39mstr\u001b[39m] \u001b[39m=\u001b[39m \u001b[39mNone\u001b[39;00m, timing: Optional[\u001b[39mbool\u001b[39m] \u001b[39m=\u001b[39m \u001b[39mNone\u001b[39;00m,\n\u001b[1;32m     61\u001b[0m              packages_path: Optional[\u001b[39mstr\u001b[39m] \u001b[39m=\u001b[39m \u001b[39mNone\u001b[39;00m,\n\u001b[1;32m     62\u001b[0m              initialize\u001b[39m=\u001b[39m\u001b[39mTrue\u001b[39;00m, standalone\u001b[39m=\u001b[39m\u001b[39mTrue\u001b[39;00m):\n\u001b[1;32m     64\u001b[0m     \u001b[39mself\u001b[39m\u001b[39m.\u001b[39m_measured_speed \u001b[39m=\u001b[39m \u001b[39mNone\u001b[39;00m\n\u001b[0;32m---> 65\u001b[0m     \u001b[39msuper\u001b[39;49m()\u001b[39m.\u001b[39;49m\u001b[39m__init__\u001b[39;49m(info, name\u001b[39m=\u001b[39;49mname, timing\u001b[39m=\u001b[39;49mtiming,\n\u001b[1;32m     66\u001b[0m                      packages_path\u001b[39m=\u001b[39;49mpackages_path, initialize\u001b[39m=\u001b[39;49minitialize,\n\u001b[1;32m     67\u001b[0m                      standalone\u001b[39m=\u001b[39;49mstandalone)\n\u001b[1;32m     69\u001b[0m     \u001b[39m# set to Provider instance before calculations\u001b[39;00m\n\u001b[1;32m     70\u001b[0m     \u001b[39mself\u001b[39m\u001b[39m.\u001b[39mprovider: Any \u001b[39m=\u001b[39m \u001b[39mNone\u001b[39;00m\n",
      "File \u001b[0;32m~/anaconda3/envs/cloe/lib/python3.9/site-packages/cobaya/component.py:325\u001b[0m, in \u001b[0;36mCobayaComponent.__init__\u001b[0;34m(self, info, name, timing, packages_path, initialize, standalone)\u001b[0m\n\u001b[1;32m    323\u001b[0m \u001b[39mtry\u001b[39;00m:\n\u001b[1;32m    324\u001b[0m     \u001b[39mif\u001b[39;00m initialize:\n\u001b[0;32m--> 325\u001b[0m         \u001b[39mself\u001b[39;49m\u001b[39m.\u001b[39;49minitialize()\n\u001b[1;32m    326\u001b[0m \u001b[39mexcept\u001b[39;00m \u001b[39mAttributeError\u001b[39;00m \u001b[39mas\u001b[39;00m e:\n\u001b[1;32m    327\u001b[0m     \u001b[39mif\u001b[39;00m \u001b[39m'\u001b[39m\u001b[39m_params\u001b[39m\u001b[39m'\u001b[39m \u001b[39min\u001b[39;00m \u001b[39mstr\u001b[39m(e):\n",
      "File \u001b[0;32m~/CosmoProjects/EuclidIST/ISTL/BNT-likelihood-implementation/cloe/cobaya_interface.py:98\u001b[0m, in \u001b[0;36mEuclidLikelihood.initialize\u001b[0;34m(self)\u001b[0m\n\u001b[1;32m     95\u001b[0m \u001b[39mself\u001b[39m\u001b[39m.\u001b[39mcosmo\u001b[39m.\u001b[39mcosmo_dic[\u001b[39m'\u001b[39m\u001b[39mobs_selection\u001b[39m\u001b[39m'\u001b[39m] \u001b[39m=\u001b[39m \u001b[39mself\u001b[39m\u001b[39m.\u001b[39mobservables[\u001b[39m'\u001b[39m\u001b[39mselection\u001b[39m\u001b[39m'\u001b[39m]\n\u001b[1;32m     97\u001b[0m \u001b[39m# Initialize the fiducial model\u001b[39;00m\n\u001b[0;32m---> 98\u001b[0m \u001b[39mself\u001b[39;49m\u001b[39m.\u001b[39;49mset_fiducial_cosmology()\n\u001b[1;32m     99\u001b[0m \u001b[39m# Here we add the fiducial angular diameter distance and Hubble factor\u001b[39;00m\n\u001b[1;32m    100\u001b[0m \u001b[39m# to the cosmo dictionary. In this way we can avoid passing the whole\u001b[39;00m\n\u001b[1;32m    101\u001b[0m \u001b[39m# fiducial dictionary\u001b[39;00m\n\u001b[1;32m    102\u001b[0m \u001b[39mself\u001b[39m\u001b[39m.\u001b[39mcosmo\u001b[39m.\u001b[39mcosmo_dic[\u001b[39m'\u001b[39m\u001b[39mfid_d_z_func\u001b[39m\u001b[39m'\u001b[39m] \u001b[39m=\u001b[39m \\\n\u001b[1;32m    103\u001b[0m     \u001b[39mself\u001b[39m\u001b[39m.\u001b[39mfiducial_cosmology\u001b[39m.\u001b[39mcosmo_dic[\u001b[39m'\u001b[39m\u001b[39md_z_func\u001b[39m\u001b[39m'\u001b[39m]\n",
      "File \u001b[0;32m~/CosmoProjects/EuclidIST/ISTL/BNT-likelihood-implementation/cloe/cobaya_interface.py:127\u001b[0m, in \u001b[0;36mEuclidLikelihood.set_fiducial_cosmology\u001b[0;34m(self)\u001b[0m\n\u001b[1;32m    124\u001b[0m \u001b[39mself\u001b[39m\u001b[39m.\u001b[39mfiducial_cosmology \u001b[39m=\u001b[39m Cosmology()\n\u001b[1;32m    125\u001b[0m \u001b[39m# Update fiducial cosmo dic with fiducial info from reader\u001b[39;00m\n\u001b[1;32m    126\u001b[0m \u001b[39mself\u001b[39m\u001b[39m.\u001b[39mfiducial_cosmology\u001b[39m.\u001b[39mcosmo_dic\u001b[39m.\u001b[39mupdate(\n\u001b[0;32m--> 127\u001b[0m     \u001b[39mself\u001b[39;49m\u001b[39m.\u001b[39;49mlikefinal\u001b[39m.\u001b[39mdata_spectro_fiducial_cosmo)\n\u001b[1;32m    128\u001b[0m \u001b[39mself\u001b[39m\u001b[39m.\u001b[39minfo_fiducial \u001b[39m=\u001b[39m {\n\u001b[1;32m    129\u001b[0m     \u001b[39m'\u001b[39m\u001b[39mparams\u001b[39m\u001b[39m'\u001b[39m: {\n\u001b[1;32m    130\u001b[0m         \u001b[39mself\u001b[39m\u001b[39m.\u001b[39mpnames[\u001b[39m'\u001b[39m\u001b[39mombh2\u001b[39m\u001b[39m'\u001b[39m]:\n\u001b[0;32m   (...)\u001b[0m\n\u001b[1;32m    154\u001b[0m     }\n\u001b[1;32m    155\u001b[0m }\n\u001b[1;32m    156\u001b[0m \u001b[39mif\u001b[39;00m \u001b[39mself\u001b[39m\u001b[39m.\u001b[39msolver \u001b[39m==\u001b[39m \u001b[39m'\u001b[39m\u001b[39mcamb\u001b[39m\u001b[39m'\u001b[39m:\n",
      "\u001b[0;31mAttributeError\u001b[0m: 'EuclidLikelihood' object has no attribute 'likefinal'"
     ]
    }
   ],
   "source": [
    "# Import Cobaya run function\n",
    "from cobaya.run import run\n",
    "import matplotlib\n",
    "matplotlib.rcParams['text.usetex'] = False\n",
    "\n",
    "# Let's run Cobaya\n",
    "# the function run returns\n",
    "# info_updated: an information dictionary updated with the defaults, \n",
    "# equivalent to the updated yaml file produced by the shell invocation\n",
    "# samples: a sampler object, with a sampler.products() \n",
    "# being a dictionary of results. \n",
    "# For the mcmc sampler, the dictionary contains only one chain under the key sample.\n",
    "\n",
    "info_updated, samples = run(info)"
   ]
  },
  {
   "cell_type": "markdown",
   "metadata": {},
   "source": [
    "**Explanation of the printed output by Cobaya**: \n",
    "- output: it tells details about the output\n",
    "- Prior: it shows the values sampled by the prior. In this case, our parameters of interest are all fixed so Cobaya reminds that.\n",
    "- CAMB: it calls the theory code you wanted to use (CAMB/CLASS, in this case, CAMB, and where it is installed).\n",
    "\n",
    "You see these outputs repeated twice because the CLOE calls `Cobaya` internally twice, within the EuclidLikelihood, to calculate the fiducial cosmology.\n",
    "- evaluate: the 'evaluate' sampler gets initialized, looks for a point and evaluates the posterior.\n",
    "\n",
    "Note that since the option timing is True in the info dictionary, Cobaya tells you how much time it took to compute the likelihood (euclid) and CAMB"
   ]
  },
  {
   "cell_type": "markdown",
   "metadata": {},
   "source": [
    "# Case 2: Run `Cobaya model` with Euclid-Likelihood as external likelihood \n",
    "\n",
    "**User-case**: the analysis tool `Cobaya` has a wrapper of its `evaluate` sampler (the one executed in CASE 1), called `model`, that allows to:\n",
    "\n",
    "* make an evaluation in a single point of prior, likelihood and posterior distributions\n",
    "* retrieve derived parameters and other quantities\n",
    "\n",
    "The `model` wrapper is useful for debugging as well (i.e: imagine you are running a MCMC sampling to find the best-fit values of a given model, and the MCMC chains get stuck for unknown reasons). With the `model`, you can investigate what is going on internally in `Cobaya` at each step of the sampling algorithm.\n",
    "\n",
    "Moreover, our EuclidLikelihood code, which is designed to work as an external likelihood code for `Cobaya` relies on this `model` wrapper to make the connection between `Cobaya`, the likelihood calculation and the computation of the theoretical predictions (see **CASE 2.1** for further information).\n",
    "\n",
    "In this **CASE 2**, we will see how to activate the `model` wrapper, how to use it and how to understand the output it provides."
   ]
  },
  {
   "cell_type": "code",
   "execution_count": 11,
   "metadata": {},
   "outputs": [
    {
     "name": "stdout",
     "output_type": "stream",
     "text": [
      "[model] *WARNING* Ignored blocks/options: ['sampler', 'output', 'force']\n",
      "[camb] `camb` module loaded successfully from /home/santiago/anaconda3/envs/cloe/lib/python3.9/site-packages/camb\n"
     ]
    },
    {
     "data": {
      "image/png": "[encoded data removed]",
      "text/plain": [
       "<Figure size 640x480 with 2 Axes>"
      ]
     },
     "metadata": {},
     "output_type": "display_data"
    },
    {
     "name": "stdout",
     "output_type": "stream",
     "text": [
      "[camb] `camb` module loaded successfully from /home/santiago/anaconda3/envs/cloe/lib/python3.9/site-packages/camb\n",
      "[model] *WARNING* Theories {camb.transfers, camb} do not appear to be actually used for anything\n"
     ]
    },
    {
     "name": "stderr",
     "output_type": "stream",
     "text": [
      "/home/santiago/CosmoProjects/EuclidIST/ISTL/BNT-likelihood-implementation/cloe/photometric_survey/photo.py:192: UserWarning: Bessel tables have been set with the specified angular separations. Computing 3x2pt correlation functions at different angles will lead to unexpected outputs.\n",
      "  warnings.warn('Bessel tables have been set with the specified angular '\n"
     ]
    },
    {
     "name": "stdout",
     "output_type": "stream",
     "text": [
      "Time for initialization of the likelihood:  3.7224268913269043\n"
     ]
    }
   ],
   "source": [
    "# First: import model wrapper of Cobaya \n",
    "from cobaya.model import get_model\n",
    "\n",
    "# The `get_model` function of Cobaya imported in the line above needs a yaml or dictionary as an argument\n",
    "# exactly the same as the function `run` in cell 9 also needs.\n",
    "#\n",
    "# We measure the time to give us an estimation of how much time it takes to make the initialization of the\n",
    "# likelihood\n",
    "\n",
    "t1 = time.time()\n",
    "\n",
    "# Second: create an instance of the `model` wrapper called model\n",
    "model = get_model(info)\n",
    "print('Time for initialization of the likelihood: ', time.time()-t1)"
   ]
  },
  {
   "cell_type": "markdown",
   "metadata": {},
   "source": [
    "**Explanation of the printed output by Cobaya**: \n",
    "\n",
    "- Model: it tells you Cobaya is using the `model` wrapper, and it's reading the info dictionary.\n",
    "- Prior: it shows the values sampled by the prior. In this case, our parameters of interest are all fixed so Cobaya reminds that.\n",
    "- CAMB: it calls the theory code you wanted to use (CAMB/CLASS, in this case, CAMB, and where it is installed).\n",
    "\n",
    "You see these outputs repeated twice because the CLOE calls Cobaya internally twice, within the EuclidLikelihood, to calculate the fiducial cosmology.\n",
    "\n",
    "It takes around 10 seconds to initialize the likelihood (reading OU-LE3 data and computing fiducial cosmology) "
   ]
  },
  {
   "cell_type": "markdown",
   "metadata": {},
   "source": [
    "### Functionalities of the `model` wrapper:\n",
    "As mentioned above, we can get an insight of what `Cobaya` is doing using the `model` object. We can ask, for instance:\n",
    " * (1) which quantities were **required** by the likelihood code and asked to the Boltzman solver through `Cobaya`\n",
    " * (2) at which values (i.e: redshift, scales...) those requirements were **requested**.\n",
    " \n",
    "To see how to ask for these quantities, execute the cell below:"
   ]
  },
  {
   "cell_type": "code",
   "execution_count": 12,
   "metadata": {},
   "outputs": [
    {
     "name": "stdout",
     "output_type": "stream",
     "text": [
      "\n",
      " Requirements \n",
      "\n",
      "{'omegam': camb, 'Pk_interpolator': camb, 'comoving_radial_distance': camb, 'angular_diameter_distance': camb, 'Hubble': camb, 'sigma8_z': camb, 'fsigma8': camb, 'omegab': camb, 'omegac': camb, 'omnuh2': camb, 'omeganu': camb, 'CAMB_transfers': camb.transfers}\n",
      "\n",
      " Requested \n",
      "\n",
      "{'camb.transfers': [{'CAMB_transfers':{'non_linear': False, 'needs_perts': False}}, {'CAMB_transfers':{'non_linear': False, 'needs_perts': True}}], 'camb': [{'omegam':None}, {'omegab':None}, {'omeganu':None}, {'omnuh2':None}, {'omegac':None}, {'N_eff':None}, {'Pk_interpolator':{}}, {'comoving_radial_distance':{'z': array([0.        , 0.04040404, 0.08080808, 0.12121212, 0.16161616,\n",
      "       0.2020202 , 0.24242424, 0.28282828, 0.32323232, 0.36363636,\n",
      "       0.4040404 , 0.44444444, 0.48484848, 0.52525253, 0.56565657,\n",
      "       0.60606061, 0.64646465, 0.68686869, 0.72727273, 0.76767677,\n",
      "       0.80808081, 0.84848485, 0.88888889, 0.92929293, 0.96969697,\n",
      "       1.01010101, 1.05050505, 1.09090909, 1.13131313, 1.17171717,\n",
      "       1.21212121, 1.25252525, 1.29292929, 1.33333333, 1.37373737,\n",
      "       1.41414141, 1.45454545, 1.49494949, 1.53535354, 1.57575758,\n",
      "       1.61616162, 1.65656566, 1.6969697 , 1.73737374, 1.77777778,\n",
      "       1.81818182, 1.85858586, 1.8989899 , 1.93939394, 1.97979798,\n",
      "       2.02020202, 2.06060606, 2.1010101 , 2.14141414, 2.18181818,\n",
      "       2.22222222, 2.26262626, 2.3030303 , 2.34343434, 2.38383838,\n",
      "       2.42424242, 2.46464646, 2.50505051, 2.54545455, 2.58585859,\n",
      "       2.62626263, 2.66666667, 2.70707071, 2.74747475, 2.78787879,\n",
      "       2.82828283, 2.86868687, 2.90909091, 2.94949495, 2.98989899,\n",
      "       3.03030303, 3.07070707, 3.11111111, 3.15151515, 3.19191919,\n",
      "       3.23232323, 3.27272727, 3.31313131, 3.35353535, 3.39393939,\n",
      "       3.43434343, 3.47474747, 3.51515152, 3.55555556, 3.5959596 ,\n",
      "       3.63636364, 3.67676768, 3.71717172, 3.75757576, 3.7979798 ,\n",
      "       3.83838384, 3.87878788, 3.91919192, 3.95959596, 4.        ])}}, {'angular_diameter_distance':{'z': array([0.        , 0.04040404, 0.08080808, 0.12121212, 0.16161616,\n",
      "       0.2020202 , 0.24242424, 0.28282828, 0.32323232, 0.36363636,\n",
      "       0.4040404 , 0.44444444, 0.48484848, 0.52525253, 0.56565657,\n",
      "       0.60606061, 0.64646465, 0.68686869, 0.72727273, 0.76767677,\n",
      "       0.80808081, 0.84848485, 0.88888889, 0.92929293, 0.96969697,\n",
      "       1.01010101, 1.05050505, 1.09090909, 1.13131313, 1.17171717,\n",
      "       1.21212121, 1.25252525, 1.29292929, 1.33333333, 1.37373737,\n",
      "       1.41414141, 1.45454545, 1.49494949, 1.53535354, 1.57575758,\n",
      "       1.61616162, 1.65656566, 1.6969697 , 1.73737374, 1.77777778,\n",
      "       1.81818182, 1.85858586, 1.8989899 , 1.93939394, 1.97979798,\n",
      "       2.02020202, 2.06060606, 2.1010101 , 2.14141414, 2.18181818,\n",
      "       2.22222222, 2.26262626, 2.3030303 , 2.34343434, 2.38383838,\n",
      "       2.42424242, 2.46464646, 2.50505051, 2.54545455, 2.58585859,\n",
      "       2.62626263, 2.66666667, 2.70707071, 2.74747475, 2.78787879,\n",
      "       2.82828283, 2.86868687, 2.90909091, 2.94949495, 2.98989899,\n",
      "       3.03030303, 3.07070707, 3.11111111, 3.15151515, 3.19191919,\n",
      "       3.23232323, 3.27272727, 3.31313131, 3.35353535, 3.39393939,\n",
      "       3.43434343, 3.47474747, 3.51515152, 3.55555556, 3.5959596 ,\n",
      "       3.63636364, 3.67676768, 3.71717172, 3.75757576, 3.7979798 ,\n",
      "       3.83838384, 3.87878788, 3.91919192, 3.95959596, 4.        ])}}, {'Hubble':{'z': array([0.        , 0.04040404, 0.08080808, 0.12121212, 0.16161616,\n",
      "       0.2020202 , 0.24242424, 0.28282828, 0.32323232, 0.36363636,\n",
      "       0.4040404 , 0.44444444, 0.48484848, 0.52525253, 0.56565657,\n",
      "       0.60606061, 0.64646465, 0.68686869, 0.72727273, 0.76767677,\n",
      "       0.80808081, 0.84848485, 0.88888889, 0.92929293, 0.96969697,\n",
      "       1.01010101, 1.05050505, 1.09090909, 1.13131313, 1.17171717,\n",
      "       1.21212121, 1.25252525, 1.29292929, 1.33333333, 1.37373737,\n",
      "       1.41414141, 1.45454545, 1.49494949, 1.53535354, 1.57575758,\n",
      "       1.61616162, 1.65656566, 1.6969697 , 1.73737374, 1.77777778,\n",
      "       1.81818182, 1.85858586, 1.8989899 , 1.93939394, 1.97979798,\n",
      "       2.02020202, 2.06060606, 2.1010101 , 2.14141414, 2.18181818,\n",
      "       2.22222222, 2.26262626, 2.3030303 , 2.34343434, 2.38383838,\n",
      "       2.42424242, 2.46464646, 2.50505051, 2.54545455, 2.58585859,\n",
      "       2.62626263, 2.66666667, 2.70707071, 2.74747475, 2.78787879,\n",
      "       2.82828283, 2.86868687, 2.90909091, 2.94949495, 2.98989899,\n",
      "       3.03030303, 3.07070707, 3.11111111, 3.15151515, 3.19191919,\n",
      "       3.23232323, 3.27272727, 3.31313131, 3.35353535, 3.39393939,\n",
      "       3.43434343, 3.47474747, 3.51515152, 3.55555556, 3.5959596 ,\n",
      "       3.63636364, 3.67676768, 3.71717172, 3.75757576, 3.7979798 ,\n",
      "       3.83838384, 3.87878788, 3.91919192, 3.95959596, 4.        ]), 'units': 'km/s/Mpc'}}, {'sigma8_z':{'z': array([0.        , 0.04040404, 0.08080808, 0.12121212, 0.16161616,\n",
      "       0.2020202 , 0.24242424, 0.28282828, 0.32323232, 0.36363636,\n",
      "       0.4040404 , 0.44444444, 0.48484848, 0.52525253, 0.56565657,\n",
      "       0.60606061, 0.64646465, 0.68686869, 0.72727273, 0.76767677,\n",
      "       0.80808081, 0.84848485, 0.88888889, 0.92929293, 0.96969697,\n",
      "       1.01010101, 1.05050505, 1.09090909, 1.13131313, 1.17171717,\n",
      "       1.21212121, 1.25252525, 1.29292929, 1.33333333, 1.37373737,\n",
      "       1.41414141, 1.45454545, 1.49494949, 1.53535354, 1.57575758,\n",
      "       1.61616162, 1.65656566, 1.6969697 , 1.73737374, 1.77777778,\n",
      "       1.81818182, 1.85858586, 1.8989899 , 1.93939394, 1.97979798,\n",
      "       2.02020202, 2.06060606, 2.1010101 , 2.14141414, 2.18181818,\n",
      "       2.22222222, 2.26262626, 2.3030303 , 2.34343434, 2.38383838,\n",
      "       2.42424242, 2.46464646, 2.50505051, 2.54545455, 2.58585859,\n",
      "       2.62626263, 2.66666667, 2.70707071, 2.74747475, 2.78787879,\n",
      "       2.82828283, 2.86868687, 2.90909091, 2.94949495, 2.98989899,\n",
      "       3.03030303, 3.07070707, 3.11111111, 3.15151515, 3.19191919,\n",
      "       3.23232323, 3.27272727, 3.31313131, 3.35353535, 3.39393939,\n",
      "       3.43434343, 3.47474747, 3.51515152, 3.55555556, 3.5959596 ,\n",
      "       3.63636364, 3.67676768, 3.71717172, 3.75757576, 3.7979798 ,\n",
      "       3.83838384, 3.87878788, 3.91919192, 3.95959596, 4.        ])}}, {'fsigma8':{'z': array([0.        , 0.04040404, 0.08080808, 0.12121212, 0.16161616,\n",
      "       0.2020202 , 0.24242424, 0.28282828, 0.32323232, 0.36363636,\n",
      "       0.4040404 , 0.44444444, 0.48484848, 0.52525253, 0.56565657,\n",
      "       0.60606061, 0.64646465, 0.68686869, 0.72727273, 0.76767677,\n",
      "       0.80808081, 0.84848485, 0.88888889, 0.92929293, 0.96969697,\n",
      "       1.01010101, 1.05050505, 1.09090909, 1.13131313, 1.17171717,\n",
      "       1.21212121, 1.25252525, 1.29292929, 1.33333333, 1.37373737,\n",
      "       1.41414141, 1.45454545, 1.49494949, 1.53535354, 1.57575758,\n",
      "       1.61616162, 1.65656566, 1.6969697 , 1.73737374, 1.77777778,\n",
      "       1.81818182, 1.85858586, 1.8989899 , 1.93939394, 1.97979798,\n",
      "       2.02020202, 2.06060606, 2.1010101 , 2.14141414, 2.18181818,\n",
      "       2.22222222, 2.26262626, 2.3030303 , 2.34343434, 2.38383838,\n",
      "       2.42424242, 2.46464646, 2.50505051, 2.54545455, 2.58585859,\n",
      "       2.62626263, 2.66666667, 2.70707071, 2.74747475, 2.78787879,\n",
      "       2.82828283, 2.86868687, 2.90909091, 2.94949495, 2.98989899,\n",
      "       3.03030303, 3.07070707, 3.11111111, 3.15151515, 3.19191919,\n",
      "       3.23232323, 3.27272727, 3.31313131, 3.35353535, 3.39393939,\n",
      "       3.43434343, 3.47474747, 3.51515152, 3.55555556, 3.5959596 ,\n",
      "       3.63636364, 3.67676768, 3.71717172, 3.75757576, 3.7979798 ,\n",
      "       3.83838384, 3.87878788, 3.91919192, 3.95959596, 4.        ]), 'units': None}}]}\n"
     ]
    }
   ],
   "source": [
    "# (1) Requirements needed by the likelihood code.\n",
    "# That means, which quantities are we asking to the Boltzman (CAMB/CLASS) through Cobaya?\n",
    "print('\\n Requirements \\n')\n",
    "print(model.provider.requirement_providers)\n",
    "# (2) At which values have the requirements been requested (redshift, scales...)?\n",
    "print('\\n Requested \\n')\n",
    "print(model.requested())"
   ]
  },
  {
   "cell_type": "code",
   "execution_count": 13,
   "metadata": {},
   "outputs": [],
   "source": [
    "#print(model.provider.requirement_providers)"
   ]
  },
  {
   "cell_type": "markdown",
   "metadata": {},
   "source": [
    "* (3) With the `model` wrapper you can also make an evaluation of the prior, likelihood and posterior distributions\n",
    "\n",
    "ATTENTION: we initialized the `model` wrapper by reading the `info` dictionary above. This `info` dictionary has almost all the parameters of interest fixed (the only sampled parameters is $n_s$). Therefore, to make an evaluation of the probability distributions (priors, likelihoods and posterior), you need:\n",
    "\n",
    "* First: get a point of the sampled parameters from the prior distribution \n",
    "* Second: pass this point to the logposterior method\n",
    "\n",
    "See comments in the cell below to understand how to retrieve the values of these distributions."
   ]
  },
  {
   "cell_type": "code",
   "execution_count": 14,
   "metadata": {},
   "outputs": [
    {
     "name": "stdout",
     "output_type": "stream",
     "text": [
      "Time to compute the logposterior:  2.834418773651123\n",
      "Full log-posterior:\n",
      "   logposterior: -0.000191232\n",
      "   logpriors: {'0': 0.0}\n",
      "   loglikelihoods: {'Euclid': -0.00019123219784580826}\n",
      "   derived params: {'omegam': 0.32000015392946796, 'omegab': 0.04999999999999999, 'omeganu': 0.0014371539294679853, 'omnuh2': 0.0006451383989381787, 'omegac': 0.26856299999999994, 'N_eff': 3.0460000000000003}\n"
     ]
    }
   ],
   "source": [
    "# At the moment, we are sampling only ns\n",
    "# if there are sampled parameters, we need first to obtain a value from the prior\n",
    "# i.e: (FIRST)\n",
    "#point = dict(zip(model.parameterization.sampled_params(),\n",
    "#                 model.prior.sample(ignore_external=True)[0]))\n",
    "t1 = time.time()\n",
    "# (3) Make a computation of the logposterior on that point\n",
    "#logposterior = model.logposterior(point)\n",
    "logposterior = model.logposterior({})\n",
    "# If there were no sampled parameters, you can simply do\n",
    "#logposterior = model.logposterior({})\n",
    "t2 = time.time()\n",
    "\n",
    "# Note that we are measuring the time for illustration purposes only.\n",
    "\n",
    "print('Time to compute the logposterior: ', t2-t1)\n",
    "print('Full log-posterior:')\n",
    "print('   logposterior: %g' % logposterior.logpost)\n",
    "print('   logpriors: %r' % dict(zip(list(model.prior), logposterior.logpriors)))\n",
    "print('   loglikelihoods: %r' % dict(zip(list(model.likelihood), logposterior.loglikes)))\n",
    "print('   derived params: %r' % dict(zip(list(model.parameterization.derived_params()), logposterior.derived)))"
   ]
  },
  {
   "cell_type": "markdown",
   "metadata": {},
   "source": [
    "# Case 2.1: EuclidLikelihood package\n",
    "\n",
    "**User-case**: this case allows the user to go one level deeper down into the CLOE code, so that the user can retrieve and plot:\n",
    "\n",
    "* Benchmark data used as mock data during the calculation of the likelihood. For instance:\n",
    "    * $n(z)$: galaxy density distributions\n",
    "* Cosmological quantities provided by the Boltzman solver through `Cobaya`. For example:\n",
    "    * $H(z)$: Hubble factor\n",
    "    * $r(z)$, $D_A$: comoving and angular diameter distances\n",
    "    * $\\sigma_8$, $f\\sigma_8$: amplitude of the (linear) power spectrum on the scale of 8 $h^{-1} Mpc$, and the product of the growth rate times the amplitude of the power spectrum at that same scale.\n",
    "* Internal cosmological quantities computed by the EuclidLikelihood package itself:\n",
    "    * $D(z)$, $f(z)$: growth factor and growth rate\n",
    "    * $P_m, P_{gg}, P_{g\\delta}, P_{\\delta i}, P_{gi}, P_{ii}$: matter power spectrum obtained by the Boltzman solver by `Cobaya` and different power spectra\n",
    "* Theoretical predictions of the photometric and spectroscopic observables\n",
    "    * $W_i^{GC}, W_i^{\\gamma}, W_i^{IA}$: window functions or kernel for Galaxy Clustering (GC), Shear ($\\gamma$) and Intrinsic Alignment.\n",
    "    * $C_\\ell$: angular power spectra\n",
    "    * $P_\\ell$: Legendre multiples\n",
    "* computation of the $\\chi^2$\n",
    "\n",
    "To be able to access all these quantities and get a grasp of what EuclidLikelihood actually does, **you need to have loaded an instance of the `model` wrapper of Cobaya (explained in CASE 2)**. In reality, what we are doing in this **CASE 2.1** is to reproduce the steps that are done internally by `Cobaya` at each step of the sampling procedure within the file `cobaya_interface.py` of the likelihood package. Therefore, understanding **CASE 2.1** will also help the user to understand the details of the EuclidLikelihood source code and structure.\n",
    "\n"
   ]
  },
  {
   "cell_type": "code",
   "execution_count": 15,
   "metadata": {},
   "outputs": [
    {
     "name": "stderr",
     "output_type": "stream",
     "text": [
      "/home/santiago/CosmoProjects/EuclidIST/ISTL/BNT-likelihood-implementation/cloe/auxiliary/observables_dealer.py:68: UserWarning: Attention: CLOE only computes cross-correlations for the photometric survey!\n",
      "  warnings.warn(\n",
      "/home/santiago/CosmoProjects/EuclidIST/ISTL/BNT-likelihood-implementation/cloe/auxiliary/observables_dealer.py:71: UserWarning: Entries ['WL']['GCphot'] and ['GCphot']['GCspec'] are changed to False.\n",
      "  warnings.warn(\n"
     ]
    },
    {
     "name": "stdout",
     "output_type": "stream",
     "text": [
      "[camb] `camb` module loaded successfully from /home/santiago/anaconda3/envs/cloe/lib/python3.9/site-packages/camb\n",
      "[model] *WARNING* Theories {camb.transfers, camb} do not appear to be actually used for anything\n",
      "[camb] `camb` module loaded successfully from /home/santiago/anaconda3/envs/cloe/lib/python3.9/site-packages/camb\n",
      "[model] *WARNING* Theories {camb.transfers, camb} do not appear to be actually used for anything\n",
      "\n",
      "Keys of the cosmo_dic: \n",
      " ['H0', 'omch2', 'ombh2', 'omnuh2', 'Omnu', 'Omk', 'Omm', 'Omc', 'Omb', 'w', 'wa', 'gamma_MG', 'mnu', 'tau', 'nnu', 'ns', 'As', 'sigma8_0', 'c', 'MG_mu', 'MG_sigma', 'z_win', 'k_win', 'comov_dist', 'angular_dist', 'H', 'H_Mpc', 'fsigma8', 'sigma8', 'D_z_k', 'Pk_delta', 'Pk_halofit', 'Pk_weyl', 'Pk_weyl_NL', 'Pmm_phot', 'Pgg_phot', 'Pgdelta_phot', 'Pgg_spectro', 'Pgdelta_spectro', 'Pii', 'Pdeltai', 'Pgi_phot', 'Pgi_spectro', 'r_z_func', 'z_r_func', 'f_K_z_func', '_f_K_z12_func', 'f_K_z12_func', 'd_z_func', 'H_z_func', 'H_z_func_Mpc', 'D_z_k_func', 'sigma8_z_func', 'fsigma8_z_func', 'f_z', 'luminosity_ratio_z_func', 'NL_boost', 'NL_flag', 'use_gamma_MG', 'f_out_z_dep', 'nuisance_parameters', 'H0_Mpc', 'fid_d_z_func', 'fid_H_z_func', 'redshift_bins', 'add_phot_RSD', 'matrix_transform_phot', 'b_inter']\n",
      "\n",
      "Keys of the nuisance params within cosmo_dic: \n",
      " ['b1_photo', 'b2_photo', 'b3_photo', 'b4_photo', 'b5_photo', 'b6_photo', 'b7_photo', 'b8_photo', 'b9_photo', 'b10_photo', 'b1_spectro', 'b2_spectro', 'b3_spectro', 'b4_spectro', 'aia', 'nia', 'bia', 'multiplicative_bias_1', 'multiplicative_bias_2', 'multiplicative_bias_3', 'multiplicative_bias_4', 'multiplicative_bias_5', 'multiplicative_bias_6', 'multiplicative_bias_7', 'multiplicative_bias_8', 'multiplicative_bias_9', 'multiplicative_bias_10', 'magnification_bias_1', 'magnification_bias_2', 'magnification_bias_3', 'magnification_bias_4', 'magnification_bias_5', 'magnification_bias_6', 'magnification_bias_7', 'magnification_bias_8', 'magnification_bias_9', 'magnification_bias_10', 'f_out', 'f_out_1', 'f_out_2', 'f_out_3', 'f_out_4', 'dz_2_GCphot', 'dz_2_WL', 'dz_7_WL', 'dz_9_WL', 'dz_6_WL', 'dz_5_WL', 'dz_10_WL', 'dz_3_WL', 'dz_8_GCphot', 'dz_1_GCphot', 'dz_4_GCphot', 'dz_3_GCphot', 'dz_8_WL', 'omk', 'dz_9_GCphot', 'dz_6_GCphot', 'dz_1_WL', 'dz_7_GCphot', 'dz_5_GCphot', 'dz_10_GCphot', 'dz_4_WL']\n"
     ]
    }
   ],
   "source": [
    "# Create an instance of the class EuclidLikelihood\n",
    "like = EuclidLikelihood()\n",
    "\n",
    "# Initialize default parameters for redshift, k-array, fiducial cosmology...\n",
    "like.initialize()\n",
    "\n",
    "# Get the cosmo_dictionary where all the cosmology + theory parameters are saved\n",
    "# ATTENTION: as explained above, you need to pass the `cobaya wrapper model` initialized \n",
    "# in CASE 2 as an argument of the function, as well as the parameters of your theory.\n",
    "# In CASE 1, when only Cobaya run is used, it creates internally this `model` instance itself\n",
    "like.passing_requirements(model, info, **model.provider.params)\n",
    "\n",
    "# Update the cosmology dictionary with interpolators + basic quantities such as\n",
    "# P_gg, P_delta...\n",
    "like.cosmo.update_cosmo_dic(like.cosmo.cosmo_dic['z_win'], 0.05)\n",
    "\n",
    "# Show what the cosmo_dic actually contains\n",
    "print('\\nKeys of the cosmo_dic: \\n', list(like.cosmo.cosmo_dic.keys()))\n",
    "print('\\nKeys of the nuisance params within cosmo_dic: \\n', list(like.cosmo.cosmo_dic['nuisance_parameters'].keys()))"
   ]
  },
  {
   "cell_type": "code",
   "execution_count": 16,
   "metadata": {},
   "outputs": [
    {
     "name": "stdout",
     "output_type": "stream",
     "text": [
      "loglike:  -11842.462681087722\n"
     ]
    }
   ],
   "source": [
    "# You can also access the quantities of the euclike module as follows:\n",
    "# This function will return the loglike\n",
    "loglike = like.likefinal.loglike(like.cosmo.cosmo_dic)\n",
    "# This loglike agrees with the one read by Cobaya if the Likelihood external code works fine\n",
    "print('loglike: ', loglike)"
   ]
  },
  {
   "cell_type": "code",
   "execution_count": null,
   "metadata": {},
   "outputs": [],
   "source": [
    "info"
   ]
  },
  {
   "cell_type": "code",
   "execution_count": null,
   "metadata": {},
   "outputs": [],
   "source": [
    "like.cosmo.cosmo_dic"
   ]
  },
  {
   "cell_type": "code",
   "execution_count": null,
   "metadata": {},
   "outputs": [],
   "source": [
    "# After the computation of the chi2, you can access the following quantities of the euclike module\n",
    "print('\\nList of attributes of the euclike object: \\n', list(vars(like.likefinal)))"
   ]
  },
  {
   "cell_type": "code",
   "execution_count": null,
   "metadata": {},
   "outputs": [],
   "source": [
    "# To print, for instance, the mean of the redshift bins used in the computation\n",
    "print(like.likefinal.zkeys)"
   ]
  },
  {
   "cell_type": "markdown",
   "metadata": {},
   "source": [
    "### Plot internal quantities and cosmological observables"
   ]
  },
  {
   "cell_type": "code",
   "execution_count": null,
   "metadata": {},
   "outputs": [],
   "source": [
    "plt.rc('xtick',labelsize=20)\n",
    "plt.rc('ytick',labelsize=20)\n",
    "plt.rc('font',size=20)\n",
    "plt.rc('axes', titlesize=25)\n",
    "plt.rc('axes', labelsize=20)\n",
    "plt.rc('lines', linewidth=3)\n",
    "plt.rc('lines', markersize=6)\n",
    "plt.rc('legend', fontsize=20)"
   ]
  },
  {
   "cell_type": "code",
   "execution_count": null,
   "metadata": {
    "scrolled": false
   },
   "outputs": [],
   "source": [
    "# Let's plot the background quantities of cosmo_dic\n",
    "# See http://pf-ist-likelihood.pages.euclid-sgs.uk/likelihood-implementation/likelihood.cosmo.cosmology.html\n",
    "# for extra information\n",
    "\n",
    "fig, axs = plt.subplots(2, 2, figsize=(13,10))\n",
    "for ax in axs.flatten():\n",
    "    ax.tick_params(axis='both',which='both',direction='in')\n",
    "fig.suptitle('Background quantities')\n",
    "axs[0, 0].plot(like.cosmo.cosmo_dic['z_win'], like.cosmo.cosmo_dic['H_z_func'](like.cosmo.cosmo_dic['z_win']))\n",
    "axs[0, 0].set_xlabel(r'$z$')\n",
    "axs[0, 0].set_ylabel(r'$H(z)$ $\\left[ \\frac{\\rm{km}}{\\rm{s}\\cdot \\rm{Mpc}}\\right]$')\n",
    "axs[0, 1].plot(like.cosmo.cosmo_dic['z_win'], like.cosmo.cosmo_dic['d_z_func'](like.cosmo.cosmo_dic['z_win']),\n",
    "              label = r'$D_{\\rm{A}}(z)$ $[\\rm{Mpc}]$')\n",
    "axs[0, 1].plot(like.cosmo.cosmo_dic['z_win'], like.cosmo.cosmo_dic['r_z_func'](like.cosmo.cosmo_dic['z_win']), '--',\n",
    "              label = r'$r(z)$')\n",
    "axs[0, 1].set_xlabel(r'$z$')\n",
    "axs[0, 1].legend(frameon=False)\n",
    "axs[1, 0].plot(like.cosmo.cosmo_dic['z_win'], like.cosmo.cosmo_dic['sigma8_z_func'](like.cosmo.cosmo_dic['z_win']),\n",
    "              label = r'$\\sigma_8(z)$')\n",
    "axs[1, 0].plot(like.cosmo.cosmo_dic['z_win'], like.cosmo.cosmo_dic['fsigma8_z_func'](like.cosmo.cosmo_dic['z_win']),\n",
    "              '--', label = r'$f\\sigma_8(z)$')\n",
    "axs[1, 0].set_xlabel(r'$z$')\n",
    "axs[1, 0].legend(frameon=False)\n",
    "axs[1, 1].plot(like.cosmo.cosmo_dic['z_win'], like.cosmo.cosmo_dic['D_z_k'],\n",
    "              label = r'$D(z)$')\n",
    "axs[1, 1].plot(like.cosmo.cosmo_dic['z_win'], \n",
    "               like.cosmo.cosmo_dic['f_z'](like.cosmo.cosmo_dic['z_win']),\n",
    "              '--', label = r'$f = f\\sigma_8/\\sigma_8$')\n",
    "axs[1, 1].set_xlabel(r'$z$')\n",
    "axs[1, 1].legend(frameon=False)\n",
    "\n",
    "plt.tight_layout()\n",
    "plt.subplots_adjust(top=0.90)"
   ]
  },
  {
   "cell_type": "code",
   "execution_count": null,
   "metadata": {
    "scrolled": false
   },
   "outputs": [],
   "source": [
    "# Let's plot the matter power spectrum and other spectra quantities\n",
    "# 'Pgg_spectro', 'Pgg_phot', 'Pgdelta_phot', 'Pgdelta_spectro', 'Pii', 'Pdeltai', 'Pgi_phot', 'Pgi_spectro'\n",
    "# See http://pf-ist-likelihood.pages.euclid-sgs.uk/likelihood-implementation/likelihood.cosmo.cosmology.html\n",
    "# for extra information\n",
    "\n",
    "k_label           = r'$k$ $[\\rm{Mpc}^{-1}]$'\n",
    "pm_label          = r'$P_{\\rm{m}} \\left[\\rm{Mpc}^3\\right]$'\n",
    "pgg_spectro_label = r'$P_{\\rm{gg}}^{\\,\\rm{spectro}} \\left[\\rm{Mpc}^3\\right]$'\n",
    "pgg_phot_label    = r'$P_{\\rm{gg}}^{\\,\\rm{phot}} \\left[\\rm{Mpc}^3\\right]$'\n",
    "pgd_spectro_label = r'$P_{\\rm{g}\\delta}^{\\,\\rm{spectro}} \\left[\\rm{Mpc}^3\\right]$'\n",
    "pgd_phot_label    = r'$P_{\\rm{g}\\delta}^{\\,\\rm{phot}} \\left[\\rm{Mpc}^3\\right]$'\n",
    "pII_label         = r'$P_{\\,\\rm{II}} \\left[\\rm{Mpc}^3\\right]$'\n",
    "pdI_label         = r'$P_{\\delta\\rm{I}} \\left[\\rm{Mpc}^3\\right]$'\n",
    "pgI_phot_label    = r'$P_{\\rm{gI}}^{\\,\\rm{phot}} \\left[\\rm{Mpc}^3\\right]$'\n",
    "pgI_spectro_label = r'$P_{\\rm{gI}}^{\\,\\rm{spectro}} \\left[\\rm{Mpc}^3\\right]$'\n",
    "\n",
    "\n",
    "# WARNING: AT THE MOMENT, THE LARGE SCALES (small k values) in the power spectra are not physical\n",
    "import warnings\n",
    "warnings.filterwarnings('ignore')\n",
    "fig, axs = plt.subplots(9, 2, figsize=(13,47))\n",
    "for ax in axs.flatten():\n",
    "    ax.tick_params(axis='both',which='both',direction='in')\n",
    "fig.suptitle('Spectra')\n",
    "ks=np.logspace(-5, 0, 100)\n",
    "axs[0, 0].loglog(ks, like.cosmo.cosmo_dic['Pk_delta'].P(like.cosmo.cosmo_dic['z_win'][0], ks), 'o', \n",
    "           label=r\"z = {:.2f}\".format(like.cosmo.cosmo_dic['z_win'][0]))\n",
    "axs[0, 0].set_xlabel(k_label)\n",
    "axs[0, 0].set_ylabel(pm_label)\n",
    "axs[0, 0].legend(frameon=False)\n",
    "#------\n",
    "axs[0, 1].loglog(ks, like.cosmo.cosmo_dic['Pk_delta'].P(like.cosmo.cosmo_dic['z_win'][-1], ks), 'o', \n",
    "           label=r\"z = {:.2f}\".format(like.cosmo.cosmo_dic['z_win'][-1]))\n",
    "axs[0, 1].set_xlabel(k_label)\n",
    "axs[0, 1].set_ylabel(pm_label)\n",
    "axs[0, 1].legend(frameon=False)\n",
    "#------\n",
    "for i, k in enumerate(ks):\n",
    "    axs[1, 0].loglog(k, like.cosmo.cosmo_dic['Pgg_spectro'](\n",
    "    like.cosmo.cosmo_dic['z_win'][25], k, 1), 'ko', label=r\"z = {:.2f}\".format(\n",
    "        like.cosmo.cosmo_dic['z_win'][25]) if i == 0 else \"\")\n",
    "    axs[1, 1].loglog(k, like.cosmo.cosmo_dic['Pgg_spectro'](\n",
    "    like.cosmo.cosmo_dic['z_win'][35], k, 1), 'ko', label=r\"z = {:.2f}\".format(\n",
    "        like.cosmo.cosmo_dic['z_win'][35]) if i == 0 else \"\")\n",
    "axs[1, 0].set_xlabel(k_label)\n",
    "axs[1, 0].set_ylabel(pgg_spectro_label)\n",
    "axs[1, 1].set_xlabel(k_label)\n",
    "axs[1, 1].set_ylabel(pgg_spectro_label)\n",
    "axs[1, 0].legend(frameon=False)\n",
    "axs[1, 1].legend(frameon=False)\n",
    "\n",
    "#------\n",
    "for i, k in enumerate(ks):\n",
    "    axs[2, 0].loglog(k, like.cosmo.cosmo_dic['Pgg_phot'](\n",
    "    like.cosmo.cosmo_dic['z_win'][0], k), 'go', label=r\"z = {:.2f}\".format(\n",
    "        like.cosmo.cosmo_dic['z_win'][0]) if i == 0 else \"\")\n",
    "    axs[2, 1].loglog(k, like.cosmo.cosmo_dic['Pgg_phot'](\n",
    "    like.cosmo.cosmo_dic['z_win'][-1], k), 'go', label=r\"z = {:.2f}\".format(\n",
    "        like.cosmo.cosmo_dic['z_win'][-1]) if i == 0 else \"\")\n",
    "axs[2, 0].set_xlabel(k_label)\n",
    "axs[2, 0].set_ylabel(pgg_phot_label)\n",
    "axs[2, 1].set_xlabel(k_label)\n",
    "axs[2, 1].set_ylabel(pgg_phot_label)\n",
    "axs[2, 0].legend(frameon=False)\n",
    "axs[2, 1].legend(frameon=False)\n",
    "\n",
    "#------\n",
    "for i, k in enumerate(ks):\n",
    "    axs[3, 0].loglog(k, like.cosmo.cosmo_dic['Pgdelta_spectro'](\n",
    "    like.cosmo.cosmo_dic['z_win'][25], k, 1), 'ko', label=r\"z = {:.2f}\".format(\n",
    "        like.cosmo.cosmo_dic['z_win'][25]) if i == 0 else \"\")\n",
    "    axs[3, 1].loglog(k, like.cosmo.cosmo_dic['Pgdelta_spectro'](\n",
    "    like.cosmo.cosmo_dic['z_win'][35], k, 1), 'ko', label=r\"z = {:.2f}\".format(\n",
    "        like.cosmo.cosmo_dic['z_win'][35]) if i == 0 else \"\")\n",
    "axs[3, 0].set_xlabel(k_label)\n",
    "axs[3, 0].set_ylabel(pgd_spectro_label)\n",
    "axs[3, 1].set_xlabel(k_label)\n",
    "axs[3, 1].set_ylabel(pgd_spectro_label)\n",
    "axs[3, 0].legend(frameon=False)\n",
    "axs[3, 1].legend(frameon=False)\n",
    "\n",
    "\n",
    "#------\n",
    "for i, k in enumerate(ks):\n",
    "    axs[4, 0].loglog(k, like.cosmo.cosmo_dic['Pgdelta_phot'](\n",
    "    like.cosmo.cosmo_dic['z_win'][0], k), 'go', label=r\"z = {:.2f}\".format(\n",
    "        like.cosmo.cosmo_dic['z_win'][0]) if i == 0 else \"\")\n",
    "    axs[4, 1].loglog(k, like.cosmo.cosmo_dic['Pgdelta_phot'](\n",
    "    like.cosmo.cosmo_dic['z_win'][-1], k), 'go', label=r\"z = {:.2f}\".format(\n",
    "        like.cosmo.cosmo_dic['z_win'][-1]) if i == 0 else \"\")\n",
    "axs[4, 0].set_xlabel(k_label)\n",
    "axs[4, 0].set_ylabel(pgd_phot_label)\n",
    "axs[4, 1].set_xlabel(k_label)\n",
    "axs[4, 1].set_ylabel(pgd_phot_label)\n",
    "axs[4, 0].legend(frameon=False)\n",
    "axs[4, 1].legend(frameon=False)\n",
    "\n",
    "#------\n",
    "for i, k in enumerate(ks):\n",
    "    axs[5, 0].loglog(k, like.cosmo.cosmo_dic['Pii'](\n",
    "    like.cosmo.cosmo_dic['z_win'][0], k), 'ro', label=r\"z = {:.2f}\".format(\n",
    "        like.cosmo.cosmo_dic['z_win'][0]) if i == 0 else \"\")\n",
    "    axs[5, 1].loglog(k, like.cosmo.cosmo_dic['Pii'](\n",
    "    like.cosmo.cosmo_dic['z_win'][-1], k), 'ro', label=r\"z = {:.2f}\".format(\n",
    "        like.cosmo.cosmo_dic['z_win'][-1]) if i == 0 else \"\")\n",
    "axs[5, 0].set_xlabel(k_label)\n",
    "axs[5, 0].set_ylabel(pII_label)\n",
    "axs[5, 1].set_xlabel(k_label)\n",
    "axs[5, 1].set_ylabel(pII_label)\n",
    "axs[5, 0].legend(frameon=False)\n",
    "axs[5, 1].legend(frameon=False)\n",
    "\n",
    "#------\n",
    "for i, k in enumerate(ks):\n",
    "    axs[6, 0].semilogx(k, like.cosmo.cosmo_dic['Pdeltai'](\n",
    "    like.cosmo.cosmo_dic['z_win'][0], k), 'bo', label=r\"z = {:.2f}\".format(\n",
    "        like.cosmo.cosmo_dic['z_win'][0]) if i == 0 else \"\")\n",
    "    axs[6, 1].semilogx(k, like.cosmo.cosmo_dic['Pdeltai'](\n",
    "    like.cosmo.cosmo_dic['z_win'][-1], k), 'bo', label=r\"z = {:.2f}\".format(\n",
    "        like.cosmo.cosmo_dic['z_win'][-1]) if i == 0 else \"\")\n",
    "axs[6, 0].set_xlabel(k_label)\n",
    "axs[6, 0].set_ylabel(pdI_label)\n",
    "axs[6, 1].set_xlabel(k_label)\n",
    "axs[6, 1].set_yl 0.651341(frameon=False, loc=4)\n",
    "\n",
    "#------\n",
    "for i, k in enumerate(ks):\n",
    "    axs[7, 0].semilogx(k, like.cosmo.cosmo_dic['Pgi_phot'](\n",
    "    like.cosmo.cosmo_dic['z_win'][0], k), 'go', label=r\"z = {:.2f}\".format(\n",
    "        like.cosmo.cosmo_dic['z_win'][0]) if i == 0 else \"\")\n",
    "    axs[7, 1].semilogx(k, like.cosmo.cosmo_dic['Pgi_phot'](\n",
    "    like.cosmo.cosmo_dic['z_win'][-1], k), 'go', label=r\"z = {:.2f}\".format(\n",
    "        like.cosmo.cosmo_dic['z_win'][-1]) if i == 0 else \"\")\n",
    "axs[7, 0].set_xlabel(k_label)\n",
    "axs[7, 0].set_ylabel(pgI_phot_label)\n",
    "axs[7, 1].set_xlabel(k_label)\n",
    "axs[7, 1].set_ylabel(pgI_phot_label)\n",
    "axs[7, 0].legend(frameon=False, loc=4)\n",
    "axs[7, 1].legend(frameon=False, loc=4)\n",
    "\n",
    "#------\n",
    "for i, k in enumerate(ks):\n",
    "    axs[8, 0].semilogx(k, like.cosmo.cosmo_dic['Pgi_spectro'](\n",
    "    like.cosmo.cosmo_dic['z_win'][0], k), 'ko', label=r\"z = {:.2f}\".format(\n",
    "        like.cosmo.cosmo_dic['z_win'][0]) if i == 0 else \"\")\n",
    "    axs[8, 1].semilogx(k, like.cosmo.cosmo_dic['Pgi_spectro'](\n",
    "    like.cosmo.cosmo_dic['z_win'][-1], k), 'ko', label=r\"z = {:.2f}\".format(\n",
    "        like.cosmo.cosmo_dic['z_win'][-1]) if i == 0 else \"\")\n",
    "axs[8, 0].set_xlabel(k_label)\n",
    "axs[8, 0].set_ylabel(pgI_spectro_label)\n",
    "axs[8, 1].set_xlabel(k_label)\n",
    "axs[8, 1].set_ylabel(pgI_spectro_label)\n",
    "axs[8, 0].legend(frameon=False, loc=4)\n",
    "axs[8, 1].legend(frameon=False, loc=4)\n",
    "\n",
    "plt.tight_layout()\n",
    "plt.subplots_adjust(top=0.97)\n"
   ]
  },
  {
   "cell_type": "code",
   "execution_count": null,
   "metadata": {},
   "outputs": [],
   "source": [
    "# We can also plot the initial data read by the like_calc module (class Euclike). \n",
    "# This data is at the moment the fiducial data store within the data folder of the repository\n",
    "\n",
    "# i.e: let's plot the galaxy distributions for GC-photo(z) and WL (AT THE MOMENT, THEY ARE THE SAME)\n",
    "zs = np.linspace(0, 4, 1000)\n",
    "fig, axs = plt.subplots(2, 1, figsize=(10,10))\n",
    "for ax in axs.flatten():\n",
    "    ax.tick_params(axis='both',which='both',direction='in')\n",
    "for key, value in like.likefinal.data_ins.nz_dict_GC_Phot.items():\n",
    "    axs[0].plot(zs, value(zs), label = key)\n",
    "for key, value in like.likefinal.data_ins.nz_dict_WL.items():\n",
    "    axs[1].plot(zs, value(zs), label = key)\n",
    "axs[0].set_xlabel(r'$z$')\n",
    "axs[0].set_ylabel(r'$n(z)$ $\\left[\\rm{sr}^{-1}\\right]$')\n",
    "axs[0].set_title(r'${\\rm{GC-photo}}(z)$')\n",
    "axs[0].legend(frameon=False, ncol=2)\n",
    "axs[1].set_xlabel(r'$z$')\n",
    "axs[1].set_ylabel(r'$n(z)$ $\\left[\\rm{sr}^{-1}\\right]$')\n",
    "axs[1].set_title(r'$\\rm{WL}$')\n",
    "axs[1].legend(frameon=False, ncol=2);\n",
    "#plt.subplots_adjust(top=0.90)\n",
    "plt.tight_layout()"
   ]
  },
  {
   "cell_type": "code",
   "execution_count": null,
   "metadata": {},
   "outputs": [],
   "source": [
    "# We can also plot the window functions for the photometric observables\n",
    "# For that, you need to import the photo class and read the cosmology dictionary and the n(z) distributions above\n",
    "from cloe.photometric_survey.photo import Photo\n",
    "photo = Photo(like.cosmo.cosmo_dic, like.likefinal.data_ins.nz_dict_WL, like.likefinal.data_ins.nz_dict_GC_Phot)"
   ]
  },
  {
   "cell_type": "code",
   "execution_count": null,
   "metadata": {},
   "outputs": [],
   "source": [
    "import matplotlib.colors as mcolors\n",
    "color = list(mcolors.TABLEAU_COLORS.values())\n",
    "fig, axs = plt.subplots(3, 1, figsize=(13,12))\n",
    "for ax in axs.flatten():\n",
    "    ax.tick_params(axis='both',which='both',direction='in')\n",
    "for i in range(0, 10):\n",
    "    print('bin: {}'.format(i+1))\n",
    "    axs[0].plot(zs, photo.GC_window(zs, i+1), '-', color = color[i], label='n{}'.format(i+1))\n",
    "    axs[1].plot(zs, photo.WL_window(zs, i+1), '-', color = color[i], label='n{}'.format(i+1))\n",
    "    axs[2].plot(zs, photo.IA_window(zs, i+1), '-', color = color[i], label='n{}'.format(i+1))\n",
    "axs[0].set_xlabel(r'$z$')\n",
    "axs[0].set_ylabel(r'$W_i^{\\rm{GC-photo}}$ $\\left[\\rm{Mpc}^{-1}\\right]$')\n",
    "axs[0].legend(frameon=False, ncol=2)\n",
    "axs[1].set_xlabel(r'$z$')\n",
    "axs[1].set_ylabel(r'$W_i^{\\gamma}$ $\\left[\\rm{Mpc}^{-1}\\right]$')\n",
    "axs[1].legend(frameon=False, ncol=2)\n",
    "axs[2].set_xlabel(r'$z$')\n",
    "axs[2].set_ylabel(r'$W_i^{\\rm{IA}}$ $\\left[\\rm{Mpc}^{-1}\\right]$')\n",
    "axs[2].legend(frameon=False, ncol=2)\n",
    "\n",
    "plt.tight_layout()"
   ]
  },
  {
   "attachments": {},
   "cell_type": "markdown",
   "metadata": {},
   "source": [
    "### BNT transform and plots"
   ]
  },
  {
   "attachments": {},
   "cell_type": "markdown",
   "metadata": {},
   "source": [
    "#### Obtain background quantities"
   ]
  },
  {
   "cell_type": "code",
   "execution_count": null,
   "metadata": {},
   "outputs": [],
   "source": [
    "zwin = like.cosmo.cosmo_dic['z_win']\n",
    "chiwin = like.cosmo.cosmo_dic['r_z_func'](zwin)\n",
    "plt.plot(zwin, chiwin)\n",
    "plt.xlabel(r\"$z$\")\n",
    "plt.ylabel(r\"$r\\,(z)$\", rotation=45, labelpad=12)"
   ]
  },
  {
   "cell_type": "code",
   "execution_count": null,
   "metadata": {},
   "outputs": [],
   "source": [
    "nz_dict_WL = like.likefinal.data_ins.nz_dict_WL\n",
    "n_bins_list = list(nz_dict_WL.keys()) \n",
    "n_bins = len(n_bins_list)\n",
    "ni_list = np.zeros((n_bins, len(zwin)))\n",
    "for ii, ni in enumerate(n_bins_list):\n",
    "    ni_list[ii] = nz_dict_WL[ni](zwin)\n",
    "    plt.plot(zwin, ni_list[ii], label=r\"$n_{:s}(z)$\".format(str(ii)))\n",
    "plt.xlabel(r\"$z$\")\n",
    "plt.ylabel(r\"$n_i(z)$\")\n",
    "plt.legend(fontsize=12)"
   ]
  },
  {
   "attachments": {},
   "cell_type": "markdown",
   "metadata": {},
   "source": [
    "#### Obtain BNT matrix transform"
   ]
  },
  {
   "cell_type": "code",
   "execution_count": null,
   "metadata": {},
   "outputs": [],
   "source": [
    "from cloe.auxiliary import matrix_transforms as cmt\n",
    "from matplotlib.ticker import MaxNLocator\n",
    "from matplotlib.patches import Patch\n",
    "from matplotlib.lines import Line2D"
   ]
  },
  {
   "cell_type": "code",
   "execution_count": null,
   "metadata": {},
   "outputs": [],
   "source": [
    "transBNT = cmt.BNT_transform(z_array=zwin, comoving_dist=chiwin, n_i_z_array=ni_list)\n",
    "print(dir(transBNT)[-10:])"
   ]
  },
  {
   "cell_type": "code",
   "execution_count": null,
   "metadata": {},
   "outputs": [],
   "source": [
    "mat_BNT = transBNT.get_BNT_matrix()"
   ]
  },
  {
   "cell_type": "code",
   "execution_count": null,
   "metadata": {},
   "outputs": [],
   "source": [
    "fig, ax = plt.subplots(1, figsize=(6,6))\n",
    "im = plt.imshow(mat_BNT, cmap=\"RdBu\", vmax=3, vmin=-3)\n",
    "cbar = plt.colorbar(im, fraction=0.046, pad=0.04)\n",
    "cbar.set_label(\"Scale\")\n",
    "#cbar.set_ticklabels()\n",
    "ax.xaxis.set_major_locator(MaxNLocator(integer=True))"
   ]
  },
  {
   "cell_type": "code",
   "execution_count": null,
   "metadata": {},
   "outputs": [],
   "source": [
    "import pandas as pd\n",
    "matdf = pd.DataFrame(mat_BNT)\n",
    "matdf"
   ]
  },
  {
   "attachments": {},
   "cell_type": "markdown",
   "metadata": {},
   "source": [
    "##### Obtain the WL and IA photo windows and apply BNT"
   ]
  },
  {
   "cell_type": "code",
   "execution_count": null,
   "metadata": {},
   "outputs": [],
   "source": [
    "zwin_WL = photo.z_winterp\n",
    "WL_win_arr = np.array([photo.WL_window(zwin_WL, i+1) for i in range(n_bins)])\n",
    "IA_win_arr = np.array([photo.IA_window(zwin_WL, i+1) for i in range(n_bins)])\n",
    "WLia_win_arr = WL_win_arr-IA_win_arr"
   ]
  },
  {
   "cell_type": "code",
   "execution_count": null,
   "metadata": {},
   "outputs": [],
   "source": [
    "WL_Bnt = (mat_BNT@WL_win_arr)\n",
    "IA_Bnt = (mat_BNT@IA_win_arr)\n",
    "WLia_Bnt = (mat_BNT@(WL_win_arr - IA_win_arr))"
   ]
  },
  {
   "cell_type": "code",
   "execution_count": null,
   "metadata": {},
   "outputs": [],
   "source": [
    "from matplotlib.pyplot import cm\n",
    "color = iter(cm.winter(np.linspace(0, 1, 11)))\n",
    "ind = iter(range(1,11))\n",
    "fig, axs = plt.subplots(3, 1, figsize=(12,10))\n",
    "for Wi, Wi_B in zip(WL_win_arr, WL_Bnt):\n",
    "    c=next(color)\n",
    "    index = next(ind)\n",
    "    axs[0].plot(zwin_WL, Wi, c=c)\n",
    "    axs[0].plot(zwin_WL, Wi_B, ls='--', c=c, label='i={:d}'.format(index))\n",
    "axs[0].plot(zwin_WL, zwin_WL*1000, c='k', ls='-', label='Standard')\n",
    "axs[0].plot(zwin_WL, zwin_WL*2000, c='grey', ls='--', label='BNT transformed')\n",
    "axs[0].set_ylim(0.,8e-5)\n",
    "axs[0].set_xlabel(r'$z$')\n",
    "axs[0].legend(ncol=3, fontsize=12)\n",
    "axs[0].set_ylabel(r'$W_i^{\\gamma}$ $[Mpc^{-1}]$')\n",
    "color = iter(cm.autumn(np.linspace(0, 1, 11)))\n",
    "ind = iter(range(1,11))\n",
    "for Wi, Wi_B in zip(IA_win_arr, IA_Bnt):\n",
    "    c=next(color)\n",
    "    index = next(ind)\n",
    "    axs[1].plot(zwin_WL, Wi, c=c)\n",
    "    axs[1].plot(zwin_WL, Wi_B, ls='--', c=c, label='i={:d}'.format(index))\n",
    "#axs[1].plot(zwin_WL, zwin_WL*1000, c='k', ls='-', label='Standard')\n",
    "#axs[1].plot(zwin_WL, zwin_WL*2000, c='grey', ls='--', label='BNT transformed')\n",
    "#axs[1].set_ylim(0.,8e-5)\n",
    "axs[1].set_xlabel(r'$z$')\n",
    "axs[1].legend(ncol=3, fontsize=12)\n",
    "axs[1].set_ylabel(r'$W_i^{\\rm{IA}}$ $[Mpc^{-1}]$')\n",
    "color = iter(cm.spring(np.linspace(0, 1, 11)))\n",
    "ind = iter(range(1,11))\n",
    "for Wi, Wi_B in zip(WLia_win_arr, WLia_Bnt):\n",
    "    c=next(color)\n",
    "    index = next(ind)\n",
    "    axs[2].plot(zwin_WL, Wi, c=c)\n",
    "    axs[2].plot(zwin_WL, Wi_B, ls='--', c=c, label='i={:d}'.format(index))\n",
    "#axs[2].plot(zwin_WL, zwin_WL*1000, c='k', ls='-', label='Standard')\n",
    "#axs[2].plot(zwin_WL, zwin_WL*2000, c='grey', ls='--', label='BNT transformed')\n",
    "#axs[2].set_ylim(0.,8e-5)\n",
    "axs[2].set_xlabel(r'$z$')\n",
    "axs[2].legend(ncol=3, fontsize=12)\n",
    "axs[2].set_ylabel(r'$W_i^{\\rm{L}}$ $[Mpc^{-1}]$')"
   ]
  },
  {
   "attachments": {},
   "cell_type": "markdown",
   "metadata": {},
   "source": [
    "#### BNT transformation of the $C_\\ell$ as 2D-matrices"
   ]
  },
  {
   "cell_type": "code",
   "execution_count": null,
   "metadata": {},
   "outputs": [],
   "source": [
    "def C_ell_mat(ell, probe='LL'):\n",
    "    C_mat = np.zeros((n_bins,n_bins))\n",
    "    for i in range(n_bins):\n",
    "        for j in range(n_bins):\n",
    "            if probe=='LL':\n",
    "                C_mat[i,j] = photo.Cl_WL(ell,i+1,j+1)\n",
    "            if probe=='GL' or probe=='LG':\n",
    "                C_mat[i,j] = photo.Cl_cross(ell,i+1,j+1)\n",
    "            if probe=='GG':\n",
    "                C_mat[i,j] = photo.Cl_GC_phot(ell,i+1,j+1)\n",
    "    return C_mat"
   ]
  },
  {
   "cell_type": "code",
   "execution_count": null,
   "metadata": {},
   "outputs": [],
   "source": [
    "from cloe.photometric_survey.photo import Photo\n",
    "from cloe.like_calc.euclike import Euclike"
   ]
  },
  {
   "cell_type": "code",
   "execution_count": null,
   "metadata": {},
   "outputs": [],
   "source": [
    "likefinal = Euclike(like.data, like.observables)"
   ]
  },
  {
   "cell_type": "code",
   "execution_count": null,
   "metadata": {},
   "outputs": [],
   "source": [
    "cloe_ells = likefinal.data_ins.data_dict['XC-Phot']['ells']\n",
    "cloe_ells"
   ]
  },
  {
   "cell_type": "code",
   "execution_count": null,
   "metadata": {},
   "outputs": [],
   "source": [
    "nz_dict_WL = like.likefinal.data_ins.nz_dict_WL\n",
    "n_bins_list = list(nz_dict_WL.keys()) \n",
    "nz_bins = len(n_bins_list)\n",
    "print(nz_bins)"
   ]
  },
  {
   "cell_type": "code",
   "execution_count": null,
   "metadata": {},
   "outputs": [],
   "source": [
    "likefinal.phot_ins.update(like.cosmo.cosmo_dic)"
   ]
  },
  {
   "cell_type": "code",
   "execution_count": null,
   "metadata": {},
   "outputs": [],
   "source": [
    "cellspace = cloe_ells\n",
    "cC_LL_arr = np.zeros((len(cellspace), nz_bins, nz_bins))\n",
    "cC_GL_arr = np.zeros((len(cellspace), nz_bins, nz_bins))\n",
    "cC_GG_arr = np.zeros((len(cellspace), nz_bins, nz_bins))\n",
    "for ie, ell in enumerate(cellspace):\n",
    "    cC_LL_arr[ie,:,:] = C_ell_mat(ell, probe='LL')\n",
    "    cC_GL_arr[ie,:,:] = C_ell_mat(ell, probe='GL')\n",
    "    cC_GG_arr[ie,:,:] = C_ell_mat(ell, probe='GG')"
   ]
  },
  {
   "cell_type": "code",
   "execution_count": null,
   "metadata": {},
   "outputs": [],
   "source": [
    "cC_LL_arr.shape"
   ]
  },
  {
   "cell_type": "code",
   "execution_count": null,
   "metadata": {},
   "outputs": [],
   "source": [
    "cC_LL_BNT = np.zeros_like(cC_LL_arr)\n",
    "cC_GL_BNT = np.zeros_like(cC_GL_arr)\n",
    "cC_GG_BNT = np.zeros_like(cC_GG_arr)\n",
    "for ie, ell in enumerate(cellspace):\n",
    "    cC_LL_BNT[ie,:,:] = (mat_BNT)@cC_LL_arr[ie,:,:]@(mat_BNT.T)\n",
    "    cC_GL_BNT[ie,:,:] = mat_BNT@(cC_GL_arr[ie,:,:])\n",
    "    cC_GG_BNT[ie,:,:] = cC_GG_arr[ie,:,:]"
   ]
  },
  {
   "cell_type": "code",
   "execution_count": null,
   "metadata": {},
   "outputs": [],
   "source": [
    "color = iter(cm.copper(np.linspace(0, 1, 11)))\n",
    "fig, axs = plt.subplots(2, 1, figsize=(10,8))\n",
    "for ij in range(n_bins): #(n_bins):\n",
    "    c=next(color)\n",
    "    axs[0].loglog(cellspace, cC_LL_arr[:,ij,ij], c=c, label='(i,j)=({:d},{:d})'.format(ij+1,ij+1))\n",
    "    axs[0].loglog(cellspace, cC_LL_BNT[:,ij,ij], c=c, ls='--')#, ms=5, marker='o')#label='i={:d},j={:d}'.format(ij,ij))\n",
    "    axs[1].loglog(cellspace, np.abs(cC_LL_arr[:,4,ij]), c=c, label='(i,j)=({:d},{:d})'.format(4+1,ij+1))\n",
    "    axs[1].loglog(cellspace, np.abs(cC_LL_BNT[:,4,ij]), c=c, ls='--')#, ms=5, marker='o')#label='i={:d},j={:d}'.format(ij,ij))\n",
    "\n",
    "legend_elements = [Line2D([0], [0], color='grey', ls='-', lw=2, label='Standard'), \n",
    "                   Line2D([0], [0], color='silver', ls='--', lw=2, label='BNT'),\n",
    "                  ]\n",
    "\n",
    "# Create the figure\n",
    "\n",
    "legend0 = axs[0].legend(handles=legend_elements, loc='upper right', fontsize=15, handlelength=2.5)\n",
    "\n",
    "#axs[0].plot(cellspace, cellspace*1000, c='k', ls='-', label='Standard')\n",
    "#axs[0].plot(cellspace, cellspace*2000, c='grey', ls='--', label='BNT transformed')\n",
    "axs[1].set_xlabel(r'$\\ell$')\n",
    "axs[0].set_ylabel(r'CLOE $\\,\\,\\,C^{WL}_{ij}(\\ell)$')\n",
    "axs[1].set_ylabel(r'CLOE $\\,\\,|\\,C^{WL}_{ij}(\\ell)\\,|$')\n",
    "\n",
    "axs[0].legend(bbox_to_anchor=(1,0), loc=\"lower left\", fontsize=12)\n",
    "axs[1].legend(bbox_to_anchor=(1,0), loc=\"lower left\", fontsize=12)\n",
    "\n",
    "axs[0].add_artist(legend0)\n",
    "\n",
    "#axs.legend()"
   ]
  },
  {
   "cell_type": "code",
   "execution_count": null,
   "metadata": {},
   "outputs": [],
   "source": [
    "color = iter(cm.autumn(np.linspace(0, 1, 11)))\n",
    "fig, axs = plt.subplots(2, 1, figsize=(10,8))\n",
    "for ij in range(n_bins):\n",
    "    c=next(color)\n",
    "    #axs.loglog(ellspace, np.abs(C_GL_arr[:,ij,ij]), c=c, ls='-', label='(i,j)=({:d},{:d})'.format(ij,ij))\n",
    "    #axs.loglog(ellspace, np.abs(C_GL_BNT[:,ij,ij]), c=c, ls='--')#label='i={:d},j={:d}'.format(ij,ij))\n",
    "    axs[0].loglog(cellspace, np.abs(cC_GL_arr[:,ij,ij]), c=c, ls='-', label='(i,j)=({:d},{:d})'.format(ij+1,ij+1))\n",
    "    axs[0].loglog(cellspace, np.abs(cC_GL_BNT[:,ij,ij]), c=c, ls='--')#label='i={:d},j={:d}'.format(ij,ij))\n",
    "    axs[1].loglog(cellspace, np.abs(cC_GL_arr[:,4,ij]), c=c, ls='-', label='(i,j)=({:d},{:d})'.format(4+1,ij+1))\n",
    "    axs[1].loglog(cellspace, np.abs(cC_GL_BNT[:,4,ij]), c=c, ls='--')#label='i={:d},j={:d}'.format(ij,ij))\n",
    "\n",
    "legend0 = axs[0].legend(handles=legend_elements, loc='upper right', fontsize=15, handlelength=2.5)\n",
    "axs[1].set_xlabel(r'$\\ell$')\n",
    "axs[0].set_ylabel(r'CLOE $\\,|\\,C^{XC}_{ij}(\\ell)\\,|\\,$')\n",
    "axs[1].set_ylabel(r'CLOE $\\,|\\,C^{XC}_{ij}(\\ell)\\,|\\,$')\n",
    "axs[0].legend(bbox_to_anchor=(1,0), loc=\"lower left\", fontsize=12)\n",
    "axs[1].legend(bbox_to_anchor=(1,0), loc=\"lower left\", fontsize=12)\n",
    "axs[0].add_artist(legend0)"
   ]
  },
  {
   "cell_type": "code",
   "execution_count": null,
   "metadata": {},
   "outputs": [],
   "source": [
    "color = iter(cm.spring(np.linspace(0, 1, 11)))\n",
    "fig, axs = plt.subplots(2, 1, figsize=(10,8))\n",
    "for ij in range(n_bins):\n",
    "    c=next(color)\n",
    "    #axs.loglog(ellspace, np.abs(C_GL_arr[:,ij,ij]), c=c, ls='-', label='(i,j)=({:d},{:d})'.format(ij,ij))\n",
    "    #axs.loglog(ellspace, np.abs(C_GL_BNT[:,ij,ij]), c=c, ls='--')#label='i={:d},j={:d}'.format(ij,ij))\n",
    "    axs[0].semilogx(cellspace, cC_GG_arr[:,ij,ij], c=c, ls='-', label='(i,j)=({:d},{:d})'.format(ij+1,ij+1))\n",
    "    axs[0].semilogx(cellspace, cC_GG_BNT[:,ij,ij], c=c, ls='--')#label='i={:d},j={:d}'.format(ij,ij))\n",
    "    axs[1].semilogx(cellspace, cC_GG_arr[:,4,ij], c=c, ls='-', label='(i,j)=({:d},{:d})'.format(4+1,ij+1))\n",
    "    axs[1].semilogx(cellspace, cC_GG_BNT[:,4,ij], c=c, ls='--')#label='i={:d},j={:d}'.format(ij,ij))\n",
    "\n",
    "legend0 = axs[0].legend(handles=legend_elements, loc='upper right', fontsize=15, handlelength=2.5)\n",
    "axs[1].set_xlabel(r'$\\ell$')\n",
    "axs[0].set_ylabel(r'CLOE $C^{GG}_{ij}(\\ell)$')\n",
    "axs[1].set_ylabel(r'CLOE $C^{GG}_{ij}(\\ell)$')\n",
    "axs[0].legend(bbox_to_anchor=(1,0), loc=\"lower left\", fontsize=12)\n",
    "axs[1].legend(bbox_to_anchor=(1,0), loc=\"lower left\", fontsize=12)\n",
    "axs[0].add_artist(legend0)"
   ]
  },
  {
   "cell_type": "markdown",
   "metadata": {},
   "source": [
    "### Plot Euclid final observables\n",
    "\n",
    "We can use the auxiliary module of the CLOE to plot the final observables. **Have in mind that the predicted values for the angular power spectra will probably not agree with the fiducial plotted values from the Benchmark data as we are currently sampling $n_s$.**"
   ]
  },
  {
   "cell_type": "code",
   "execution_count": null,
   "metadata": {},
   "outputs": [],
   "source": [
    "# We import the Plotter Class\n",
    "from cloe.auxiliary.plotter import Plotter"
   ]
  },
  {
   "cell_type": "code",
   "execution_count": null,
   "metadata": {},
   "outputs": [],
   "source": [
    "for k in model.parameterization.sampled_params():\n",
    "    print(k)"
   ]
  },
  {
   "cell_type": "code",
   "execution_count": null,
   "metadata": {},
   "outputs": [],
   "source": [
    "# Weak-Lensing angular power spectrum according to the IST:L recipe \n",
    "fig1 = plt.figure()\n",
    "ax1 = fig1.add_subplot(1, 1, 1)\n",
    "ax1.tick_params(axis='both',which='both',direction='in')\n",
    "for param in model.parameterization.sampled_params().keys():\n",
    "        pl_label = 'ns'#'{}={:.4f}'.format(param, model.parameterization.sampled_params()[param])\n",
    "        print('WARNING: param {} is being sampled! Possible mismatch between benchmark and theoretical prediction'.format(param))\n",
    "pl_label = 'ns'\n",
    "pl_inst = Plotter(cosmo_dic=like.cosmo.cosmo_dic, data=like.likefinal.data)\n",
    "ax1 = pl_inst.plot_external_Cl_phot(1, 1, ax1, probe='WL', pl_label='Benchmark')\n",
    "ax1 = pl_inst.plot_Cl_phot(np.logspace(1, 3.6, 10), 1, 1, ax1, probe='WL', pl_colour='r', pl_linestyle='--', pl_label=pl_label)\n",
    "ax1.set_xlabel(r'$\\ell$', fontsize=20)\n",
    "ax1.set_ylabel(r'$C_\\ell$ $\\left[\\rm{sr}\\right]$', fontsize=20)\n",
    "ax1.set_xscale('linear')\n",
    "ax1.set_yscale('log')\n",
    "ax1.set_title('Weak-Lensing bin1')\n",
    "ax1.legend();"
   ]
  },
  {
   "cell_type": "code",
   "execution_count": null,
   "metadata": {},
   "outputs": [],
   "source": [
    "# GC-photo(z) angular power spectrum\n",
    "\n",
    "fig1 = plt.figure()\n",
    "ax1 = fig1.add_subplot(1, 1, 1)\n",
    "ax1.tick_params(axis='both',which='both',direction='in')\n",
    "for param in model.parameterization.sampled_params().keys():\n",
    "        pl_label = '{}={:.4f}'.format(param, model.parameterization.sampled_params()[param])\n",
    "        print('WARNING: param {} is being sampled! Possible mismatch between benchmark and theoretical prediction'.format(param))\n",
    "ax1 = pl_inst.plot_external_Cl_phot(1, 1, ax1, probe='GC-Phot', pl_label='Benchmark')\n",
    "ax1 = pl_inst.plot_Cl_phot(np.logspace(1, 3.6, 10), 1, 1, ax1, probe='GC-Phot', pl_colour='r', pl_linestyle='--', pl_label=pl_label)\n",
    "ax1.set_xlabel(r'$\\ell$', fontsize=20)\n",
    "ax1.set_ylabel(r'$C_\\ell$ $\\left[\\rm{sr}\\right]$', fontsize=20)\n",
    "ax1.set_xscale('log')\n",
    "ax1.set_yscale('log')\n",
    "ax1.set_title('GC-photo(z) bin1')\n",
    "ax1.legend();"
   ]
  },
  {
   "cell_type": "code",
   "execution_count": null,
   "metadata": {},
   "outputs": [],
   "source": [
    "# Cross-correlation WL x GC-photo(z) angular power spectrum\n",
    "\n",
    "fig1 = plt.figure()\n",
    "ax1 = fig1.add_subplot(1, 1, 1)\n",
    "ax1.tick_params(axis='both',which='both',direction='in')\n",
    "for param in model.parameterization.sampled_params().keys():\n",
    "        pl_label = '{}={:.4f}'.format(param, model.parameterization.sampled_params()[param])\n",
    "        print('WARNING: param {} is being sampled! Possible mismatch between benchmark and theoretical prediction'.format(param))\n",
    "ax1 = pl_inst.plot_external_Cl_XC(1, 1, ax1, pl_label='Benchmark')\n",
    "ax1 = pl_inst.plot_Cl_XC(np.logspace(1, 3.6, 10), 1, 1, ax1, pl_colour='r', pl_linestyle='--', pl_label=pl_label)\n",
    "ax1.set_xlabel(r'$\\ell$', fontsize=20)\n",
    "ax1.set_ylabel(r'$C_\\ell$ $\\left[\\rm{sr}\\right]$', fontsize=20)\n",
    "ax1.set_xscale('log')\n",
    "#ax1.set_yscale('log')\n",
    "ax1.set_title('WL x GC-photo(z) bin1')\n",
    "ax1.legend();"
   ]
  },
  {
   "cell_type": "code",
   "execution_count": null,
   "metadata": {
    "scrolled": false
   },
   "outputs": [],
   "source": [
    "# GC-spectro observable\n",
    "\n",
    "fig1 = plt.figure()\n",
    "ax1 = fig1.add_subplot(1, 1, 1)\n",
    "ax1.tick_params(axis='both',which='both',direction='in')\n",
    "for param in model.parameterization.sampled_params().keys():\n",
    "        pl_label = '{}={:.4f}'.format(param, model.parameterization.sampled_params()[param])\n",
    "        print('WARNING: param {} is being sampled! Possible mismatch between benchmark and theoretical prediction'.format(param))\n",
    "ax1 = pl_inst.plot_external_GC_spectro(\"1.2\", 2, ax1, pl_label='Benchmark')\n",
    "ax1 = pl_inst.plot_GC_spectro_multipole(1.2, np.linspace(0.01, 0.5), 2, ax1, pl_colour='r', pl_linestyle='--', pl_label=pl_label)\n",
    "ax1.set_xlabel(r'$k$ $\\left[\\rm{Mpc}^{-1}\\right]$', fontsize=20)\n",
    "ax1.set_ylabel(r'$P_\\ell$ $\\left[\\rm{Mpc}^3\\right]$', fontsize=20)\n",
    "ax1.set_xscale('linear')\n",
    "ax1.set_yscale('log')\n",
    "ax1.set_title('GC-spectro bin1')\n",
    "ax1.legend();"
   ]
  }
 ],
 "metadata": {
  "kernelspec": {
   "display_name": "cloe",
   "language": "python",
   "name": "python3"
  },
  "language_info": {
   "codemirror_mode": {
    "name": "ipython",
    "version": 3
   },
   "file_extension": ".py",
   "mimetype": "text/x-python",
   "name": "python",
   "nbconvert_exporter": "python",
   "pygments_lexer": "ipython3",
   "version": "3.9.16"
  },
  "vscode": {
   "interpreter": {
    "hash": "92047b2fe9516b3466c1262cd542586eaf6c96880df21c5ccb7c24f02362eafa"
   }
  }
 },
 "nbformat": 4,
 "nbformat_minor": 4
}
