{
 "cells": [
  {
   "cell_type": "code",
   "execution_count": 58,
   "metadata": {},
   "outputs": [
    {
     "name": "stdout",
     "output_type": "stream",
     "text": [
      "Setting as working directory:  /data2/EUCLID/task-644/likelihood-implementation\n"
     ]
    }
   ],
   "source": [
    "# General python imports\n",
    "\n",
    "import numpy as np\n",
    "import pandas as pd\n",
    "import os, sys\n",
    "\n",
    "# If you have clone the repository and open this notebook,\n",
    "# this notebook should be in likelihood-implementation/notebooks\n",
    "# Let's set the working directory to be likelihood-implementation\n",
    "\n",
    "likelihood_path = os.path.realpath(os.path.join(os.getcwd(),'..'))\n",
    "sys.path.insert(0, likelihood_path)\n",
    "print('Setting as working directory: ', likelihood_path)\n",
    "\n",
    "# Import external loglike from the Likelihood Package within cobaya_interface.py\n",
    "\n",
    "from likelihood.cobaya_interface import EuclidLikelihood\n",
    "import yaml"
   ]
  },
  {
   "cell_type": "markdown",
   "metadata": {},
   "source": [
    "### EXAMPLE 1: YAML using arrays\n",
    "\n",
    "**Pros**: faster to introduce values\n",
    "\n",
    "**Cons**: visually not very appealing, it will require manipulation of the Panda data frame for a nice look! "
   ]
  },
  {
   "cell_type": "code",
   "execution_count": 67,
   "metadata": {},
   "outputs": [
    {
     "name": "stdout",
     "output_type": "stream",
     "text": [
      "This is how the YAML looks like\n",
      "\n",
      "    WL_GCphoto_GCspectro:\n",
      "      WL: [True, True, False]\n",
      "      GCphoto: [True, True, False]\n",
      "      GCspectro: [False, False, True]\n",
      "\n",
      "This is how the dict looks like\n",
      "\n",
      "{'WL_GCphoto_GCspectro': {'WL': [True, True, False], 'GCphoto': [True, True, False], 'GCspectro': [False, False, True]}}\n",
      "\n",
      "This is how the Raw Panda Data frame looks like\n",
      "\n",
      "           WL_GCphoto_GCspectro\n",
      "GCphoto     [True, True, False]\n",
      "GCspectro  [False, False, True]\n",
      "WL          [True, True, False]\n",
      "-----------------------------------------------\n"
     ]
    }
   ],
   "source": [
    "observables_yaml_OPTION_1 = \"\"\"\n",
    "    WL_GCphoto_GCspectro:\n",
    "      WL: [True, True, False]\n",
    "      GCphoto: [True, True, False]\n",
    "      GCspectro: [False, False, True]\n",
    "\"\"\"\n",
    "\n",
    "print('This is how the YAML looks like')\n",
    "print(observables_yaml_OPTION_1)\n",
    "print('This is how the dict looks like\\n')\n",
    "observables_dict_OPTION_1 = yaml.safe_load(observables_yaml_OPTION_1)\n",
    "print(observables_dict_OPTION_1)\n",
    "print('\\nThis is how the Raw Panda Data frame looks like\\n')\n",
    "raw_pd_observables_1 = pd.DataFrame(observables_dict_OPTION_1)\n",
    "print(raw_pd_observables_1)\n",
    "print('-----------------------------------------------')\n"
   ]
  },
  {
   "cell_type": "markdown",
   "metadata": {},
   "source": [
    "### EXAMPLE 2: YAML nested keys\n",
    "\n",
    "**Pros**: personally, I find this way clearer and easier to be checked for bugs, visually appealing, allows for easy checks!\n",
    "\n",
    "**Cons**: it is more time consuming to introduce the values"
   ]
  },
  {
   "cell_type": "code",
   "execution_count": 63,
   "metadata": {},
   "outputs": [
    {
     "name": "stdout",
     "output_type": "stream",
     "text": [
      "This is how the YAML looks like\n",
      "\n",
      "    WL:\n",
      "      WL: True\n",
      "      GCphoto: True\n",
      "      GCspectro: False\n",
      "    GCphoto:\n",
      "      WL: True\n",
      "      GCphoto: True\n",
      "      GCspectro: False\n",
      "    GCspectro:\n",
      "      WL: False\n",
      "      GCphoto: False\n",
      "      GCspectro: True\n",
      "\n",
      "This is how the dict looks like\n",
      "\n",
      "{'WL': {'WL': True, 'GCphoto': True, 'GCspectro': False}, 'GCphoto': {'WL': True, 'GCphoto': True, 'GCspectro': False}, 'GCspectro': {'WL': False, 'GCphoto': False, 'GCspectro': True}}\n",
      "\n",
      "This is how the Panda Data frame looks like\n",
      "\n",
      "              WL  GCphoto  GCspectro\n",
      "WL          True     True      False\n",
      "GCphoto     True     True      False\n",
      "GCspectro  False    False       True\n",
      "-----------------------------------------------\n",
      "\n",
      "This is how the Panda Data frame looks like with 1 and 0 \n",
      "\n",
      "           WL  GCphoto  GCspectro\n",
      "WL          1        1          0\n",
      "GCphoto     1        1          0\n",
      "GCspectro   0        0          1\n",
      "-----------------------------------------------\n"
     ]
    }
   ],
   "source": [
    "observables_yaml_OPTION_2 = \"\"\"\n",
    "    WL:\n",
    "      WL: True\n",
    "      GCphoto: True\n",
    "      GCspectro: False\n",
    "    GCphoto:\n",
    "      WL: True\n",
    "      GCphoto: True\n",
    "      GCspectro: False\n",
    "    GCspectro:\n",
    "      WL: False\n",
    "      GCphoto: False\n",
    "      GCspectro: True\n",
    "\"\"\"\n",
    "print('This is how the YAML looks like')\n",
    "print(observables_yaml_OPTION_2)\n",
    "print('This is how the dict looks like\\n')\n",
    "observables_dict_OPTION_2 = yaml.safe_load(observables_yaml_OPTION_2)\n",
    "print(observables_dict_OPTION_2)\n",
    "print('\\nThis is how the Panda Data frame looks like\\n')\n",
    "print(pd.DataFrame(observables_dict_OPTION_2))\n",
    "print('-----------------------------------------------')\n",
    "print('\\nThis is how the Panda Data frame looks like with 1 and 0 \\n')\n",
    "pd_option2_numbers = pd.DataFrame(observables_dict_OPTION_2).astype(int)\n",
    "print(pd_option2_numbers)\n",
    "print('-----------------------------------------------')\n",
    "\n",
    "\n",
    "def check_symmetric(a, rtol=1e-05, atol=1e-08):\n",
    "    return numpy.allclose(a, a.T, rtol=rtol, atol=atol)\n"
   ]
  },
  {
   "cell_type": "code",
   "execution_count": null,
   "metadata": {},
   "outputs": [],
   "source": []
  }
 ],
 "metadata": {
  "kernelspec": {
   "display_name": "Python 3",
   "language": "python",
   "name": "python3"
  },
  "language_info": {
   "codemirror_mode": {
    "name": "ipython",
    "version": 3
   },
   "file_extension": ".py",
   "mimetype": "text/x-python",
   "name": "python",
   "nbconvert_exporter": "python",
   "pygments_lexer": "ipython3",
   "version": "3.7.6"
  }
 },
 "nbformat": 4,
 "nbformat_minor": 4
}
