{
 "cells": [
  {
   "cell_type": "markdown",
   "metadata": {},
   "source": [
    "# Testing the likelihood external file\n",
    "\n",
    "To start playing with this notebook, install the ```Likelihood Package``` and its modules according to README.\n",
    "Alternatively you may be ready to run if ```Cobaya``` and ```CAMB/CLASS``` are installed."
   ]
  },
  {
   "cell_type": "markdown",
   "metadata": {},
   "source": [
    "Cobaya documentation: https://cobaya.readthedocs.io/en/latest/"
   ]
  },
  {
   "cell_type": "code",
   "execution_count": 1,
   "metadata": {},
   "outputs": [],
   "source": [
    "#General imports\n",
    "import numpy as np\n",
    "import matplotlib.pyplot as plt\n",
    "from scipy import integrate\n",
    "from scipy import interpolate \n",
    "import time \n",
    "\n",
    "plt.rc('xtick',labelsize=16)\n",
    "plt.rc('ytick',labelsize=16)\n",
    "plt.rc('font',size=15)\n",
    "#plt.rc('figure', autolayout=True)\n",
    "plt.rc('axes', titlesize=16)\n",
    "plt.rc('axes', labelsize=17)\n",
    "plt.rc('lines', linewidth=2)\n",
    "plt.rc('lines', markersize=6)\n",
    "plt.rc('legend', fontsize=20)\n",
    "plt.rc('mathtext', fontset='stix')\n",
    "plt.rc('font', family='STIXGeneral')"
   ]
  },
  {
   "cell_type": "markdown",
   "metadata": {},
   "source": [
    "### Specific imports"
   ]
  },
  {
   "cell_type": "code",
   "execution_count": 2,
   "metadata": {},
   "outputs": [],
   "source": [
    "#Import cobaya -need to be installed\n",
    "import cobaya\n",
    "#Import external loglike from the Likelihood Package within cobaya interface module\n",
    "from likelihood.cobaya_interface import EuclidLikelihood"
   ]
  },
  {
   "cell_type": "markdown",
   "metadata": {},
   "source": [
    "### Step 1: create your dictionary with general specifications\n",
    "\n",
    "In ```COBAYA```, 'ini files' are 'yaml files', which are in reality understood by Cobaya as python dictionaries. I have added comments explaining each of the lines of the dictionary.\n"
   ]
  },
  {
   "cell_type": "code",
   "execution_count": 5,
   "metadata": {},
   "outputs": [],
   "source": [
    "#ATTENTION: CHANGE THIS TO YOUR LOCAL PATH where your external codes are installed: CAMB, polychord, likelihoods...\n",
    "modules_path = \"/data2/cobaya_modules/\"\n",
    "\n",
    "h=0.67\n",
    "# Info is the 'ini file' dictionary. \n",
    "# You can translate this info-dictionary into a yaml file and run: cobaya-run info.yaml such as CosmoMC like\n",
    "\n",
    "info = {\n",
    "    #Which parameters would you like to sample?\n",
    "    'params': {\n",
    "        # Fixed\n",
    "        'ombh2': 0.05*h**2, 'omch2': 0.268563*h**2, 'H0': 67, 'tau': 0.0925,\n",
    "        'mnu': 0.06, 'nnu': 3.046, 'As': 2.12605e-9,\n",
    "        # Sampled - just as an example we assume we will be sampling over ns\n",
    "        'ns': 0.96, #{'prior': {'min': 0.8, 'max': 1.2}},\n",
    "        #To be passed to euclid which likelihood to use (preliminary)\n",
    "        # 1: shear\n",
    "        # 2: spec\n",
    "        # 12: both\n",
    "        'like_selection': 12,\n",
    "        # Bias parameters\n",
    "        # Photo IST:F values\n",
    "        'b1_photo': 1.0997727037892875,\n",
    "        'b2_photo': 1.220245876862528,\n",
    "        'b3_photo': 1.2723993083933989,\n",
    "        'b4_photo': 1.316624471897739,\n",
    "        'b5_photo': 1.35812370570578,\n",
    "        'b6_photo': 1.3998214171814918,\n",
    "        'b7_photo': 1.4446452851824907,\n",
    "        'b8_photo': 1.4964959071110084,\n",
    "        'b9_photo': 1.5652475842498528,\n",
    "        'b10_photo': 1.7429859437184225,\n",
    "        # Spec IST:F values\n",
    "        'b1_spec': 1.46,\n",
    "        'b2_spec': 1.61,\n",
    "        'b3_spec': 1.75,\n",
    "        'b4_spec': 1.90},\n",
    "    #Which theory code you want to use? HERE CAMB\n",
    "    'theory': {'camb': {'stop_at_error': True, 'extra_args':{'num_massive_neutrinos': 1}}},\n",
    "    #Which sample do you want to use? HERE I use MCMC for testing\n",
    "    'sampler': {'mcmc': None},  \n",
    "    #Where have you installed your modules (i.e: CAMB, polychord, likelihoods...)\n",
    "    'packages_path': modules_path,\n",
    "    #Where are the results going to be stored?\n",
    "    'output': 'chains/my_euclid_experiment',\n",
    "    #Likelihood: we load the likelihood as an external function\n",
    "    'likelihood': {'Euclid': EuclidLikelihood},\n",
    "    'debug': False,\n",
    "    'force': True\n",
    "    }"
   ]
  },
  {
   "cell_type": "markdown",
   "metadata": {},
   "source": [
    "### Step 2: Call the 'model' wrapper of ```COBAYA```\n",
    "\n",
    "In principle, we could run directly cobaya with the above dictionary and start producing chains. However, for testing purposes, the 'model' wrapper is created, which allows to enter directly to theory code's quantities. It works similarly as an 'evaluator'.\n",
    "\n",
    "I use it here to give a feeling of what ```COBAYA``` is doing internally. Advice: good for debbuging too."
   ]
  },
  {
   "cell_type": "code",
   "execution_count": 6,
   "metadata": {
    "scrolled": false
   },
   "outputs": [
    {
     "name": "stdout",
     "output_type": "stream",
     "text": [
      "[model] *WARNING* Ignored blocks/options: ['sampler', 'output', 'force']\n",
      "[prior] *WARNING* No sampled parameters requested! This will fail for non-mock samplers.\n",
      "[camb] Importing *local* CAMB from /data2/cobaya_modules/code/CAMB\n",
      "[prior] *WARNING* No sampled parameters requested! This will fail for non-mock samplers.\n",
      "[camb] Importing *local* CAMB from /data2/cobaya_modules/code/CAMB\n",
      "2.56280255317688\n"
     ]
    }
   ],
   "source": [
    "# Model wrapper of cobaya\n",
    "from cobaya.model import get_model\n",
    "t1 = time.time()\n",
    "model = get_model(info)\n",
    "t2 = time.time()\n",
    "print(t2-t1)"
   ]
  },
  {
   "cell_type": "code",
   "execution_count": 7,
   "metadata": {
    "scrolled": true
   },
   "outputs": [
    {
     "name": "stdout",
     "output_type": "stream",
     "text": [
      "\n",
      " Requirements \n",
      "\n",
      "{'Pk_interpolator': camb, 'comoving_radial_distance': camb, 'angular_diameter_distance': camb, 'Hubble': camb, 'sigma_R': camb, 'fsigma8': camb, 'CAMB_transfers': camb.transfers}\n",
      "\n",
      " Requested \n",
      "\n",
      "{'camb.transfers': [{'CAMB_transfers':{'non_linear': False, 'needs_perts': True}}], 'camb': [{'Pk_interpolator':{}}, {'comoving_radial_distance':{'z': array([0.        , 0.04040404, 0.08080808, 0.12121212, 0.16161616,\n",
      "       0.2020202 , 0.24242424, 0.28282828, 0.32323232, 0.36363636,\n",
      "       0.4040404 , 0.44444444, 0.48484848, 0.52525253, 0.56565657,\n",
      "       0.60606061, 0.64646465, 0.68686869, 0.72727273, 0.76767677,\n",
      "       0.80808081, 0.84848485, 0.88888889, 0.92929293, 0.96969697,\n",
      "       1.01010101, 1.05050505, 1.09090909, 1.13131313, 1.17171717,\n",
      "       1.21212121, 1.25252525, 1.29292929, 1.33333333, 1.37373737,\n",
      "       1.41414141, 1.45454545, 1.49494949, 1.53535354, 1.57575758,\n",
      "       1.61616162, 1.65656566, 1.6969697 , 1.73737374, 1.77777778,\n",
      "       1.81818182, 1.85858586, 1.8989899 , 1.93939394, 1.97979798,\n",
      "       2.02020202, 2.06060606, 2.1010101 , 2.14141414, 2.18181818,\n",
      "       2.22222222, 2.26262626, 2.3030303 , 2.34343434, 2.38383838,\n",
      "       2.42424242, 2.46464646, 2.50505051, 2.54545455, 2.58585859,\n",
      "       2.62626263, 2.66666667, 2.70707071, 2.74747475, 2.78787879,\n",
      "       2.82828283, 2.86868687, 2.90909091, 2.94949495, 2.98989899,\n",
      "       3.03030303, 3.07070707, 3.11111111, 3.15151515, 3.19191919,\n",
      "       3.23232323, 3.27272727, 3.31313131, 3.35353535, 3.39393939,\n",
      "       3.43434343, 3.47474747, 3.51515152, 3.55555556, 3.5959596 ,\n",
      "       3.63636364, 3.67676768, 3.71717172, 3.75757576, 3.7979798 ,\n",
      "       3.83838384, 3.87878788, 3.91919192, 3.95959596, 4.        ])}}, {'angular_diameter_distance':{'z': array([0.        , 0.04040404, 0.08080808, 0.12121212, 0.16161616,\n",
      "       0.2020202 , 0.24242424, 0.28282828, 0.32323232, 0.36363636,\n",
      "       0.4040404 , 0.44444444, 0.48484848, 0.52525253, 0.56565657,\n",
      "       0.60606061, 0.64646465, 0.68686869, 0.72727273, 0.76767677,\n",
      "       0.80808081, 0.84848485, 0.88888889, 0.92929293, 0.96969697,\n",
      "       1.01010101, 1.05050505, 1.09090909, 1.13131313, 1.17171717,\n",
      "       1.21212121, 1.25252525, 1.29292929, 1.33333333, 1.37373737,\n",
      "       1.41414141, 1.45454545, 1.49494949, 1.53535354, 1.57575758,\n",
      "       1.61616162, 1.65656566, 1.6969697 , 1.73737374, 1.77777778,\n",
      "       1.81818182, 1.85858586, 1.8989899 , 1.93939394, 1.97979798,\n",
      "       2.02020202, 2.06060606, 2.1010101 , 2.14141414, 2.18181818,\n",
      "       2.22222222, 2.26262626, 2.3030303 , 2.34343434, 2.38383838,\n",
      "       2.42424242, 2.46464646, 2.50505051, 2.54545455, 2.58585859,\n",
      "       2.62626263, 2.66666667, 2.70707071, 2.74747475, 2.78787879,\n",
      "       2.82828283, 2.86868687, 2.90909091, 2.94949495, 2.98989899,\n",
      "       3.03030303, 3.07070707, 3.11111111, 3.15151515, 3.19191919,\n",
      "       3.23232323, 3.27272727, 3.31313131, 3.35353535, 3.39393939,\n",
      "       3.43434343, 3.47474747, 3.51515152, 3.55555556, 3.5959596 ,\n",
      "       3.63636364, 3.67676768, 3.71717172, 3.75757576, 3.7979798 ,\n",
      "       3.83838384, 3.87878788, 3.91919192, 3.95959596, 4.        ])}}, {'Hubble':{'z': array([0.        , 0.04040404, 0.08080808, 0.12121212, 0.16161616,\n",
      "       0.2020202 , 0.24242424, 0.28282828, 0.32323232, 0.36363636,\n",
      "       0.4040404 , 0.44444444, 0.48484848, 0.52525253, 0.56565657,\n",
      "       0.60606061, 0.64646465, 0.68686869, 0.72727273, 0.76767677,\n",
      "       0.80808081, 0.84848485, 0.88888889, 0.92929293, 0.96969697,\n",
      "       1.01010101, 1.05050505, 1.09090909, 1.13131313, 1.17171717,\n",
      "       1.21212121, 1.25252525, 1.29292929, 1.33333333, 1.37373737,\n",
      "       1.41414141, 1.45454545, 1.49494949, 1.53535354, 1.57575758,\n",
      "       1.61616162, 1.65656566, 1.6969697 , 1.73737374, 1.77777778,\n",
      "       1.81818182, 1.85858586, 1.8989899 , 1.93939394, 1.97979798,\n",
      "       2.02020202, 2.06060606, 2.1010101 , 2.14141414, 2.18181818,\n",
      "       2.22222222, 2.26262626, 2.3030303 , 2.34343434, 2.38383838,\n",
      "       2.42424242, 2.46464646, 2.50505051, 2.54545455, 2.58585859,\n",
      "       2.62626263, 2.66666667, 2.70707071, 2.74747475, 2.78787879,\n",
      "       2.82828283, 2.86868687, 2.90909091, 2.94949495, 2.98989899,\n",
      "       3.03030303, 3.07070707, 3.11111111, 3.15151515, 3.19191919,\n",
      "       3.23232323, 3.27272727, 3.31313131, 3.35353535, 3.39393939,\n",
      "       3.43434343, 3.47474747, 3.51515152, 3.55555556, 3.5959596 ,\n",
      "       3.63636364, 3.67676768, 3.71717172, 3.75757576, 3.7979798 ,\n",
      "       3.83838384, 3.87878788, 3.91919192, 3.95959596, 4.        ]), 'units': 'km/s/Mpc'}}, {'sigma_R':{'z': array([0.        , 0.04040404, 0.08080808, 0.12121212, 0.16161616,\n",
      "       0.2020202 , 0.24242424, 0.28282828, 0.32323232, 0.36363636,\n",
      "       0.4040404 , 0.44444444, 0.48484848, 0.52525253, 0.56565657,\n",
      "       0.60606061, 0.64646465, 0.68686869, 0.72727273, 0.76767677,\n",
      "       0.80808081, 0.84848485, 0.88888889, 0.92929293, 0.96969697,\n",
      "       1.01010101, 1.05050505, 1.09090909, 1.13131313, 1.17171717,\n",
      "       1.21212121, 1.25252525, 1.29292929, 1.33333333, 1.37373737,\n",
      "       1.41414141, 1.45454545, 1.49494949, 1.53535354, 1.57575758,\n",
      "       1.61616162, 1.65656566, 1.6969697 , 1.73737374, 1.77777778,\n",
      "       1.81818182, 1.85858586, 1.8989899 , 1.93939394, 1.97979798,\n",
      "       2.02020202, 2.06060606, 2.1010101 , 2.14141414, 2.18181818,\n",
      "       2.22222222, 2.26262626, 2.3030303 , 2.34343434, 2.38383838,\n",
      "       2.42424242, 2.46464646, 2.50505051, 2.54545455, 2.58585859,\n",
      "       2.62626263, 2.66666667, 2.70707071, 2.74747475, 2.78787879,\n",
      "       2.82828283, 2.86868687, 2.90909091, 2.94949495, 2.98989899,\n",
      "       3.03030303, 3.07070707, 3.11111111, 3.15151515, 3.19191919,\n",
      "       3.23232323, 3.27272727, 3.31313131, 3.35353535, 3.39393939,\n",
      "       3.43434343, 3.47474747, 3.51515152, 3.55555556, 3.5959596 ,\n",
      "       3.63636364, 3.67676768, 3.71717172, 3.75757576, 3.7979798 ,\n",
      "       3.83838384, 3.87878788, 3.91919192, 3.95959596, 4.        ]), 'R': [11.940298507462686]}}, {'fsigma8':{'z': array([0.        , 0.04040404, 0.08080808, 0.12121212, 0.16161616,\n",
      "       0.2020202 , 0.24242424, 0.28282828, 0.32323232, 0.36363636,\n",
      "       0.4040404 , 0.44444444, 0.48484848, 0.52525253, 0.56565657,\n",
      "       0.60606061, 0.64646465, 0.68686869, 0.72727273, 0.76767677,\n",
      "       0.80808081, 0.84848485, 0.88888889, 0.92929293, 0.96969697,\n",
      "       1.01010101, 1.05050505, 1.09090909, 1.13131313, 1.17171717,\n",
      "       1.21212121, 1.25252525, 1.29292929, 1.33333333, 1.37373737,\n",
      "       1.41414141, 1.45454545, 1.49494949, 1.53535354, 1.57575758,\n",
      "       1.61616162, 1.65656566, 1.6969697 , 1.73737374, 1.77777778,\n",
      "       1.81818182, 1.85858586, 1.8989899 , 1.93939394, 1.97979798,\n",
      "       2.02020202, 2.06060606, 2.1010101 , 2.14141414, 2.18181818,\n",
      "       2.22222222, 2.26262626, 2.3030303 , 2.34343434, 2.38383838,\n",
      "       2.42424242, 2.46464646, 2.50505051, 2.54545455, 2.58585859,\n",
      "       2.62626263, 2.66666667, 2.70707071, 2.74747475, 2.78787879,\n",
      "       2.82828283, 2.86868687, 2.90909091, 2.94949495, 2.98989899,\n",
      "       3.03030303, 3.07070707, 3.11111111, 3.15151515, 3.19191919,\n",
      "       3.23232323, 3.27272727, 3.31313131, 3.35353535, 3.39393939,\n",
      "       3.43434343, 3.47474747, 3.51515152, 3.55555556, 3.5959596 ,\n",
      "       3.63636364, 3.67676768, 3.71717172, 3.75757576, 3.7979798 ,\n",
      "       3.83838384, 3.87878788, 3.91919192, 3.95959596, 4.        ]), 'units': None}}]}\n"
     ]
    }
   ],
   "source": [
    "# Which theory requirements is the likelihood asking to the Boltzman Solver?\n",
    "print('\\n Requirements \\n')\n",
    "print(model.provider.requirement_providers)\n",
    "# So, what have we requested?\n",
    "print('\\n Requested \\n')\n",
    "print(model.requested())"
   ]
  },
  {
   "cell_type": "code",
   "execution_count": 11,
   "metadata": {},
   "outputs": [
    {
     "name": "stdout",
     "output_type": "stream",
     "text": [
      "0.0002455711364746094\n"
     ]
    }
   ],
   "source": [
    "# To execute the likelihood, you need to make an evaluation of the posterior\n",
    "# Attention: this chi2 for the moment, does not make sense yet\n",
    "# if ns is sampled, we need to obtain a value from the prior\n",
    "# point = dict(zip(model.parameterization.sampled_params(),\n",
    "#                 model.prior.sample(ignore_external=True)[0]))\n",
    "# As all parameters are fixed, just call the posterior\n",
    "t1 = time.time()\n",
    "model.logposterior({})\n",
    "t2 = time.time()\n",
    "print(t2-t1)"
   ]
  },
  {
   "cell_type": "code",
   "execution_count": null,
   "metadata": {},
   "outputs": [],
   "source": [
    "# which parameters values does the model have?\n",
    "print('\\n Parameters \\n')\n",
    "print(model.provider.params)"
   ]
  },
  {
   "cell_type": "markdown",
   "metadata": {},
   "source": [
    "### Step 3: Call the sampler of  ```COBAYA```\n",
    "\n",
    "Let's check if ```cobaya```works properly with samplers"
   ]
  },
  {
   "cell_type": "code",
   "execution_count": null,
   "metadata": {
    "scrolled": true
   },
   "outputs": [],
   "source": [
    "# for the moment it is commented out as we do not want to run the sampler\n",
    "# from cobaya.run import run\n",
    "# info_updated, samples = run(info)"
   ]
  },
  {
   "cell_type": "markdown",
   "metadata": {},
   "source": [
    "### Step 4: Cosmology module and ```COBAYA```\n",
    "\n",
    "In principle, the cobaya interface only pass cosmology parameters (for instance $\\Omega_m$, $\\Omega_b$, $H$) and ask for theory requirements from the boltzmann solver. Internally, the likelihood module uses the cosmology class to deal with the different GCspec, GCphot, WL recipes."
   ]
  },
  {
   "cell_type": "code",
   "execution_count": null,
   "metadata": {},
   "outputs": [],
   "source": [
    "#Import Cosmology module from the Likelihood Package to play with cosmological quantities\n",
    "from likelihood.cosmo.cosmology import Cosmology"
   ]
  },
  {
   "cell_type": "code",
   "execution_count": null,
   "metadata": {},
   "outputs": [],
   "source": [
    "# Some of the theory needs require extra info (redshift, ks)...\n",
    "z_min = 0.0\n",
    "z_max = 4.0\n",
    "z_samp = 100\n",
    "z_win = np.linspace(z_min, z_max, z_samp)\n",
    "k_max = 0.2"
   ]
  },
  {
   "cell_type": "code",
   "execution_count": null,
   "metadata": {},
   "outputs": [],
   "source": [
    "# Cobaya_interface save the cosmology parameters and the cosmology requirements \n",
    "# from CAMB/CLASS via COBAYA to the cosmology class\n",
    "\n",
    "# This dictionary collects info from cobaya\n",
    "theory_dic = {'H0': model.provider.get_param('H0'),\n",
    "                  'omch2': model.provider.get_param('omch2'),\n",
    "                  'ombh2': model.provider.get_param('ombh2'),\n",
    "                  'mnu': model.provider.get_param('mnu'),\n",
    "                  'comov_dist': model.provider.get_comoving_radial_distance(z_win),\n",
    "                  'angular_dist': model.provider.get_angular_diameter_distance(z_win),\n",
    "                  'H': model.provider.get_Hubble(z_win),\n",
    "                  'Pk_interpolator': model.provider.get_Pk_interpolator(nonlinear=False),\n",
    "                  'Pk_delta': None,\n",
    "                  'fsigma8': None,\n",
    "                  'z_win': z_win\n",
    "                  }\n",
    "theory_dic['Pk_delta'] = model.provider.get_Pk_interpolator((\"delta_tot\", \"delta_tot\"), nonlinear=False)\n",
    "theory_dic['fsigma8'] = model.provider.get_fsigma8(z_win)\n",
    "# Remember: h is hard-coded\n",
    "R, z, sigma_R = model.provider.get_sigma_R()\n",
    "#print(R)\n",
    "theory_dic['sigma_8'] = sigma_R[:, 0]"
   ]
  },
  {
   "cell_type": "code",
   "execution_count": null,
   "metadata": {},
   "outputs": [],
   "source": [
    "# Initialize cosmology class from likelihood.cosmo.cosmology\n",
    "# By default: LCDM\n",
    "t1 = time.time()\n",
    "cosmology = Cosmology()\n",
    "t2 = time.time()\n",
    "print(t2-t1)\n",
    "\n",
    "print(\"Previous dic\\n\\n:\", cosmology.cosmo_dic)"
   ]
  },
  {
   "cell_type": "code",
   "execution_count": null,
   "metadata": {},
   "outputs": [],
   "source": [
    "# the cobaya_interface.py save cobaya theory dictionary as above into cosmology.cosmo_dic\n",
    "t1 = time.time()\n",
    "cosmology.cosmo_dic.update(theory_dic)\n",
    "t2 = time.time()\n",
    "print(t2-t1)\n",
    "\n",
    "\n",
    "t1 = time.time()\n",
    "\n",
    "\n",
    "cosmology.update_cosmo_dic(z_win, 0.005)\n",
    "t2 = time.time()\n",
    "print(t2-t1)\n",
    "\n",
    "\n",
    "\n",
    "print(\"Updated dic\\n\\n:\", cosmology.cosmo_dic)"
   ]
  },
  {
   "cell_type": "code",
   "execution_count": null,
   "metadata": {},
   "outputs": [],
   "source": [
    "# Cosmology class calculates other cosmology quantities needed by GC, WL...\n",
    "# Growth factor\n",
    "D=cosmology.growth_factor(z_win, 0.002)\n",
    "print('D(z, 0.002) =', D)\n",
    "# Growth rate\n",
    "f=cosmology.growth_rate(z_win, 0.002)\n",
    "print('f(0.0, 0.002) =', f(0.0))"
   ]
  },
  {
   "cell_type": "markdown",
   "metadata": {},
   "source": [
    "#### Read data/ExternalBenchmark"
   ]
  },
  {
   "cell_type": "code",
   "execution_count": null,
   "metadata": {},
   "outputs": [],
   "source": [
    "comov_EB = np.genfromtxt(\"/data2/EUCLID/likelihood-implementation/data/ExternalBenchmark/Photometric/ComDist-LCDM-Lin-noIA.dat\")\n",
    "Pm_EB = np.genfromtxt(\"/data2/EUCLID/likelihood-implementation/data/ExternalBenchmark/Photometric/Pnl-TB-LCDM.dat\")\n",
    "ni_EB = np.genfromtxt(\"/data2/EUCLID/likelihood-implementation/data/ExternalBenchmark/Photometric/niTab-EP10-RB00.dat\")\n",
    "Wi_EB = np.genfromtxt(\"/data2/EUCLID/likelihood-implementation/data/ExternalBenchmark/Photometric/WiGamma-LCDM-Lin-noIA.dat\")\n",
    "Wi_EB_G = np.genfromtxt(\"/data2/EUCLID/likelihood-implementation/data/ExternalBenchmark/Photometric/WiG-LCDM-Lin-noIA.dat\")\n",
    "C_GC = np.genfromtxt(\"/data2/EUCLID/likelihood-implementation/data/ExternalBenchmark/Photometric/CijGG-LCDM-Lin-noIA.dat\")\n",
    "C_LL = np.genfromtxt(\"/data2/EUCLID/likelihood-implementation/data/ExternalBenchmark/Photometric/CijLL-LCDM-Lin-noIA.dat\")\n",
    "Pm_ISTF = np.genfromtxt(\"/data2/EUCLID/likelihood-implementation/data/ExternalBenchmark/Pm_z0.0_ISTF.dat\")"
   ]
  },
  {
   "cell_type": "code",
   "execution_count": null,
   "metadata": {},
   "outputs": [],
   "source": [
    "bias_dic = np.load(\"/data2/EUCLID/likelihood-implementation/data/ExternalBenchmark/matteo_bias.npy\", allow_pickle = True).item()"
   ]
  },
  {
   "cell_type": "code",
   "execution_count": null,
   "metadata": {},
   "outputs": [],
   "source": [
    "z_extended = np.linspace(2.6, 4, 100)\n",
    "np.concatenate([bias_dic['z'], z_extended])"
   ]
  },
  {
   "cell_type": "code",
   "execution_count": null,
   "metadata": {},
   "outputs": [],
   "source": [
    "z_extended = np.linspace(2.6, 4, 100)\n",
    "np.concatenate([bias_dic['bias'], bias_dic['bias'][-1]*np.ones(len(z_extended))])"
   ]
  },
  {
   "cell_type": "code",
   "execution_count": null,
   "metadata": {},
   "outputs": [],
   "source": [
    "# Make panda DataFrame for Pm to filter redshift\n",
    "import pandas as pd\n",
    "Pm_pd_EM = pd.DataFrame(Pm_EB, columns =[\"logk\", \"z\", \"logPnl\", \"logPlin\"])\n",
    "z_values = Pm_pd_EM['z']\n",
    "unique_z = np.unique(z_values)\n",
    "#unique_z"
   ]
  },
  {
   "cell_type": "markdown",
   "metadata": {},
   "source": [
    "## Cosmology plots"
   ]
  },
  {
   "cell_type": "code",
   "execution_count": null,
   "metadata": {
    "scrolled": false
   },
   "outputs": [],
   "source": [
    "# Matter power spectrum\n",
    "plt.figure(figsize=(10,6));\n",
    "ks=10**(Pm_pd_EM[Pm_pd_EM['z']==2.5]['logk'])\n",
    "plt.loglog(ks, cosmology.cosmo_dic['Pk_delta'].P(z_win[0], ks), label=r\"Cobaya z={}\".format(z_win[0]))\n",
    "plt.loglog(ks, 10**Pm_pd_EM[Pm_pd_EM['z']==0.0]['logPlin'], 'g--', label=r\"Benchmark\")\n",
    "plt.loglog(Pm_ISTF[:, 0], Pm_ISTF[:, 1], 'r-.', label=r\"IST:F\")\n",
    "\n",
    "\n",
    "plt.xlabel(\"k\");\n",
    "plt.ylabel(r\"$P_m$\");\n",
    "#plt.xlim(10**(-4), 0.2)\n",
    "plt.ylim(10**(2), 5*10**(6))\n",
    "plt.legend();\n",
    "plt.figure(figsize=(10,6));\n",
    "plt.loglog(ks, 100*(cosmology.cosmo_dic['Pk_delta'].P(z_win[0], ks)-10**Pm_pd_EM[Pm_pd_EM['z']==z_win[0]]['logPlin'])/(10**Pm_pd_EM[Pm_pd_EM['z']==z_win[0]]['logPlin']), 'g--', label=r\"Benchmark\")\n",
    "\n",
    "plt.xlim(10**(-4), 10);\n",
    "plt.ylim(10**(-5), 50);\n",
    "plt.xlabel(\"k\");\n",
    "plt.ylabel(r\"$\\Delta P_m /P_m $ (%)\");"
   ]
  },
  {
   "cell_type": "code",
   "execution_count": null,
   "metadata": {},
   "outputs": [],
   "source": [
    "plt.figure(figsize=(10,6))\n",
    "for z in unique_z[:10]:\n",
    "    # Matter power spectrum\n",
    "    #print(z)\n",
    "    ks=10**(Pm_pd_EM[Pm_pd_EM['z']==z]['logk'])\n",
    "    plt.loglog(ks, 100*(cosmology.cosmo_dic['Pk_delta'].P(z, ks)-10**Pm_pd_EM[Pm_pd_EM['z']==z]['logPlin'])/(10**Pm_pd_EM[Pm_pd_EM['z']==z]['logPlin']),label=r\"z={}\".format(z))\n",
    "    plt.xlabel(\"k\");\n",
    "    plt.ylabel(r\"Relative $P_m$ (\\%)\");\n",
    "    plt.legend();\n",
    "    plt.xlim(10**(-4), 0.2)\n",
    "    plt.ylim(10**(-5), 30)"
   ]
  },
  {
   "cell_type": "code",
   "execution_count": null,
   "metadata": {},
   "outputs": [],
   "source": [
    "# It seems that there is a bug in the calculation of D and f. Let's verify with CLASS\n",
    "from classy import Class\n",
    "cosmo_class = Class()\n",
    "cosmo_class.set({'omega_b':0.05*h**2,'omega_cdm':0.268563*h**2,\n",
    "                 'h':0.67,'A_s':2.12605e-9,'n_s':0.96,'tau_reio':0.0925, 'Omega_Lambda': 0.68,\n",
    "                 'N_ur': 2.046})\n",
    "cosmo_class.compute();\n",
    "class_bg = cosmo_class.get_background();"
   ]
  },
  {
   "cell_type": "code",
   "execution_count": null,
   "metadata": {},
   "outputs": [],
   "source": [
    "# Read IST:F data\n",
    "data_ist = np.genfromtxt(\"/data2/fG_Growth_IST_9bins.txt\")\n",
    "comov_ist_Mpc = np.genfromtxt(\"/data2/ComovingDistance_Mpc_ISTF.txt\")"
   ]
  },
  {
   "cell_type": "code",
   "execution_count": null,
   "metadata": {},
   "outputs": [],
   "source": [
    "# Plot Growth factor, growth rate, sigma8\n",
    "plt.figure(figsize=(10,6))\n",
    "plt.plot(z_win, D, label=\"Self-computed (CAMB)\")\n",
    "plt.plot(data_ist[:, 0], data_ist[:, 2], 'r^', markersize=\"12\", label=\"IST:F\")\n",
    "plt.xlabel(\"z\")\n",
    "plt.ylabel(\"D(z)\")\n",
    "for i, zs in enumerate(np.linspace(0, 2.5, 50)):\n",
    "    plt.plot(zs, cosmo_class.scale_independent_growth_factor(zs), 'ko', label=\"CLASS\" if i == 0 else \"\")\n",
    "plt.legend(loc=1);\n",
    "#plt.xlim(0, 4)"
   ]
  },
  {
   "cell_type": "code",
   "execution_count": null,
   "metadata": {},
   "outputs": [],
   "source": [
    "# Growth rate\n",
    "plt.figure(figsize=(10,6))\n",
    "plt.plot(data_ist[:, 0], data_ist[:, 1], 'r^', markersize=\"12\", label=\"IST:F\" )\n",
    "#for i, zs in enumerate(np.linspace(0, 2.5, 50)):\n",
    "#    plt.plot(zs, cosmo_class.scale_independent_growth_factor_f(zs), 'o',\n",
    "#             color='k', label=\"CLASS\" if i == 0 else \"\")\n",
    "plt.plot(np.linspace(0, 2.5, 500), f(np.linspace(0, 2.5, 500)), label=\"Self-computed (CAMB)\")\n",
    "plt.plot(z_win, theory_dic['fsigma8']/theory_dic['sigma_8'], label=r\"COBAYA (CAMB): $f\\sigma_8/\\sigma_8$\")\n",
    "plt.xlabel(\"z\")\n",
    "plt.ylabel(r\"$f(z)$\")\n",
    "plt.legend();"
   ]
  },
  {
   "cell_type": "code",
   "execution_count": null,
   "metadata": {},
   "outputs": [],
   "source": [
    "# Growth rate\n",
    "plt.figure(figsize=(10,6))\n",
    "plt.plot(z_win, 100*(f(z_win)-cosmology.cosmo_dic['fsigma8_z_func'](z_win)/cosmology.cosmo_dic['sigma8_z_func'](z_win))/f(z_win), 'o-', label='Difference Self-computed and COBAYA')\n",
    "plt.plot(data_ist[:, 0], 100*(f(data_ist[:, 0])-data_ist[:, 1])/f(data_ist[:, 0]), 'r^', markersize=\"12\", label='Difference Self-computed and IST:F')\n",
    "plt.plot(data_ist[:, 0], 100*(cosmology.cosmo_dic['fsigma8_z_func'](data_ist[:, 0])/cosmology.cosmo_dic['sigma8_z_func'](data_ist[:, 0])-data_ist[:, 1])/data_ist[:, 1], 'o-', label='Difference COBAYA and IST:F')\n",
    "\n",
    "\n",
    "plt.xlabel(\"z\")\n",
    "plt.ylabel(r\"$\\Delta f(z)/f(z) (\\%)$\")\n",
    "plt.legend()"
   ]
  },
  {
   "cell_type": "code",
   "execution_count": null,
   "metadata": {},
   "outputs": [],
   "source": [
    "# TODO: compare with Santi"
   ]
  },
  {
   "cell_type": "code",
   "execution_count": null,
   "metadata": {},
   "outputs": [],
   "source": [
    "plt.figure(figsize=(10,6))\n",
    "plt.plot(z_win, cosmology.cosmo_dic['sigma_8'], 'bo', markevery=10, label=\"real sigma8 (COBAYA)\")\n",
    "plt.plot(z_win, cosmology.cosmo_dic['sigma8_z_func'](z_win), 'b-', label='interpolated sigma8')\n",
    "plt.plot(z_win, cosmology.cosmo_dic['fsigma8'], 'go', markevery=10, label=\"real sigma8 (COBAYA)\")\n",
    "plt.plot(z_win, theory_dic['fsigma8'], 'g-', label=\"fsigma8 (z) (COBAYA)\")\n",
    "plt.legend()\n",
    "plt.xlabel(\"z\");"
   ]
  },
  {
   "cell_type": "code",
   "execution_count": null,
   "metadata": {},
   "outputs": [],
   "source": [
    "plt.plot(z_win, cosmology.cosmo_dic['H_z_func'](z_win),\n",
    "         label='interpolated H')\n",
    "plt.plot(z_win, cosmology.cosmo_dic['H'], 'bo', \n",
    "        markevery=10,\n",
    "         label='real H')\n",
    "plt.legend()\n",
    "plt.xlabel(\"z\")\n",
    "plt.xlabel(\"H(z)\");"
   ]
  },
  {
   "cell_type": "code",
   "execution_count": null,
   "metadata": {},
   "outputs": [],
   "source": [
    "plt.figure(figsize=(10,6))\n",
    "plt.plot(z_win, cosmology.cosmo_dic['r_z_func'](z_win), label='Interpolated comoving distance')\n",
    "plt.plot(z_win, cosmology.cosmo_dic['comov_dist'], 'b*', markevery=10, label='Cobaya comoving distance')\n",
    "plt.plot(class_bg['z'], class_bg['comov. dist.'], 'ko', label=\"CLASS\", markevery=10,)    \n",
    "plt.plot(comov_EB[:, 0], comov_EB[:, 1], 'g--', label=r\"Benchmark\")\n",
    "plt.plot(comov_ist_Mpc[:, 0], comov_ist_Mpc[:, 1], 'r^', markersize=\"12\", label=\"IST:F\", markevery=20)\n",
    "plt.legend()\n",
    "plt.ylabel(\"Comoving Distance\");\n",
    "plt.xlabel(\"z\");\n",
    "plt.xlim(0, 3.5);\n"
   ]
  },
  {
   "cell_type": "code",
   "execution_count": null,
   "metadata": {},
   "outputs": [],
   "source": [
    "# Attention: we want in reality the comoving angular distance!\n",
    "plt.figure(figsize=(10,6))\n",
    "plt.plot(z_win, cosmology.cosmo_dic['d_z_func'](z_win), 'g-', label='Interpolated Angular distance')\n",
    "plt.plot(z_win, cosmology.cosmo_dic['angular_dist'], 'go', markevery=10, label='Cobaya Angular distance')\n",
    "plt.legend()\n",
    "plt.xlabel(\"Angular Diameter Distance\");\n",
    "plt.xlabel(\"z\");"
   ]
  },
  {
   "cell_type": "markdown",
   "metadata": {},
   "source": [
    "### Step 5: Galdist, Shear modules and ```COBAYA```\n",
    "\n"
   ]
  },
  {
   "cell_type": "code",
   "execution_count": null,
   "metadata": {},
   "outputs": [],
   "source": [
    "from likelihood.general_specs.estimates import Galdist"
   ]
  },
  {
   "cell_type": "code",
   "execution_count": null,
   "metadata": {},
   "outputs": [],
   "source": [
    "plt.figure(figsize=(22,6))\n",
    "color = ['red', ]\n",
    "z_phot = np.linspace(0.0100, 2.5, 1000)\n",
    "for i in [1, 2, 3, 4, 5, 6, 7, 8, 9, 10]:\n",
    "    galdist = Galdist(i)\n",
    "    plt.plot(z_phot, galdist.n_i(z_phot), label=\"i = {}\".format(i))\n",
    "    plt.plot(ni_EB[:, 0], ni_EB[:, i], 'o', markevery=10)\n",
    "plt.legend()\n",
    "plt.xlim(0, 2.9);\n",
    "plt.ylabel(\"n(z)\", fontsize=30);\n",
    "plt.xlabel(\"z\", fontsize=30);"
   ]
  },
  {
   "cell_type": "code",
   "execution_count": null,
   "metadata": {},
   "outputs": [],
   "source": [
    "# Vincenzo's data is still not normalized!"
   ]
  },
  {
   "cell_type": "code",
   "execution_count": null,
   "metadata": {
    "scrolled": true
   },
   "outputs": [],
   "source": [
    "plt.figure(figsize=(22,6))\n",
    "z_phot = np.linspace(0.0100, 2.5, 1000)\n",
    "plt.title(\"Benchmark\", fontsize=30)\n",
    "for i in [1, 2, 3, 4, 5, 6, 7, 8, 9, 10]:\n",
    "    galdist = Galdist(i)\n",
    "    #plt.plot(z_phot, galdist.n_i(z_phot), label=\"i = {}\".format(i))\n",
    "    plt.plot(ni_EB[:, 0], ni_EB[:, i], 'o', markevery=10, label=\"i = {}\".format(i))\n",
    "plt.xlim(0, 2.5);\n",
    "plt.ylabel(\"n(z)\", fontsize=30);\n",
    "plt.xlabel(\"z\", fontsize=30);\n",
    "plt.legend();"
   ]
  },
  {
   "cell_type": "code",
   "execution_count": null,
   "metadata": {},
   "outputs": [],
   "source": [
    "# Try to see if the problem if Vicenzo's normalization \n",
    "ni_v_inter = interpolate.InterpolatedUnivariateSpline(ni_EB[:, 0], ni_EB[:, 1], ext=2)\n",
    "denom = integrate.quad(ni_v_inter, ni_EB[:, 0][0], ni_EB[:, 0][-1])\n",
    "print(denom[0])\n",
    "# Effectively, Vincenzo's is not normalized"
   ]
  },
  {
   "cell_type": "code",
   "execution_count": null,
   "metadata": {
    "scrolled": false
   },
   "outputs": [],
   "source": [
    "plt.figure(figsize=(22,6))\n",
    "color = ['red', 'green', 'pink', 'black', 'purple', 'grey', 'orange', 'blue', 'darkblue', 'salmon']\n",
    "z_phot = np.linspace(0.0100, 2.5, 1000)\n",
    "plt.title(\"Estimates\", fontsize=30)\n",
    "for i in [1, 2, 3, 4, 5, 6, 7, 8, 9, 10]:\n",
    "    \n",
    "    galdist = Galdist(i)\n",
    "    ni_v_inter = interpolate.InterpolatedUnivariateSpline(ni_EB[:, 0], ni_EB[:, i], ext=2)\n",
    "    denom = integrate.quad(ni_v_inter, ni_EB[:, 0][0], ni_EB[:, 0][-1])\n",
    "    t1 = time.time()\n",
    "    galdist.n_i(z_phot)\n",
    "    t2 = time.time()\n",
    "    print(t2-t1)\n",
    "    \n",
    "    plt.plot(z_phot, galdist.n_i(z_phot), 'o', markevery=20, label=\"i = {}\".format(i), color=color[i-1])\n",
    "    plt.plot(ni_EB[:, 0], ni_EB[:, i]/denom[0], '-', color=color[i-1])\n",
    "plt.xlim(0, 2.5);\n",
    "plt.ylabel(\"n(z)\", fontsize=30);\n",
    "plt.xlabel(\"z\", fontsize=30);\n",
    "plt.legend();"
   ]
  },
  {
   "cell_type": "markdown",
   "metadata": {},
   "source": [
    "### Problems:\n",
    " * Slightly difference in the self-computed limits of estimates.py and the Benchmark ones\n",
    " * Benchmark is not normalized"
   ]
  },
  {
   "cell_type": "code",
   "execution_count": null,
   "metadata": {},
   "outputs": [],
   "source": [
    "from likelihood.photometric_survey.shear import Shear\n",
    "shear = Shear(cosmology.cosmo_dic)"
   ]
  },
  {
   "cell_type": "code",
   "execution_count": null,
   "metadata": {
    "scrolled": false
   },
   "outputs": [],
   "source": [
    "from likelihood.photometric_survey.shear import Shear\n",
    "shear = Shear(cosmology.cosmo_dic)\n",
    "plt.figure(figsize=(22,6))\n",
    "plt.title(\"Shear\", fontsize=30)\n",
    "t1 = time.time()\n",
    "for i in [1, 2, 3, 4, 5, 6, 7, 8, 9, 10]:\n",
    "    plt.plot(Wi_EB[:, 0], Wi_EB[:, i], '-', markevery=4, color=color[i-1])\n",
    "    print(i)\n",
    "    for j, z in enumerate(np.linspace(0.01, 2.5, 100)):\n",
    "        shear.WL_window(z, i)\n",
    "        plt.plot(z, shear.WL_window(z, i), 'o-', color=color[i-1], label=\"i={}\".format(i) if j == 0 else \"\")\n",
    "t2 = time.time()\n",
    "print(t2-t1)\n",
    "plt.legend()\n",
    "plt.ylabel(r\"$W_\\gamma(z)$\", fontsize=30);\n",
    "plt.xlabel(\"z\", fontsize=30);"
   ]
  },
  {
   "cell_type": "code",
   "execution_count": null,
   "metadata": {},
   "outputs": [],
   "source": [
    "from likelihood.photometric_survey.shear import Shear\n",
    "shear = Shear(cosmology.cosmo_dic)\n",
    "plt.figure(figsize=(22,6))\n",
    "plt.title(\"Shear\", fontsize=30)\n",
    "t1 = time.time()\n",
    "for i in [1, 2, 3, 4, 5, 6, 7, 8, 9, 10]:\n",
    "    print(i)\n",
    "    #plt.plot(Wi_EB_G[:, 0], Wi_EB_G[:, i], '-', markevery=4, color=color[i-1])\n",
    "    for j, z in enumerate(np.linspace(0.01, 2.5, 100)):\n",
    "        plt.plot(z, shear.GC_window(0.5, z, i), 'o', color=color[i-1], label=\"i={}\".format(i) if j == 0 else \"\")\n",
    "t2 = time.time()\n",
    "print(t2-t1)\n",
    "plt.legend()\n",
    "plt.ylabel(r\"$W_{GC}(z)$\", fontsize=30);\n",
    "plt.xlabel(\"z\", fontsize=30);"
   ]
  },
  {
   "cell_type": "code",
   "execution_count": null,
   "metadata": {},
   "outputs": [],
   "source": [
    "from likelihood.photometric_survey.shear import Shear\n",
    "shear = Shear(cosmology.cosmo_dic)\n",
    "plt.figure(figsize=(22,6))\n",
    "plt.title(\"Shear\", fontsize=30)\n",
    "t1 = time.time()\n",
    "for i in [1, 2, 3, 4, 5, 6, 7, 8, 9, 10]:\n",
    "    print(i)\n",
    "    plt.plot(Wi_EB_G[:, 0], Wi_EB_G[:, i], '-', markevery=4, color=color[i-1])\n",
    "t2 = time.time()\n",
    "print(t2-t1)\n",
    "plt.legend()\n",
    "plt.ylabel(r\"$W_{GC}(z)$\", fontsize=30);\n",
    "plt.xlabel(\"z\", fontsize=30);"
   ]
  },
  {
   "cell_type": "markdown",
   "metadata": {},
   "source": [
    "## Fiducial model"
   ]
  },
  {
   "cell_type": "code",
   "execution_count": null,
   "metadata": {},
   "outputs": [],
   "source": [
    "# Initialize cosmology class from likelihood.cosmo.cosmology\n",
    "# By default: LCDM\n",
    "fiducial_cosmology = Cosmology()\n",
    "print(fiducial_cosmology.cosmo_dic)\n",
    "print(fiducial_cosmology.cosmo_dic['ombh2'])"
   ]
  },
  {
   "cell_type": "code",
   "execution_count": null,
   "metadata": {},
   "outputs": [],
   "source": [
    "info_fiducial = {\n",
    "    #Which parameters would you like to sample?\n",
    "    'params': {\n",
    "        # Fixed\n",
    "        'ombh2': fiducial_cosmology.cosmo_dic['ombh2'], \n",
    "        'omch2': fiducial_cosmology.cosmo_dic['omch2'], \n",
    "        'H0': fiducial_cosmology.cosmo_dic['H0'], \n",
    "        'tau': fiducial_cosmology.cosmo_dic['tau'],\n",
    "        'mnu': fiducial_cosmology.cosmo_dic['mnu'], \n",
    "        'nnu': fiducial_cosmology.cosmo_dic['nnu'],\n",
    "        'ns': fiducial_cosmology.cosmo_dic['ns'],\n",
    "        'As': fiducial_cosmology.cosmo_dic['As'],\n",
    "        },\n",
    "    #We should decide with Boltzmann we want for the fiducial: CAMB\n",
    "    'theory': {'camb': {'stop_at_error': True, 'extra_args':{'num_massive_neutrinos': 1}}},\n",
    "    #Where have you installed your modules (i.e: CAMB, polychord, likelihoods...)\n",
    "    'packages_path': modules_path,\n",
    "    #Likelihood: we load the likelihood as an external function\n",
    "    'likelihood': {'one': None}\n",
    "    }"
   ]
  },
  {
   "cell_type": "code",
   "execution_count": null,
   "metadata": {},
   "outputs": [],
   "source": [
    "model_fiducial = get_model(info_fiducial)\n",
    "\n",
    "# Declare our desired theory product\n",
    "# (there is no cosmological likelihood doing it for us)\n",
    "model_fiducial.add_requirements({\"Pk_interpolator\": {\"z\": z_win,\n",
    "                                    \"k_max\": k_max,\n",
    "                                    \"nonlinear\": False,\n",
    "                                    \"vars_pairs\": ([[\"delta_tot\",\n",
    "                                                     \"delta_tot\"]])},\n",
    "                \"comoving_radial_distance\": {\"z\": z_win},\n",
    "                \"angular_diameter_distance\": {\"z\": z_win},\n",
    "                \"Hubble\": {\"z\": z_win, \"units\": \"km/s/Mpc\"},\n",
    "                \"fsigma8\": {\"z\": z_win, \"units\": None}})\n",
    "\n",
    "# Compute and extract the CMB power spectrum\n",
    "# (In muK^-2, without l(l+1)/(2pi) factor)\n",
    "# notice the empty dictionary below: all parameters are fixed\n",
    "model_fiducial.logposterior({})\n"
   ]
  },
  {
   "cell_type": "code",
   "execution_count": null,
   "metadata": {},
   "outputs": [],
   "source": [
    "fiducial_cosmology.cosmo_dic['z_win']=z_win\n",
    "fiducial_cosmology.cosmo_dic['comov_dist']= model_fiducial.provider.get_comoving_radial_distance(z_win),\n",
    "fiducial_cosmology.cosmo_dic['angular_dist']= model_fiducial.provider.get_angular_diameter_distance(z_win),\n",
    "fiducial_cosmology.cosmo_dic['H'] = model_fiducial.provider.get_Hubble(z_win),\n",
    "fiducial_cosmology.cosmo_dic['Pk_interpolator'] = model_fiducial.provider.get_Pk_interpolator(nonlinear=False),\n",
    "fiducial_cosmology.cosmo_dic['Pk_delta']= model_fiducial.provider.get_Pk_interpolator((\"delta_tot\", \"delta_tot\"), nonlinear=False)\n",
    "fiducial_cosmology.cosmo_dic['fsigma8'] = model_fiducial.provider.get_fsigma8(z_win)"
   ]
  },
  {
   "cell_type": "code",
   "execution_count": null,
   "metadata": {},
   "outputs": [],
   "source": [
    "fiducial_cosmology.interp_H()\n",
    "fiducial_cosmology.interp_comoving_dist()\n",
    "fiducial_cosmology.interp_angular_dist()\n",
    "#print(fiducial_cosmology.cosmo_dic)"
   ]
  },
  {
   "cell_type": "code",
   "execution_count": null,
   "metadata": {},
   "outputs": [],
   "source": [
    "fiducial_cosmology.cosmo_dic['d_z_func'](0.0000001)"
   ]
  },
  {
   "cell_type": "code",
   "execution_count": null,
   "metadata": {},
   "outputs": [],
   "source": [
    "h = fiducial_cosmology.cosmo_dic['H'][0]/100\n",
    "h[0]"
   ]
  },
  {
   "cell_type": "markdown",
   "metadata": {},
   "source": [
    "### Step 6: Spec module and ```COBAYA```"
   ]
  },
  {
   "cell_type": "code",
   "execution_count": null,
   "metadata": {},
   "outputs": [],
   "source": [
    "from likelihood.spectroscopic_survey.spec import Spec"
   ]
  },
  {
   "cell_type": "code",
   "execution_count": null,
   "metadata": {},
   "outputs": [],
   "source": [
    "spec = Spec(cosmology.cosmo_dic, fiducial_cosmology.cosmo_dic)"
   ]
  },
  {
   "cell_type": "code",
   "execution_count": null,
   "metadata": {},
   "outputs": [],
   "source": [
    "k_win = np.linspace(0.01, 0.33, 100)"
   ]
  },
  {
   "cell_type": "code",
   "execution_count": null,
   "metadata": {},
   "outputs": [],
   "source": [
    "spec_data = np.genfromtxt(\"/data2/EUCLID/likelihood-implementation/data/ExternalBenchmark/Spectroscopic/data_Ariel.dat\")\n",
    "vector = spec_data\n",
    "def inter_pg0(ellx):\n",
    "    #ellx  = 1, 3, 5\n",
    "    ks = vector[:,0]\n",
    "    pks = vector[:,ellx]\n",
    "    return interpolate.interp1d(np.log(ks*h[0]),np.log(pks/h[0]**3),kind='cubic',fill_value='extrapolate')\n",
    "\n",
    "def pg0(ellx,k): #DS Takes true k\n",
    "    return np.exp(inter_pg0(ellx)(np.log(k)))"
   ]
  },
  {
   "cell_type": "code",
   "execution_count": null,
   "metadata": {},
   "outputs": [],
   "source": [
    "color=['blue', 'red', 'green']\n",
    "plt.figure(figsize=(22,6))\n",
    "#plt.plot(k_win, k_win*P0, '*', color=color[0], markersize=13, label='no AP')\n",
    "#plt.plot(k_win, k_win*P2, '*', color=color[1], markersize=13)\n",
    "#plt.plot(k_win, k_win*P4, '*', color=color[2], markersize=13)\n",
    "for i, k in enumerate(k_win):\n",
    "    for j, mu in enumerate([0, 2, 4]):\n",
    "        plt.plot(k, k*spec.multipole_spectra(1.0, k, mu), 'o', color=color[j],\n",
    "            label=r\"$z=1.00; \\ell={}$\".format(mu) if i == 0 else \"\")\n",
    "        plt.plot(k, (2*np.pi)**3*k*pg0(mu+1, k), marker='*', linestyle = '-', label=\"Benchmark \" if i == 0 else \"\", color=color[j])\n",
    "plt.xlabel(\"$k$\", fontsize=30);\n",
    "plt.ylabel(r\"$k*P_\\ell$\", fontsize=30);\n",
    "plt.legend();\n",
    "plt.title(\"Spectroscopic Probe\", fontsize=24)"
   ]
  },
  {
   "cell_type": "code",
   "execution_count": null,
   "metadata": {},
   "outputs": [],
   "source": [
    "color=['blue', 'red', 'green']\n",
    "plt.figure(figsize=(22,6))\n",
    "\n",
    "for i, k in enumerate(k_win):\n",
    "    for j, mu in enumerate([0, 2, 4]):\n",
    "        plt.plot(k, 100*(k*spec.multipole_spectra(1.0, k, mu)-(2*np.pi)**3*k*pg0(mu+1, k))/(2*np.pi)**3*k*pg0(mu+1, k), 'o-', color=color[j],\n",
    "            label=r\"$z=1.00; \\ell={}$\".format(mu) if i == 0 else \"\")\n",
    "plt.xlabel(\"$k$\", fontsize=30);\n",
    "plt.ylabel(r\"$\\Delta(k*P_\\ell)/(k*P_\\ell)   (\\%)$\", fontsize=30);\n",
    "plt.legend();\n",
    "plt.title(\"Spectroscopic Probe\", fontsize=24)"
   ]
  },
  {
   "cell_type": "code",
   "execution_count": null,
   "metadata": {},
   "outputs": [],
   "source": [
    "color=['blue', 'red', 'green']\n",
    "plt.figure(figsize=(22,6))\n",
    "\n",
    "for i, k in enumerate(k_win):\n",
    "    for j, mu in enumerate([0]):\n",
    "        #plt.plot(k, 100*(k*spec.multipole_spectra(1.0, k, mu)-pg0(mu,k))/pg0(mu,k), 'o-', color=color[j],\n",
    "        #    label=r\"$z=1.00; \\ell={}$\".format(mu) if i == 0 else \"\")\n",
    "        plt.plot(k, k*pg0(mu,k), 'o')\n",
    "plt.xlabel(\"$k$\", fontsize=30);\n",
    "plt.ylabel(r\"$\\Delta(k*P_\\ell)/(k*P_\\ell)   (\\%)$\", fontsize=30);\n",
    "plt.legend();\n",
    "plt.title(\"Spectroscopic Probe\", fontsize=24)"
   ]
  },
  {
   "cell_type": "code",
   "execution_count": null,
   "metadata": {},
   "outputs": [],
   "source": [
    "pg0(ellx,k)"
   ]
  }
 ],
 "metadata": {
  "kernelspec": {
   "display_name": "Python 3",
   "language": "python",
   "name": "python3"
  },
  "language_info": {
   "codemirror_mode": {
    "name": "ipython",
    "version": 3
   },
   "file_extension": ".py",
   "mimetype": "text/x-python",
   "name": "python",
   "nbconvert_exporter": "python",
   "pygments_lexer": "ipython3",
   "version": "3.6.11"
  }
 },
 "nbformat": 4,
 "nbformat_minor": 2
}
