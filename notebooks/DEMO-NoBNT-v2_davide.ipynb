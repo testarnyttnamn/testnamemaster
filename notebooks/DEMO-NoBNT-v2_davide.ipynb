{
 "cells": [
  {
   "cell_type": "markdown",
   "metadata": {},
   "source": [
    "# DEMO: CLOE\n",
    "\n",
    "**Description**: this DEMO allows to compute the Galaxy Clustering and Weak Lensing observational probes as defined in the current recipe and computes the likelihood value given some benchmark data. It uses `Cobaya` as the main Bayesian Analysis tool.\n",
    "\n",
    "It contains three potential different scenarios for the user (called user-cases) corresponding to CASE 1, 2 and 3 in the notebook. A basic description of each of the user-case is the following:\n",
    "\n",
    "* **CASE 1**: samples the posterior distribution of the parameters of interest (cosmological or nuisance parameters) by running `Cobaya` with the external Euclid Likelihood and the sampler of your choice within the list of samplers available in `Cobaya`. At the moment, this user case executes a single point evaluation of the likelihood using the `Cobaya` sampler `evaluate`.\n",
    "\n",
    "* **CASE 2**: creates a `model` of `Cobaya` using an internal wrapper of `Cobaya` itself. This wrapper is based on the sampler `evaluate` of `Cobaya`. The `model` allows you to make a single computation of the priors, likelihoods and posterior, measure the time needed by each module or retrieve the information of which theoretical quantities were asked to the Boltzman solvers, for instance. This `model` instance is important, because it is the way the connection between `Cobaya` and the `EuclidLikelihood` code is made internally within `cobaya_interface.py`. In fact, the `model` instance is essential if you want to run CASE 2.1.\n",
    "\n",
    "* **CASE 2.1**: the final section of the notebook retrieves and plots internal theoretical quantities computed by the CLOE code. Be aware that, to be able to retrieve and plot quantities, you need to run first **CASE 2**, because CASE 2.1 requires the `model` instance to be loaded. You can plot the following quantities:\n",
    "    * $H(z)$: Hubble factor\n",
    "    * $r(z)$, $D_A(z)$: comoving and angular diameter distances\n",
    "    * $\\sigma_8$, $f\\sigma_8$: amplitude of the (linear) power spectrum on the scale of 8 $h^{-1} Mpc$, and the product of the growth rate, and the amplitude of the (linear) power spectrum on the scale of 8 $h^{-1} Mpc$\n",
    "    * $D(z)$, $f(z)$: growth factor and growth rate\n",
    "    * $P_{\\delta\\delta}, P_{gg}, P_{g\\delta}, P_{\\delta i}, P_{gi}, P_{ii}$: matter power spectrum obtained by the Boltzman solver, and retrieved from `Cobaya`, and different power spectra\n",
    "    * $n(z)$: galaxy density distributions\n",
    "    * $W_i^{\\rm GC}(z), W_i^{\\rm \\gamma}(z), W_i^{\\rm IA}(z), W_i^{\\rm RSD}(z), W_i^{\\rm mag}(z)$ : window functions or kernel for Galaxy Clustering (GC), Shear ($\\gamma$), Intrinsic Alignment (IA), Galaxy Clustering Redshift Space Distortions (RSD) and magnification (mag).\n",
    "    * $C_\\ell$: angular power spectra\n",
    "    * $P_\\ell$: Legendre multiples\n",
    "\n",
    "\n",
    "**README**: https://gitlab.euclid-sgs.uk/pf-ist-likelihood/likelihood-implementation/-/blob/master/README.md\n",
    "\n",
    "**Install**: in order to use this DEMO notebook, you need to clone the repository `https://gitlab.euclid-sgs.uk/pf-ist-likelihood/likelihood-implementation.git`, and install CLOE as described in the README.\n",
    "Alternatively you may be ready to run if ```Cobaya``` and ```CAMB/CLASS``` are installed. See details below. \n",
    "\n",
    "**Cobaya documentation**: https://cobaya.readthedocs.io/en/latest/\n",
    "\n",
    "**Python information**: if the user is not confortable with some python vocabulary used in this notebook,\n",
    "a nice python review can be found here\n",
    "https://wiki.python.org/moin/BeginnersGuide"
   ]
  },
  {
   "cell_type": "code",
   "execution_count": 1,
   "metadata": {
    "tags": []
   },
   "outputs": [],
   "source": [
    "# General python imports\n",
    "\n",
    "import numpy as np\n",
    "import matplotlib.pyplot as plt\n",
    "import time \n",
    "import os, sys"
   ]
  },
  {
   "cell_type": "code",
   "execution_count": 2,
   "metadata": {},
   "outputs": [
    {
     "name": "stdout",
     "output_type": "stream",
     "text": [
      "Setting as working directory:  /Users/davide/Documents/Lavoro/Programmi/likelihood-implementation\n"
     ]
    }
   ],
   "source": [
    "# If you have clone the repository and open this notebook,\n",
    "# this notebook should be in likelihood-implementation/notebooks\n",
    "# Let's set the working directory to be likelihood-implementation\n",
    "\n",
    "likelihood_path = os.path.realpath(os.path.join(os.getcwd(),'..'))\n",
    "sys.path.insert(0, likelihood_path)\n",
    "print('Setting as working directory: ', likelihood_path)"
   ]
  },
  {
   "cell_type": "code",
   "execution_count": 3,
   "metadata": {
    "tags": []
   },
   "outputs": [],
   "source": [
    "# Matplotlib params set-up\n",
    "\n",
    "%matplotlib inline\n",
    "plt.rc('xtick',labelsize=16)\n",
    "plt.rc('ytick',labelsize=16)\n",
    "plt.rc('font',size=25)\n",
    "plt.rc('axes', titlesize=26)\n",
    "plt.rc('axes', labelsize=25)\n",
    "plt.rc('lines', linewidth=2)\n",
    "plt.rc('lines', markersize=6)\n",
    "plt.rc('legend', fontsize=20)\n",
    "plt.rc('mathtext', fontset='stix')\n",
    "plt.rc('font', family='STIXGeneral')"
   ]
  },
  {
   "cell_type": "markdown",
   "metadata": {},
   "source": [
    "`Cobaya` needs some modules to run: i.e: CAMB, CLASS, Polychord, other likelihood codes, and data (Planck 18, DES...)\n",
    "If you have installed the CLOE as in the README instructions, you need to activate the conda environment `likelihood` to run. This conda environment has CAMB installed, so you won't need to worry about anything else\n",
    "\n",
    "Alternatively, if you have already installed Cobaya and other Cosmological codes such as CAMB, CLASS, Polychord, or Planck 18 you have 2 options:\n",
    "\n",
    "* **(1)**:  point out where each of them is installed with the flag 'path' in the dictionary of cell 5. See the comment in the cell 5 corresponding to the 'theory' key of the 'info' dictionary\n",
    "\n",
    "\n",
    "* **(2)**: if you installed the Cosmological codes as Cobaya automatic installation suggests  (https://cobaya.readthedocs.io/en/latest/installation_cosmo.html) you need to point out the path to your modules\n",
    "as in the variable `modules_path` below:"
   ]
  },
  {
   "cell_type": "code",
   "execution_count": 4,
   "metadata": {
    "tags": []
   },
   "outputs": [],
   "source": [
    "# ATTENTION: write down the path to your COBAYA modules if you want to follow option (2) above.\n",
    "# Otherwise skip this cell\n",
    "# modules_path = \"YOUR_PATH_HERE\""
   ]
  },
  {
   "cell_type": "code",
   "execution_count": 5,
   "metadata": {
    "tags": []
   },
   "outputs": [],
   "source": [
    "## ATTENTION: turn to True if you would like to save all plots in a repository called figs\n",
    "if not os.path.exists('figs/'): \n",
    "    os.mkdir('figs/')\n",
    "save_plots = True"
   ]
  },
  {
   "cell_type": "markdown",
   "metadata": {},
   "source": [
    "## CASE 1: Run `Cobaya` importing CLOE as an external likelihood\n",
    "**User-case**: *Run and go*. This is the most straightforward case where the user calls `Cobaya` to sample the posterior distribution of the parameters of interest. At the moment, this user-case runs one computation of the likelihood on one point of the parameters space given some theoretical predictions of Euclid observables.\n",
    "\n",
    "To run, Cobaya needs an 'input file'. Please, read carefully the comments in the cells below to understand \n",
    "how this input file looks like and which options are available to be modified by the user."
   ]
  },
  {
   "cell_type": "code",
   "execution_count": 6,
   "metadata": {
    "tags": []
   },
   "outputs": [
    {
     "name": "stdout",
     "output_type": "stream",
     "text": [
      "\n",
      "Classy could not be found in your system.\n",
      "Here are some suggestions:\n",
      "\n",
      "\t -Download the Class from class-code.net and install it\n",
      "\t  together with its wrapper classy (type 'make' instead of\n",
      "\t  'make class'\n",
      "\t -If you know that Class is installed on your system\n",
      "\t  and yet classy could not be installed, try re-compiling\n",
      "\t  Class with just ''make'' instead of ''make class''\n",
      "NOTICE: Even without classy you can still use EuclidEmulator2\n",
      "        to emulate boost factors. You won't be able to compute\n",
      "        full power spectra, though.\n"
     ]
    },
    {
     "name": "stderr",
     "output_type": "stream",
     "text": [
      "2023-04-18 16:50:04.060508: I tensorflow/core/platform/cpu_feature_guard.cc:193] This TensorFlow binary is optimized with oneAPI Deep Neural Network Library (oneDNN) to use the following CPU instructions in performance-critical operations:  SSE4.1 SSE4.2\n",
      "To enable them in other operations, rebuild TensorFlow with the appropriate compiler flags.\n"
     ]
    }
   ],
   "source": [
    "# Import external loglike from CLOE; that is, the class EuclidLikelihood within cobaya_interface.py\n",
    "\n",
    "from cloe.cobaya_interface import EuclidLikelihood"
   ]
  },
  {
   "cell_type": "code",
   "execution_count": 7,
   "metadata": {},
   "outputs": [],
   "source": [
    "# We are running the Euclid-Likelihood as an external likelihood class for Cobaya\n",
    "# Cobaya needs a dictionary or yaml file as input to start running\n",
    "# This dictionary below ('info') can be modified up to some point by the user to\n",
    "# adapt it to the user's needs.\n",
    "# The options that can be modified by the user are pointed with the acronym (UC).\n",
    "\n",
    "info = {\n",
    "    #'params': Cobaya's protected key of the input dictionary. \n",
    "    # Includes the parameters that the user would like to sample over:\n",
    "'params': {\n",
    "        # (UC): each parameter below (which is a 'key' of another sub-dictionary) can contain a dictionary\n",
    "        # with the key 'prior', 'latex'...\n",
    "        # If the prior dictionary is not passed to a parameter, this parameter is fixed.\n",
    "        # In this example, we are sampling the parameter ns\n",
    "        # For more information see: https://cobaya.readthedocs.io/en/latest/example.html\n",
    "        'ombh2': 0.022445, #Omega density of baryons times the reduced Hubble parameter squared\n",
    "        'omch2': 0.1205579307, #Omega density of cold dark matter times the reduced Hubble parameter squared\n",
    "        'H0': 67.0, #Hubble parameter evaluated today (z=0) in km/s/Mpc\n",
    "        'tau': 0.0925, #optical depth\n",
    "        'mnu': 0.06, #  sum of the mass of neutrinos in eV\n",
    "        'nnu': 3.046, #N_eff of relativistic species \n",
    "        'As': 2.12605e-9, #Amplitude of the primordial scalar power spectrum\n",
    "        'ns': 0.96, #0.96, #{'prior':{'min':0.8, 'max':1.2}}, # primordial power spectrum tilt (sampled with an uniform prior)\n",
    "        'w': -1.0, #Dark energy fluid model\n",
    "        'wa': 0.0, #Dark energy fluid model\n",
    "        'omk': 0.0, #curvature density\n",
    "        'omegam': None, #DERIVED parameter: Omega matter density\n",
    "        'omegab': None, #DERIVED parameter: Omega baryon density\n",
    "        'omeganu': None, #DERIVED parameter: Omega neutrino density\n",
    "        'omnuh2': None, #DERIVED parameter: Omega neutrino density times de reduced Hubble parameter squared\n",
    "        'omegac': None, #DERIVED parameter: Omega cold dark matter density\n",
    "        'N_eff': None},\n",
    "    #'theory': Cobaya's protected key of the input dictionary.\n",
    "    # Cobaya needs to ask some minimum theoretical requirements to a Boltzman Solver\n",
    "    # (UC): you can choose between CAMB or CLASS\n",
    "    # In this DEMO, we use CAMB and specify some CAMB arguments\n",
    "    # such as the number of massive neutrinos\n",
    "    # and the dark energy model\n",
    "    #\n",
    "    # ATTENTION: If you have CAMB/CLASS already installed and \n",
    "    # you are not using the likelihood conda environment \n",
    "    # or option (2) in cell (3) (Cobaya modules), you can add an extra key called 'path' within the camb dictionary\n",
    "    # to point to your already installed CAMB code\n",
    "    # NOTE: for values of the non-linear flag larger than 0, a new key is added in info['theory']['camb']['extra_args'],\n",
    "    # i.e. 'halofit_version', which contains the requested version of halofit, as described above\n",
    "    'theory': {'camb': \n",
    "               {'stop_at_error': True, \n",
    "                'extra_args':{'num_massive_neutrinos': 1,\n",
    "                              'dark_energy_model': 'ppf'}}},\n",
    "    #'sampler': Cobaya's protected key of the input dictionary.\n",
    "    # (UC): you can choose the sampler you want to use.\n",
    "    # Check Cobaya's documentation to see the list of available samplers\n",
    "    # In this DEMO, we use the 'evaluate' sampler to make a single computation of the posterior distributions\n",
    "    # Note: if you want to run a simple MCMC sampling choose 'mcmc'\n",
    "    'sampler': {'evaluate': None},  \n",
    "    # 'packages_path': Cobaya's protected key of the input dictionary.\n",
    "    # This is the variable you need to update\n",
    "    # if you are running Cobaya with cobaya_modules (option (2) above).\n",
    "    # If you are using the conda likelihood environment or option (1),\n",
    "    # please, keep the line below commented\n",
    "    #\n",
    "    #'packages_path': modules_path,\n",
    "    #\n",
    "    #'output': Cobaya's protected key of the input dictionary.\n",
    "    # Where are the results going to be stored, in case that the sampler produce output files? \n",
    "    # For example: chains...\n",
    "    # (UC): modify the path below within 'output' to choose a name and a directory for those files\n",
    "    'output': 'chains/my_euclid_experiment',\n",
    "    #'debug': Cobaya's protected key of the input dictionary.\n",
    "    # (UC): how much information you want Cobaya to print? If debug: True, it prints every single detail\n",
    "    # that is going on internally in Cobaya\n",
    "    'debug': False,\n",
    "    #'timing': Cobaya's protected key of the input dictionary.\n",
    "    # (UC): if timing: True, Cobaya returns how much time it took it to make a computation of the posterior\n",
    "    # and how much time take each of the modules to perform their tasks\n",
    "    'timing': True,\n",
    "    #'force': Cobaya's protected key of the input dictionary.\n",
    "    # (UC): if 'force': True, Cobaya forces deleting the previous output files, if found, with the same name\n",
    "    'force': True,\n",
    "    }"
   ]
  },
  {
   "cell_type": "code",
   "execution_count": 8,
   "metadata": {},
   "outputs": [],
   "source": [
    "#'likelihood': Cobaya's protected key of the input dictionary.\n",
    "# (UC): The user can select which data wants to use for the analysis.\n",
    "# Check Cobaya's documentation to see the list of the current available data experiments\n",
    "# In this DEMO, we load the Euclid-Likelihood as an external function, and name it 'Euclid'\n",
    "info['likelihood'] = {'Euclid': \n",
    "                     {'external': EuclidLikelihood, # Likelihood Class to be read as external\n",
    "                     # Note: everything down below will overwrite the information read\n",
    "                     # in the config folder\n",
    "                     #\n",
    "                     # Select which observables want to use during the analysis\n",
    "                     # by setting them to True or False\n",
    "                     'observables_selection': {\n",
    "                         'WL': {'WL': True, 'GCphot': False, 'GCspectro': False},\n",
    "                         'GCphot': {'GCphot': False, 'GCspectro': False},\n",
    "                         'GCspectro': {'GCspectro': False}\n",
    "                     },\n",
    "                     # Plot the selected observables matrx\n",
    "                     'plot_observables_selection': True,  \n",
    "                     # Switch to allow for matrix transformations of theory and data vectors\n",
    "                    #  'matrix_transform_phot': \"BNT\",\n",
    "                     'matrix_transform_phot': False,\n",
    "                      # Nonlinear flags\n",
    "                      # With this, the user can specify which nonlinear model they want\n",
    "                      # For the time-being the available options are: \n",
    "                      # NL_flag_phot_matter\n",
    "                        # 0 -> linear-only\n",
    "                        # 1 -> Takahashi\n",
    "                        # 2 -> Mead2020 (w/o baryon corrections)\n",
    "                        # 3 -> EE2\n",
    "                        # 4 -> Bacco (matter)\n",
    "                      # NL_flag_spectro\n",
    "                        # 0 -> linear-only\n",
    "                        # 1 -> EFT\n",
    "                     'NL_flag_phot_matter': 0,\n",
    "                     'NL_flag_spectro': 0,\n",
    "                     'solver': 'camb',\n",
    "                     'params': {\n",
    "                                # (UC): galaxy bias parameters:\n",
    "                                # The bias parameters below are currently fixed to the\n",
    "                                # values used by the Inter Science Taskforce: Forecast (IST:F)\n",
    "                                # and presented in the corresponding IST:F paper (arXiv: 1910.09273).\n",
    "                                # However, they can be changed by the user and even sample over them by putting a prior\n",
    "                                # Photometric bias parameters\n",
    "                                'b1_photo': 1.0997727037892875,\n",
    "                                'b2_photo': 1.220245876862528,\n",
    "                                'b3_photo': 1.2723993083933989,\n",
    "                                'b4_photo': 1.316624471897739,\n",
    "                                'b5_photo': 1.35812370570578,\n",
    "                                'b6_photo': 1.3998214171814918,\n",
    "                                'b7_photo': 1.4446452851824907,\n",
    "                                'b8_photo': 1.4964959071110084,\n",
    "                                'b9_photo': 1.5652475842498528,\n",
    "                                'b10_photo': 1.7429859437184225,\n",
    "                                # Magnification bias parameters\n",
    "                                'magnification_bias_1': 0.0,\n",
    "                                'magnification_bias_2': 0.0,\n",
    "                                'magnification_bias_3': 0.0,\n",
    "                                'magnification_bias_4': 0.0,\n",
    "                                'magnification_bias_5': 0.0,\n",
    "                                'magnification_bias_6': 0.0,\n",
    "                                'magnification_bias_7': 0.0,\n",
    "                                'magnification_bias_8': 0.0,\n",
    "                                'magnification_bias_9': 0.0,\n",
    "                                'magnification_bias_10': 0.0,\n",
    "                                # Shear calibration multiplicative bias parameters                                                                                                                                                                                                                                                                                                            \n",
    "                                'multiplicative_bias_1': 0.0,\n",
    "                                'multiplicative_bias_2': 0.0,\n",
    "                                'multiplicative_bias_3': 0.0,\n",
    "                                'multiplicative_bias_4': 0.0,\n",
    "                                'multiplicative_bias_5': 0.0,\n",
    "                                'multiplicative_bias_6': 0.0,\n",
    "                                'multiplicative_bias_7': 0.0,\n",
    "                                'multiplicative_bias_8': 0.0,\n",
    "                                'multiplicative_bias_9': 0.0,\n",
    "                                'multiplicative_bias_10': 0.0,\n",
    "                                # Spectroscopic bias parameters\n",
    "                                'b1_spectro_bin1': 1.46,\n",
    "                                'b1_spectro_bin2': 1.61,\n",
    "                                'b1_spectro_bin3': 1.75,\n",
    "                                'b1_spectro_bin4': 1.90,\n",
    "                                # Intrinsic alignment parameters\n",
    "                                'aia': 1.72,\n",
    "                                'nia': -0.41,\n",
    "                                'bia': 0.0,\n",
    "                                # Redshift distributions nuisance parameters: shifts\n",
    "                                'dz_1_GCphot': 0.0, 'dz_1_WL': 0.0,\n",
    "                                'dz_2_GCphot': 0.0, 'dz_2_WL': 0.0,\n",
    "                                'dz_3_GCphot': 0.0, 'dz_3_WL': 0.0,\n",
    "                                'dz_4_GCphot': 0.0, 'dz_4_WL': 0.0,\n",
    "                                'dz_5_GCphot': 0.0, 'dz_5_WL': 0.0,\n",
    "                                'dz_6_GCphot': 0.0, 'dz_6_WL': 0.0,\n",
    "                                'dz_7_GCphot': 0.0, 'dz_7_WL': 0.0,\n",
    "                                'dz_8_GCphot': 0.0, 'dz_8_WL': 0.0,\n",
    "                                'dz_9_GCphot': 0.0, 'dz_9_WL': 0.0,\n",
    "                                'dz_10_GCphot': 0.0, 'dz_10_WL': 0.0}, \n",
    "                     # k values for extrapolation of the matter power spectrum and size k-array\n",
    "                     'k_max_extrap': 500.0,\n",
    "                     'k_min_extrap': 1E-5,   \n",
    "                     'k_samp': 1000,\n",
    "                     # z limit values and size z-array\n",
    "                     'z_min': 0.0,\n",
    "                     'z_max': 4.0,\n",
    "                     'z_samp': 100,\n",
    "                     # Add RSD to photometric probes\n",
    "                     'add_phot_RSD': False,\n",
    "                     # Use MG gamma\n",
    "                     'use_gamma_MG': False,\n",
    "                     #'data': This give specifications for the paths of the input data files\n",
    "                     'data': { \n",
    "                        #'sample' specifies the first folder below the main data folder\n",
    "                        'sample': 'ExternalBenchmark',\n",
    "                        #'spectro' and 'photo' specify paths to data files.\n",
    "                        'spectro': {\n",
    "                            # GC Spectro root name should contain z{:s} string\n",
    "                            # to enable iteration over bins\n",
    "                            'root': 'cov_power_galaxies_dk0p004_z{:s}.fits',\n",
    "                            'redshifts': [\"1.\", \"1.2\", \"1.4\", \"1.65\"],\n",
    "                            'edges': [0.9, 1.1, 1.3, 1.5, 1.8]},\n",
    "                        'photo': {\n",
    "                            'ndens_GC': 'niTab-EP10-RB00.dat',\n",
    "                            'ndens_WL': 'niTab-EP10-RB00.dat',\n",
    "                            'luminosity_ratio': 'luminosity_ratio.dat',\n",
    "                            # Photometric root names should contain z{:s} string\n",
    "                            # to specify IA model\n",
    "                            'root_GC': 'Cls_{:s}_PosPos.dat',\n",
    "                            'root_WL': 'Cls_{:s}_ShearShear.dat',\n",
    "                            'root_XC': 'Cls_{:s}_PosShear.dat',\n",
    "                            'IA_model': 'zNLA',\n",
    "                            # Photometric covariances root names should contain z{:s} string\n",
    "                            # to specify how the covariance was calculated\n",
    "                            'cov_GC': 'CovMat-PosPos-{:s}-20Bins.npy',\n",
    "                            'cov_WL': 'CovMat-ShearShear-{:s}-20Bins.npy',\n",
    "                            'cov_3x2pt': 'CovMat-3x2pt-{:s}-20Bins-probe_ell_zpair_new.npy',\n",
    "                            # 'cov_3x2pt': 'cov_3x2pt_2DCLOE_{:s}.npy',\n",
    "                            # 'cov_3x2pt': 'CovMat-3x2pt-{:s}-20Bins.npy',\n",
    "                            # 'cov_model': 'BNT-Gauss'\n",
    "                            'cov_model': 'Gauss'\n",
    "                            }}, \n",
    "                    }}"
   ]
  },
  {
   "cell_type": "code",
   "execution_count": 9,
   "metadata": {},
   "outputs": [],
   "source": [
    "# check that I'm using the correct covariance matrix\n",
    "if info['likelihood']['Euclid']['matrix_transform_phot'] == 'BNT' or info['likelihood']['Euclid']['matrix_transform_phot'] == 'BNT-test':\n",
    "    assert info['likelihood']['Euclid']['data']['photo']['cov_model'] == 'BNT-Gauss'\n",
    "elif info['likelihood']['Euclid']['matrix_transform_phot'] == False:\n",
    "    assert info['likelihood']['Euclid']['data']['photo']['cov_model'] == 'Gauss'"
   ]
  },
  {
   "cell_type": "markdown",
   "metadata": {},
   "source": [
    "### Create the yaml file corresponding to the Likelihood Parameters\n",
    "Cobaya needs to know which parameters the likelihood `EuclidLikelihood` expects (for example, nuisance parameters), apart from the cosmological parameters (i.e: $\\Omega_b$, $H_0$, $n_s$...) which are already known by the theory code (CAMB/CLASS). \n",
    "\n",
    "For that, a `yaml` file is generated instead of having those likelihood parameters hard-coded within `cobaya_interface.py`. To generate this `yaml` file, execute either the next cell or the next-to-next.\n",
    "\n",
    "Please, be aware that this function will only make Cobaya expect those likelihood parameters. To set some fixed values or put a prior on them, the user needs to do so within the `info` python dictionary above. "
   ]
  },
  {
   "cell_type": "code",
   "execution_count": 10,
   "metadata": {},
   "outputs": [],
   "source": [
    "from cloe.auxiliary.likelihood_yaml_handler import set_halofit_version\n",
    "# Set the correct halofit version under the 'extra_args' field in ['theory']['camb']\n",
    "set_halofit_version(info, info['likelihood']['Euclid']['NL_flag_phot_matter'])\n",
    "# Now we are ready to run Cobaya"
   ]
  },
  {
   "cell_type": "code",
   "execution_count": 11,
   "metadata": {},
   "outputs": [],
   "source": [
    "# An alternative way from using an hardcoded Cobaya info dictionary is loading the Cobaya configuration from a yaml file.\n",
    "# Run this cell only if you want to load the info dictionary from file.\n",
    "run_this_cell = False\n",
    "# WARNING: running this cell will overload the info dictionary defined in the previous cells\n",
    "\n",
    "from cloe.auxiliary.likelihood_yaml_handler import get_default_configs_path\n",
    "from cloe.auxiliary.likelihood_yaml_handler import update_cobaya_params_from_model_yaml\n",
    "from cloe.auxiliary.likelihood_yaml_handler import update_cobaya_dict_with_halofit_version\n",
    "from cloe.auxiliary.yaml_handler import yaml_read\n",
    "\n",
    "if run_this_cell:\n",
    "    # A test configuration yaml file is in 'configs/config_test.yaml'\n",
    "    # We can play with this file, or use another config file ...\n",
    "    config_test_path = get_default_configs_path() / 'config_test.yaml'\n",
    "    # Loading the dictionary from the file\n",
    "    config_test_dict = yaml_read(config_test_path)\n",
    "    info = config_test_dict['Cobaya']\n",
    "    # And read the model file name (only for this case, 'params' value is a file name where the model is specified)\n",
    "    # We can play with this model file, or use another model file ...\n",
    "    model_file = info['params']\n",
    "    # Joining the complete path for the model file\n",
    "    model_path = config_test_path.parent.joinpath(model_file)\n",
    "    # Updating the Cobaya info dictionary from the model\n",
    "    # i.e. writing the whole 'params' dict instead of the model file name\n",
    "    update_cobaya_params_from_model_yaml(info, model_path)\n",
    "    # Updating the Cobaya dictionary to add the halofit version corresponding to the selected NL flag\n",
    "    update_cobaya_dict_with_halofit_version(info)\n",
    "    set_halofit_version(info, info['likelihood']['Euclid']['NL_flag'])\n",
    "\n",
    "# Now we are ready to run cobaya"
   ]
  },
  {
   "cell_type": "code",
   "execution_count": 12,
   "metadata": {
    "scrolled": false
   },
   "outputs": [
    {
     "name": "stdout",
     "output_type": "stream",
     "text": [
      "[output] Output to be read-from/written-into folder 'chains', with prefix 'my_euclid_experiment'\n",
      "[output] Found existing info files with the requested output prefix: 'chains/my_euclid_experiment'\n",
      "[output] Will delete previous products ('force' was requested).\n",
      "[camb] `camb` module loaded successfully from /opt/anaconda3/envs/cloe/lib/python3.9/site-packages/camb\n"
     ]
    },
    {
     "data": {
      "image/png": "[encoded data removed]",
      "text/plain": [
       "<Figure size 640x480 with 2 Axes>"
      ]
     },
     "metadata": {},
     "output_type": "display_data"
    },
    {
     "name": "stdout",
     "output_type": "stream",
     "text": [
      "[camb] `camb` module loaded successfully from /opt/anaconda3/envs/cloe/lib/python3.9/site-packages/camb\n",
      "[model] *WARNING* Theories {camb.transfers, camb} do not appear to be actually used for anything\n"
     ]
    },
    {
     "name": "stderr",
     "output_type": "stream",
     "text": [
      "/Users/davide/Documents/Lavoro/Programmi/likelihood-implementation/cloe/photometric_survey/photo.py:209: UserWarning: Bessel tables have been set with the specified angular separations. Computing 3x2pt correlation functions at different angles will lead to unexpected outputs.\n",
      "  warnings.warn('Bessel tables have been set with the specified angular '\n"
     ]
    },
    {
     "name": "stdout",
     "output_type": "stream",
     "text": [
      "[evaluate] *WARNING* No sampled parameters requested! This will fail for non-mock samplers.\n",
      "[evaluate] Initialized!\n",
      "[evaluate] Looking for a reference point with non-zero prior.\n",
      "[evaluate] Reference point:\n",
      "   \n",
      "[evaluate] Evaluating prior and likelihoods...\n",
      "[evaluate] log-posterior  = -0.0110176\n",
      "[evaluate] log-prior      = 0\n",
      "[evaluate]    logprior_0 = 0\n",
      "[evaluate] log-likelihood = -0.0110176\n",
      "[evaluate]    chi2_Euclid = 0.0220351\n",
      "[evaluate] Derived params:\n",
      "[evaluate]    omegam = 0.32\n",
      "[evaluate]    omegab = 0.05\n",
      "[evaluate]    omeganu = 0.00143655\n",
      "[evaluate]    omnuh2 = 0.000644867\n",
      "[evaluate]    omegac = 0.268563\n",
      "[evaluate]    N_eff = 3.046\n",
      "[euclid] Average evaluation time for Euclid: 1.31229 s  (1 evaluations)\n",
      "[camb.transfers] Average evaluation time for camb.transfers: 0.854118 s  (1 evaluations)\n",
      "[camb] Average evaluation time for camb: 0.00221696 s  (1 evaluations)\n"
     ]
    }
   ],
   "source": [
    "# Import Cobaya run function\n",
    "from cobaya.run import run\n",
    "import matplotlib\n",
    "matplotlib.rcParams['text.usetex'] = False\n",
    "\n",
    "# Let's run Cobaya\n",
    "# the function run returns\n",
    "# info_updated: an information dictionary updated with the defaults, \n",
    "# equivalent to the updated yaml file produced by the shell invocation\n",
    "# samples: a sampler object, with a sampler.products() \n",
    "# being a dictionary of results. \n",
    "# For the mcmc sampler, the dictionary contains only one chain under the key sample.\n",
    "info_updated, samples = run(info)"
   ]
  },
  {
   "cell_type": "markdown",
   "metadata": {},
   "source": [
    "**Explanation of the printed output by Cobaya**: \n",
    "- output: it tells details about the output\n",
    "- Prior: it shows the values sampled by the prior. In this case, our parameters of interest are all fixed so Cobaya reminds that.\n",
    "- CAMB: it calls the theory code you wanted to use (CAMB/CLASS, in this case, CAMB, and where it is installed).\n",
    "\n",
    "You see these outputs repeated twice because the CLOE calls `Cobaya` internally twice, within the EuclidLikelihood, to calculate the fiducial cosmology.\n",
    "- evaluate: the 'evaluate' sampler gets initialized, looks for a point and evaluates the posterior.\n",
    "\n",
    "Note that since the option timing is True in the info dictionary, Cobaya tells you how much time it took to compute the likelihood (euclid) and CAMB"
   ]
  },
  {
   "cell_type": "markdown",
   "metadata": {},
   "source": [
    "# Case 2: Run `Cobaya model` with CLOE as external likelihood \n",
    "\n",
    "**User-case**: the analysis tool `Cobaya` has a wrapper of its `evaluate` sampler (the one executed in CASE 1), called `model`, that allows to:\n",
    "\n",
    "* make an evaluation in a single point of prior, likelihood and posterior distributions\n",
    "* retrieve derived parameters and other quantities\n",
    "\n",
    "The `model` wrapper is useful for debugging as well (i.e: imagine you are running a MCMC sampling to find the best-fit values of a given model, and the MCMC chains get stuck for unknown reasons). With the `model`, you can investigate what is going on internally in `Cobaya` at each step of the sampling algorithm.\n",
    "\n",
    "Moreover, our EuclidLikelihood code, which is designed to work as an external likelihood code for `Cobaya` relies on this `model` wrapper to make the connection between `Cobaya`, the likelihood calculation and the computation of the theoretical predictions (see **CASE 2.1** for further information).\n",
    "\n",
    "In this **CASE 2**, we will see how to activate the `model` wrapper, how to use it and how to understand the output it provides."
   ]
  },
  {
   "cell_type": "code",
   "execution_count": 13,
   "metadata": {
    "scrolled": false
   },
   "outputs": [
    {
     "name": "stdout",
     "output_type": "stream",
     "text": [
      "[model] *WARNING* Ignored blocks/options: ['sampler', 'output', 'force']\n",
      "[camb] `camb` module loaded successfully from /opt/anaconda3/envs/cloe/lib/python3.9/site-packages/camb\n"
     ]
    },
    {
     "data": {
      "image/png": "[encoded data removed]",
      "text/plain": [
       "<Figure size 640x480 with 2 Axes>"
      ]
     },
     "metadata": {},
     "output_type": "display_data"
    },
    {
     "name": "stdout",
     "output_type": "stream",
     "text": [
      "[camb] `camb` module loaded successfully from /opt/anaconda3/envs/cloe/lib/python3.9/site-packages/camb\n",
      "[model] *WARNING* Theories {camb, camb.transfers} do not appear to be actually used for anything\n"
     ]
    },
    {
     "name": "stderr",
     "output_type": "stream",
     "text": [
      "/Users/davide/Documents/Lavoro/Programmi/likelihood-implementation/cloe/photometric_survey/photo.py:209: UserWarning: Bessel tables have been set with the specified angular separations. Computing 3x2pt correlation functions at different angles will lead to unexpected outputs.\n",
      "  warnings.warn('Bessel tables have been set with the specified angular '\n"
     ]
    },
    {
     "name": "stdout",
     "output_type": "stream",
     "text": [
      "Time for initialization of the likelihood:  4.605833053588867\n"
     ]
    }
   ],
   "source": [
    "# First: import model wrapper of Cobaya \n",
    "from cobaya.model import get_model\n",
    "\n",
    "# The `get_model` function of Cobaya imported in the line above needs a yaml or dictionary as an argument\n",
    "# exactly the same as the function `run` in cell 9 also needs.\n",
    "#\n",
    "# We measure the time to give us an estimation of how much time it takes to make the initialization of the\n",
    "# likelihood\n",
    "\n",
    "t1 = time.time()\n",
    "\n",
    "# Second: create an instance of the `model` wrapper called model\n",
    "model = get_model(info)\n",
    "print('Time for initialization of the likelihood: ', time.time()-t1)"
   ]
  },
  {
   "cell_type": "markdown",
   "metadata": {},
   "source": [
    "**Explanation of the printed output by Cobaya**: \n",
    "\n",
    "- Model: it tells you Cobaya is using the `model` wrapper, and it's reading the info dictionary.\n",
    "- Prior: it shows the values sampled by the prior. In this case, our parameters of interest are all fixed so Cobaya reminds that.\n",
    "- CAMB: it calls the theory code you wanted to use (CAMB/CLASS, in this case, CAMB, and where it is installed).\n",
    "\n",
    "You see these outputs repeated twice because the CLOE calls Cobaya internally twice, within the EuclidLikelihood, to calculate the fiducial cosmology.\n",
    "\n",
    "It takes around 10 seconds to initialize the likelihood (reading OU-LE3 data and computing fiducial cosmology) "
   ]
  },
  {
   "cell_type": "markdown",
   "metadata": {},
   "source": [
    "### Functionalities of the `model` wrapper:\n",
    "As mentioned above, we can get an insight of what `Cobaya` is doing using the `model` object. We can ask, for instance:\n",
    " * (1) which quantities were **required** by the likelihood code and asked to the Boltzman solver through `Cobaya`\n",
    " * (2) at which values (i.e: redshift, scales...) those requirements were **requested**.\n",
    " \n",
    "To see how to ask for these quantities, execute the cell below:"
   ]
  },
  {
   "cell_type": "code",
   "execution_count": 14,
   "metadata": {
    "scrolled": false
   },
   "outputs": [],
   "source": [
    "# (1) Requirements needed by the likelihood code.\n",
    "# That means, which quantities are we asking to the Boltzman (CAMB/CLASS) through Cobaya?\n",
    "# print('\\n Requirements \\n')\n",
    "# print(model.provider.requirement_providers)\n",
    "# (2) At which values have the requirements been requested (redshift, scales...)?\n",
    "# print('\\n Requested \\n')\n",
    "# print(model.requested())"
   ]
  },
  {
   "cell_type": "code",
   "execution_count": 15,
   "metadata": {},
   "outputs": [],
   "source": [
    "#print(model.provider.requirement_providers)"
   ]
  },
  {
   "cell_type": "markdown",
   "metadata": {},
   "source": [
    "* (3) With the `model` wrapper you can also make an evaluation of the prior, likelihood and posterior distributions\n",
    "\n",
    "ATTENTION: we initialized the `model` wrapper by reading the `info` dictionary above. This `info` dictionary has almost all the parameters of interest fixed (the only sampled parameters is $n_s$). Therefore, to make an evaluation of the probability distributions (priors, likelihoods and posterior), you need:\n",
    "\n",
    "* First: get a point of the sampled parameters from the prior distribution \n",
    "* Second: pass this point to the logposterior method\n",
    "\n",
    "See comments in the cell below to understand how to retrieve the values of these distributions."
   ]
  },
  {
   "cell_type": "code",
   "execution_count": 16,
   "metadata": {},
   "outputs": [
    {
     "name": "stdout",
     "output_type": "stream",
     "text": [
      "Time to compute the logposterior:  2.1747889518737793\n",
      "Full log-posterior:\n",
      "   logposterior: -0.0110176\n",
      "   logpriors: {'0': 0.0}\n",
      "   loglikelihoods: {'Euclid': -0.011017551566098247}\n",
      "   derived params: {'omegam': 0.3199995483863335, 'omegab': 0.04999999999999999, 'omeganu': 0.0014365483863335129, 'omnuh2': 0.000644866570625114, 'omegac': 0.26856299999999994, 'N_eff': 3.0460000000000003}\n"
     ]
    }
   ],
   "source": [
    "# At the moment, we are sampling only ns\n",
    "# if there are sampled parameters, we need first to obtain a value from the prior\n",
    "# i.e: (FIRST)\n",
    "#point = dict(zip(model.parameterization.sampled_params(),\n",
    "#                 model.prior.sample(ignore_external=True)[0]))\n",
    "t1 = time.time()\n",
    "# (3) Make a computation of the logposterior on that point\n",
    "#logposterior = model.logposterior(point)\n",
    "# If there were no sampled parameters, you can simply do\n",
    "logposterior = model.logposterior({})\n",
    "t2 = time.time()\n",
    "\n",
    "# Note that we are measuring the time for illustration purposes only.\n",
    "\n",
    "print('Time to compute the logposterior: ', t2-t1)\n",
    "print('Full log-posterior:')\n",
    "print('   logposterior: %g' % logposterior.logpost)\n",
    "print('   logpriors: %r' % dict(zip(list(model.prior), logposterior.logpriors)))\n",
    "print('   loglikelihoods: %r' % dict(zip(list(model.likelihood), logposterior.loglikes)))\n",
    "print('   derived params: %r' % dict(zip(list(model.parameterization.derived_params()), logposterior.derived)))"
   ]
  },
  {
   "cell_type": "markdown",
   "metadata": {},
   "source": [
    "# Case 2.1: EuclidLikelihood package\n",
    "\n",
    "**User-case**: this case allows the user to go one level deeper down into the CLOE code, so that the user can retrieve and plot:\n",
    "\n",
    "* Benchmark data used as mock data during the calculation of the likelihood. For instance:\n",
    "    * $n(z)$: galaxy density distributions\n",
    "* Cosmological quantities provided by the Boltzman solver through `Cobaya`. For example:\n",
    "    * $H(z)$: Hubble factor\n",
    "    * $r(z)$, $D_A$: comoving and angular diameter distances\n",
    "    * $\\sigma_8$, $f\\sigma_8$: amplitude of the (linear) power spectrum on the scale of 8 $h^{-1} Mpc$, and the product of the growth rate times the amplitude of the power spectrum at that same scale.\n",
    "* Internal cosmological quantities computed by the EuclidLikelihood package itself:\n",
    "    * $D(z)$, $f(z)$: growth factor and growth rate\n",
    "    * $P_m, P_{gg}, P_{g\\delta}, P_{\\delta i}, P_{gi}, P_{ii}$: matter power spectrum obtained by the Boltzman solver by `Cobaya` and different power spectra\n",
    "* Theoretical predictions of the photometric and spectroscopic observables\n",
    "    * $W_i^{\\rm GC}(z), W_i^{\\rm \\gamma}(z), W_i^{\\rm IA}(z), W_i^{\\rm RSD}(z), W_i^{\\rm mag}(z)$ : window functions or kernel for Galaxy Clustering (GC), Shear ($\\gamma$), Intrinsic Alignment (IA), Galaxy Clustering Redshift Space Distortions (RSD) and magnification (mag).\n",
    "    * $C_\\ell$: angular power spectra\n",
    "    * $P_\\ell$: Legendre multiples\n",
    "* computation of the $\\chi^2$\n",
    "\n",
    "To be able to access all these quantities and get a grasp of what EuclidLikelihood actually does, **you need to have loaded an instance of the `model` wrapper of Cobaya (explained in CASE 2)**. In reality, what we are doing in this **CASE 2.1** is to reproduce the steps that are done internally by `Cobaya` at each step of the sampling procedure within the file `cobaya_interface.py` of the likelihood package. Therefore, understanding **CASE 2.1** will also help the user to understand the details of the EuclidLikelihood source code and structure.\n",
    "\n"
   ]
  },
  {
   "cell_type": "code",
   "execution_count": 17,
   "metadata": {
    "scrolled": false
   },
   "outputs": [
    {
     "name": "stdout",
     "output_type": "stream",
     "text": [
      "[camb] `camb` module loaded successfully from /opt/anaconda3/envs/cloe/lib/python3.9/site-packages/camb\n",
      "[model] *WARNING* Theories {camb, camb.transfers} do not appear to be actually used for anything\n",
      "[camb] `camb` module loaded successfully from /opt/anaconda3/envs/cloe/lib/python3.9/site-packages/camb\n",
      "[model] *WARNING* Theories {camb, camb.transfers} do not appear to be actually used for anything\n",
      "\n",
      "Keys of the cosmo_dic: \n",
      " ['H0', 'omch2', 'ombh2', 'omnuh2', 'Omnu', 'Omk', 'Omm', 'Omc', 'Omb', 'w', 'wa', 'gamma_MG', 'mnu', 'tau', 'nnu', 'ns', 'As', 'sigma8_0', 'c', 'MG_mu', 'MG_sigma', 'z_win', 'k_win', 'comov_dist', 'angular_dist', 'H', 'H_Mpc', 'fsigma8', 'sigma8', 'D_z_k', 'Pk_delta', 'Pk_halomodel_recipe', 'Pk_weyl', 'Pk_weyl_NL', 'Pmm_phot', 'Pgg_phot', 'Pgdelta_phot', 'Pgg_spectro', 'Pgdelta_spectro', 'Pii', 'Pdeltai', 'Pgi_phot', 'Pgi_spectro', 'r_z_func', 'z_r_func', 'f_K_z_func', '_f_K_z12_func', 'f_K_z12_func', 'd_z_func', 'H_z_func', 'H_z_func_Mpc', 'D_z_k_func', 'sigma8_z_func', 'fsigma8_z_func', 'f_z', 'luminosity_ratio_z_func', 'NL_boost', 'NL_flag_phot_matter', 'NL_flag_spectro', 'bias_model', 'use_gamma_MG', 'f_out_z_dep', 'nuisance_parameters', 'H0_Mpc', 'redshift_bins', 'fid_d_z_func', 'fid_r_z_func', 'fid_H_z_func', 'obs_selection', 'matrix_transform_phot', 'add_phot_RSD', 'Pk_cb', 'b_inter']\n",
      "\n",
      "Keys of the nuisance params within cosmo_dic: \n",
      " ['aia', 'nia', 'bia', 'b1_photo', 'b2_photo', 'b3_photo', 'b4_photo', 'b5_photo', 'b6_photo', 'b7_photo', 'b8_photo', 'b9_photo', 'b10_photo', 'magnification_bias_1', 'magnification_bias_2', 'magnification_bias_3', 'magnification_bias_4', 'magnification_bias_5', 'magnification_bias_6', 'magnification_bias_7', 'magnification_bias_8', 'magnification_bias_9', 'magnification_bias_10', 'multiplicative_bias_1', 'multiplicative_bias_2', 'multiplicative_bias_3', 'multiplicative_bias_4', 'multiplicative_bias_5', 'multiplicative_bias_6', 'multiplicative_bias_7', 'multiplicative_bias_8', 'multiplicative_bias_9', 'multiplicative_bias_10', 'b1_spectro_bin1', 'b1_spectro_bin2', 'b1_spectro_bin3', 'b1_spectro_bin4', 'b2_spectro_bin1', 'b2_spectro_bin2', 'b2_spectro_bin3', 'b2_spectro_bin4', 'c0_spectro_bin1', 'c0_spectro_bin2', 'c0_spectro_bin3', 'c0_spectro_bin4', 'c2_spectro_bin1', 'c2_spectro_bin2', 'c2_spectro_bin3', 'c2_spectro_bin4', 'c4_spectro_bin1', 'c4_spectro_bin2', 'c4_spectro_bin3', 'c4_spectro_bin4', 'aP_spectro_bin1', 'aP_spectro_bin2', 'aP_spectro_bin3', 'aP_spectro_bin4', 'Psn_spectro_bin1', 'Psn_spectro_bin2', 'Psn_spectro_bin3', 'Psn_spectro_bin4', 'f_out', 'f_out_1', 'f_out_2', 'f_out_3', 'f_out_4', 'dz_1_GCphot', 'dz_1_WL', 'dz_2_GCphot', 'dz_2_WL', 'dz_3_GCphot', 'dz_3_WL', 'dz_4_GCphot', 'dz_4_WL', 'dz_5_GCphot', 'dz_5_WL', 'dz_6_GCphot', 'dz_6_WL', 'dz_7_GCphot', 'dz_7_WL', 'dz_8_GCphot', 'dz_8_WL', 'dz_9_GCphot', 'dz_9_WL', 'dz_10_GCphot', 'dz_10_WL', 'omk']\n"
     ]
    }
   ],
   "source": [
    "# Create an instance of the class EuclidLikelihood\n",
    "like = EuclidLikelihood()\n",
    "\n",
    "# Initialize default parameters for redshift, k-array, fiducial cosmology...\n",
    "like.initialize()\n",
    "\n",
    "# Get the cosmo_dictionary where all the cosmology + theory parameters are saved\n",
    "# ATTENTION: as explained above, you need to pass the `cobaya wrapper model` initialized \n",
    "# in CASE 2 as an argument of the function, as well as the parameters of your theory.\n",
    "# In CASE 1, when only Cobaya run is used, it creates internally this `model` instance itself\n",
    "like.passing_requirements(model, info, **model.provider.params)\n",
    "\n",
    "# Update the cosmology dictionary with interpolators + basic quantities such as\n",
    "# P_gg, P_delta...\n",
    "like.cosmo.update_cosmo_dic(like.cosmo.cosmo_dic['z_win'], 0.05)\n",
    "\n",
    "# Show what the cosmo_dic actually contains\n",
    "print('\\nKeys of the cosmo_dic: \\n', list(like.cosmo.cosmo_dic.keys()))\n",
    "print('\\nKeys of the nuisance params within cosmo_dic: \\n', list(like.cosmo.cosmo_dic['nuisance_parameters'].keys()))"
   ]
  },
  {
   "cell_type": "code",
   "execution_count": 18,
   "metadata": {},
   "outputs": [
    {
     "name": "stdout",
     "output_type": "stream",
     "text": [
      "-0.011017551566098247\n"
     ]
    }
   ],
   "source": [
    "# You can also access the quantities of the euclike module as follows:\n",
    "# This function will return the loglike\n",
    "loglike = like.likefinal.loglike(like.cosmo.cosmo_dic)\n",
    "print(loglike)"
   ]
  },
  {
   "cell_type": "code",
   "execution_count": 19,
   "metadata": {},
   "outputs": [
    {
     "name": "stdout",
     "output_type": "stream",
     "text": [
      "\n",
      "List of attributes of the euclike object: \n",
      " ['observables', 'do_photo', 'do_spectro', 'data', 'data_ins', 'data_spectro_fiducial_cosmo', 'fiducial_cosmo_quantities_dic', 'indices_diagonal_wl', 'indices_diagonal_gc', 'indices_all', 'ells_WL', 'ells_XC', 'ells_GC_phot', 'matrix_transform_phot', 'phot_ins', 'tomo_ind_GC_phot', 'tomo_ind_WL', 'tomo_ind_XC', 'data_handler_ins', 'data_vector_phot', 'cov_matrix_phot', 'masking_vector_phot', 'mask_ins_phot', 'masked_data_vector_phot', 'masked_cov_matrix_phot', 'ndata_phot', 'masked_invcov_matrix_phot']\n"
     ]
    }
   ],
   "source": [
    "# After the computation of the chi2, you can access the following quantities of the euclike module\n",
    "print('\\nList of attributes of the euclike object: \\n', list(vars(like.likefinal)))"
   ]
  },
  {
   "cell_type": "code",
   "execution_count": 20,
   "metadata": {},
   "outputs": [
    {
     "name": "stdout",
     "output_type": "stream",
     "text": [
      "{'photo': {'luminosity_ratio': 'luminosity_ratio.dat', 'IA_model': 'zNLA', 'cov_3x2pt': 'CovMat-3x2pt-{:s}-20Bins-probe_ell_zpair_new.npy', 'cov_GC': 'CovMat-PosPos-{:s}-20Bins.npy', 'cov_WL': 'CovMat-ShearShear-{:s}-20Bins.npy', 'cov_model': 'Gauss', 'cov_is_num': False, 'cov_nsim': 10000, 'ndens_GC': 'niTab-EP10-RB00.dat', 'ndens_WL': 'niTab-EP10-RB00.dat', 'root_GC': 'Cls_{:s}_PosPos.dat', 'root_WL': 'Cls_{:s}_ShearShear.dat', 'root_XC': 'Cls_{:s}_PosShear.dat'}, 'sample': 'ExternalBenchmark', 'spectro': {'redshifts': ['1.', '1.2', '1.4', '1.65'], 'edges': [0.9, 1.1, 1.3, 1.5, 1.8], 'root': 'cov_power_galaxies_dk0p004_z{:s}.fits', 'cov_is_num': False, 'cov_nsim': 3500}}\n"
     ]
    }
   ],
   "source": [
    "# You can print, for instance, the data read by CLOE\n",
    "print(like.likefinal.data)"
   ]
  },
  {
   "cell_type": "markdown",
   "metadata": {},
   "source": [
    "### Plot internal quantities and cosmological observables"
   ]
  },
  {
   "cell_type": "code",
   "execution_count": 21,
   "metadata": {},
   "outputs": [],
   "source": [
    "import seaborn as sns\n",
    "sns.set_theme(style=\"ticks\")\n",
    "sns.set_palette(sns.color_palette(\"Paired\"))\n",
    "\n",
    "plt.rc('xtick',labelsize=20)\n",
    "plt.rc('ytick',labelsize=20)\n",
    "plt.rc('font',size=20)\n",
    "plt.rc('axes', titlesize=25)\n",
    "plt.rc('axes', labelsize=20)\n",
    "plt.rc('lines', linewidth=3)\n",
    "plt.rc('lines', markersize=6)\n",
    "plt.rc('legend', fontsize=20)"
   ]
  },
  {
   "cell_type": "code",
   "execution_count": 22,
   "metadata": {},
   "outputs": [],
   "source": [
    "# We can also plot the window functions for the photometric observables\n",
    "# For that, you need to import the photo class and read the cosmology dictionary and the n(z) distributions above\n",
    "from cloe.photometric_survey.photo import Photo\n",
    "photo = Photo(like.cosmo.cosmo_dic, like.likefinal.data_ins.nz_dict_WL, like.likefinal.data_ins.nz_dict_GC_Phot)"
   ]
  },
  {
   "attachments": {},
   "cell_type": "markdown",
   "metadata": {},
   "source": [
    "## BNT transform and plots"
   ]
  },
  {
   "cell_type": "code",
   "execution_count": 23,
   "metadata": {},
   "outputs": [
    {
     "name": "stdout",
     "output_type": "stream",
     "text": [
      "info['likelihood']['Euclid']['matrix_transform_phot'] False\n",
      "like.matrix_transform_phot: False\n",
      "like.likefinal.matrix_transform_phot: False\n"
     ]
    }
   ],
   "source": [
    "print(\"info['likelihood']['Euclid']['matrix_transform_phot']\", info['likelihood']['Euclid']['matrix_transform_phot'])\n",
    "print('like.matrix_transform_phot:', like.matrix_transform_phot)\n",
    "print('like.likefinal.matrix_transform_phot:', like.likefinal.matrix_transform_phot)"
   ]
  },
  {
   "cell_type": "code",
   "execution_count": 24,
   "metadata": {},
   "outputs": [],
   "source": [
    "assert like.matrix_transform_phot == like.likefinal.matrix_transform_phot, 'matrix_transform_phot is not the same in like and likefinal'\n",
    "assert like.matrix_transform_phot == info['likelihood']['Euclid']['matrix_transform_phot'], 'matrix_transform_phot is not the same in like and info dict'"
   ]
  },
  {
   "cell_type": "code",
   "execution_count": 25,
   "metadata": {},
   "outputs": [],
   "source": [
    "# TODO call yml, edit the key, save it again\n",
    "# import yaml\n",
    "\n",
    "# def yaml_read(file_name):\n",
    "#     r\"\"\"Read a stream from a yaml file.\n",
    "\n",
    "#     Parameters\n",
    "#     ----------\n",
    "#     file_name: Path or str\n",
    "#         The name of the file where to read the configuration from.\n",
    "\n",
    "#     Returns\n",
    "#     -------\n",
    "#     dict\n",
    "#        The configuration read from the input file\n",
    "\n",
    "#     Notes\n",
    "#     -----\n",
    "#     The reading is performed using the python builtin i/o functions and the\n",
    "#     pyyaml package.\n",
    "#     Any error checking is delegated to these packages.\n",
    "#     In this function we use the yaml.load() with Loader=yaml.FullLoader:\n",
    "#     according to the pyyaml documentation could be dangerous if used on\n",
    "#     files from untrusted sources.\n",
    "#     \"\"\"\n",
    "\n",
    "#     with open(file_name, 'r') as file:\n",
    "#         return yaml.load(file.read(), Loader=yaml.FullLoader)\n",
    "\n",
    "# yaml_dict = yaml_read('../cloe/EuclidLikelihood.yaml')\n",
    "# yaml_dict"
   ]
  },
  {
   "cell_type": "markdown",
   "metadata": {},
   "source": [
    "#### Obtain background quantities"
   ]
  },
  {
   "cell_type": "code",
   "execution_count": 26,
   "metadata": {},
   "outputs": [],
   "source": [
    "zwin = like.cosmo.cosmo_dic['z_win']\n",
    "chiwin = like.cosmo.cosmo_dic['r_z_func'](zwin)\n",
    "# plt.plot(zwin, chiwin)\n",
    "# plt.xlabel(r\"$z$\")\n",
    "# plt.ylabel(r\"$r\\,(z)$\", rotation=45, labelpad=12)"
   ]
  },
  {
   "cell_type": "code",
   "execution_count": 27,
   "metadata": {},
   "outputs": [],
   "source": [
    "nz_dict_WL = like.likefinal.data_ins.nz_dict_WL\n",
    "n_bins_list = list(nz_dict_WL.keys()) \n",
    "n_bins = len(n_bins_list)\n",
    "ni_list = np.zeros((n_bins, len(zwin)))\n",
    "for ii, ni in enumerate(n_bins_list):\n",
    "    ni_list[ii] = nz_dict_WL[ni](zwin)\n",
    "#     plt.plot(zwin, ni_list[ii], label=r\"$n_{:s}(z)$\".format(str(ii)))\n",
    "# plt.xlabel(r\"$z$\")\n",
    "# plt.ylabel(r\"$n_i(z)$\")\n",
    "# plt.legend(fontsize=12)"
   ]
  },
  {
   "cell_type": "markdown",
   "metadata": {},
   "source": [
    "#### Obtain BNT matrix transform"
   ]
  },
  {
   "cell_type": "code",
   "execution_count": 28,
   "metadata": {},
   "outputs": [],
   "source": [
    "from cloe.auxiliary import matrix_transforms as cmt\n",
    "from matplotlib.ticker import MaxNLocator\n",
    "from matplotlib.patches import Patch\n",
    "from matplotlib.lines import Line2D"
   ]
  },
  {
   "cell_type": "code",
   "execution_count": 29,
   "metadata": {},
   "outputs": [
    {
     "name": "stdout",
     "output_type": "stream",
     "text": [
      "['__str__', '__subclasshook__', '__weakref__', 'apply_vectorized_nonsymmetric_BNT', 'apply_vectorized_symmetric_BNT', 'chi', 'get_BNT_matrix', 'n_i_list', 'test_unity', 'z']\n"
     ]
    }
   ],
   "source": [
    "if info['likelihood']['Euclid']['matrix_transform_phot'] == 'BNT-test':\n",
    "    test_unity = True\n",
    "else:\n",
    "    test_unity = False\n",
    "\n",
    "transBNT = cmt.BNT_transform(z_array=zwin, comoving_dist=chiwin, n_i_z_array=ni_list, test_unity=test_unity)\n",
    "np.save('/Users/davide/Documents/Lavoro/Programmi/cov_for_santi/input/test_chi2/from_euclike/zwin_notebook.npy', zwin)\n",
    "np.save('/Users/davide/Documents/Lavoro/Programmi/cov_for_santi/input/test_chi2/from_euclike/chiwin_notebook.npy', chiwin)\n",
    "np.save('/Users/davide/Documents/Lavoro/Programmi/cov_for_santi/input/test_chi2/from_euclike/ni_list_notebook.npy', ni_list)\n",
    "print(dir(transBNT)[-10:])"
   ]
  },
  {
   "cell_type": "code",
   "execution_count": 30,
   "metadata": {},
   "outputs": [],
   "source": [
    "zwin_nb = np.load('/Users/davide/Documents/Lavoro/Programmi/cov_for_santi/input/test_chi2/from_euclike/zwin_notebook.npy')\n",
    "chiwin_nb = np.load('/Users/davide/Documents/Lavoro/Programmi/cov_for_santi/input/test_chi2/from_euclike/chiwin_notebook.npy')\n",
    "ni_list_nb = np.load('/Users/davide/Documents/Lavoro/Programmi/cov_for_santi/input/test_chi2/from_euclike/ni_list_notebook.npy')\n",
    "\n",
    "zwin_el = np.load('/Users/davide/Documents/Lavoro/Programmi/cov_for_santi/input/test_chi2/from_euclike/zwin_euclike.npy')\n",
    "chiwin_el = np.load('/Users/davide/Documents/Lavoro/Programmi/cov_for_santi/input/test_chi2/from_euclike/chiwin_euclike.npy')\n",
    "ni_list_el = np.load('/Users/davide/Documents/Lavoro/Programmi/cov_for_santi/input/test_chi2/from_euclike/ni_list_euclike.npy')"
   ]
  },
  {
   "cell_type": "code",
   "execution_count": 31,
   "metadata": {},
   "outputs": [
    {
     "data": {
      "text/plain": [
       "Text(0, 0.5, 'r(z)')"
      ]
     },
     "execution_count": 31,
     "metadata": {},
     "output_type": "execute_result"
    },
    {
     "data": {
      "image/png": "[encoded data removed]",
      "text/plain": [
       "<Figure size 640x480 with 1 Axes>"
      ]
     },
     "metadata": {},
     "output_type": "display_data"
    }
   ],
   "source": [
    "# plt.plot(zwin_nb, chiwin_el/chiwin_nb, label='chiwin')\n",
    "plt.plot(zwin_nb, chiwin_nb, label='chiwin', marker='o')\n",
    "plt.plot(zwin_nb, chiwin_el, label='chiwin', marker='o', ls='--')\n",
    "plt.yscale('log')\n",
    "plt.xlim(-0.01, 0.2)\n",
    "plt.title('chiwin, notebook vs euclike')\n",
    "plt.xlabel('z')\n",
    "plt.ylabel('r(z)')"
   ]
  },
  {
   "cell_type": "code",
   "execution_count": 32,
   "metadata": {},
   "outputs": [
    {
     "name": "stderr",
     "output_type": "stream",
     "text": [
      "/var/folders/l4/w0t4jccj3ys27bbg1y8nwdk00000gn/T/ipykernel_57611/2531389054.py:4: RuntimeWarning: divide by zero encountered in divide\n",
      "  ratio = n_of_z_el/n_of_z_nb\n",
      "/var/folders/l4/w0t4jccj3ys27bbg1y8nwdk00000gn/T/ipykernel_57611/2531389054.py:4: RuntimeWarning: invalid value encountered in divide\n",
      "  ratio = n_of_z_el/n_of_z_nb\n",
      "/var/folders/l4/w0t4jccj3ys27bbg1y8nwdk00000gn/T/ipykernel_57611/2531389054.py:7: RuntimeWarning: divide by zero encountered in log10\n",
      "  ratio = np.log10(ratio)\n",
      "/var/folders/l4/w0t4jccj3ys27bbg1y8nwdk00000gn/T/ipykernel_57611/2531389054.py:7: RuntimeWarning: invalid value encountered in log10\n",
      "  ratio = np.log10(ratio)\n"
     ]
    },
    {
     "data": {
      "text/plain": [
       "<matplotlib.legend.Legend at 0x1af2e7520>"
      ]
     },
     "execution_count": 32,
     "metadata": {},
     "output_type": "execute_result"
    },
    {
     "data": {
      "image/png": "[encoded data removed]",
      "text/plain": [
       "<Figure size 640x480 with 1 Axes>"
      ]
     },
     "metadata": {},
     "output_type": "display_data"
    }
   ],
   "source": [
    "ni_list_el.shape\n",
    "zbin_idx = 0\n",
    "for n_of_z_el, n_of_z_nb in zip(ni_list_el, ni_list_nb):\n",
    "    ratio = n_of_z_el/n_of_z_nb\n",
    "    ratio[np.isnan(ratio)] = 0\n",
    "    ratio[np.isinf(ratio)] = 10**300\n",
    "    ratio = np.log10(ratio)\n",
    "    plt.plot(zwin_el, ratio, marker='o', label=zbin_idx)\n",
    "    zbin_idx += 1\n",
    "# plt.yscale('log')\n",
    "plt.legend(loc='lower right', ncol=2, fontsize=8)"
   ]
  },
  {
   "attachments": {},
   "cell_type": "markdown",
   "metadata": {},
   "source": [
    "### Check that the BNT matrix used here for the sandwich and the one used in matrix_transform.py are the same"
   ]
  },
  {
   "cell_type": "code",
   "execution_count": 33,
   "metadata": {},
   "outputs": [],
   "source": [
    "mat_BNT = transBNT.get_BNT_matrix()"
   ]
  },
  {
   "cell_type": "code",
   "execution_count": 34,
   "metadata": {},
   "outputs": [],
   "source": [
    "if info['likelihood']['Euclid']['matrix_transform_phot'] == 'BNT':\n",
    "    BNT_matrix_from_euclike = np.genfromtxt('/Users/davide/Documents/Lavoro/Programmi/cov_for_santi/input/test_chi2/from_euclike/BNT_matrix_from_euclike.txt')\n",
    "    assert np.allclose(BNT_matrix_from_euclike, mat_BNT, rtol=1e-6, atol=0), 'BNT_matrix_from_euclike is not the same as mat_BNT'"
   ]
  },
  {
   "cell_type": "code",
   "execution_count": 35,
   "metadata": {},
   "outputs": [
    {
     "ename": "NameError",
     "evalue": "name 'diff' is not defined",
     "output_type": "error",
     "traceback": [
      "\u001b[0;31m---------------------------------------------------------------------------\u001b[0m",
      "\u001b[0;31mNameError\u001b[0m                                 Traceback (most recent call last)",
      "\u001b[1;32m/Users/davide/Documents/Lavoro/Programmi/likelihood-implementation/notebooks/DEMO-NoBNT-v2_davide.ipynb Cell 50\u001b[0m in \u001b[0;36m1\n\u001b[0;32m----> <a href='vscode-notebook-cell:/Users/davide/Documents/Lavoro/Programmi/likelihood-implementation/notebooks/DEMO-NoBNT-v2_davide.ipynb#Y100sZmlsZQ%3D%3D?line=0'>1</a>\u001b[0m diff\n",
      "\u001b[0;31mNameError\u001b[0m: name 'diff' is not defined"
     ]
    }
   ],
   "source": [
    "diff"
   ]
  },
  {
   "cell_type": "code",
   "execution_count": null,
   "metadata": {},
   "outputs": [],
   "source": [
    "diff = mat_BNT/BNT_matrix_from_euclike\n",
    "diff[np.isnan(diff)] = 0\n",
    "\n",
    "ell_idx = 10\n",
    "fig, ax = plt.subplots()\n",
    "plt.title(f'BNT, % diff, ell_idx = {ell_idx}')\n",
    "im = ax.matshow(diff[:, :])    \n",
    "plt.colorbar(im)\n",
    "\n",
    "for i in range(diff.shape[0]):\n",
    "    for j in range(diff.shape[1]):\n",
    "        ax.annotate(f'{(diff[i, j]):.3f}', xy=(j, i),\n",
    "                    horizontalalignment='center',\n",
    "                    verticalalignment='center', fontsize=8)"
   ]
  },
  {
   "cell_type": "code",
   "execution_count": null,
   "metadata": {},
   "outputs": [],
   "source": [
    "fig, ax = plt.subplots(1, figsize=(6,6))\n",
    "im = plt.imshow(mat_BNT, cmap=\"RdBu\", vmax=3, vmin=-3)\n",
    "cbar = plt.colorbar(im, fraction=0.046, pad=0.04)\n",
    "cbar.set_label(\"Scale\")\n",
    "#cbar.set_ticklabels()\n",
    "ax.xaxis.set_major_locator(MaxNLocator(integer=True))"
   ]
  },
  {
   "cell_type": "code",
   "execution_count": null,
   "metadata": {},
   "outputs": [],
   "source": [
    "import pandas as pd\n",
    "matdf = pd.DataFrame(mat_BNT)\n",
    "matdf"
   ]
  },
  {
   "cell_type": "code",
   "execution_count": null,
   "metadata": {},
   "outputs": [],
   "source": [
    "matdf = pd.DataFrame(BNT_matrix_from_matrix_transform_dotpy)\n",
    "matdf"
   ]
  },
  {
   "cell_type": "markdown",
   "metadata": {},
   "source": [
    "##### Obtain the WL and IA photo windows and apply BNT"
   ]
  },
  {
   "cell_type": "code",
   "execution_count": null,
   "metadata": {},
   "outputs": [],
   "source": [
    "zwin_WL = photo.z_winterp\n",
    "WL_win_arr = np.array([photo.WL_window(zwin_WL, i+1) for i in range(n_bins)])\n",
    "IA_win_arr = np.array([photo.IA_window(zwin_WL, i+1) for i in range(n_bins)])\n",
    "WLia_win_arr = WL_win_arr-IA_win_arr"
   ]
  },
  {
   "cell_type": "code",
   "execution_count": null,
   "metadata": {},
   "outputs": [],
   "source": [
    "WL_Bnt = (mat_BNT@WL_win_arr)\n",
    "IA_Bnt = (mat_BNT@IA_win_arr)\n",
    "WLia_Bnt = (mat_BNT@(WL_win_arr - IA_win_arr))"
   ]
  },
  {
   "cell_type": "markdown",
   "metadata": {},
   "source": [
    "#### BNT transformation of the $C_\\ell$ as 2D-matrices"
   ]
  },
  {
   "cell_type": "code",
   "execution_count": null,
   "metadata": {},
   "outputs": [],
   "source": [
    "def C_ell_mat(ell, probe='LL'):\n",
    "    C_mat = np.zeros((n_bins,n_bins))\n",
    "    for i in range(n_bins):\n",
    "        for j in range(n_bins):\n",
    "            if probe=='LL':\n",
    "                C_mat[i,j] = photo.Cl_WL(ell,i+1,j+1)\n",
    "            if probe=='GL':\n",
    "                C_mat[i,j] = photo.Cl_cross(ell,j+1,i+1)\n",
    "            if probe=='LG':\n",
    "                C_mat[i,j] = photo.Cl_cross(ell,i+1,j+1)\n",
    "            if probe=='GG':\n",
    "                C_mat[i,j] = photo.Cl_GC_phot(ell,i+1,j+1)\n",
    "    return C_mat"
   ]
  },
  {
   "cell_type": "code",
   "execution_count": null,
   "metadata": {},
   "outputs": [],
   "source": [
    "cloe_ells = like.likefinal.data_ins.data_dict['XC-Phot']['ells']\n",
    "cloe_ells"
   ]
  },
  {
   "cell_type": "code",
   "execution_count": null,
   "metadata": {},
   "outputs": [],
   "source": [
    "nz_dict_WL = like.likefinal.data_ins.nz_dict_WL\n",
    "n_bins_list = list(nz_dict_WL.keys()) \n",
    "nz_bins = len(n_bins_list)\n",
    "print(nz_bins)"
   ]
  },
  {
   "attachments": {},
   "cell_type": "markdown",
   "metadata": {},
   "source": [
    "### Emulate Cobaya interface "
   ]
  },
  {
   "cell_type": "code",
   "execution_count": null,
   "metadata": {},
   "outputs": [],
   "source": [
    "#like.likefinal.phot_ins.update(like.cosmo.cosmo_dic)"
   ]
  },
  {
   "cell_type": "code",
   "execution_count": null,
   "metadata": {},
   "outputs": [],
   "source": [
    "#like.cosmo.cosmo_dic['nuisance_parameters']\n",
    "#like.cosmo.cosmo_dic['fid_r_z_func']"
   ]
  },
  {
   "cell_type": "code",
   "execution_count": null,
   "metadata": {},
   "outputs": [],
   "source": [
    "photodata = like.likefinal.create_photo_data()\n",
    "photodata"
   ]
  },
  {
   "cell_type": "code",
   "execution_count": null,
   "metadata": {},
   "outputs": [],
   "source": [
    "nzbins = nz_bins\n",
    "cloe_ells\n",
    "Nells = len(cloe_ells)"
   ]
  },
  {
   "cell_type": "code",
   "execution_count": null,
   "metadata": {},
   "outputs": [],
   "source": [
    "probes = ['LL', 'GL', 'GG']\n",
    "probes_dic = {'LL':['WL', 55, 55*Nells], 'GG':['GC-Phot', 55, 55*Nells], 'GL': ['XC-Phot', 100, 100*Nells]}\n",
    "probes_dic"
   ]
  },
  {
   "cell_type": "code",
   "execution_count": null,
   "metadata": {},
   "outputs": [],
   "source": [
    "photo_theory = like.likefinal.create_photo_theory(like.cosmo.cosmo_dic)"
   ]
  },
  {
   "cell_type": "code",
   "execution_count": null,
   "metadata": {},
   "outputs": [],
   "source": [
    "# # change ns value to create fake datavector (which still uses Photo)\n",
    "# like.cosmo.cosmo_dic['ns'] = 0.9\n",
    "# photo_theory_nsmod = like.likefinal.create_photo_theory(like.cosmo.cosmo_dic)\n",
    "\n",
    "# # reset to original value\n",
    "# like.cosmo.cosmo_dic['ns'] = 0.96"
   ]
  },
  {
   "cell_type": "code",
   "execution_count": null,
   "metadata": {},
   "outputs": [],
   "source": [
    "photo_theory.shape   #LL+GL+GG"
   ]
  },
  {
   "cell_type": "code",
   "execution_count": null,
   "metadata": {},
   "outputs": [],
   "source": [
    "photo_theory_1d = {}\n",
    "photo_theory_1d['LL'] = photo_theory[:probes_dic['LL'][2]]\n",
    "photo_theory_1d['GL'] = photo_theory[probes_dic['LL'][2]:probes_dic['LL'][2]+probes_dic['GL'][2]]\n",
    "photo_theory_1d['GG'] = photo_theory[probes_dic['LL'][2]+probes_dic['GL'][2]:]\n",
    "\n",
    "# photo_theory_nsmod_1d = {}\n",
    "# photo_theory_nsmod_1d['LL'] = photo_theory_nsmod[:probes_dic['LL'][2]]\n",
    "# photo_theory_nsmod_1d['GL'] = photo_theory_nsmod[probes_dic['LL'][2]:probes_dic['LL'][2]+probes_dic['GL'][2]]\n",
    "# photo_theory_nsmod_1d['GG'] = photo_theory_nsmod[probes_dic['LL'][2]+probes_dic['GL'][2]:]"
   ]
  },
  {
   "cell_type": "code",
   "execution_count": null,
   "metadata": {},
   "outputs": [],
   "source": [
    "! ls  ../../cov_for_santi/lib/"
   ]
  },
  {
   "cell_type": "code",
   "execution_count": null,
   "metadata": {},
   "outputs": [],
   "source": [
    "davide_path = os.path.realpath(os.path.join(os.getcwd(),'../../cov_for_santi/lib/'))\n",
    "sys.path.insert(0, davide_path)"
   ]
  },
  {
   "cell_type": "code",
   "execution_count": null,
   "metadata": {},
   "outputs": [],
   "source": [
    "import utils as mmm"
   ]
  },
  {
   "cell_type": "code",
   "execution_count": null,
   "metadata": {},
   "outputs": [],
   "source": [
    "cloedata_Cl_2d = {}\n",
    "for pp in probes:\n",
    "    cloedata_Cl_2d[pp] = np.reshape(photodata[probes_dic[pp][0]], (Nells, probes_dic[pp][1]))"
   ]
  },
  {
   "cell_type": "code",
   "execution_count": null,
   "metadata": {},
   "outputs": [],
   "source": [
    "cloetheory_Cl_2d = {}\n",
    "for pp in probes:\n",
    "    cloetheory_Cl_2d[pp] = np.reshape(photo_theory_1d[pp], (Nells, probes_dic[pp][1]))"
   ]
  },
  {
   "cell_type": "code",
   "execution_count": null,
   "metadata": {},
   "outputs": [],
   "source": [
    "# reshape\n",
    "cloedata_Cl_3d = {}\n",
    "cloedata_Cl_3d['LL'] = mmm.cl_2D_to_3D_symmetric(cloedata_Cl_2d['LL'], Nells, probes_dic['LL'][1], nzbins)\n",
    "cloedata_Cl_3d['GG'] = mmm.cl_2D_to_3D_symmetric(cloedata_Cl_2d['GG'], Nells, probes_dic['GG'][1], nzbins)\n",
    "cloedata_Cl_3d['GL'] = mmm.cl_2D_to_3D_asymmetric(cloedata_Cl_2d['GL'], Nells, nzbins, 'C')\n",
    "\n",
    "cloetheory_Cl_3d = {}\n",
    "cloetheory_Cl_3d['LL'] = mmm.cl_2D_to_3D_symmetric(cloetheory_Cl_2d['LL'], Nells, probes_dic['LL'][1], nzbins)\n",
    "cloetheory_Cl_3d['GG'] = mmm.cl_2D_to_3D_symmetric(cloetheory_Cl_2d['GG'], Nells, probes_dic['GG'][1], nzbins)\n",
    "cloetheory_Cl_3d['GL'] = mmm.cl_2D_to_3D_asymmetric(cloetheory_Cl_2d['GL'], Nells, nzbins, 'C')"
   ]
  },
  {
   "cell_type": "code",
   "execution_count": null,
   "metadata": {},
   "outputs": [],
   "source": [
    "cellspace = cloe_ells\n",
    "Cell_3D_dic = {}\n",
    "for pp in probes:\n",
    "    Cell_3D_dic[pp] = np.zeros((len(cellspace), nz_bins, nz_bins))\n",
    "    for ie, ell in enumerate(cellspace):\n",
    "        Cell_3D_dic[pp][ie,:,:] = C_ell_mat(ell, probe=pp)"
   ]
  },
  {
   "cell_type": "code",
   "execution_count": null,
   "metadata": {},
   "outputs": [],
   "source": [
    "ii = np.random.randint(0,10)\n",
    "jj = ii #p.random.randint(0,10)\n",
    "for pp in probes:\n",
    "    print(pp, 'bin=({:d},{:d})'.format(ii, jj))\n",
    "    print(\"data: \")\n",
    "    print(cloedata_Cl_3d[pp][:, ii, jj] / Cell_3D_dic[pp][:, ii, jj])\n",
    "    print(\"theory: \")\n",
    "    print(cloetheory_Cl_3d[pp][:, ii, jj] / Cell_3D_dic[pp][:, ii, jj])\n",
    "    print('----')"
   ]
  },
  {
   "cell_type": "code",
   "execution_count": null,
   "metadata": {},
   "outputs": [],
   "source": [
    "Cell_BNT_3D_dic = {}\n",
    "for pp in probes:\n",
    "    Cell_BNT_3D_dic[pp] = np.zeros_like(Cell_3D_dic[pp])\n",
    "    for ie,ell in enumerate(cloe_ells):\n",
    "        if pp=='LL':\n",
    "            Cell_BNT_3D_dic[pp][ie,:,:] =((mat_BNT)@Cell_3D_dic[pp][ie,:,:]@(mat_BNT.T))\n",
    "        elif pp=='GL':\n",
    "            Cell_BNT_3D_dic[pp][ie,:,:] =(Cell_3D_dic[pp][ie,:,:]@(mat_BNT.T))\n",
    "        elif pp=='GG':\n",
    "            Cell_BNT_3D_dic[pp][ie,:,:] =(Cell_3D_dic[pp][ie,:,:])"
   ]
  },
  {
   "attachments": {},
   "cell_type": "markdown",
   "metadata": {},
   "source": [
    "### Check the 2 different types of BNT cls (with and w/o Stefano's formalism)"
   ]
  },
  {
   "cell_type": "code",
   "execution_count": null,
   "metadata": {},
   "outputs": [],
   "source": [
    "# let's investigate the discrepancy: check the cls\n",
    "for probe in probes:\n",
    "    \n",
    "    if like.likefinal.matrix_transform_phot == 'BNT' or like.likefinal.matrix_transform_phot == 'BNT-test':\n",
    "        cl_hall = Cell_BNT_3D_dic[probe]   # these are the BNT cls transformed used for the Taylor-Hall formalism (aka the sandwich)\n",
    "    elif like.likefinal.matrix_transform_phot == False:\n",
    "        cl_hall = Cell_3D_dic[probe]  # these are the non-BNT cls used for the Taylor-Hall BNT transform\n",
    "    else:\n",
    "        raise ValueError('like.likefinal.matrix_transform_phot must be either False or \"BNT\"')\n",
    "    \n",
    "    cl_stef = cloetheory_Cl_3d[probe] # these are BNT or non-BNT cls trsnsformed by Stefano's BNT transform, depending on the choice of matrix_transform_phot\n",
    "    \n",
    "    print(f'probe: {probe}; are the cls equal within rtol=1e-6?', np.allclose(cl_stef, cl_hall, rtol=1e-6, atol=0))\n",
    "    \n",
    "    diff = (cl_hall/cl_stef - 1) * 100\n",
    "    \n",
    "    ell_idx = 10\n",
    "    fig, ax = plt.subplots()\n",
    "    plt.title(f'cls {probe}, % diff, ell_idx = {ell_idx}')\n",
    "    im = ax.matshow(diff[ell_idx, :, :])    \n",
    "    plt.colorbar(im)\n",
    "\n",
    "    for i in range(diff.shape[1]):\n",
    "        for j in range(diff.shape[2]):\n",
    "            ax.annotate(f'{int(diff[ell_idx, i, j])}', xy=(j, i),\n",
    "                        horizontalalignment='center',\n",
    "                        verticalalignment='center')\n",
    "    plt.show()"
   ]
  },
  {
   "attachments": {},
   "cell_type": "markdown",
   "metadata": {},
   "source": [
    "### Unity test"
   ]
  },
  {
   "cell_type": "code",
   "execution_count": null,
   "metadata": {},
   "outputs": [],
   "source": [
    "# note: the if-else is needed to differentiate between the BNT and BNT-test cases\n",
    "assert info['params']['ns'] == 0.96, 'ns should be set to the fiducial value'\n",
    "for probe in probes:\n",
    "    \n",
    "    if like.likefinal.matrix_transform_phot == 'BNT-test':\n",
    "        np.save(f'/Users/davide/Documents/Lavoro/Programmi/cov_for_santi/input/test_chi2/unity_test/cl_stef_BNTunity_{probe}', cloetheory_Cl_3d[probe])\n",
    "        np.save(f'/Users/davide/Documents/Lavoro/Programmi/cov_for_santi/input/test_chi2/unity_test/cl_hall_BNTunity_{probe}', Cell_BNT_3D_dic[probe])\n",
    "    elif like.likefinal.matrix_transform_phot == False:\n",
    "        np.save(f'/Users/davide/Documents/Lavoro/Programmi/cov_for_santi/input/test_chi2/unity_test/cl_stef_{probe}', cloetheory_Cl_3d[probe])        \n",
    "        np.save(f'/Users/davide/Documents/Lavoro/Programmi/cov_for_santi/input/test_chi2/unity_test/cl_hall_{probe}', Cell_3D_dic[probe])        \n",
    "    else:\n",
    "        raise ValueError('like.likefinal.matrix_transform_phot must be either False or \"BNT-test\"')"
   ]
  },
  {
   "cell_type": "code",
   "execution_count": null,
   "metadata": {},
   "outputs": [],
   "source": [
    "for probe in probes:\n",
    "        \n",
    "    cl_hall_BNTunity = np.load(f'/Users/davide/Documents/Lavoro/Programmi/cov_for_santi/input/test_chi2/unity_test/cl_hall_BNTunity_{probe}.npy')        \n",
    "    cl_hall = np.load(f'/Users/davide/Documents/Lavoro/Programmi/cov_for_santi/input/test_chi2/unity_test/cl_hall_{probe}.npy')            \n",
    "\n",
    "    print(f'probe: {probe}; are the cls equal within rtol=1e-6?', np.allclose(cl_hall_BNTunity, cl_hall, rtol=1e-6, atol=0))\n",
    "\n",
    "    diff = (cl_hall_BNTunity/cl_hall - 1) * 100\n",
    "\n",
    "    ell_idx = 10\n",
    "    fig, ax = plt.subplots()\n",
    "    plt.title(f'cls {probe}, % diff, ell_idx = {ell_idx}')\n",
    "    im = ax.matshow(diff[ell_idx, :, :])    \n",
    "    plt.colorbar(im)\n",
    "\n",
    "    for i in range(diff.shape[1]):\n",
    "        for j in range(diff.shape[2]):\n",
    "            ax.annotate(f'{int(diff[ell_idx, i, j])}', xy=(j, i),\n",
    "                        horizontalalignment='center',\n",
    "                        verticalalignment='center')\n",
    "    plt.show()"
   ]
  },
  {
   "cell_type": "code",
   "execution_count": null,
   "metadata": {},
   "outputs": [],
   "source": [
    "for probe in probes:\n",
    "        \n",
    "    cl_stef_BNTunity = np.load(f'/Users/davide/Documents/Lavoro/Programmi/cov_for_santi/input/test_chi2/unity_test/cl_stef_BNTunity_{probe}.npy')        \n",
    "    cl_stef = np.load(f'/Users/davide/Documents/Lavoro/Programmi/cov_for_santi/input/test_chi2/unity_test/cl_stef_{probe}.npy')        \n",
    "    \n",
    "    # cl_BNT_hall = Cell_BNT_3D_dic[probe]   # these are the BNT cls transformed used for the Taylor-Hall formalism (aka the sandwich)\n",
    "    # cl_hall = Cell_3D_dic[probe]  # these are the non-BNT cls used for the Taylor-Hall BNT transform\n",
    "\n",
    "    print(f'probe: {probe}; are the cls equal within rtol=1e-6?', np.allclose(cl_stef_BNTunity, cl_stef, rtol=1e-6, atol=0))\n",
    "\n",
    "    diff = (cl_stef_BNTunity/cl_stef - 1) * 100\n",
    "\n",
    "    ell_idx = 10\n",
    "    fig, ax = plt.subplots()\n",
    "    plt.title(f'cls {probe}, % diff, ell_idx = {ell_idx}')\n",
    "    im = ax.matshow(diff[ell_idx, :, :])    \n",
    "    plt.colorbar(im)\n",
    "\n",
    "    for i in range(diff.shape[1]):\n",
    "        for j in range(diff.shape[2]):\n",
    "            ax.annotate(f'{int(diff[ell_idx, i, j])}', xy=(j, i),\n",
    "                        horizontalalignment='center',\n",
    "                        verticalalignment='center')\n",
    "    plt.show()"
   ]
  },
  {
   "attachments": {},
   "cell_type": "markdown",
   "metadata": {},
   "source": [
    "### Save everything for Davide's code"
   ]
  },
  {
   "cell_type": "code",
   "execution_count": null,
   "metadata": {},
   "outputs": [],
   "source": [
    "if info['params']['ns'] == 0.96:\n",
    "    ns_str = 'nsfid'\n",
    "elif info['params']['ns'] == 0.9:\n",
    "    ns_str = 'nsmod'\n",
    "else:\n",
    "    raise ValueError('ns should be 0.9 or 0.96 for these tests')\n",
    "\n",
    "if like.likefinal.matrix_transform_phot == False:\n",
    "    BNT_str = ''\n",
    "elif like.likefinal.matrix_transform_phot == 'BNT':\n",
    "    BNT_str = '_BNT'\n",
    "else:\n",
    "    raise ValueError('like.likefinal.matrix_transform_phot should be False or BNT for these tests')\n",
    "\n",
    "# save for davide's tests\n",
    "np.save(f'/Users/davide/Documents/Lavoro/Programmi/cov_for_santi/input/test_chi2/from_photo_class/cloetheory_Cl_3d_LL_{ns_str}{BNT_str}.npy', cloetheory_Cl_3d['LL'])\n",
    "np.save(f'/Users/davide/Documents/Lavoro/Programmi/cov_for_santi/input/test_chi2/from_photo_class/cloetheory_Cl_3d_GL_{ns_str}{BNT_str}.npy', cloetheory_Cl_3d['GL'])\n",
    "np.save(f'/Users/davide/Documents/Lavoro/Programmi/cov_for_santi/input/test_chi2/from_photo_class/cloetheory_Cl_3d_GG_{ns_str}{BNT_str}.npy', cloetheory_Cl_3d['GG'])\n",
    "\n",
    "# np.save('/Users/davide/Documents/Lavoro/Programmi/cov_for_santi/input/test_chi2/from_photo_class/cloedata_Cl_3d_LL.npy', cloedata_Cl_3d['LL'])\n",
    "# np.save('/Users/davide/Documents/Lavoro/Programmi/cov_for_santi/input/test_chi2/from_photo_class/cloedata_Cl_3d_GL.npy', cloedata_Cl_3d['GL'])\n",
    "# np.save('/Users/davide/Documents/Lavoro/Programmi/cov_for_santi/input/test_chi2/from_photo_class/cloedata_Cl_3d_GG.npy', cloedata_Cl_3d['GG'])"
   ]
  },
  {
   "cell_type": "markdown",
   "metadata": {},
   "source": []
  },
  {
   "cell_type": "code",
   "execution_count": null,
   "metadata": {},
   "outputs": [],
   "source": [
    "color = iter(cm.autumn(np.linspace(0, 1, 11)))\n",
    "fig, axs = plt.subplots(2, 1, figsize=(10,8))\n",
    "pp = 'LL'\n",
    "for ij in range(n_bins):\n",
    "    c=next(color)\n",
    "    #axs.loglog(ellspace, np.abs(C_GL_arr[:,ij,ij]), c=c, ls='-', label='(i,j)=({:d},{:d})'.format(ij,ij))\n",
    "    #axs.loglog(ellspace, np.abs(C_GL_BNT[:,ij,ij]), c=c, ls='--')#label='i={:d},j={:d}'.format(ij,ij))\n",
    "    axs[0].loglog(cellspace, np.abs(Cell_BNT_3D_dic[pp][:,ij,ij]), c=c, ls='-.', label='(i,j)=({:d},{:d})'.format(ij+1,ij+1))\n",
    "    axs[0].loglog(cellspace, np.abs(Cell_3D_dic[pp][:,ij,ij]), c=c, ls='--')#label='i={:d},j={:d}'.format(ij,ij))\n",
    "    axs[1].loglog(cellspace, np.abs(Cell_BNT_3D_dic[pp][:,4,ij]), c=c, ls='-.', label='(i,j)=({:d},{:d})'.format(4+1,ij+1))\n",
    "    axs[1].loglog(cellspace, np.abs(Cell_3D_dic[pp][:,4,ij]), c=c, ls='--')#label='i={:d},j={:d}'.format(ij,ij))\n",
    "\n",
    "legend0 = axs[0].legend(handles=legend_elements, loc='upper right', fontsize=15, handlelength=2.5)\n",
    "axs[1].set_xlabel(r'$\\ell$')\n",
    "axs[0].set_ylabel(r'CLOE $\\,|\\,C^{XC}_{ij}(\\ell)\\,|\\,$')\n",
    "axs[1].set_ylabel(r'CLOE $\\,|\\,C^{XC}_{ij}(\\ell)\\,|\\,$')\n",
    "axs[0].legend(bbox_to_anchor=(1,0), loc=\"lower left\", fontsize=12)\n",
    "axs[1].legend(bbox_to_anchor=(1,0), loc=\"lower left\", fontsize=12)\n",
    "axs[0].add_artist(legend0)"
   ]
  },
  {
   "cell_type": "code",
   "execution_count": null,
   "metadata": {},
   "outputs": [],
   "source": []
  }
 ],
 "metadata": {
  "kernelspec": {
   "display_name": "Python 3 (ipykernel)",
   "language": "python",
   "name": "python3"
  },
  "language_info": {
   "codemirror_mode": {
    "name": "ipython",
    "version": 3
   },
   "file_extension": ".py",
   "mimetype": "text/x-python",
   "name": "python",
   "nbconvert_exporter": "python",
   "pygments_lexer": "ipython3",
   "version": "3.9.13"
  }
 },
 "nbformat": 4,
 "nbformat_minor": 4
}
