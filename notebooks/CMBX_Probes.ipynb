{
 "cells": [
  {
   "cell_type": "markdown",
   "id": "421a4bb6",
   "metadata": {},
   "source": [
    "# CMB probes in the Euclid likelihood\n",
    "\n",
    "We show how to obtain the CMB observables including:\n",
    "- cross correlation between CMB lensing convergence and galaxy weak lensing \n",
    "- cross correlation between CMB lensing convergence and galaxy clustering photometric\n",
    "- auto correlation of CMB lensing convergence\n",
    "- cross correlation between CMB temperature and galaxy clustering photometric (iSW signal)\n",
    "\n",
    "This allows to go from a 3x2pt photometric analysis, to a 7x2pt data vector.\n",
    "Sampling on the sum of the neutrino mass, we compare the log posterior in both cases.\n",
    "\n",
    "We compare the spectra to the CAMB ones, in a linear scenario, without intrinsic alignement nor redshitf space dsitortions, nor magnification bias, and assuming a galaxy bias constant in each redshift bin. \n",
    "\n",
    "We compare the CLOE and CAMB spectra in numbers of sigma, assuming the gaussian covariance of the cross correlations with Simons Observatory. To download the SO noise curves, run the command\n",
    "`git submodule update --init --recursive`\n",
    "from the main CLOE directory."
   ]
  },
  {
   "cell_type": "code",
   "execution_count": null,
   "id": "02781686",
   "metadata": {},
   "outputs": [],
   "source": [
    "from matplotlib import pyplot as plt\n",
    "import numpy as np\n",
    "import os, sys\n",
    "from os.path import join as opj\n",
    "\n",
    "likelihood_path = os.path.realpath(os.path.join(os.getcwd(),'..'))\n",
    "sys.path.insert(0, likelihood_path)\n",
    "print('Setting as working directory: ', likelihood_path)\n",
    "\n",
    "import cloe\n",
    "from cloe.cobaya_interface import EuclidLikelihood\n",
    "from cloe.photometric_survey.photo import Photo\n",
    "from cloe.cmbx_p.cmbx import CMBX\n",
    "\n",
    "from cobaya.model import get_model\n",
    "import time\n",
    "import copy\n",
    "\n",
    "import camb\n",
    "\n"
   ]
  },
  {
   "cell_type": "markdown",
   "id": "108c7a23",
   "metadata": {},
   "source": [
    "## Setup CLOE"
   ]
  },
  {
   "cell_type": "code",
   "execution_count": null,
   "id": "c0fcccfa",
   "metadata": {},
   "outputs": [],
   "source": [
    "nlflag=0\n",
    "barflag=0\n",
    "# Set this to zero for linear CMB lensing power spectrum from CAMB (inacurate for L>1000)\n",
    "# Useful for comparison with CLOE\n",
    "nlflag_camb=0\n",
    "\n",
    "info = {\n",
    "'params': {\n",
    "        'ombh2': 0.022445, #Omega density of baryons times the reduced Hubble parameter squared\n",
    "        'omch2': 0.1205579307, #Omega density of cold dark matter times the reduced Hubble parameter squared\n",
    "        'H0': 67.0, #Hubble parameter evaluated today (z=0) in km/s/Mpc\n",
    "        'tau': 0.0925, #optical depth\n",
    "        'mnu': 0.06, #  sum of the mass of neutrinos in eV\n",
    "        'nnu': 3.046, #N_eff of relativistic species \n",
    "        'As': 2.12605e-9, #Amplitude of the primordial scalar power spectrum\n",
    "        'ns': 0.96, # primordial power spectrum tilt \n",
    "        'w': -1.0, #Dark energy fluid model\n",
    "        'wa': 0.0, #Dark energy fluid model\n",
    "        'omk': 0.0, #curvature density\n",
    "        'omegam': None, #DERIVED parameter: Omega matter density\n",
    "        'omegab': None, #DERIVED parameter: Omega baryon density\n",
    "        'omeganu': None, #DERIVED parameter: Omega neutrino density\n",
    "        'omnuh2': None, #DERIVED parameter: Omega neutrino density times de reduced Hubble parameter squared\n",
    "        'omegac': None, #DERIVED parameter: Omega cold dark matter density\n",
    "        'N_eff': None},\n",
    "    'theory': {'camb': \n",
    "               {'stop_at_error': True, \n",
    "                'extra_args':{'num_massive_neutrinos': 1,\n",
    "                              'dark_energy_model': 'ppf', \n",
    "                             'lens_potential_accuracy': nlflag_camb}}},\n",
    "    'sampler': {'evaluate': None},  \n",
    "    'output': 'chains/my_euclid_experiment',\n",
    "    'debug': False,\n",
    "    'force': True,\n",
    "    }\n",
    "\n",
    "fid_cosmo = copy.deepcopy(info['params'])\n",
    "# If you want to sample on some parameters, here with a uniform prior:\n",
    "info['params']['mnu'] = {\"prior\": {\"min\": 0., \"max\": 1.}}\n",
    "# info['params']['ns'] = {'prior':{'min':0.8, 'max':1.2}} \n",
    "# info['params']['As'] = {\"prior\": {\"min\": 2.10e-9, \"max\": 2.15e-9}}"
   ]
  },
  {
   "cell_type": "code",
   "execution_count": null,
   "id": "990724d1",
   "metadata": {},
   "outputs": [],
   "source": [
    "info['likelihood'] = {'Euclid': \n",
    "                     {'external': EuclidLikelihood, # Likelihood Class to be read as external\n",
    "                     # Note: everything down below will overwrite the information read\n",
    "                     # in the config folder\n",
    "                     #\n",
    "                     # Select which observables want to use during the analysis\n",
    "                     # by setting them to True or False\n",
    "                     'observables_selection': {\n",
    "                         'WL': {'WL': True, 'GCphot': True, 'GCspectro': False},\n",
    "                         'GCphot': {'GCphot': True, 'GCspectro': False},\n",
    "                         'GCspectro': {'GCspectro': False}, 'CG': {'CG': False},\n",
    "                         'add_phot_RSD': False, 'matrix_transform_phot': False\n",
    "                     },\n",
    "                     # Plot the selected observables matrx\n",
    "                     'plot_observables_selection': False,  \n",
    "                     # Switch to allow for matrix transformations of theory and data vectors\n",
    "                     'matrix_transform_phot' : False, # 'BNT' or 'BNT-test,\n",
    "                      # Nonlinear flags\n",
    "                      # With this, the user can specify which nonlinear model they want\n",
    "                      # For the time-being the available options are: \n",
    "                      # NL_flag_phot_matter\n",
    "                        # 0 -> linear-only\n",
    "                        # 1 -> Takahashi\n",
    "                        # 2 -> Mead2016 (includes baryon corrections)\n",
    "                        # 3 -> Mead2020 (w/o baryon corrections)\n",
    "                        # 4 -> Mead2020_feedback (includes baryon corrections)\n",
    "                        # 5 -> EE2\n",
    "                        # 6 -> Bacco (matter)\n",
    "                     'NL_flag_phot_matter': nlflag,\n",
    "                      # NL_flag_spectro\n",
    "                        # 0 -> linear-only\n",
    "                        # 1 -> EFT\n",
    "                     'NL_flag_spectro': 0,\n",
    "                      # Baryon flag\n",
    "                      # With this, the user can specify which baryon model they want\n",
    "                      # For the time-being the available options are: \n",
    "                            #0 -> No baryonic feedback\n",
    "                            #1 -> Mead2016 (baryons)\n",
    "                            #2 -> Mead2020_feedback\n",
    "                            #3 -> BCemu baryons\n",
    "                            #4 -> Bacco baryons\n",
    "                     'NL_flag_phot_baryon': barflag,\n",
    "                      # Intrinsic alignment flag\n",
    "                         #     0 -> NLA\n",
    "                         #     1 -> TATT\n",
    "                     'IA_flag': 0,\n",
    "                      # IR-resummation method\n",
    "                         #     'DST' -> Discrete sine transform\n",
    "                         #     'EH' -> Eisenstein-Hu\n",
    "                     'IR_resum': 'DST',\n",
    "                    #Set bias model to 2 for galaxy bias constant in z bin, to compare with CAMB\n",
    "                    'bias_model':2, \n",
    "                     # This flag sets the redshift evolution for baryonic parameters for emulators\n",
    "                     # The options are:\n",
    "                            # True -> use X(z) = X_0 * (1+z)^(-nu_X), no. of params: 7*2 = 14\n",
    "                            # False -> use X_i at each redshift bin i and interpolate, no. of params: 7*10 = 70\n",
    "                     'Baryon_redshift_model': False,\n",
    "                     'solver': 'camb',\n",
    "                     'params': {\n",
    "                                # Photometric bias parameters\n",
    "                                'b1_photo_bin1': 1.0997727037892875,\n",
    "                                'b1_photo_bin2': 1.220245876862528,\n",
    "                                'b1_photo_bin3': 1.2723993083933989,\n",
    "                                'b1_photo_bin4': 1.316624471897739,\n",
    "                                'b1_photo_bin5': 1.35812370570578,\n",
    "                                'b1_photo_bin6': 1.3998214171814918,\n",
    "                                'b1_photo_bin7': 1.4446452851824907,\n",
    "                                'b1_photo_bin8': 1.4964959071110084,\n",
    "                                'b1_photo_bin9': 1.5652475842498528,\n",
    "                                'b1_photo_bin10': 1.7429859437184225,\n",
    "                                # Magnification bias parameters\n",
    "                                'magnification_bias_1': 0.0,\n",
    "                                'magnification_bias_2': 0.0,\n",
    "                                'magnification_bias_3': 0.0,\n",
    "                                'magnification_bias_4': 0.0,\n",
    "                                'magnification_bias_5': 0.0,\n",
    "                                'magnification_bias_6': 0.0,\n",
    "                                'magnification_bias_7': 0.0,\n",
    "                                'magnification_bias_8': 0.0,\n",
    "                                'magnification_bias_9': 0.0,\n",
    "                                'magnification_bias_10': 0.0,\n",
    "                                # Shear calibration multiplicative bias parameters                                 \n",
    "                                'multiplicative_bias_1': 0.0,\n",
    "                                'multiplicative_bias_2': 0.0,\n",
    "                                'multiplicative_bias_3': 0.0,\n",
    "                                'multiplicative_bias_4': 0.0,\n",
    "                                'multiplicative_bias_5': 0.0,\n",
    "                                'multiplicative_bias_6': 0.0,\n",
    "                                'multiplicative_bias_7': 0.0,\n",
    "                                'multiplicative_bias_8': 0.0,\n",
    "                                'multiplicative_bias_9': 0.0,\n",
    "                                'multiplicative_bias_10': 0.0,\n",
    "                                # Spectroscopic bias parameters\n",
    "                                'b1_spectro_bin1': 1.46,\n",
    "                                'b1_spectro_bin2': 1.61,\n",
    "                                'b1_spectro_bin3': 1.75,\n",
    "                                'b1_spectro_bin4': 1.90,\n",
    "                                # Intrinsic alignment parameters\n",
    "                                 'a1_ia': 0, #1.72,\n",
    "                                 'a2_ia': 0, #2,\n",
    "                                 'b1_ia': 0, #1,\n",
    "                                 'eta1_ia': 0, #-0.41,\n",
    "                                 'eta2_ia': 0, #1,\n",
    "                                 'beta1_ia': 0.0,\n",
    "                                 'pivot_redshift': 0.,\n",
    "                                # Redshift distributions nuisance parameters: shifts\n",
    "                                'dz_1_GCphot': 0.0, 'dz_1_WL': 0.0,\n",
    "                                'dz_2_GCphot': 0.0, 'dz_2_WL': 0.0,\n",
    "                                'dz_3_GCphot': 0.0, 'dz_3_WL': 0.0,\n",
    "                                'dz_4_GCphot': 0.0, 'dz_4_WL': 0.0,\n",
    "                                'dz_5_GCphot': 0.0, 'dz_5_WL': 0.0,\n",
    "                                'dz_6_GCphot': 0.0, 'dz_6_WL': 0.0,\n",
    "                                'dz_7_GCphot': 0.0, 'dz_7_WL': 0.0,\n",
    "                                'dz_8_GCphot': 0.0, 'dz_8_WL': 0.0,\n",
    "                                'dz_9_GCphot': 0.0, 'dz_9_WL': 0.0,\n",
    "                                'dz_10_GCphot': 0.0, 'dz_10_WL': 0.0,\n",
    "                                'gamma_MG': 0.55,\n",
    "                                'sigma_z': 0.002}, \n",
    "                     # k values for extrapolation of the matter power spectrum and size k-array\n",
    "                     'k_max_extrap': 500.0,\n",
    "                     'k_min_extrap': 1E-5,   \n",
    "                     'k_samp': 1000,\n",
    "                     # z limit values and size z-array\n",
    "                     'z_min': 0.0,\n",
    "                     'z_max': 4.0,\n",
    "                     'z_samp': 100,\n",
    "                     # Add RSD to photometric probes\n",
    "                     'add_phot_RSD': False,\n",
    "                     # Use MG gamma\n",
    "                     'use_gamma_MG': False,\n",
    "                     # Use redshift-dependent purity for GCspectro or not\n",
    "                     'f_out_z_dep': False,\n",
    "                     # Add spectroscopic redshift errors\n",
    "                     'print_theory' : False,\n",
    "                     # Add spectroscopic redshift errors\n",
    "                     'GCsp_z_err' : True,\n",
    "                     #'data': This give specifications for the paths of the input data files\n",
    "                     'data': { \n",
    "                        #'sample' specifies the first folder below the main data folder\n",
    "                        'sample': 'ExternalBenchmark',\n",
    "                        #'spectro' and 'photo' specify paths to data files.\n",
    "                        'spectro': {\n",
    "                            # GC Spectro root name should contain z{:s} string\n",
    "                            # to enable iteration over bins\n",
    "                            'root': 'cov_power_galaxies_dk0p004_z{:s}.fits',\n",
    "                            'redshifts': [\"1.\", \"1.2\", \"1.4\", \"1.65\"],\n",
    "                            'edges': [0.9, 1.1, 1.3, 1.5, 1.8],\n",
    "                            'scale_cuts_fourier': 'GCspectro-Fourier.yaml',\n",
    "                            'Fourier': True},\n",
    "                        'photo': {\n",
    "                            'redshifts': [0.2095, 0.489, 0.619, 0.7335, 0.8445, 0.9595, 1.087, 1.2395, 1.45, 2.038],\n",
    "                            'ndens_GC': 'niTab-EP10-RB00.dat',\n",
    "                            'ndens_WL': 'niTab-EP10-RB00.dat',\n",
    "                            'luminosity_ratio': 'luminosity_ratio.dat',\n",
    "                            # Photometric root names should contain z{:s} string\n",
    "                            # to specify IA model\n",
    "                            'root_GC': 'Cls_{:s}_PosPos.dat',\n",
    "                            'root_WL': 'Cls_{:s}_ShearShear.dat',\n",
    "                            'root_XC': 'Cls_{:s}_PosShear.dat',\n",
    "                            'root_mixing_matrix': 'fs2_mms_10zbins_32ellbins.fits',\n",
    "                            'IA_model': 'zNLA',\n",
    "                            # Photometric covariances root names should contain z{:s} string\n",
    "                            # to specify how the covariance was calculated\n",
    "                            'cov_GC': 'CovMat-PosPos-{:s}-20Bins.npz',\n",
    "                            'cov_WL': 'CovMat-ShearShear-{:s}-20Bins.npz',\n",
    "                            'cov_3x2pt': 'CovMat-3x2pt-{:s}-20Bins.npz',\n",
    "                            'cov_model': 'Gauss',\n",
    "                            'photo_data': 'standard',\n",
    "                            'Fourier': True},  # or 'BNT-Gauss' if BNT selected above\n",
    "                        'cmbx': {\n",
    "                              'root_CMBlens': 'Cls_kCMB.dat',\n",
    "                              'root_CMBlensxWL': 'Cls_kCMBxWL.dat',\n",
    "                              'root_CMBlensxGC': 'Cls_kCMBxGC.dat',\n",
    "                              'root_CMBisw': 'Cls_{:s}_ISWxGC.dat',\n",
    "                              'ISW_model': 'zNLA',\n",
    "                              'cov_7x2pt': 'Cov_7x2pt_WL_GC_CMBX.npy',}}, \n",
    "                            }} "
   ]
  },
  {
   "cell_type": "markdown",
   "id": "ed887ba1",
   "metadata": {},
   "source": [
    "## Including CMB probes "
   ]
  },
  {
   "cell_type": "code",
   "execution_count": null,
   "id": "f5df67b9",
   "metadata": {},
   "outputs": [],
   "source": [
    "info_cmbx = copy.deepcopy(info)\n",
    "info_cmbx['likelihood']['Euclid']['observables_selection']= {\n",
    "                    'WL': {'WL': True, 'GCphot': True, 'GCspectro': False},\n",
    "                     'GCphot': {'GCphot': True, 'GCspectro': False},\n",
    "                    'GCspectro': {'GCspectro': False},\n",
    "                    'CMBlens': {'CMBlens':True, 'WL':True, 'GCphot':True},\n",
    "                    'CMBisw': {'GCphot':True}, 'CG': {'CG': False}, \n",
    "                    'add_phot_RSD': False, 'matrix_transform_phot': False\n",
    "                     }\n",
    "\n",
    "model_cmbx = get_model(info_cmbx)"
   ]
  },
  {
   "cell_type": "markdown",
   "id": "2886a691",
   "metadata": {},
   "source": [
    "# Plot the CMBX spectra"
   ]
  },
  {
   "cell_type": "markdown",
   "id": "5e7e08af",
   "metadata": {},
   "source": [
    "## Intialize the likelihood in the fiducial cosmology "
   ]
  },
  {
   "cell_type": "code",
   "execution_count": null,
   "id": "f2f520c1",
   "metadata": {},
   "outputs": [],
   "source": [
    "logposterior_cmbx = model_cmbx.logposterior([fid_cosmo['mnu']])\n",
    "like = model_cmbx.likelihood['Euclid']\n",
    "\n",
    "photo = Photo(like.cosmo.cosmo_dic, like.likefinal.data_ins.nz_dict_WL, like.likefinal.data_ins.nz_dict_GC_Phot)\n",
    "\n",
    "cmbx = CMBX(photo)\n",
    "cmbx.cmbx_update(photo)"
   ]
  },
  {
   "cell_type": "code",
   "execution_count": null,
   "id": "28dc3075",
   "metadata": {},
   "outputs": [],
   "source": [
    "def pp2kk(ells):\n",
    "    return (ells*(ells+1))**2 /4\n",
    "\n",
    "# ells = np.unique(np.logspace(1, 3, num=100).astype('int'))\n",
    "lmin = 10\n",
    "lmax = 1500\n",
    "# ells = np.geomspace(lmin, lmax, num=100)\n",
    "ells = np.arange(lmax+1)"
   ]
  },
  {
   "cell_type": "markdown",
   "id": "253a87ba",
   "metadata": {},
   "source": [
    "## CMB lensing auto power spectrum"
   ]
  },
  {
   "cell_type": "code",
   "execution_count": null,
   "id": "ef510a00",
   "metadata": {},
   "outputs": [],
   "source": [
    "cl_kk = cmbx.Cl_kCMB(ells)\n",
    "plt.loglog(ells, cl_kk)\n",
    "plt.xlabel('$L$')\n",
    "plt.ylabel('$C_L^{\\kappa \\kappa}$')"
   ]
  },
  {
   "cell_type": "markdown",
   "id": "8cb75358",
   "metadata": {},
   "source": [
    "## Cross correlation of CMB lensing and galaxy clustering "
   ]
  },
  {
   "cell_type": "code",
   "execution_count": null,
   "id": "f9b41f53",
   "metadata": {},
   "outputs": [],
   "source": [
    "ntomowl = photo.nz_WL.get_num_tomographic_bins()\n",
    "ntomogc = photo.nz_GC.get_num_tomographic_bins()\n",
    "\n",
    "cl_kgi = np.zeros([ntomogc, len(ells)])\n",
    "cl_kwi = np.zeros([ntomowl, len(ells)])\n",
    "\n",
    "for ibin in range(ntomogc):\n",
    "    cl_kgi[ibin] = cmbx.Cl_kCMB_X_GC_phot(ells, ibin+1)\n",
    "        \n",
    "        \n",
    "for ibin in range(ntomowl):\n",
    "    cl_kwi[ibin] = cmbx.Cl_kCMB_X_WL(ells, ibin+1)"
   ]
  },
  {
   "cell_type": "code",
   "execution_count": null,
   "id": "a0120147",
   "metadata": {},
   "outputs": [],
   "source": [
    "plt.figure()\n",
    "\n",
    "for ibin in range(ntomogc):\n",
    "    plt.loglog(ells, cl_kgi[ibin], label='Bin {}'.format(ibin+1))\n",
    "plt.legend(ncol=2)\n",
    "\n",
    "plt.xlabel('$L$')\n",
    "plt.ylabel('$C_L^{\\kappa, \\mathrm{GC photo}}$')"
   ]
  },
  {
   "cell_type": "markdown",
   "id": "69f21e30",
   "metadata": {},
   "source": [
    "## Cross correlation of CMB lensing and galaxy weak lensing "
   ]
  },
  {
   "cell_type": "code",
   "execution_count": null,
   "id": "6028e2f8",
   "metadata": {},
   "outputs": [],
   "source": [
    "plt.figure()\n",
    "\n",
    "for ibin in range(ntomowl):\n",
    "    plt.loglog(ells, cl_kwi[ibin], label='Bin {}'.format(ibin+1))\n",
    "plt.legend(ncol=2)\n",
    "\n",
    "plt.xlabel('$L$')\n",
    "plt.ylabel('$C_L^{\\kappa, \\mathrm{WL}}$')"
   ]
  },
  {
   "cell_type": "markdown",
   "id": "3fbdd136",
   "metadata": {},
   "source": [
    "## Cross correlation of CMB temeperature and galaxy clustering (iSW)"
   ]
  },
  {
   "cell_type": "code",
   "execution_count": null,
   "id": "f3d3b0ed",
   "metadata": {},
   "outputs": [],
   "source": [
    "lmax_isw = 200\n",
    "ells_isw = np.arange(lmax_isw+1)\n",
    "\n",
    "cl_tgi = np.zeros([ntomogc, len(ells_isw)])\n",
    "for ibin in range(ntomogc):\n",
    "    cl_tgi[ibin] = cmbx.Cl_ISWxGC(ells_isw, ibin+1)\n",
    "\n",
    "def fact_ell(ell):\n",
    "    return ell*(ell+1)/(2.*np.pi)"
   ]
  },
  {
   "cell_type": "code",
   "execution_count": null,
   "id": "e41775ee",
   "metadata": {},
   "outputs": [],
   "source": [
    "plt.figure()\n",
    "for ibin in range(ntomogc):\n",
    "    plt.plot(ells_isw, fact_ell(ells_isw)*cl_tgi[ibin], label='Bin {}'.format(ibin+1))\n",
    "plt.legend(ncol=2)\n",
    "plt.xlim(1, lmax_isw)\n",
    "\n",
    "plt.xlabel('$\\ell$')\n",
    "plt.ylabel('$C_\\ell^{T, \\mathrm{GC photo}}$')\n"
   ]
  },
  {
   "cell_type": "markdown",
   "id": "4d17bfc5",
   "metadata": {},
   "source": [
    "# Additional comparisons with CAMB\n",
    "\n",
    "We compare the relative difference between CLOE and CAMB in the linear regime, assuming cross correlations with the Simons Observatory survey, assuming 36% sky fraction (i.e. total overlap of Euclid and SO). \n",
    "\n",
    "The validation criterion is that the absolute difference between CLOE and CAMB spectra is below 0.1 sigma."
   ]
  },
  {
   "cell_type": "code",
   "execution_count": null,
   "id": "2574961c",
   "metadata": {},
   "outputs": [],
   "source": [
    "import camb\n",
    "from camb import model as model_nl\n",
    "from camb.sources import GaussianSourceWindow, SplinedSourceWindow"
   ]
  },
  {
   "cell_type": "code",
   "execution_count": null,
   "id": "32a002a1",
   "metadata": {},
   "outputs": [],
   "source": [
    "pars = camb.CAMBparams()\n",
    "\n",
    "pars.set_cosmology(H0=fid_cosmo['H0'], ombh2=fid_cosmo['ombh2'], omch2=fid_cosmo['omch2'], mnu=fid_cosmo['mnu'], omk=0, tau=fid_cosmo['tau'])\n",
    "pars.InitPower.set_params(As=fid_cosmo['As'], ns=fid_cosmo['ns'], r=0)\n",
    "\n",
    "pars.Want_CMB = True\n",
    "pars.NonLinear = model_nl.NonLinear_none\n",
    "pars.WantTransfer = True\n",
    "\n",
    "zarr = np.linspace(0, 4)\n",
    "pars.transfer_redshifts = zarr\n",
    "_ = pars.set_matter_power(redshifts=zarr, kmax=100)"
   ]
  },
  {
   "cell_type": "code",
   "execution_count": null,
   "id": "c7f1ad4e",
   "metadata": {},
   "outputs": [],
   "source": [
    "sources = []\n",
    "nuisance_params = like.cosmo.cosmo_dic['nuisance_parameters']\n",
    "zz = np.linspace(0, 5, num=1000)\n",
    "for ibin in range(ntomogc):\n",
    "    sources.append(\n",
    "        SplinedSourceWindow(source_type='counts', bias=nuisance_params[f'b1_photo_bin{ibin+1}'], z=zz, W=like.likefinal.data_ins.nz_dict_GC_Phot[f'n{ibin+1}'](zz))\n",
    "    )\n",
    "    \n",
    "for ibin in range(ntomowl):\n",
    "    sources.append(\n",
    "        SplinedSourceWindow(source_type='lensing', bias=nuisance_params[f'b1_photo_bin{ibin+1}'], z=zz, W=like.likefinal.data_ins.nz_dict_GC_Phot[f'n{ibin+1}'](zz))\n",
    "    )"
   ]
  },
  {
   "cell_type": "code",
   "execution_count": null,
   "id": "45c98ca2",
   "metadata": {},
   "outputs": [],
   "source": [
    "pars.SourceWindows = sources\n",
    "pars.SourceTerms.limber_windows = True\n",
    "pars.SourceTerms.limber_phi_lmin = 1\n",
    "pars.SourceTerms.limber_windows = True\n",
    "\n",
    "pars.SourceTerms.counts_density = True\n",
    "pars.SourceTerms.counts_lensing = False # magnification bias\n",
    "pars.SourceTerms.counts_velocity = False\n",
    "pars.SourceTerms.counts_radial = False\n",
    "pars.SourceTerms.counts_redshift = False # redshift distortions\n",
    "pars.SourceTerms.counts_potential = False\n",
    "pars.SourceTerms.counts_timedelay = False\n",
    "pars.SourceTerms.counts_evolve = False\n",
    "pars.SourceTerms.counts_ISW = False\n",
    "\n",
    "# lmax_camb = 3000\n",
    "pars.set_for_lmax(3000, lens_potential_accuracy=0)\n",
    "\n",
    "camb_results = camb.get_results(pars)\n",
    "clscambsources = camb_results.get_source_cls_dict(raw_cl=True)\n",
    "\n",
    "camb_cls_pp = camb_results.get_lens_potential_cls(lmax=lmax, raw_cl = True)[:, 0] "
   ]
  },
  {
   "cell_type": "markdown",
   "id": "553c9bdc",
   "metadata": {},
   "source": [
    "## Define covariances and noise models for power spectra\n"
   ]
  },
  {
   "cell_type": "code",
   "execution_count": null,
   "id": "4b58a4fe",
   "metadata": {},
   "outputs": [],
   "source": [
    "# Get Gaussian covariance estimates\n",
    "\n",
    "def get_gauss_autosigma(cl, nl, lmax=3000, fsky=0.36, return_sigma=True):\n",
    "    ls = np.arange(lmax+1)\n",
    "    cov = 1./(2*ls+1)/fsky * 2*(cl[:lmax+1]+nl[:lmax+1])**2\n",
    "    if return_sigma:\n",
    "        return np.sqrt(cov)\n",
    "    else:\n",
    "        return cov\n",
    "\n",
    "def get_gauss_crosssigma(cla, nla, clb, nlb, clab, lmax=3000, fsky=0.36, return_sigma=True):\n",
    "    ls = np.arange(lmax+1)\n",
    "    cov = 1./(2*ls+1)/fsky * ((cla[:lmax+1]+nla[:lmax+1])*(clb[:lmax+1]+nlb[:lmax+1]) + clab**2)\n",
    "    if return_sigma:\n",
    "        return np.sqrt(cov)\n",
    "    else:\n",
    "        return cov\n"
   ]
  },
  {
   "cell_type": "markdown",
   "id": "e0161084",
   "metadata": {},
   "source": [
    "To download the SO noise curves, run the command\n",
    "`git submodule update --init --recursive`\n",
    "from the main CLOE directory."
   ]
  },
  {
   "cell_type": "code",
   "execution_count": null,
   "id": "b266fece",
   "metadata": {},
   "outputs": [],
   "source": [
    "# Get CMB lensing N0 bias\n",
    "# We load the noise curves generated by SO collaboration \n",
    "# We take the Minimum Variance baseline iterative analysis \n",
    "# (recommanded science case in their README)\n",
    "savepath = opj(os.path.dirname(os.path.dirname(cloe.__file__)), 'data', 'ExternalBenchmark')\n",
    "\n",
    "SO_lensing = opj(savepath, 'so_noise_models', 'LAT_lensing_noise/lensing_v3_1_1/nlkk_v3_1_0_deproj0_SENS1_fsky0p4_it_lT30-3000_lP30-5000.dat')\n",
    "N0s_SO = np.loadtxt(SO_lensing).T\n",
    "N0_kCMB = N0s_SO[7]\n",
    "# SO noise curve start at ell = 2, so we append ell = 0 and ell = 1 to get more easily N0(ell)\n",
    "N0_kCMB = np.insert(N0_kCMB, 0, 0)\n",
    "N0_kCMB = np.insert(N0_kCMB, 0, 0)\n",
    "\n",
    "# TT noise and power spectrum\n",
    "\n",
    "sigma_T = [33.]\n",
    "beam = 7.\n",
    "theta2 = (beam*np.array([np.pi/60./180.]))**2/8.0/np.log(2.0)\n",
    "sigma_T *= np.array([np.pi/60./180.])\n",
    "nl_TT = sigma_T**2*np.exp(ells*(ells+1)*theta2)\n",
    "cl_TT = np.array([like.cosmo.cosmo_dic['Cl']['tt'][int(ell)] for ell in ells])\n",
    "\n",
    "# We load here the temperature noise curve from SO\n",
    "SO_temperature = opj(savepath, 'so_noise_models', 'LAT_comp_sep_noise/v3.1.0/SO_LAT_Nell_T_atmv1_baseline_fsky0p4_ILC_CMB.txt')\n",
    "NT_SO = np.loadtxt(SO_temperature).T\n",
    "ind_SO = np.where(ells>=40)[0]\n",
    "nl_TT[ind_SO] = NT_SO[1,ells[ind_SO].astype(int)-40]"
   ]
  },
  {
   "cell_type": "code",
   "execution_count": null,
   "id": "c6d09be3",
   "metadata": {},
   "outputs": [],
   "source": [
    "\n",
    "# Define here the galaxies number density in each bin (in arcmin-2 converted to steradians)\n",
    "ngal = 3*3600*(180/np.pi)**2\n",
    "# Galaxy shot noise\n",
    "GG_noise = 1./ngal *np.ones(lmax+1)\n",
    "\n",
    "# Define here the total intrinsic ellipticity dispersion\n",
    "sig_eps = 0.3\n",
    "# Weaklensing shape noise\n",
    "LL_noise = sig_eps**2/ngal / 2. * np.ones(lmax+1)\n"
   ]
  },
  {
   "cell_type": "markdown",
   "id": "68fd2f0a",
   "metadata": {},
   "source": [
    "## Comparing CMB lensing auto correlation"
   ]
  },
  {
   "cell_type": "code",
   "execution_count": null,
   "id": "9994a8a1",
   "metadata": {},
   "outputs": [],
   "source": [
    "ls = np.arange(lmin, lmax+1)"
   ]
  },
  {
   "cell_type": "code",
   "execution_count": null,
   "id": "8bfe7232",
   "metadata": {},
   "outputs": [],
   "source": [
    "plt.loglog(ls, cl_kk[ls], label='CLOE')\n",
    "plt.loglog(ls, pp2kk(ls)*camb_cls_pp[ls], label='CAMB', ls='--')\n",
    "\n",
    "plt.legend()\n",
    "plt.xlabel('$L$')\n",
    "plt.ylabel('$C_L^{\\kappa \\kappa}$')"
   ]
  },
  {
   "cell_type": "code",
   "execution_count": null,
   "id": "4845427d",
   "metadata": {},
   "outputs": [],
   "source": [
    "sigma = get_gauss_autosigma(cl_kk, N0_kCMB, lmax=lmax)\n",
    "plt.loglog(ls, np.abs(camb_cls_pp[ls]*pp2kk(ls) - cl_kk[ls])/sigma[ls])\n",
    "plt.ylabel(r'd(CLOE, CAMB) $[\\sigma]$', fontsize=15)\n",
    "plt.xlabel('$L$', fontsize=15)\n",
    "\n",
    "plt.title('$C_L^{\\kappa, \\kappa}$')\n",
    "\n",
    "plt.axhline(y=0.1, c='k', ls=':')\n"
   ]
  },
  {
   "cell_type": "markdown",
   "id": "4dd91af3",
   "metadata": {},
   "source": [
    "## Comparing the CMB lensing cross correlations"
   ]
  },
  {
   "cell_type": "code",
   "execution_count": null,
   "id": "d3e52068",
   "metadata": {},
   "outputs": [],
   "source": [
    "# Note from CAMB DEMO notebook \n",
    "# Note that P is CMB lensing, as a deflection angle power (i.e. PxP is [l(l+1)]^2C_l\\phi\\phi/2\\pi)"
   ]
  },
  {
   "cell_type": "code",
   "execution_count": null,
   "id": "d0648c22",
   "metadata": {},
   "outputs": [],
   "source": [
    "# Galaxy clustering auto correlations\n",
    "\n",
    "cl_gigi = np.zeros([ntomogc, lmax+1])\n",
    "\n",
    "for ibin in range(ntomogc):\n",
    "    cl_gigi[ibin] = photo.Cl_GC_phot(np.arange(lmax+1), ibin+1, ibin+1)\n"
   ]
  },
  {
   "cell_type": "code",
   "execution_count": null,
   "id": "7f69f565",
   "metadata": {},
   "outputs": [],
   "source": [
    "# Weak lensing auto correlations\n",
    "\n",
    "cl_wiwi = np.zeros([ntomowl, lmax+1])\n",
    "\n",
    "for ibin in range(ntomowl):\n",
    "    cl_wiwi[ibin] = photo.Cl_WL(np.arange(lmax+1), ibin+1, ibin+1)"
   ]
  },
  {
   "cell_type": "code",
   "execution_count": null,
   "id": "42d33a76",
   "metadata": {},
   "outputs": [],
   "source": [
    "for ibin in range(ntomogc):\n",
    "    plt.plot(ls, cl_kgi[ibin][ls], label='CLOE bin {}'.format(ibin+1))\n",
    "    plt.plot(ls, clscambsources[(f'PxW{ibin+1}')][ls]*np.sqrt(pp2kk(ls)), label='CAMB bin {}'.format(ibin+1), ls='--')\n",
    "    \n",
    "plt.loglog()\n",
    "plt.legend(ncol=2)\n",
    "plt.xlabel('$L$')\n",
    "plt.ylabel('$C_L^{\\kappa, \\mathrm{GC photo}}$')\n",
    "plt.title('Cross correlation of CMB lensing with galaxy density photo')"
   ]
  },
  {
   "cell_type": "code",
   "execution_count": null,
   "id": "88ef13ee",
   "metadata": {},
   "outputs": [],
   "source": [
    "for ibin in range(ntomogc):\n",
    "    sigma = get_gauss_crosssigma(cl_kk, N0_kCMB, cl_gigi[ibin], GG_noise, cl_kgi[ibin], lmax=lmax)\n",
    "    plt.plot(ls,  np.abs(clscambsources[(f'PxW{ibin+1}')][ls]*np.sqrt(pp2kk(ls)) - cl_kgi[ibin][ls])/sigma[ls], label='bin {}'.format(ibin+1))\n",
    "\n",
    "plt.loglog()\n",
    "plt.axhline(y=0.1, c='k', ls=':')\n",
    "\n",
    "plt.legend(ncol=2)\n",
    "plt.xlabel('$L$', fontsize=15)\n",
    "plt.ylabel('d(CLOE, CAMB) $[\\sigma]$', fontsize=15)\n",
    "\n",
    "plt.axhline(y=0, c='k')\n",
    "\n",
    "plt.title('$C_L^{\\kappa, \\mathrm{GC photo}}$')"
   ]
  },
  {
   "cell_type": "code",
   "execution_count": null,
   "id": "ffeee631",
   "metadata": {},
   "outputs": [],
   "source": [
    "for ibin in range(ntomogc):\n",
    "    plt.plot(ls, cl_kwi[ibin][ls], label='CLOE bin {}'.format(ibin+1))\n",
    "    plt.plot(ls, clscambsources[(f'PxW{ibin+11}')][ls]*np.sqrt(pp2kk(ls)), label='CAMB bin {}'.format(ibin+1), ls='--')\n",
    "    \n",
    "plt.loglog()\n",
    "\n",
    "plt.legend(ncol=2)\n",
    "plt.xlabel('$\\ell$', fontsize=15)\n",
    "plt.ylabel('$C_\\ell^{\\kappa, \\mathrm{L}}$', fontsize=15)\n",
    "plt.title('Cross correlation of CMB lensing with galaxy weak lensing')"
   ]
  },
  {
   "cell_type": "code",
   "execution_count": null,
   "id": "91219d07",
   "metadata": {},
   "outputs": [],
   "source": [
    "for ibin in range(ntomogc):\n",
    "    sigma = get_gauss_crosssigma(cl_kk, N0_kCMB, cl_wiwi[ibin], LL_noise, cl_kwi[ibin], lmax=lmax)\n",
    "    plt.plot(ls,  np.abs(clscambsources[(f'PxW{ibin+11}')][ls]*np.sqrt(pp2kk(ls)) - cl_kwi[ibin][ls])/sigma[ls], label='bin {}'.format(ibin+1))\n",
    "\n",
    "plt.loglog()\n",
    "plt.axhline(y=0.1, c='k', ls=':')\n",
    "\n",
    "plt.legend(ncol=2)\n",
    "plt.xlabel('$\\ell$', fontsize=15)\n",
    "plt.ylabel('d(CLOE, CAMB) $[\\sigma]$', fontsize=15)\n",
    "plt.title('$C_\\ell^{\\kappa, \\mathrm{L}}$')\n",
    "plt.axhline(y=0, c='k')"
   ]
  },
  {
   "cell_type": "markdown",
   "id": "54ae920b",
   "metadata": {},
   "source": [
    "## Comparing iSW "
   ]
  },
  {
   "cell_type": "code",
   "execution_count": null,
   "id": "764a2339",
   "metadata": {},
   "outputs": [],
   "source": [
    "clscamb = camb_results.get_cmb_unlensed_scalar_array_dict(CMB_unit=None, raw_cl=True)\n",
    "clscmb = camb_results.get_cmb_power_spectra(CMB_unit=None, raw_cl=True)\n",
    "cltt = clscmb['total'].T[0]\n",
    "cmb_muk = 2.7255 *1e6"
   ]
  },
  {
   "cell_type": "code",
   "execution_count": null,
   "id": "dd23ab30",
   "metadata": {},
   "outputs": [],
   "source": [
    "plt.figure()\n",
    "\n",
    "for ibin in range(ntomogc):\n",
    "    plt.plot(ells_isw, fact_ell(ells_isw)*cl_tgi[ibin], label='CLOE Bin {}'.format(ibin+1))\n",
    "    plt.plot(ells_isw, fact_ell(ells_isw)*clscamb[f'TxW{ibin+1}'][ells_isw], label='CAMB Bin {}'.format(ibin+1), ls='--')\n",
    "\n",
    "    \n",
    "plt.legend(ncol=2)\n",
    "\n",
    "plt.xlabel('$\\ell$', fontsize=15)\n",
    "plt.ylabel('$\\ell(\\ell+1)/2\\pi \\;  C_\\ell^{T, \\mathrm{GC photo}}$', fontsize=15)\n"
   ]
  },
  {
   "cell_type": "code",
   "execution_count": null,
   "id": "828f8332",
   "metadata": {},
   "outputs": [],
   "source": [
    "plt.figure()\n",
    "\n",
    "for ibin in range(ntomogc):\n",
    "    sigma = get_gauss_crosssigma(cltt, nl_TT/cmb_muk**2, cl_gigi[ibin], GG_noise, cl_tgi[ibin], lmax=lmax_isw)\n",
    "    plt.plot(ells_isw, np.abs(cl_tgi[ibin][ells_isw] -  clscamb[f'TxW{ibin+1}'][ells_isw])/sigma[ells_isw], label='Bin {}'.format(ibin+1))\n",
    "\n",
    "plt.legend(ncol=2)\n",
    "plt.loglog()\n",
    "plt.axhline(y=0.1, c='k', ls=':')\n",
    "plt.xlim(2, lmax_isw)\n",
    "plt.xlabel('$\\ell$', fontsize=15)\n",
    "plt.title('iSW, $C_\\ell^{T, \\mathrm{GC photo}} $', fontsize=15)\n",
    "plt.ylabel('d(CLOE, CAMB), $[\\sigma]$')"
   ]
  },
  {
   "cell_type": "markdown",
   "id": "2a3b6ccf",
   "metadata": {},
   "source": [
    "# Sampling the posterior with the sun of the neutrino mass parameter\n",
    "\n",
    "We update likleihood model parameters to match the values of the mock data vector stored on disk.\n",
    "\n",
    "We sample only the sum of the neutrino masses, leaving all other parameters fixed. "
   ]
  },
  {
   "cell_type": "code",
   "execution_count": null,
   "id": "b21a2268",
   "metadata": {},
   "outputs": [],
   "source": [
    "info['likelihood']['Euclid']['params']['a1_ia'] = 1.72\n",
    "info['likelihood']['Euclid']['params']['a2_ia'] = 2\n",
    "info['likelihood']['Euclid']['params']['b1_ia'] = 1.\n",
    "info['likelihood']['Euclid']['params']['eta1_ia'] = -0.41\n",
    "info['likelihood']['Euclid']['params']['eta2_ia'] = 1.\n",
    "info['likelihood']['Euclid']['bias_model'] = 1.\n",
    "\n",
    "info_cmbx['likelihood']['Euclid']['params']['a1_ia'] = 1.72\n",
    "info_cmbx['likelihood']['Euclid']['params']['a2_ia'] = 2\n",
    "info_cmbx['likelihood']['Euclid']['params']['b1_ia'] = 1.\n",
    "info_cmbx['likelihood']['Euclid']['params']['eta1_ia'] = -0.41\n",
    "info_cmbx['likelihood']['Euclid']['params']['eta2_ia'] = 1.\n",
    "info_cmbx['likelihood']['Euclid']['bias_model'] = 1.\n"
   ]
  },
  {
   "cell_type": "code",
   "execution_count": null,
   "id": "c458f7f1",
   "metadata": {},
   "outputs": [],
   "source": [
    "model = get_model(info)\n",
    "model_cmbx = get_model(info_cmbx)\n"
   ]
  },
  {
   "cell_type": "code",
   "execution_count": null,
   "id": "854b4d3a",
   "metadata": {},
   "outputs": [],
   "source": [
    "mnu = np.linspace(0.056, 0.064, num=8)\n",
    "log = np.zeros_like(mnu)\n",
    "log_cmbx = np.zeros_like(mnu)\n",
    "for i, m in enumerate(mnu):\n",
    "    log[i] = model.logposterior([m]).loglikes[0]\n",
    "    log_cmbx[i] = model_cmbx.logposterior([m]).loglikes[0]\n",
    "    print(i, m, log[i], log_cmbx[i])"
   ]
  },
  {
   "cell_type": "code",
   "execution_count": null,
   "id": "025c3830",
   "metadata": {},
   "outputs": [],
   "source": [
    "plt.plot(mnu, np.exp(log), label=\"3x2pt\")\n",
    "plt.plot(mnu, np.exp(log_cmbx), label=\"7x2pt\")\n",
    "plt.axvline(x=0.06, c='r', label=\"fiducial\")\n",
    "plt.legend()\n",
    "plt.xlabel(r\"$\\sum m_\\nu$\")\n",
    "plt.ylabel(\"log posterior\")"
   ]
  }
 ],
 "metadata": {
  "kernelspec": {
   "display_name": "Python 3 (ipykernel)",
   "language": "python",
   "name": "python3"
  },
  "language_info": {
   "codemirror_mode": {
    "name": "ipython",
    "version": 3
   },
   "file_extension": ".py",
   "mimetype": "text/x-python",
   "name": "python",
   "nbconvert_exporter": "python",
   "pygments_lexer": "ipython3",
   "version": "3.9.18"
  }
 },
 "nbformat": 4,
 "nbformat_minor": 5
}
