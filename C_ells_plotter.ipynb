{
 "cells": [
  {
   "cell_type": "code",
   "execution_count": null,
   "metadata": {},
   "outputs": [],
   "source": [
    "#General imports\n",
    "import numpy as np\n",
    "import matplotlib.pyplot as plt\n",
    "from scipy import integrate\n",
    "from scipy import interpolate \n",
    "\n",
    "plt.rc('xtick',labelsize=16)\n",
    "plt.rc('ytick',labelsize=16)\n",
    "plt.rc('font',size=15)\n",
    "#plt.rc('figure', autolayout=True)\n",
    "plt.rc('axes', titlesize=16)\n",
    "plt.rc('axes', labelsize=17)\n",
    "plt.rc('lines', linewidth=2)\n",
    "plt.rc('lines', markersize=6)\n",
    "plt.rc('legend', fontsize=20)\n",
    "plt.rc('mathtext', fontset='stix')\n",
    "plt.rc('font', family='STIXGeneral')\n",
    "#Import cobaya -need to be installed\n",
    "import cobaya\n",
    "#Import external loglike from the Likelihood Package within cobaya interface module\n",
    "from likelihood.cobaya_interface import EuclidLikelihood"
   ]
  },
  {
   "cell_type": "code",
   "execution_count": 2,
   "metadata": {},
   "outputs": [],
   "source": [
    "#ATTENTION: CHANGE THIS TO YOUR LOCAL PATH where your external codes are installed: CAMB, polychord, likelihoods...\n",
    "modules_path = \"/data2/cobaya_modules/\"\n",
    "h=0.67\n",
    "# Info is the 'ini file' dictionary. \n",
    "# You can translate this info-dictionary into a yaml file and run: cobaya-run info.yaml such as CosmoMC like\n",
    "\n",
    "info = {\n",
    "    #Which parameters would you like to sample?\n",
    "    'params': {\n",
    "        # Fixed\n",
    "        'ombh2': 0.022445, 'omch2': 0.12055785610846023, 'H0': 67, 'tau': 0.0925,\n",
    "        'mnu': 0.06, 'nnu': 2.046, 'omnuh2': 0.00143717*h**2,\n",
    "        # Sampled - just as an example we assume we will be sampling over ns\n",
    "        'ns': 0.96, #{'prior': {'min': 0.8, 'max': 1.2}},\n",
    "        #To be passed to euclid which likelihood to use (preliminary)\n",
    "        # 1: shear\n",
    "        # 2: spec\n",
    "        # 12: both\n",
    "        'like_selection': 12,\n",
    "        'As': 2.12605e-9},\n",
    "    #Which theory code you want to use? HERE CAMB\n",
    "    'theory': {'camb': {'stop_at_error': True, 'extra_args':{'num_massive_neutrinos': 1}}},\n",
    "    #Which sample do you want to use? HERE I use MCMC for testing\n",
    "    'sampler': {'mcmc': None},  \n",
    "    #Where have you installed your modules (i.e: CAMB, polychord, likelihoods...)\n",
    "    'packages_path': modules_path,\n",
    "    #Where are the results going to be stored?\n",
    "    'output': 'chains/my_euclid_experiment',\n",
    "    #Likelihood: we load the likelihood as an external function\n",
    "    'likelihood': {'Euclid': EuclidLikelihood},\n",
    "    'debug': False,\n",
    "    'force': True\n",
    "    }"
   ]
  },
  {
   "cell_type": "code",
   "execution_count": 3,
   "metadata": {},
   "outputs": [
    {
     "name": "stdout",
     "output_type": "stream",
     "text": [
      "[model] *WARNING* Ignored blocks/options: ['sampler', 'output', 'force']\n",
      "[prior] *WARNING* No sampled parameters requested! This will fail for non-mock samplers.\n",
      "[camb] Importing *local* CAMB from /data2/cobaya_modules/code/CAMB\n",
      "[prior] *WARNING* No sampled parameters requested! This will fail for non-mock samplers.\n",
      "[camb] Importing *local* CAMB from /data2/cobaya_modules/code/CAMB\n"
     ]
    },
    {
     "data": {
      "text/plain": [
       "LogPosterior(logpost=-15.0, logpriors=[0.0], loglikes=array([-15.]), derived=[])"
      ]
     },
     "execution_count": 3,
     "metadata": {},
     "output_type": "execute_result"
    }
   ],
   "source": [
    "# Model wrapper of cobaya\n",
    "from cobaya.model import get_model\n",
    "model = get_model(info)\n",
    "model.logposterior({})"
   ]
  },
  {
   "cell_type": "code",
   "execution_count": 4,
   "metadata": {},
   "outputs": [],
   "source": [
    "#Import Cosmology module from the Likelihood Package to play with cosmological quantities\n",
    "from likelihood.cosmo.cosmology import Cosmology\n",
    "# Some of the theory needs require extra info (redshift, ks)...\n",
    "z_min = 0.0\n",
    "z_max = 4.0\n",
    "z_samp = 100\n",
    "z_win = np.linspace(z_min, z_max, z_samp)\n",
    "k_max = 0.2"
   ]
  },
  {
   "cell_type": "code",
   "execution_count": 5,
   "metadata": {},
   "outputs": [],
   "source": [
    "# Cobaya_interface save the cosmology parameters and the cosmology requirements \n",
    "# from CAMB/CLASS via COBAYA to the cosmology class\n",
    "\n",
    "# This dictionary collects info from cobaya\n",
    "theory_dic = {'H0': model.provider.get_param('H0'),\n",
    "                  'omch2': model.provider.get_param('omch2'),\n",
    "                  'ombh2': model.provider.get_param('ombh2'),\n",
    "                  'mnu': model.provider.get_param('mnu'),\n",
    "                  'comov_dist': model.provider.get_comoving_radial_distance(z_win),\n",
    "                  'angular_dist': model.provider.get_angular_diameter_distance(z_win),\n",
    "                  'H': model.provider.get_Hubble(z_win),\n",
    "                  'Pk_interpolator': model.provider.get_Pk_interpolator(nonlinear=False),\n",
    "                  'Pk_delta': None,\n",
    "                  'fsigma8': None,\n",
    "                  'z_win': z_win\n",
    "                  }\n",
    "theory_dic['Pk_delta'] = model.provider.get_Pk_interpolator((\"delta_tot\", \"delta_tot\"), nonlinear=False)\n",
    "theory_dic['fsigma8'] = model.provider.get_fsigma8(z_win)\n",
    "# Remember: h is hard-coded\n",
    "R, z, sigma_R = model.provider.get_sigma_R()\n",
    "#print(R)\n",
    "theory_dic['sigma_8'] = sigma_R[:, 0]\n",
    "\n",
    "# Initialize cosmology class from likelihood.cosmo.cosmology\n",
    "# By default: LCDM\n",
    "cosmology = Cosmology()\n",
    "cosmology.cosmo_dic.update(theory_dic)\n",
    "cosmology.update_cosmo_dic(z_win, 0.005)"
   ]
  },
  {
   "cell_type": "code",
   "execution_count": 6,
   "metadata": {},
   "outputs": [],
   "source": [
    "C_GC = np.genfromtxt(\"/data2/EUCLID/likelihood-implementation/data/ExternalBenchmark/Photometric/CijGG-LCDM-Lin-noIA.dat\")\n",
    "C_LL = np.genfromtxt(\"/data2/EUCLID/likelihood-implementation/data/ExternalBenchmark/Photometric/CijLL-LCDM-Lin-noIA.dat\")"
   ]
  },
  {
   "cell_type": "code",
   "execution_count": 7,
   "metadata": {},
   "outputs": [],
   "source": [
    "from likelihood.photometric_survey.shear import Shear\n",
    "shear = Shear(cosmology.cosmo_dic)"
   ]
  },
  {
   "cell_type": "code",
   "execution_count": 12,
   "metadata": {
    "scrolled": false
   },
   "outputs": [
    {
     "name": "stdout",
     "output_type": "stream",
     "text": [
      "10.0\n",
      "15.0\n",
      "20.0\n",
      "25.0\n",
      "30.0\n",
      "35.0\n",
      "40.0\n",
      "45.0\n",
      "50.0\n",
      "55.0\n",
      "60.0\n",
      "65.0\n",
      "70.0\n",
      "75.0\n",
      "80.0\n",
      "85.0\n",
      "90.0\n",
      "95.0\n",
      "100.0\n",
      "105.0\n",
      "110.0\n",
      "115.0\n",
      "120.0\n",
      "125.0\n",
      "130.0\n",
      "135.0\n",
      "140.0\n",
      "145.0\n",
      "150.0\n",
      "155.0\n",
      "160.0\n",
      "165.0\n",
      "170.0\n",
      "175.0\n",
      "180.0\n",
      "185.0\n",
      "190.0\n",
      "195.0\n",
      "200.0\n",
      "205.0\n",
      "210.0\n",
      "215.0\n",
      "220.0\n",
      "225.0\n",
      "230.0\n",
      "235.0\n",
      "240.0\n",
      "245.0\n",
      "250.0\n",
      "255.0\n",
      "260.0\n",
      "265.0\n",
      "270.0\n",
      "275.0\n",
      "280.0\n",
      "285.0\n",
      "290.0\n",
      "295.0\n",
      "300.0\n",
      "305.0\n",
      "310.0\n",
      "315.0\n",
      "320.0\n",
      "325.0\n",
      "330.0\n",
      "335.0\n",
      "340.0\n",
      "345.0\n",
      "350.0\n",
      "355.0\n",
      "360.0\n",
      "365.0\n",
      "370.0\n",
      "375.0\n",
      "380.0\n",
      "385.0\n",
      "390.0\n",
      "395.0\n",
      "400.0\n",
      "405.0\n",
      "410.0\n",
      "415.0\n",
      "420.0\n",
      "425.0\n",
      "430.0\n",
      "435.0\n",
      "440.0\n",
      "445.0\n",
      "450.0\n",
      "455.0\n",
      "460.0\n",
      "465.0\n",
      "470.0\n",
      "475.0\n",
      "480.0\n",
      "485.0\n",
      "490.0\n",
      "495.0\n",
      "500.0\n",
      "505.0\n",
      "510.0\n",
      "515.0\n",
      "520.0\n",
      "525.0\n",
      "530.0\n",
      "535.0\n",
      "540.0\n",
      "545.0\n",
      "550.0\n",
      "555.0\n",
      "560.0\n",
      "565.0\n",
      "570.0\n",
      "575.0\n",
      "580.0\n",
      "585.0\n",
      "590.0\n",
      "595.0\n",
      "600.0\n",
      "605.0\n",
      "610.0\n",
      "615.0\n",
      "620.0\n",
      "625.0\n",
      "630.0\n",
      "635.0\n",
      "640.0\n",
      "645.0\n",
      "650.0\n",
      "655.0\n",
      "660.0\n",
      "665.0\n",
      "670.0\n",
      "675.0\n",
      "680.0\n",
      "685.0\n",
      "690.0\n",
      "695.0\n",
      "700.0\n",
      "705.0\n",
      "710.0\n",
      "715.0\n",
      "720.0\n",
      "725.0\n",
      "730.0\n",
      "735.0\n",
      "740.0\n",
      "745.0\n",
      "750.0\n",
      "755.0\n",
      "760.0\n",
      "765.0\n",
      "770.0\n",
      "775.0\n",
      "780.0\n",
      "785.0\n",
      "790.0\n",
      "795.0\n",
      "800.0\n",
      "805.0\n",
      "810.0\n",
      "815.0\n",
      "820.0\n",
      "825.0\n",
      "830.0\n",
      "835.0\n",
      "840.0\n",
      "845.0\n",
      "850.0\n",
      "855.0\n",
      "860.0\n",
      "865.0\n",
      "870.0\n",
      "875.0\n",
      "880.0\n",
      "885.0\n",
      "890.0\n",
      "895.0\n",
      "900.0\n",
      "905.0\n",
      "910.0\n",
      "915.0\n",
      "920.0\n",
      "925.0\n",
      "930.0\n",
      "935.0\n",
      "940.0\n",
      "945.0\n",
      "950.0\n",
      "955.0\n",
      "960.0\n",
      "965.0\n",
      "970.0\n",
      "975.0\n",
      "980.0\n",
      "985.0\n",
      "990.0\n",
      "995.0\n",
      "1000.0\n",
      "1005.0\n"
     ]
    }
   ],
   "source": [
    "# Save C_GC_11\n",
    "C_GC_11 = np.zeros(len(C_GC[:200, 0]))\n",
    "for y, l in enumerate(np.linspace(C_GC[:200, 0][0], C_GC[:200, 0][-1], len(C_GC[:200, 0]))):\n",
    "    print(l)\n",
    "    C_GC_11[y]=shear.Cl_GC_phot(l, 1, 1, int_step=0.1)"
   ]
  },
  {
   "cell_type": "code",
   "execution_count": 13,
   "metadata": {},
   "outputs": [
    {
     "data": {
      "text/plain": [
       "<matplotlib.legend.Legend at 0x7fcd088b2390>"
      ]
     },
     "execution_count": 13,
     "metadata": {},
     "output_type": "execute_result"
    },
    {
     "data": {
      "image/png": "[encoded data removed]",
      "text/plain": [
       "<Figure size 720x432 with 1 Axes>"
      ]
     },
     "metadata": {
      "needs_background": "light"
     },
     "output_type": "display_data"
    }
   ],
   "source": [
    "plt.figure(figsize=(10,6));\n",
    "plt.plot(C_GC[:200, 0], C_GC[:200, 1], 'g--', label=r\"Benchmark $(i,j=1,1)$\")\n",
    "plt.plot(C_GC[:200, 0], C_GC_11, 'o', label=\"Shear $(i,j=1,1)$\")\n",
    "plt.xlabel(r\"$\\ell$\", fontsize=20);\n",
    "plt.ylabel(r\"$C_\\ell^{GCphot}$\", fontsize=20);\n",
    "plt.legend()\n",
    "#plt.plot(C_GC[:200, 0], C_GC_11, 'o')"
   ]
  },
  {
   "cell_type": "code",
   "execution_count": null,
   "metadata": {},
   "outputs": [],
   "source": [
    "plt.figure(figsize=(10,6));\n",
    "plt.plot(C_GC[:200, 0], C_GC_11, 'o', label=\"Shear $(i,j=1,1)$\")\n",
    "plt.xlabel(r\"$\\ell$\", fontsize=20);\n",
    "plt.ylabel(r\"$C_\\ell^{GCphot}$\", fontsize=20);\n",
    "plt.legend()\n",
    "#plt.plot(C_GC[:200, 0], C_GC_11, 'o')"
   ]
  },
  {
   "cell_type": "code",
   "execution_count": null,
   "metadata": {
    "scrolled": false
   },
   "outputs": [],
   "source": [
    "# Save C_GC_11\n",
    "C_LL_11 = np.zeros(len(C_LL[:200, 0]))\n",
    "for y, l in enumerate(np.linspace(C_LL[:200, 0][0], C_LL[:200, 0][-1], len(C_LL[:200, 0]))):\n",
    "    print(l)\n",
    "    C_LL_11[y]=shear.Cl_WL(l, 1, 1, int_step=0.1)"
   ]
  },
  {
   "cell_type": "code",
   "execution_count": null,
   "metadata": {},
   "outputs": [],
   "source": [
    "plt.figure(figsize=(10,6));\n",
    "plt.semilogx(C_LL[:200, 0], C_LL[:200, 1], 'g--', label=r\"Benchmark $(i,j=1,1)$\")\n",
    "plt.semilogx(C_LL[:200, 0], C_LL_11, 'o', label=\"Shear $(i,j=1,1)$\")\n",
    "plt.xlabel(r\"$\\ell$\", fontsize=20);\n",
    "plt.ylabel(r\"$C_\\ell^{WL}$\", fontsize=20);\n",
    "plt.legend()\n",
    "#plt.plot(C_GC[:200, 0], C_GC_11, 'o')"
   ]
  },
  {
   "cell_type": "code",
   "execution_count": 14,
   "metadata": {},
   "outputs": [
    {
     "data": {
      "text/plain": [
       "7.437569110546929e-05"
      ]
     },
     "execution_count": 14,
     "metadata": {},
     "output_type": "execute_result"
    }
   ],
   "source": [
    "shear.Cl_GC_phot(10.0, 1, 1)"
   ]
  },
  {
   "cell_type": "code",
   "execution_count": null,
   "metadata": {},
   "outputs": [],
   "source": []
  }
 ],
 "metadata": {
  "kernelspec": {
   "display_name": "Python 3",
   "language": "python",
   "name": "python3"
  },
  "language_info": {
   "codemirror_mode": {
    "name": "ipython",
    "version": 3
   },
   "file_extension": ".py",
   "mimetype": "text/x-python",
   "name": "python",
   "nbconvert_exporter": "python",
   "pygments_lexer": "ipython3",
   "version": "3.7.6"
  }
 },
 "nbformat": 4,
 "nbformat_minor": 4
}
