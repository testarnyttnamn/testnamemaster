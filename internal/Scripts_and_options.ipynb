{
 "cells": [
  {
   "cell_type": "code",
   "execution_count": null,
   "id": "7d228bc7",
   "metadata": {},
   "outputs": [],
   "source": [
    "import os\n",
    "import numpy as np\n",
    "\n",
    "from cloe.user_interface.likelihood_ui import LikelihoodUI\n",
    "from cloe.auxiliary                    import likelihood_yaml_handler as lyh\n",
    "from cloe.auxiliary.yaml_handler       import yaml_read,yaml_write\n",
    "\n",
    "from copy import deepcopy"
   ]
  },
  {
   "cell_type": "markdown",
   "id": "c2357e9d",
   "metadata": {},
   "source": [
    "# Options\n",
    "\n",
    "Here you can decide the extra cosmologies to be added (both for mcmc_scripts and config files) and the combination of observables to be considered (only for mcmc_scripts)"
   ]
  },
  {
   "cell_type": "markdown",
   "id": "25ffb9f1",
   "metadata": {},
   "source": [
    "## Paths and settings\n",
    "\n",
    "**Scripts creation settings**\n",
    "\n",
    "- main_path: the path to the folder where the config defaults are placed;\n",
    "- subfolder: subfolder of the above where to create the new config files;\n",
    "- modelfolder: subfolder of configs/models/ where the new cosmology files will be created;\n",
    "- mcmc_folder: path where to create the .py scripts to run MCMC.\n",
    "\n",
    "**Options visualization settings**\n",
    "\n",
    "- layer_limit: this number sets a limit for the number of subdictionaries to be visualized (>=10 should give the full dictionary);\n",
    "- show_params: if set to False, the details of the parameters (fiducial, prior, ...) are not visualized, and only a list of the selectable parameters is provided."
   ]
  },
  {
   "cell_type": "code",
   "execution_count": null,
   "id": "c095d42b",
   "metadata": {},
   "outputs": [],
   "source": [
    "main_path   = '../configs/'\n",
    "subfolder   = 'extra_config_cases/'\n",
    "modelfolder = 'extra_cosmologies/'\n",
    "mcmc_folder = '../mcmc_scripts/'\n",
    "\n",
    "if not os.path.exists(main_path+subfolder):\n",
    "    os.makedirs(main_path+subfolder)\n",
    "    \n",
    "if not os.path.exists(main_path+'models/'+modelfolder):\n",
    "    os.makedirs(main_path+'models/'+modelfolder)\n",
    "    \n",
    "if not os.path.exists(mcmc_folder):\n",
    "    os.makedirs(mcmc_folder)\n",
    "\n",
    "layer_limit = 10\n",
    "show_params = True"
   ]
  },
  {
   "cell_type": "markdown",
   "id": "6d046ca9",
   "metadata": {},
   "source": [
    "## Extra parameters\n",
    "\n",
    "Here you can set the details for the additional parameters sampling and which extra cosmologies you want to consider. "
   ]
  },
  {
   "cell_type": "code",
   "execution_count": null,
   "id": "7bb254c7",
   "metadata": {},
   "outputs": [],
   "source": [
    "w0_dict = {'latex': 'w_0',\n",
    "           'prior': {'max': -0.5, 'min': -3.},\n",
    "           'proposal': 0.5,\n",
    "           'ref': {'dist': 'norm', 'loc': -1, 'scale': 0.5}}\n",
    "\n",
    "wa_dict = {'latex': 'w_a',\n",
    "           'prior': {'max': 0.5, 'min': -3.},\n",
    "           'proposal': 0.1,\n",
    "           'ref': {'dist': 'norm', 'loc': 0, 'scale': 0.1}}\n",
    "\n",
    "omk_dict = {'latex': '\\Omega_k',\n",
    "            'prior': {'max': 0.1, 'min': -0.1},\n",
    "            'proposal': 0.05,\n",
    "            'ref': {'dist': 'norm', 'loc': 0, 'scale': 0.05}}\n",
    "\n",
    "gamma_dict = {'latex': '\\gamma',\n",
    "              'prior': {'max': 1., 'min': 0.1},\n",
    "              'proposal': 0.1,\n",
    "              'ref': {'dist': 'norm', 'loc': 0.55, 'scale': 0.1}}\n",
    "\n",
    "\n",
    "\n",
    "extra_cosmologies = {'LCDM': None,\n",
    "                     'LCDM_nonflat': {'omk': omk_dict},\n",
    "                     'wCDM': {'w': w0_dict},\n",
    "                     'w0waCDM': {'w': w0_dict,\n",
    "                                 'wa': wa_dict},\n",
    "                     'w0waCDM_nonflat': {'w': w0_dict,\n",
    "                                         'wa': wa_dict,\n",
    "                                         'omk': omk_dict},\n",
    "                     'gamma_w0waCDM': {'w': w0_dict,\n",
    "                                       'wa': wa_dict,\n",
    "                                       'gamma_MG': gamma_dict},\n",
    "                     'gamma_w0waCDM_nonflat': {'w': w0_dict,\n",
    "                                               'wa': wa_dict,\n",
    "                                               'omk': omk_dict,\n",
    "                                               'gamma_MG': gamma_dict}}"
   ]
  },
  {
   "cell_type": "markdown",
   "id": "8782923d",
   "metadata": {},
   "source": [
    "## Observables\n",
    "\n",
    "Using the Santiago Matrix layout, set the observable combinations to use to produce the MCMC scripts.\n",
    "\n",
    "**WARNING!** this is used **ONLY** for the MCMC scripts, the config files are automatically created only for the full combination (GCsp+3x2pt) as they were until now."
   ]
  },
  {
   "cell_type": "code",
   "execution_count": null,
   "id": "f9cfe43c",
   "metadata": {},
   "outputs": [],
   "source": [
    "obs_combination = {'3x2pt': {'WL': {'WL': True,\n",
    "                                    'GCphot': True,\n",
    "                                    'GCspectro': False},\n",
    "                             'GCphot': {'GCphot': True,\n",
    "                                        'GCspectro': False},\n",
    "                             'GCspectro': {'GCspectro': False}},\n",
    "                   '3x2pt+GCsp': {'WL': {'WL': True,\n",
    "                                         'GCphot': True,\n",
    "                                         'GCspectro': False},\n",
    "                                  'GCphot': {'GCphot': True,\n",
    "                                             'GCspectro': False},\n",
    "                                  'GCspectro': {'GCspectro': True}}}"
   ]
  },
  {
   "cell_type": "markdown",
   "id": "e45145af",
   "metadata": {},
   "source": [
    "# Reading the default config file\n",
    "\n",
    "This reads the default config, model and cosmology files. \n",
    "\n",
    "If these are kept up to date, this notebook should be able to catch up any additional flag or option."
   ]
  },
  {
   "cell_type": "code",
   "execution_count": null,
   "id": "266d7c8b",
   "metadata": {},
   "outputs": [],
   "source": [
    "ui = LikelihoodUI()\n",
    "\n",
    "default = {'config': yaml_read(main_path+'config_default.yaml')}\n",
    "default['model'] = yaml_read(main_path+default['config']['Cobaya']['params'])\n",
    "default['cosmo'] = yaml_read(main_path+'models/'+default['model']['user_models']['cosmology'])"
   ]
  },
  {
   "cell_type": "markdown",
   "id": "17a655f2",
   "metadata": {},
   "source": [
    "# Creating config files for interesting cosmologies\n",
    "\n",
    "Creates the new config, model and cosmology files for the models described above.\n",
    "\n",
    "*Our yaml handler automatically prints a warning when overwriting a file, so such a warning will always appear here* "
   ]
  },
  {
   "cell_type": "code",
   "execution_count": null,
   "id": "a458884e",
   "metadata": {},
   "outputs": [],
   "source": [
    "for newset in extra_cosmologies:    \n",
    "    newdict = deepcopy(default)\n",
    "\n",
    "    newdict['config'].pop('define')\n",
    "    \n",
    "    newdict['config']['Cobaya']['params'] = './'+subfolder+'model_'+newset+'.yaml'\n",
    "    newdict['model']['user_models']['cosmology'] = modelfolder+'cosmology_'+newset+'.yaml'\n",
    "    if 'gamma' in newset:\n",
    "        newdict['config']['Cobaya']['likelihood']['Euclid']['use_gamma_MG'] = True\n",
    "    else:\n",
    "        newdict['config']['Cobaya']['likelihood']['Euclid']['use_gamma_MG'] = False\n",
    "        \n",
    "    newdict['config']['Cobaya']['output'] = 'chains/my_euclid_experiment_'+newset\n",
    "        \n",
    "    if extra_cosmologies[newset] != None:\n",
    "        newdict['cosmo'].update({par: extra_cosmologies[newset][par] \n",
    "                                 for par in extra_cosmologies[newset]})\n",
    "        \n",
    "    for name in newdict:\n",
    "        if name == 'cosmo':\n",
    "            filepath = main_path+'models/'+modelfolder+'cosmology_'+newset+'.yaml'\n",
    "        else:\n",
    "            filepath = main_path+subfolder+name+'_'+newset+'.yaml'\n",
    "        yaml_write(filepath,newdict[name],overwrite=True)"
   ]
  },
  {
   "cell_type": "markdown",
   "id": "72b9ace0",
   "metadata": {},
   "source": [
    "# Creating mcmc scripts for different cosmologies and observables\n",
    "\n",
    "This part of the notebook reads in **ALL** the default information, includes the new cosmologies and observable combination and prints the MCMC scripts for what is selected."
   ]
  },
  {
   "cell_type": "markdown",
   "id": "7e91e46e",
   "metadata": {},
   "source": [
    "## Functions\n",
    "\n",
    "These are used to print the dictionary to file in a decently humanly readable form"
   ]
  },
  {
   "cell_type": "code",
   "execution_count": null,
   "id": "b34d7580",
   "metadata": {},
   "outputs": [],
   "source": [
    "def pretty_dict(f,dic,layer=0):\n",
    "    for key, value in dic.items():\n",
    "        if isinstance(value,dict):\n",
    "            if isinstance(key,str):\n",
    "                f.write(\" \"*(4*layer+8)+\"'{}':\\n\".format(key))\n",
    "            else:\n",
    "                f.write(\" \"*(4*layer+8)+\"{}:\\n\".format(key))\n",
    "            f.write(\" \"*(4*layer+8)+\"{\\n\")\n",
    "            pretty_dict(f,value,layer=layer+1)\n",
    "            f.write(\" \"*(4*layer+8)+\"},\\n\")\n",
    "        else:\n",
    "            if isinstance(value,str) and value != 'EuclidLikelihood':\n",
    "                f.write(\" \"*(4*layer+8)+\"'{}': '{}',\\n\".format(key,value))\n",
    "            else:\n",
    "                f.write(\" \"*(4*layer+8)+\"'{}': {},\\n\".format(key,value))\n",
    "\n",
    "def print_script(filename,dictionary):\n",
    "\n",
    "    with open(filename, 'w') as f:\n",
    "        f.write(\"import sys\\n\")\n",
    "        f.write(\"import os\\n\")\n",
    "        f.write(\"from cloe.auxiliary.likelihood_yaml_handler \\\\\\n\")\n",
    "        f.write(\"\\timport write_params_yaml_from_info_dict\\n\")\n",
    "        f.write(\"\\n\")\n",
    "        f.write(\"script_path = os.path.realpath(os.getcwd())\\n\")\n",
    "        f.write(\"if script_path.endswith('mcmc_scripts'):\\n\")\n",
    "        f.write(\"    sys.path.append(os.path.realpath(os.path.join(script_path, os.pardir)))\\n\")\n",
    "        f.write(\"else:\\n\")\n",
    "        f.write(\"    sys.path.append(script_path)\\n\")\n",
    "        f.write(\"\\n\")\n",
    "        f.write(\"from cobaya.run import run\\n\")\n",
    "        f.write(\"from cloe.cobaya_interface import EuclidLikelihood\\n\")\n",
    "        f.write(\"\\n\")\n",
    "        f.write(\"info = {\\n\")\n",
    "        pretty_dict(f,dictionary)\n",
    "        f.write(\"}\\n\")\n",
    "        f.write(\"\\n\")\n",
    "        f.write(\"write_params_yaml_from_info_dict(info)\\n\")\n",
    "        f.write(\"\\n\")\n",
    "        f.write(\"updated_info, sampler = run(info)\\n\")"
   ]
  },
  {
   "cell_type": "code",
   "execution_count": null,
   "id": "bad9c7bb",
   "metadata": {},
   "outputs": [],
   "source": [
    "default_full_dict = deepcopy(ui._config)\n",
    "likelihood_euclid_dict = default_full_dict['Cobaya']['likelihood']['Euclid']\n",
    "\n",
    "ui._check_and_update_likelihood_fields(likelihood_euclid_dict)\n",
    "ui._check_and_update_params_field(default_full_dict['Cobaya'])\n",
    "lyh.update_cobaya_dict_with_halofit_version(default_full_dict['Cobaya'])\n",
    "\n",
    "fixed_dict = deepcopy(default_full_dict)\n",
    "\n",
    "for comb in obs_combination:\n",
    "    for model in extra_cosmologies:\n",
    "\n",
    "        filename = mcmc_folder+'runmcmc_'+comb+'_'+model+'.py'\n",
    "        final_dict = deepcopy(fixed_dict)\n",
    "        if extra_cosmologies[model] != None:\n",
    "            for par in extra_cosmologies[model]:\n",
    "                final_dict['Cobaya']['params'][par] = extra_cosmologies[model][par]\n",
    "            \n",
    "        final_dict['Cobaya']['likelihood']['Euclid']['observables_selection'] = obs_combination[comb]\n",
    "\n",
    "        final_dict['Cobaya']['output'] = './chains/chain_'+comb+'_'+model\n",
    "        final_dict['Cobaya']['likelihood']['Euclid']['external'] = 'EuclidLikelihood'\n",
    "        \n",
    "        print_script(filename,final_dict['Cobaya'])"
   ]
  },
  {
   "cell_type": "markdown",
   "id": "d4cdaa02",
   "metadata": {},
   "source": [
    "# List all available options\n",
    "\n",
    "This part of the notebook visualizes on screen all the possible settings that can be selected in CLOE+Cobaya.\n",
    "\n",
    "Options on the level of detail reached by this script are available in the settings above."
   ]
  },
  {
   "cell_type": "code",
   "execution_count": null,
   "id": "7df7d6e6",
   "metadata": {},
   "outputs": [],
   "source": [
    "def print_keys(dic,layer=0):\n",
    "    for key, value in dic.items():\n",
    "        if isinstance(value,dict) and layer<=layer_limit:\n",
    "            print('')\n",
    "            print(' '*(4*layer)+'{}:'.format(key))\n",
    "            if key == 'params' and not show_params:\n",
    "                print(' '*(4*layer)+'Only printing list of available params, no detail')\n",
    "                for par in value:\n",
    "                    print(' '*(4*layer)+'{}'.format(par))\n",
    "            else:\n",
    "                print_keys(value,layer=layer+1)\n",
    "        elif layer>layer_limit:\n",
    "            print(' '*(4*layer)+'{}: ...'.format(key))\n",
    "        else:\n",
    "            print(' '*(4*layer)+'{}: {}'.format(key,value))"
   ]
  },
  {
   "cell_type": "code",
   "execution_count": null,
   "id": "cdea88d0",
   "metadata": {
    "scrolled": false
   },
   "outputs": [],
   "source": [
    "default_full_dict = deepcopy(ui._config)\n",
    "likelihood_euclid_dict = default_full_dict['Cobaya']['likelihood']['Euclid']\n",
    "\n",
    "ui._check_and_update_likelihood_fields(likelihood_euclid_dict)\n",
    "ui._check_and_update_params_field(default_full_dict['Cobaya'])\n",
    "lyh.update_cobaya_dict_with_halofit_version(default_full_dict['Cobaya'])\n",
    "\n",
    "print_keys(default_full_dict)"
   ]
  },
  {
   "cell_type": "code",
   "execution_count": null,
   "id": "a0f9f320",
   "metadata": {},
   "outputs": [],
   "source": []
  },
  {
   "cell_type": "code",
   "execution_count": null,
   "id": "1b8eb491",
   "metadata": {},
   "outputs": [],
   "source": []
  }
 ],
 "metadata": {
  "kernelspec": {
   "display_name": "Python 3 (ipykernel)",
   "language": "python",
   "name": "python3"
  },
  "language_info": {
   "codemirror_mode": {
    "name": "ipython",
    "version": 3
   },
   "file_extension": ".py",
   "mimetype": "text/x-python",
   "name": "python",
   "nbconvert_exporter": "python",
   "pygments_lexer": "ipython3",
   "version": "3.9.15"
  }
 },
 "nbformat": 4,
 "nbformat_minor": 5
}
