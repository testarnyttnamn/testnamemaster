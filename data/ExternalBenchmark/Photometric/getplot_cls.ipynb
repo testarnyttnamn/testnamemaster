{
 "cells": [
  {
   "cell_type": "code",
   "execution_count": null,
   "metadata": {},
   "outputs": [],
   "source": [
    "\n",
    "import create_table as ct\n",
    "import matplotlib.pyplot as plt\n",
    "from copy import deepcopy\n",
    "\n",
    "fitsdir = './data/'\n",
    "\n",
    "paths = [fitsdir+\"Cls_zNLA_PosPos.fits\", \n",
    "         fitsdir+\"Cls_zNLA_PosShear.fits\", \n",
    "         fitsdir+\"Cls_zNLA_ShearShear.fits\"]\n",
    "\n",
    "cls = ct.read_cls(paths)\n",
    "\n",
    "final_cls = deepcopy(cls)\n",
    "for key in cls:\n",
    "    if 'B' in key: del final_cls[key]\n",
    "\n",
    "    \n",
    "plt.figure(figsize=(10, 8))\n",
    "plt.title('GCph spectra',fontsize=20)\n",
    "for bind in range(1,11):\n",
    "    plt.plot(final_cls['ELLS'],final_cls['P'+str(bind)+'-P'+str(bind)],label=r'$i=$'+str(bind))\n",
    "plt.xlabel(r'$\\ell$',fontsize=20)\n",
    "plt.ylabel(r'$C_{ii}^{\\rm GCph}(\\ell)$',fontsize=20)\n",
    "plt.legend(bbox_to_anchor=(1.04,0.5), loc=\"center left\",fontsize=20)\n",
    "plt.xscale('log')\n",
    "plt.yscale('log')\n",
    "plt.show()\n",
    "\n",
    "plt.figure(figsize=(10, 8))\n",
    "plt.title('WL spectra',fontsize=20)\n",
    "for bind in range(1,11):\n",
    "    plt.plot(final_cls['ELLS'],final_cls['E'+str(bind)+'-E'+str(bind)],label=r'$i=$'+str(bind))\n",
    "plt.xlabel(r'$\\ell$',fontsize=20)\n",
    "plt.ylabel(r'$C_{ii}^{\\rm WL}(\\ell)$',fontsize=20)\n",
    "plt.legend(bbox_to_anchor=(1.04,0.5), loc=\"center left\",fontsize=20)\n",
    "plt.xscale('log')\n",
    "plt.yscale('log')\n",
    "plt.show()\n",
    "\n",
    "plt.figure(figsize=(10, 8))\n",
    "plt.title('XC spectra',fontsize=20)\n",
    "for bind in range(1,11):\n",
    "    plt.plot(final_cls['ELLS'],final_cls['P'+str(bind)+'-E'+str(bind)],label=r'$i=$'+str(bind))\n",
    "plt.xlabel(r'$\\ell$',fontsize=20)\n",
    "plt.ylabel(r'$C_{ii}^{\\rm XC}(\\ell)$',fontsize=20)\n",
    "plt.legend(bbox_to_anchor=(1.04,0.5), loc=\"center left\",fontsize=20)\n",
    "plt.xscale('log')\n",
    "#plt.yscale('log')\n",
    "plt.show()"
   ]
  },
  {
   "cell_type": "code",
   "execution_count": null,
   "metadata": {},
   "outputs": [],
   "source": []
  }
 ],
 "metadata": {
  "kernelspec": {
   "display_name": "Python 3",
   "language": "python",
   "name": "python3"
  },
  "language_info": {
   "codemirror_mode": {
    "name": "ipython",
    "version": 3
   },
   "file_extension": ".py",
   "mimetype": "text/x-python",
   "name": "python",
   "nbconvert_exporter": "python",
   "pygments_lexer": "ipython3",
   "version": "3.6.11"
  }
 },
 "nbformat": 4,
 "nbformat_minor": 4
}
