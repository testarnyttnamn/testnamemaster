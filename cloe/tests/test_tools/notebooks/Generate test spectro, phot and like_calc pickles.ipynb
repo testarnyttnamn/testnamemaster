{
 "cells": [
  {
   "cell_type": "markdown",
   "id": "9cc35812",
   "metadata": {},
   "source": [
    "# Gererate test spectro, phot and like_calc pickles\n",
    "\n",
    "Generate the Python pickles needed to run the unit tests in `test_spectro.py`, `test_phot.py` and `test_like_calc.py`. This notebook should only be run to redefine the cosmology dictionary (i.e. `Cosmology.cosmo_dic`) used for unit tests. \n",
    "\n",
    "> ⚠️ WARNING! Changing the values in these pickles make break current tests.\n",
    "\n",
    "## Set Up"
   ]
  },
  {
   "cell_type": "code",
   "execution_count": null,
   "id": "42069528",
   "metadata": {
    "tags": []
   },
   "outputs": [],
   "source": [
    "import copy\n",
    "import pickle\n",
    "import numpy as np\n",
    "import sys\n",
    "from astropy import constants as const\n",
    "from os.path import join\n",
    "from pathlib import Path\n",
    "from scipy import interpolate"
   ]
  },
  {
   "cell_type": "markdown",
   "id": "2c979abb",
   "metadata": {},
   "source": [
    "Update Python path to find CLOE."
   ]
  },
  {
   "cell_type": "code",
   "execution_count": null,
   "id": "ad25d0de",
   "metadata": {
    "tags": []
   },
   "outputs": [],
   "source": [
    "sys.path.insert(0, str(Path().resolve().parents[3]))"
   ]
  },
  {
   "cell_type": "markdown",
   "id": "2d09e149",
   "metadata": {},
   "source": [
    "Import CLOE test routines."
   ]
  },
  {
   "cell_type": "code",
   "execution_count": null,
   "id": "1e47cbe9",
   "metadata": {
    "tags": []
   },
   "outputs": [],
   "source": [
    "from cloe.tests.test_tools.mock_objects import update_dict_w_mock\n",
    "from cloe.tests.test_tools import test_data_handler as tdh"
   ]
  },
  {
   "cell_type": "markdown",
   "id": "096c1ca2",
   "metadata": {},
   "source": [
    "Set path to `test_input`."
   ]
  },
  {
   "cell_type": "code",
   "execution_count": null,
   "id": "0ec11b0d",
   "metadata": {
    "tags": []
   },
   "outputs": [],
   "source": [
    "path = join(Path().resolve().parents[1], 'test_input')"
   ]
  },
  {
   "cell_type": "markdown",
   "id": "f79ea8f3",
   "metadata": {},
   "source": [
    "## Define cosmology dictionary\n",
    "\n",
    "Set the base cosmological parameters.\n",
    "\n",
    "> ⚠️ WARNING! This should be updated to use `cloe.tests.test_input.base_test_cosmo.base_cosmo_dic` at some point.\n"
   ]
  },
  {
   "cell_type": "code",
   "execution_count": null,
   "id": "96d2a9d2",
   "metadata": {
    "tags": []
   },
   "outputs": [],
   "source": [
    "mock_cosmo_dic = {\n",
    "    'c': const.c.to('km/s').value,\n",
    "    'ombh2': 0.022445, \n",
    "    'omch2': 0.121203, \n",
    "    'H0': 67.0,\n",
    "    'tau': 0.07, \n",
    "    'mnu': 0.06, \n",
    "    'nnu': 3.046,\n",
    "    'omkh2': 0.0, \n",
    "    'omnuh2': 0.0, \n",
    "    'ns': 0.96,\n",
    "    'w': -1.0, \n",
    "    'sigma8_0': 0.816,\n",
    "    'As': 2.115e-9, \n",
    "}"
   ]
  },
  {
   "cell_type": "markdown",
   "id": "d637ca18",
   "metadata": {},
   "source": [
    "Load test data from `cloe/tests/test_input`."
   ]
  },
  {
   "cell_type": "code",
   "execution_count": null,
   "id": "a2f48e1e",
   "metadata": {
    "tags": []
   },
   "outputs": [],
   "source": [
    "cmov_file = tdh.load_test_npy('ComDist-LCDM-Lin-zNLA.dat', path)\n",
    "Hz_file = tdh.load_test_npy('Hz.dat', path)\n",
    "f_sig_8_arr = tdh.load_test_npy('f_sig_8_arr.npy', path)\n",
    "sig_8_arr = tdh.load_test_npy('sig_8_arr.npy', path)\n",
    "f_z_arr = tdh.load_test_npy('f_z_arr.npy', path)\n",
    "pdd = tdh.load_test_npy('pdd.npy', path)\n",
    "pdi = tdh.load_test_npy('pdi.npy', path)\n",
    "pgd = tdh.load_test_npy('pgd.npy', path)\n",
    "pgg = tdh.load_test_npy('pgg.npy', path)\n",
    "pgi_phot = tdh.load_test_npy('pgi_phot.npy', path)\n",
    "pgi_spectro = tdh.load_test_npy('pgi_spectro.npy', path)\n",
    "pii = tdh.load_test_npy('pii.npy', path)\n",
    "fid_H_arr = tdh.load_test_npy('spectro_fid_HZ.npy', path)\n",
    "fid_d_A_arr = tdh.load_test_npy('spectro_fid_d_A.npy', path)"
   ]
  },
  {
   "cell_type": "markdown",
   "id": "449b9a85",
   "metadata": {},
   "source": [
    "Interpolate loaded data."
   ]
  },
  {
   "cell_type": "code",
   "execution_count": null,
   "id": "ef16b1c4",
   "metadata": {
    "tags": []
   },
   "outputs": [],
   "source": [
    "zs_r = cmov_file[:, 0]\n",
    "rs = cmov_file[:, 1]\n",
    "ang_dists = rs / (1.0 + zs_r)\n",
    "\n",
    "rz_interp = interpolate.InterpolatedUnivariateSpline(x=zs_r, y=rs, ext=0)\n",
    "zr_interp = interpolate.InterpolatedUnivariateSpline(x=rs, y=zs_r, ext=0)\n",
    "dz_interp = interpolate.InterpolatedUnivariateSpline(x=zs_r, y=ang_dists, ext=0)\n",
    "\n",
    "zs_H = Hz_file[:, 0]\n",
    "Hs = Hz_file[:, 1]\n",
    "Hs_mpc = Hz_file[:, 1] / const.c.to('km/s').value\n",
    "\n",
    "Hz_interp = interpolate.InterpolatedUnivariateSpline(x=zs_H, y=Hs, ext=0)\n",
    "Hmpc_interp = interpolate.InterpolatedUnivariateSpline(x=zs_H, y=Hs_mpc, ext=0)\n",
    "\n",
    "sig_8_interp = interpolate.InterpolatedUnivariateSpline(\n",
    "    x=np.linspace(0.0, 5.0, 50),\n",
    "    y=sig_8_arr[::-1], \n",
    "    ext=0\n",
    ")\n",
    "f_sig_8_interp = interpolate.InterpolatedUnivariateSpline(\n",
    "    x=np.linspace(0.0, 5.0, 50),\n",
    "    y=f_sig_8_arr[::-1], \n",
    "    ext=0\n",
    ")\n",
    "f_z_interp = interpolate.InterpolatedUnivariateSpline(\n",
    "    x=np.linspace(0.0, 5.0, 50),\n",
    "    y=f_z_arr[::-1], \n",
    "    ext=0\n",
    ")\n",
    "luminosity_ratio_z_interp = interpolate.InterpolatedUnivariateSpline(\n",
    "    x=np.linspace(0.0, 2.1, 100),\n",
    "    y=np.linspace(0.01, 1.7, 100), \n",
    "    ext=0\n",
    ")\n",
    "\n",
    "\n",
    "zs_base = np.linspace(0.0, 4.0, 100)\n",
    "ks_base = np.logspace(-3.0, 1.0, 100)\n",
    "\n",
    "fid_H_interp = interpolate.InterpolatedUnivariateSpline(x=zs_H, y=fid_H_arr, ext=0)\n",
    "fid_dA_interp = interpolate.InterpolatedUnivariateSpline(x=zs_H, y=fid_d_A_arr, ext=0)"
   ]
  },
  {
   "cell_type": "markdown",
   "id": "7ea843df",
   "metadata": {},
   "source": [
    "Update the cosmology dictionary with interpolations and precomputed values."
   ]
  },
  {
   "cell_type": "code",
   "execution_count": null,
   "id": "a3616e60",
   "metadata": {
    "tags": []
   },
   "outputs": [],
   "source": [
    "mock_cosmo_dic.update({\n",
    "    'sigma8_z_func': sig_8_interp,\n",
    "    'fsigma8_z_func': f_sig_8_interp,\n",
    "    'luminosity_ratio': luminosity_ratio_z_interp,\n",
    "    'f_z': f_z_interp,\n",
    "    'r_z_func': rz_interp, \n",
    "    'f_K_z_func': rz_interp,\n",
    "    'z_r_func': zr_interp,\n",
    "    'd_z_func': dz_interp,\n",
    "    'H_z_func_Mpc': Hmpc_interp,\n",
    "    'H_z_func': Hz_interp,\n",
    "    'z_win': zs_base,\n",
    "    'k_win': ks_base,\n",
    "})\n",
    "\n",
    "mock_cosmo_dic['H0_Mpc'] = mock_cosmo_dic['H0'] / const.c.to('km/s').value\n",
    "mock_cosmo_dic['Omb'] = mock_cosmo_dic['ombh2'] / (mock_cosmo_dic['H0'] / 100.0) ** 2.0\n",
    "mock_cosmo_dic['Omc'] = mock_cosmo_dic['omch2'] / (mock_cosmo_dic['H0'] / 100.0) ** 2.0\n",
    "mock_cosmo_dic['Omnu'] = mock_cosmo_dic['omnuh2'] / (mock_cosmo_dic['H0'] / 100.0) ** 2.0\n",
    "mock_cosmo_dic['Omm'] = (\n",
    "    mock_cosmo_dic['Omnu'] + mock_cosmo_dic['Omc'] + mock_cosmo_dic['Omb']\n",
    ")\n",
    "mock_cosmo_dic['Omk'] = mock_cosmo_dic['omkh2'] / (mock_cosmo_dic['H0'] / 100.0) ** 2.0\n",
    "mock_cosmo_dic['fid_d_z_func'] = fid_dA_interp\n",
    "mock_cosmo_dic['fid_H_z_func'] = fid_H_interp"
   ]
  },
  {
   "cell_type": "code",
   "execution_count": null,
   "id": "02f02967",
   "metadata": {},
   "outputs": [],
   "source": [
    "mock_cosmo_dic['obs_selection'] = {\n",
    "        'WL': {'WL': True, 'GCphot': True, 'GCspectro': False},\n",
    "        'GCphot': {'GCphot': True, 'GCspectro': False},\n",
    "        'GCspectro': {'GCspectro': True},\n",
    "        'add_phot_RSD': False\n",
    "    }"
   ]
  },
  {
   "cell_type": "markdown",
   "id": "f6547ade",
   "metadata": {},
   "source": [
    "## Set bias model"
   ]
  },
  {
   "cell_type": "code",
   "execution_count": null,
   "id": "8f52e388",
   "metadata": {
    "tags": []
   },
   "outputs": [],
   "source": [
    "mock_cosmo_dic['bias_model'] = 1\n",
    "mock_cosmo_dic['magbias_model'] = 2"
   ]
  },
  {
   "cell_type": "markdown",
   "id": "00ad77b9",
   "metadata": {},
   "source": [
    "## Set parameters for `test_spectro`\n",
    "\n",
    "Set nuisance parameters."
   ]
  },
  {
   "cell_type": "code",
   "execution_count": null,
   "id": "9240056a",
   "metadata": {
    "tags": []
   },
   "outputs": [],
   "source": [
    "nuisance_spectro = {\n",
    "    'b1_photo': 1.0997727037892875,\n",
    "    'b2_photo': 1.220245876862528,\n",
    "    'b3_photo': 1.2723993083933989,\n",
    "    'b4_photo': 1.316624471897739,\n",
    "    'b5_photo': 1.35812370570578,\n",
    "    'b6_photo': 1.3998214171814918,\n",
    "    'b7_photo': 1.4446452851824907,\n",
    "    'b8_photo': 1.4964959071110084,\n",
    "    'b9_photo': 1.5652475842498528,\n",
    "    'b10_photo': 1.7429859437184225,\n",
    "    'b1_spectro_bin1': 1.4614804,\n",
    "    'b1_spectro_bin2': 1.6060949,\n",
    "    'b1_spectro_bin3': 1.7464790,\n",
    "    'b1_spectro_bin4': 1.8988660,\n",
    "    'aia': 1.72,\n",
    "    'nia': -0.41,\n",
    "    'bia': 0.0,\n",
    "    'pivot_redshift': 0.,\n",
    "    'dz_1_GCphot': 0.0, \n",
    "    'dz_1_WL': 0.0,\n",
    "    'dz_2_GCphot': 0.0, \n",
    "    'dz_2_WL': 0.0,\n",
    "    'dz_3_GCphot': 0.0, \n",
    "    'dz_3_WL': 0.0,\n",
    "    'dz_4_GCphot': 0.0, \n",
    "    'dz_4_WL': 0.0,\n",
    "    'dz_5_GCphot': 0.0, \n",
    "    'dz_5_WL': 0.0,\n",
    "    'dz_6_GCphot': 0.0, \n",
    "    'dz_6_WL': 0.0,\n",
    "    'dz_7_GCphot': 0.0, \n",
    "    'dz_7_WL': 0.0,\n",
    "    'dz_8_GCphot': 0.0, \n",
    "    'dz_8_WL': 0.0,\n",
    "    'dz_9_GCphot': 0.0, \n",
    "    'dz_9_WL': 0.0,\n",
    "    'dz_10_GCphot': 0.0, \n",
    "    'dz_10_WL': 0.0,\n",
    "    'f_out': 0.0,\n",
    "    'f_out_1': 0.0,\n",
    "    'f_out_2': 0.0,\n",
    "    'f_out_3': 0.0,\n",
    "    'f_out_4': 0.0\n",
    "}\n",
    "\n",
    "for index in range(10):\n",
    "    nuisance_spectro[f'multiplicative_bias_{index + 1}'] = 0\n",
    "    nuisance_spectro[f'magnification_bias_{index + 1}'] = 0"
   ]
  },
  {
   "cell_type": "markdown",
   "id": "e3cc8891",
   "metadata": {},
   "source": [
    "Copy cosmology dictionary, set `test_spectro`-specific parameters, assign mock test objects, and save the dictionary to a pickle file in `cloe/tests/test_input`."
   ]
  },
  {
   "cell_type": "code",
   "execution_count": null,
   "id": "a4063799",
   "metadata": {
    "scrolled": false,
    "tags": []
   },
   "outputs": [],
   "source": [
    "test_spectro_dic = copy.deepcopy(mock_cosmo_dic)\n",
    "\n",
    "test_spectro_dic['NL_flag_phot_matter'] = 1\n",
    "test_spectro_dic['NL_flag_spectro'] = 1\n",
    "test_spectro_dic['bias_model'] = 1\n",
    "test_spectro_dic['f_out_z_dep'] = False\n",
    "test_spectro_dic['nuisance_parameters'] = nuisance_spectro\n",
    "test_spectro_dic['Pdd_phot'] = interpolate.interp2d(zs_base, ks_base, pdd.T, fill_value=0.0)\n",
    "test_spectro_dic['Pgg_phot'] = interpolate.interp2d(zs_base, ks_base, pgg.T, fill_value=0.0)\n",
    "test_spectro_dic['Pgdelta_phot'] = interpolate.interp2d(zs_base, ks_base, pgd.T, fill_value=0.0)\n",
    "test_spectro_dic['Pii'] = interpolate.interp2d(zs_base, ks_base, pii.T, fill_value=0.0)\n",
    "test_spectro_dic['Pdeltai'] = interpolate.interp2d(zs_base, ks_base, pdi.T, fill_value=0.0)\n",
    "test_spectro_dic['Pgi_phot'] = interpolate.interp2d(zs_base, ks_base, pgi_phot.T, fill_value=0.0)\n",
    "test_spectro_dic['Pgi_spectro'] = interpolate.interp2d(zs_base, ks_base, pgi_spectro.T, fill_value=0.0)\n",
    "\n",
    "test_spectro_dic = update_dict_w_mock(test_spectro_dic)\n",
    "\n",
    "tdh.save_test_pickle('spectro_test_dic.pickle', test_spectro_dic, path)"
   ]
  },
  {
   "cell_type": "markdown",
   "id": "8eb53d12",
   "metadata": {},
   "source": [
    "## Set parameters for `test_phot`\n",
    "\n",
    "Set nuisance parameters."
   ]
  },
  {
   "cell_type": "code",
   "execution_count": null,
   "id": "a3afbd8d",
   "metadata": {
    "tags": []
   },
   "outputs": [],
   "source": [
    "nuisance_phot = {}\n",
    "for index in range(10):\n",
    "    nuisance_phot[f'dz_{index + 1}_GCphot'] = 0.0\n",
    "    nuisance_phot[f'dz_{index + 1}_WL'] = 0.0\n",
    "    nuisance_phot[f'b{index + 1}_photo'] = 1.0\n",
    "    nuisance_phot[f'multiplicative_bias_{index + 1}'] = 0.0\n",
    "    nuisance_phot[f'magnification_bias_{index + 1}'] = 0.0"
   ]
  },
  {
   "cell_type": "markdown",
   "id": "d08fd985",
   "metadata": {},
   "source": [
    "Copy cosmology dictionary, set `test_phot`-specific parameters, assign mock test objects, and save the dictionary to a pickle file in `cloe/tests/test_input`."
   ]
  },
  {
   "cell_type": "code",
   "execution_count": null,
   "id": "736dcf15",
   "metadata": {
    "tags": []
   },
   "outputs": [],
   "source": [
    "test_phot_dic = copy.deepcopy(mock_cosmo_dic)\n",
    "test_phot_dic['redshift_bins_means_phot'] = [0.2095, 0.489, 0.619, 0.7335, 0.8445, 0.9595, 1.087, 1.2395, 1.45, 2.038]\n",
    "test_phot_dic['nuisance_parameters'] = nuisance_phot\n",
    "test_phot_dic['Pmm_phot'] = interpolate.RectBivariateSpline(zs_base, ks_base, pdd, kx=1, ky=1)\n",
    "test_phot_dic['Pgg_phot'] = interpolate.RectBivariateSpline(zs_base, ks_base, pgg, kx=1, ky=1)\n",
    "test_phot_dic['Pgdelta_phot'] = interpolate.RectBivariateSpline(zs_base, ks_base, pgd, kx=1, ky=1)\n",
    "test_phot_dic['Pii'] = interpolate.RectBivariateSpline(zs_base, ks_base, pii, kx=1, ky=1)\n",
    "test_phot_dic['Pdeltai'] = interpolate.RectBivariateSpline(zs_base, ks_base, pdi, kx=1, ky=1)\n",
    "test_phot_dic['Pgi_phot'] = interpolate.RectBivariateSpline(zs_base, ks_base, pgi_phot, kx=1, ky=1)\n",
    "test_phot_dic['Flat_nz'] = interpolate.InterpolatedUnivariateSpline(\n",
    "    np.linspace(0.0, 4.6, 20), \n",
    "    np.ones(20), \n",
    "    ext=2,\n",
    ")\n",
    "\n",
    "from cloe.cosmo.cosmology import Cosmology\n",
    "cosmo = Cosmology()\n",
    "cosmo.cosmo_dic = test_phot_dic\n",
    "cosmo.create_phot_galbias(model = 1)\n",
    "test_phot_dic['b_inter'] = cosmo.cosmo_dic['b_inter']\n",
    "\n",
    "test_phot_dic = update_dict_w_mock(test_phot_dic)\n",
    "    \n",
    "tdh.save_test_pickle('phot_test_dic.pickle', test_phot_dic, path)"
   ]
  },
  {
   "cell_type": "markdown",
   "id": "94f21896",
   "metadata": {},
   "source": [
    "## Set parameters for `test_like_calc`\n",
    "\n",
    "Copy cosmology dictionary, set `test_like_calc`-specific parameters, assign mock test objects, and save the dictionary to a pickle file in `cloe/tests/test_input`."
   ]
  },
  {
   "cell_type": "code",
   "execution_count": null,
   "id": "ca036483",
   "metadata": {
    "tags": []
   },
   "outputs": [],
   "source": [
    "test_like_calc_dic = copy.deepcopy(mock_cosmo_dic)\n",
    "\n",
    "test_like_calc_dic['f_out_z_dep'] = False\n",
    "test_like_calc_dic['nuisance_parameters'] = nuisance_spectro\n",
    "test_like_calc_dic['Pdd_phot'] = interpolate.interp2d(zs_base, ks_base, pdd.T, fill_value=0.0)\n",
    "test_like_calc_dic['Pmm_phot'] = interpolate.RectBivariateSpline(zs_base, ks_base, pdd, kx=1, ky=1)\n",
    "test_like_calc_dic['Pgg_phot'] = interpolate.RectBivariateSpline(zs_base, ks_base, pgg, kx=1, ky=1)\n",
    "test_like_calc_dic['Pgdelta_phot'] = interpolate.RectBivariateSpline(zs_base, ks_base, pgd, kx=1, ky=1)\n",
    "test_like_calc_dic['Pii'] = interpolate.RectBivariateSpline(zs_base, ks_base, pii, kx=1, ky=1)\n",
    "test_like_calc_dic['Pdeltai'] = interpolate.RectBivariateSpline(zs_base, ks_base, pdi, kx=1, ky=1)\n",
    "test_like_calc_dic['Pgi_phot'] = interpolate.RectBivariateSpline(zs_base, ks_base, pgi_phot, kx=1, ky=1)\n",
    "test_like_calc_dic['Pgi_spectro'] = interpolate.RectBivariateSpline(zs_base, ks_base, pgi_spectro, kx=1, ky=1)\n",
    "\n",
    "test_like_calc_dic = update_dict_w_mock(test_like_calc_dic)\n",
    "    \n",
    "tdh.save_test_pickle('like_calc_test_dic.pickle', test_like_calc_dic, path)"
   ]
  },
  {
   "cell_type": "code",
   "execution_count": null,
   "id": "9e8502d4",
   "metadata": {},
   "outputs": [],
   "source": []
  },
  {
   "cell_type": "code",
   "execution_count": null,
   "id": "9903f4cd",
   "metadata": {},
   "outputs": [],
   "source": []
  }
 ],
 "metadata": {
  "kernelspec": {
   "display_name": "Python 3 (ipykernel)",
   "language": "python",
   "name": "python3"
  },
  "language_info": {
   "codemirror_mode": {
    "name": "ipython",
    "version": 3
   },
   "file_extension": ".py",
   "mimetype": "text/x-python",
   "name": "python",
   "nbconvert_exporter": "python",
   "pygments_lexer": "ipython3",
   "version": "3.9.16"
  }
 },
 "nbformat": 4,
 "nbformat_minor": 5
}
