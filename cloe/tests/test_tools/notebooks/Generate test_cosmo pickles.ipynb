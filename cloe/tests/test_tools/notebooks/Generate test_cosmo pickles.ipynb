{
 "cells": [
  {
   "cell_type": "markdown",
   "id": "682ca884",
   "metadata": {},
   "source": [
    "# Gererate test_cosmo pickles\n",
    "\n",
    "Generate the Python pickles needed to run the unit tests in `test_cosmo.py`. This notebook should only be run to redefine the cosmology dictionary (i.e. `Cosmology.cosmo_dic`) used for unit tests. \n",
    "\n",
    "> ⚠️ WARNING! Changing the values in these pickles make break current tests.\n",
    "\n",
    "## Import dependencies"
   ]
  },
  {
   "cell_type": "code",
   "execution_count": 1,
   "id": "18469a5b",
   "metadata": {},
   "outputs": [],
   "source": [
    "import copy\n",
    "import sys\n",
    "from os.path import join\n",
    "from pathlib import Path\n",
    "from astropy import constants as const"
   ]
  },
  {
   "cell_type": "markdown",
   "id": "a9f7a8c9",
   "metadata": {},
   "source": [
    "Update Python path to find CLOE."
   ]
  },
  {
   "cell_type": "code",
   "execution_count": 2,
   "id": "5b9c74f9",
   "metadata": {},
   "outputs": [],
   "source": [
    "sys.path.insert(0, str(Path().resolve().parents[3]))"
   ]
  },
  {
   "cell_type": "markdown",
   "id": "609de733",
   "metadata": {},
   "source": [
    "Import CLOE test routines."
   ]
  },
  {
   "cell_type": "code",
   "execution_count": 3,
   "id": "a9bb23f9",
   "metadata": {},
   "outputs": [],
   "source": [
    "from cloe.cosmo.cosmology import Cosmology\n",
    "from cloe.tests.test_input.base_test_cosmo import base_cosmo_dic\n",
    "from cloe.tests.test_tools.cobaya_model_handler import CobayaModel\n",
    "from cloe.tests.test_tools import mock_objects\n",
    "from cloe.tests.test_tools.test_data_handler import save_test_pickle"
   ]
  },
  {
   "cell_type": "markdown",
   "id": "73c208a2",
   "metadata": {},
   "source": [
    "Set path to `test_input`."
   ]
  },
  {
   "cell_type": "code",
   "execution_count": 4,
   "id": "f4aefc1c",
   "metadata": {},
   "outputs": [],
   "source": [
    "path = join(Path().resolve().parents[1], 'test_input')"
   ]
  },
  {
   "cell_type": "markdown",
   "id": "f51a2493",
   "metadata": {},
   "source": [
    "## Create cosmology instance\n",
    "\n",
    "Create an instance of `Cosmology`, set the base cosmological parameters for unit tests, and add extra dictionary parameters."
   ]
  },
  {
   "cell_type": "code",
   "execution_count": 5,
   "id": "9c4d9daa",
   "metadata": {},
   "outputs": [],
   "source": [
    "cosmo = Cosmology()\n",
    "cosmo.cosmo_dic.update(base_cosmo_dic)\n",
    "cosmo.cosmo_dic['H0_Mpc'] = cosmo.cosmo_dic['H0'] / const.c.to('km/s').value,\n",
    "cosmo.cosmo_dic['NL_flag'] = 0"
   ]
  },
  {
   "cell_type": "markdown",
   "id": "7b2d4a0f",
   "metadata": {},
   "source": [
    "## Generate standard cosmology pickle\n",
    "\n",
    "Run Cobaya, update the cosmology dictionary, assign mock test objects*, and save the dictionary to a pickle file in `cloe/tests/test_input`.\n",
    "\n",
    "> *this is needed in order to pickle the dictionary"
   ]
  },
  {
   "cell_type": "code",
   "execution_count": 6,
   "id": "9ad8bfde",
   "metadata": {
    "scrolled": false
   },
   "outputs": [
    {
     "name": "stdout",
     "output_type": "stream",
     "text": [
      "[model] *WARNING* Ignored blocks/options: ['data']\n",
      "[camb] `camb` module loaded successfully from /home/gcanashe/cobaya_modules/code/CAMB/camb\n",
      "/user_data/gcanashe/EUCLID/task-927/likelihood-implementation/data/ExternalBenchmark/Photometric/luminosity_ratio.dat\n"
     ]
    },
    {
     "name": "stderr",
     "output_type": "stream",
     "text": [
      "/user_data/gcanashe/EUCLID/task-927/likelihood-implementation/cloe/auxiliary/observables_dealer.py:68: UserWarning: Attention: CLOE only computes cross-correlations for the photometric survey!\n",
      "  warnings.warn(\n",
      "/user_data/gcanashe/EUCLID/task-927/likelihood-implementation/cloe/auxiliary/observables_dealer.py:71: UserWarning: Entries ['WL']['GCphot'] and ['GCphot']['GCspec'] are changed to False.\n",
      "  warnings.warn(\n"
     ]
    },
    {
     "name": "stdout",
     "output_type": "stream",
     "text": [
      "[camb] `camb` module loaded successfully from /home/gcanashe/cobaya_modules/code/CAMB/camb\n",
      "[model] *WARNING* Theories {camb, camb.transfers} do not appear to be actually used for anything\n"
     ]
    },
    {
     "name": "stderr",
     "output_type": "stream",
     "text": [
      "/user_data/gcanashe/EUCLID/task-927/likelihood-implementation/cloe/photometric_survey/photo.py:182: UserWarning: Bessel tables have been set with the specified angular separations. Computing 3x2pt correlation functions at different angles will lead to unexpected outputs.\n",
      "  warnings.warn('Bessel tables have been set with the specified angular '\n"
     ]
    }
   ],
   "source": [
    "model_test = CobayaModel(cosmo)\n",
    "model_test.update_cosmo()\n",
    "model_test_dict = mock_objects.update_dict_w_mock(model_test.cosmology.cosmo_dic)\n",
    "save_test_pickle('cosmo_test_dic.pickle', model_test_dict, path)"
   ]
  },
  {
   "cell_type": "markdown",
   "id": "8b48fc3d",
   "metadata": {},
   "source": [
    "## Generate pickle for negative curvature\n",
    "\n",
    "Copy the instance of `Cosmology`, set negative curvature, run Cobaya, update the cosmology dictionary, assign mock test objects, and save the dictionary to a pickle file in `cloe/tests/test_input`."
   ]
  },
  {
   "cell_type": "code",
   "execution_count": 10,
   "id": "413232c3",
   "metadata": {},
   "outputs": [
    {
     "name": "stdout",
     "output_type": "stream",
     "text": [
      "[model] *WARNING* Ignored blocks/options: ['data']\n",
      "[camb] `camb` module loaded successfully from /home/gcanashe/cobaya_modules/code/CAMB/camb\n",
      "/user_data/gcanashe/EUCLID/task-927/likelihood-implementation/data/ExternalBenchmark/Photometric/luminosity_ratio.dat\n",
      "[camb] `camb` module loaded successfully from /home/gcanashe/cobaya_modules/code/CAMB/camb\n",
      "[model] *WARNING* Theories {camb.transfers, camb} do not appear to be actually used for anything\n"
     ]
    }
   ],
   "source": [
    "cosmo_curv_neg = copy.deepcopy(cosmo)\n",
    "cosmo_curv_neg.cosmo_dic['Omk'] = 0.5\n",
    "model_test_curv_neg = CobayaModel(cosmo_curv_neg)\n",
    "model_test_curv_neg.update_cosmo()\n",
    "model_test_curv_neg_dict = mock_objects.update_dict_w_mock(model_test_curv_neg.cosmology.cosmo_dic)\n",
    "save_test_pickle('cosmo_test_curv_neg_dic.pickle', model_test_curv_neg_dict, path)"
   ]
  },
  {
   "cell_type": "markdown",
   "id": "22ea5a78",
   "metadata": {},
   "source": [
    "## Generate pickle for positive curvature\n",
    "\n",
    "Copy the instance of `Cosmology`, set positive curvature, run Cobaya, update the cosmology dictionary, assign mock test objects, and save the dictionary to a pickle file in `cloe/tests/test_input`."
   ]
  },
  {
   "cell_type": "code",
   "execution_count": 11,
   "id": "174b55d2",
   "metadata": {},
   "outputs": [
    {
     "name": "stdout",
     "output_type": "stream",
     "text": [
      "[model] *WARNING* Ignored blocks/options: ['data']\n",
      "[camb] `camb` module loaded successfully from /home/gcanashe/cobaya_modules/code/CAMB/camb\n",
      "/user_data/gcanashe/EUCLID/task-927/likelihood-implementation/data/ExternalBenchmark/Photometric/luminosity_ratio.dat\n",
      "[camb] `camb` module loaded successfully from /home/gcanashe/cobaya_modules/code/CAMB/camb\n",
      "[model] *WARNING* Theories {camb.transfers, camb} do not appear to be actually used for anything\n"
     ]
    }
   ],
   "source": [
    "cosmo_curv_pos = copy.deepcopy(cosmo)\n",
    "cosmo_curv_pos.cosmo_dic['Omk'] = -0.5\n",
    "model_test_curv_pos = CobayaModel(cosmo_curv_pos)\n",
    "model_test_curv_pos.update_cosmo()\n",
    "model_test_curv_pos_dict = mock_objects.update_dict_w_mock(model_test_curv_pos.cosmology.cosmo_dic)\n",
    "save_test_pickle('cosmo_test_curv_pos_dic.pickle', model_test_curv_pos_dict, path)"
   ]
  },
  {
   "cell_type": "code",
   "execution_count": null,
   "id": "65b03995",
   "metadata": {},
   "outputs": [],
   "source": []
  }
 ],
 "metadata": {
  "kernelspec": {
   "display_name": "Python 3 (ipykernel)",
   "language": "python",
   "name": "python3"
  },
  "language_info": {
   "codemirror_mode": {
    "name": "ipython",
    "version": 3
   },
   "file_extension": ".py",
   "mimetype": "text/x-python",
   "name": "python",
   "nbconvert_exporter": "python",
   "pygments_lexer": "ipython3",
   "version": "3.9.12"
  }
 },
 "nbformat": 4,
 "nbformat_minor": 5
}
