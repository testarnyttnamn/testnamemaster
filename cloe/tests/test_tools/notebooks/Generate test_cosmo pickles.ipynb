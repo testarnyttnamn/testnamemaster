{
 "cells": [
  {
   "cell_type": "markdown",
   "id": "04633fc7",
   "metadata": {},
   "source": [
    "# Gererate test_cosmo pickles\n",
    "\n",
    "Generate the Python pickles needed to run the unit tests in `test_cosmo.py`. This notebook should only be run to redefine the cosmology dictionary (i.e. `Cosmology.cosmo_dic`) used for unit tests. \n",
    "\n",
    "> ⚠️ WARNING! Changing the values in these pickles make break current tests.\n",
    "\n",
    "## Import dependencies"
   ]
  },
  {
   "cell_type": "code",
   "execution_count": null,
   "id": "23c971d7",
   "metadata": {
    "tags": []
   },
   "outputs": [],
   "source": [
    "import copy\n",
    "import sys\n",
    "from os.path import join\n",
    "from pathlib import Path\n",
    "from astropy import constants as const"
   ]
  },
  {
   "cell_type": "markdown",
   "id": "1c968918",
   "metadata": {},
   "source": [
    "Update Python path to find CLOE."
   ]
  },
  {
   "cell_type": "code",
   "execution_count": null,
   "id": "f6278540",
   "metadata": {
    "tags": []
   },
   "outputs": [],
   "source": [
    "sys.path.insert(0, str(Path().resolve().parents[3]))"
   ]
  },
  {
   "cell_type": "markdown",
   "id": "c5170916",
   "metadata": {},
   "source": [
    "Import CLOE test routines."
   ]
  },
  {
   "cell_type": "code",
   "execution_count": null,
   "id": "401871ea",
   "metadata": {
    "tags": []
   },
   "outputs": [],
   "source": [
    "from cloe.cosmo.cosmology import Cosmology\n",
    "from cloe.tests.test_input.base_test_cosmo import base_cosmo_dic\n",
    "from cloe.tests.test_tools.cobaya_model_handler import CobayaModel\n",
    "from cloe.tests.test_tools import mock_objects\n",
    "from cloe.tests.test_tools.test_data_handler import save_test_pickle"
   ]
  },
  {
   "cell_type": "markdown",
   "id": "7155f186",
   "metadata": {},
   "source": [
    "Set path to `test_input`."
   ]
  },
  {
   "cell_type": "code",
   "execution_count": null,
   "id": "db6e1613",
   "metadata": {
    "tags": []
   },
   "outputs": [],
   "source": [
    "path = join(Path().resolve().parents[1], 'test_input')"
   ]
  },
  {
   "cell_type": "markdown",
   "id": "f723dac7",
   "metadata": {},
   "source": [
    "## Create cosmology instance\n",
    "\n",
    "Create an instance of `Cosmology`, set the base cosmological parameters for unit tests, and add extra dictionary parameters."
   ]
  },
  {
   "cell_type": "code",
   "execution_count": null,
   "id": "6e187383",
   "metadata": {
    "tags": []
   },
   "outputs": [],
   "source": [
    "cosmo = Cosmology()\n",
    "cosmo.cosmo_dic.update(base_cosmo_dic)\n",
    "cosmo.cosmo_dic['H0_Mpc'] = cosmo.cosmo_dic['H0'] / const.c.to('km/s').value,\n",
    "cosmo.cosmo_dic['bias_model'] = 1\n",
    "cosmo.cosmo_dic['magbias_model'] = 2\n",
    "cosmo.cosmo_dic['use_gamma_MG'] = False\n",
    "cosmo.cosmo_dic['GCsp_z_err'] = True\n",
    "cosmo.cosmo_dic['NL_flag_phot_matter'] = 0\n",
    "cosmo.cosmo_dic['NL_flag_spectro'] = 0\n",
    "cosmo.cosmo_dic['redshift_bins_means_spectro'] = [0.9, 1.1, 1.3, 1.5, 1.8]\n",
    "cosmo.cosmo_dic['redshift_bins_means_phot'] = [0.2095, 0.489, 0.619, 0.7335, 0.8445, 0.9595, 1.087, 1.2395, 1.45, 2.038]"
   ]
  },
  {
   "cell_type": "markdown",
   "id": "506233a6",
   "metadata": {},
   "source": [
    "## Generate standard cosmology pickle\n",
    "\n",
    "Run Cobaya, update the cosmology dictionary, assign mock test objects*, and save the dictionary to a pickle file in `cloe/tests/test_input`.\n",
    "\n",
    "> *this is needed in order to pickle the dictionary"
   ]
  },
  {
   "cell_type": "code",
   "execution_count": null,
   "id": "5dcf6183",
   "metadata": {
    "scrolled": false,
    "tags": []
   },
   "outputs": [],
   "source": [
    "model_test = CobayaModel(cosmo)\n",
    "model_test.update_cosmo()\n",
    "model_test_dict = mock_objects.update_dict_w_mock(model_test.cosmology.cosmo_dic)\n",
    "save_test_pickle('cosmo_test_dic.pickle', model_test_dict, path)"
   ]
  },
  {
   "cell_type": "markdown",
   "id": "6d2a866b",
   "metadata": {},
   "source": [
    "## Generate pickle for $\\gamma$ parametrization\n",
    "\n",
    "Copy the instance of `Cosmology`, set $\\gamma$ flag, run Cobaya, update the cosmology dictionary, assign mock test objects, and save the dictionary to a pickle file in `cloe/tests/test_input`."
   ]
  },
  {
   "cell_type": "code",
   "execution_count": null,
   "id": "225ce816",
   "metadata": {},
   "outputs": [],
   "source": [
    "cosmo_gamma = copy.deepcopy(cosmo)\n",
    "cosmo_gamma.cosmo_dic['use_gamma_MG'] = True\n",
    "model_test_gamma = CobayaModel(cosmo_gamma)\n",
    "model_test_gamma.update_cosmo()\n",
    "model_test_gamma_dict = mock_objects.update_dict_w_mock(model_test_gamma.cosmology.cosmo_dic)\n",
    "save_test_pickle('cosmo_test_gamma_dic.pickle', model_test_gamma_dict, path)"
   ]
  },
  {
   "cell_type": "markdown",
   "id": "2747d735",
   "metadata": {},
   "source": [
    "## Generate pickle for negative curvature\n",
    "\n",
    "Copy the instance of `Cosmology`, set negative curvature, run Cobaya, update the cosmology dictionary, assign mock test objects, and save the dictionary to a pickle file in `cloe/tests/test_input`."
   ]
  },
  {
   "cell_type": "code",
   "execution_count": null,
   "id": "f9eb099b",
   "metadata": {
    "tags": []
   },
   "outputs": [],
   "source": [
    "cosmo_curv_neg = copy.deepcopy(cosmo)\n",
    "cosmo_curv_neg.cosmo_dic['Omk'] = 0.5\n",
    "model_test_curv_neg = CobayaModel(cosmo_curv_neg)\n",
    "model_test_curv_neg.update_cosmo()\n",
    "model_test_curv_neg_dict = mock_objects.update_dict_w_mock(model_test_curv_neg.cosmology.cosmo_dic)\n",
    "save_test_pickle('cosmo_test_curv_neg_dic.pickle', model_test_curv_neg_dict, path)"
   ]
  },
  {
   "cell_type": "markdown",
   "id": "dae2e4c3",
   "metadata": {},
   "source": [
    "## Generate pickle for positive curvature\n",
    "\n",
    "Copy the instance of `Cosmology`, set positive curvature, run Cobaya, update the cosmology dictionary, assign mock test objects, and save the dictionary to a pickle file in `cloe/tests/test_input`."
   ]
  },
  {
   "cell_type": "code",
   "execution_count": null,
   "id": "88a6be29",
   "metadata": {
    "tags": []
   },
   "outputs": [],
   "source": [
    "cosmo_curv_pos = copy.deepcopy(cosmo)\n",
    "cosmo_curv_pos.cosmo_dic['Omk'] = -0.5\n",
    "model_test_curv_pos = CobayaModel(cosmo_curv_pos)\n",
    "model_test_curv_pos.update_cosmo()\n",
    "model_test_curv_pos_dict = mock_objects.update_dict_w_mock(model_test_curv_pos.cosmology.cosmo_dic)\n",
    "save_test_pickle('cosmo_test_curv_pos_dic.pickle', model_test_curv_pos_dict, path)"
   ]
  },
  {
   "cell_type": "markdown",
   "id": "e091387d",
   "metadata": {},
   "source": [
    "## Generate pickle for Nonlinear models\n",
    "\n",
    "Copy the instance of `Cosmology`, set NL_flag_phot_matter = 1,2 only, run Cobaya, update the cosmology dictionary, assign mock test objects, and save the dictionary to a pickle file in `cloe/tests/test_input`."
   ]
  },
  {
   "cell_type": "code",
   "execution_count": null,
   "id": "1d757a4c",
   "metadata": {
    "scrolled": false,
    "tags": []
   },
   "outputs": [],
   "source": [
    "cosmo_NL1 = copy.deepcopy(cosmo)\n",
    "cosmo_NL1.cosmo_dic['NL_flag_phot_matter'] = 1\n",
    "model_test_NL1 = CobayaModel(cosmo_NL1)\n",
    "model_test_NL1.update_cosmo()\n",
    "model_test_NL1_dict = mock_objects.update_dict_w_mock(model_test_NL1.cosmology.cosmo_dic)\n",
    "save_test_pickle('cosmo_test_NLphot1_dic.pickle', model_test_NL1_dict, path)"
   ]
  },
  {
   "cell_type": "code",
   "execution_count": null,
   "id": "2f17c022",
   "metadata": {
    "tags": []
   },
   "outputs": [],
   "source": [
    "cosmo_NL2 = copy.deepcopy(cosmo)\n",
    "cosmo_NL2.cosmo_dic['NL_flag_phot_matter'] = 2\n",
    "model_test_NL2 = CobayaModel(cosmo_NL2)\n",
    "model_test_NL2.update_cosmo()\n",
    "model_test_NL2_dict = mock_objects.update_dict_w_mock(model_test_NL2.cosmology.cosmo_dic)\n",
    "save_test_pickle('cosmo_test_NLphot2_dic.pickle', model_test_NL2_dict, path)"
   ]
  },
  {
   "cell_type": "code",
   "execution_count": null,
   "id": "08f91a95",
   "metadata": {},
   "outputs": [],
   "source": [
    "cosmo_NL2_gamma = copy.deepcopy(cosmo)\n",
    "cosmo_NL2_gamma.cosmo_dic['NL_flag_phot_matter'] = 2\n",
    "cosmo_NL2_gamma.cosmo_dic['use_gamma_MG'] = True\n",
    "model_test_NL2 = CobayaModel(cosmo_NL2_gamma)\n",
    "model_test_NL2.update_cosmo()\n",
    "model_test_NL2_dict = mock_objects.update_dict_w_mock(model_test_NL2.cosmology.cosmo_dic)\n",
    "save_test_pickle('cosmo_test_NLphot2_gamma_dic.pickle', model_test_NL2_dict, path)"
   ]
  },
  {
   "cell_type": "code",
   "execution_count": null,
   "id": "9c64d72b",
   "metadata": {},
   "outputs": [],
   "source": [
    "cosmo_NL3 = copy.deepcopy(cosmo)\n",
    "cosmo_NL3.cosmo_dic['NL_flag_phot_matter'] = 3\n",
    "model_test_NL3 = CobayaModel(cosmo_NL3)\n",
    "model_test_NL3.update_cosmo()\n",
    "model_test_NL3_dict = mock_objects.update_dict_w_mock(model_test_NL3.cosmology.cosmo_dic)\n",
    "save_test_pickle('cosmo_test_NLphot3_dic.pickle', model_test_NL3_dict, path)"
   ]
  },
  {
   "cell_type": "code",
   "execution_count": null,
   "id": "b928d1cf",
   "metadata": {
    "tags": []
   },
   "outputs": [],
   "source": [
    "cosmo_NL3_extra = copy.deepcopy(cosmo)\n",
    "cosmo_NL3_extra.cosmo_dic['NL_flag_phot_matter'] = 3\n",
    "# Parameter value outside of range\n",
    "cosmo_NL3_extra.cosmo_dic['H0'] = 85\n",
    "cosmo_NL3_extra.cosmo_dic['H0_Mpc'] = cosmo_NL3_extra.cosmo_dic['H0'] / const.c.to('km/s').value\n",
    "model_test_NL3_extra = CobayaModel(cosmo_NL3_extra)\n",
    "model_test_NL3_extra.update_cosmo()\n",
    "model_test_NL3_extra_dict = mock_objects.update_dict_w_mock(model_test_NL3_extra.cosmology.cosmo_dic)\n",
    "save_test_pickle('cosmo_test_NLphot3_extra_dic.pickle', model_test_NL3_extra_dict, path)"
   ]
  },
  {
   "cell_type": "code",
   "execution_count": null,
   "id": "735f72c0",
   "metadata": {},
   "outputs": [],
   "source": [
    "cosmo_NL4 = copy.deepcopy(cosmo)\n",
    "cosmo_NL4.cosmo_dic['NL_flag_phot_matter'] = 4\n",
    "model_test_NL4 = CobayaModel(cosmo_NL4)\n",
    "model_test_NL4.update_cosmo()\n",
    "model_test_NL4_dict = mock_objects.update_dict_w_mock(model_test_NL4.cosmology.cosmo_dic)\n",
    "save_test_pickle('cosmo_test_NLphot4_dic.pickle', model_test_NL4_dict, path)"
   ]
  },
  {
   "cell_type": "markdown",
   "id": "3544292b",
   "metadata": {},
   "source": [
    "Copy the instance of `Cosmology`, set NL_flag_spectro = 1 (for EFT model), run Cobaya, update the cosmology dictionary, assign mock test objects, and save the dictionary to a pickle in `cloe/tests/test_input`. For the non linear tests we also need a pickle for the nonlinear_dic defined as attribute of the `Nonlinear` class."
   ]
  },
  {
   "cell_type": "code",
   "execution_count": null,
   "id": "253266d6",
   "metadata": {
    "tags": []
   },
   "outputs": [],
   "source": [
    "cosmo_NL5 = copy.deepcopy(cosmo)\n",
    "cosmo_NL5.cosmo_dic['NL_flag_spectro'] = 1\n",
    "model_test_NL5 = CobayaModel(cosmo_NL5)\n",
    "model_test_NL5.update_cosmo()\n",
    "model_test_NL5_dict = mock_objects.update_dict_w_mock(model_test_NL5.cosmology.cosmo_dic)\n",
    "model_test_NL5_nonlin_dict = model_test_NL5.cosmology.nonlinear.nonlinear_dic\n",
    "save_test_pickle('cosmo_test_NLspectro1_dic.pickle', model_test_NL5_dict, path)\n",
    "save_test_pickle('cosmo_test_NLspectro1_nonlin_dic.pickle', model_test_NL5_nonlin_dict, path)"
   ]
  },
  {
   "cell_type": "code",
   "execution_count": null,
   "id": "788832af",
   "metadata": {},
   "outputs": [],
   "source": []
  },
  {
   "cell_type": "code",
   "execution_count": null,
   "id": "ead3bb61",
   "metadata": {},
   "outputs": [],
   "source": []
  }
 ],
 "metadata": {
  "kernelspec": {
   "display_name": "Python 3 (ipykernel)",
   "language": "python",
   "name": "python3"
  },
  "language_info": {
   "codemirror_mode": {
    "name": "ipython",
    "version": 3
   },
   "file_extension": ".py",
   "mimetype": "text/x-python",
   "name": "python",
   "nbconvert_exporter": "python",
   "pygments_lexer": "ipython3",
   "version": "3.10.8"
  }
 },
 "nbformat": 4,
 "nbformat_minor": 5
}
