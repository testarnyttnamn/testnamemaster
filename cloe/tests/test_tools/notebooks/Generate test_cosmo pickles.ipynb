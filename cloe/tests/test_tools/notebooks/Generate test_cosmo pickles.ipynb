{
 "cells": [
  {
   "cell_type": "markdown",
   "id": "682ca884",
   "metadata": {},
   "source": [
    "# Gererate test_cosmo pickles\n",
    "\n",
    "Generate the Python pickles needed to run the unit tests in `test_cosmo.py`. This notebook should only be run to redefine the cosmology dictionary (i.e. `Cosmology.cosmo_dic`) used for unit tests. \n",
    "\n",
    "> ⚠️ WARNING! Changing the values in these pickles make break current tests.\n",
    "\n",
    "## Import dependencies"
   ]
  },
  {
   "cell_type": "code",
   "execution_count": 1,
   "id": "18469a5b",
   "metadata": {
    "tags": []
   },
   "outputs": [],
   "source": [
    "import copy\n",
    "import sys\n",
    "from os.path import join\n",
    "from pathlib import Path\n",
    "from astropy import constants as const"
   ]
  },
  {
   "cell_type": "markdown",
   "id": "a9f7a8c9",
   "metadata": {},
   "source": [
    "Update Python path to find CLOE."
   ]
  },
  {
   "cell_type": "code",
   "execution_count": 2,
   "id": "5b9c74f9",
   "metadata": {
    "tags": []
   },
   "outputs": [],
   "source": [
    "sys.path.insert(0, str(Path().resolve().parents[3]))"
   ]
  },
  {
   "cell_type": "markdown",
   "id": "609de733",
   "metadata": {},
   "source": [
    "Import CLOE test routines."
   ]
  },
  {
   "cell_type": "code",
   "execution_count": 3,
   "id": "a9bb23f9",
   "metadata": {
    "tags": []
   },
   "outputs": [
    {
     "name": "stdout",
     "output_type": "stream",
     "text": [
      "\n",
      "Classy could not be found in your system.\n",
      "Here are some suggestions:\n",
      "\n",
      "\t -Download the Class from class-code.net and install it\n",
      "\t  together with its wrapper classy (type 'make' instead of\n",
      "\t  'make class'\n",
      "\t -If you know that Class is installed on your system\n",
      "\t  and yet classy could not be installed, try re-compiling\n",
      "\t  Class with just ''make'' instead of ''make class''\n",
      "NOTICE: Even without classy you can still use EuclidEmulator2\n",
      "        to emulate boost factors. You won't be able to compute\n",
      "        full power spectra, though.\n"
     ]
    },
    {
     "name": "stderr",
     "output_type": "stream",
     "text": [
      "2023-06-06 11:09:59.931887: I tensorflow/core/platform/cpu_feature_guard.cc:193] This TensorFlow binary is optimized with oneAPI Deep Neural Network Library (oneDNN) to use the following CPU instructions in performance-critical operations:  SSE4.1 SSE4.2\n",
      "To enable them in other operations, rebuild TensorFlow with the appropriate compiler flags.\n"
     ]
    }
   ],
   "source": [
    "from cloe.cosmo.cosmology import Cosmology\n",
    "from cloe.tests.test_input.base_test_cosmo import base_cosmo_dic\n",
    "from cloe.tests.test_tools.cobaya_model_handler import CobayaModel\n",
    "from cloe.tests.test_tools import mock_objects\n",
    "from cloe.tests.test_tools.test_data_handler import save_test_pickle"
   ]
  },
  {
   "cell_type": "markdown",
   "id": "73c208a2",
   "metadata": {},
   "source": [
    "Set path to `test_input`."
   ]
  },
  {
   "cell_type": "code",
   "execution_count": 4,
   "id": "f4aefc1c",
   "metadata": {
    "tags": []
   },
   "outputs": [],
   "source": [
    "path = join(Path().resolve().parents[1], 'test_input')"
   ]
  },
  {
   "cell_type": "markdown",
   "id": "f51a2493",
   "metadata": {},
   "source": [
    "## Create cosmology instance\n",
    "\n",
    "Create an instance of `Cosmology`, set the base cosmological parameters for unit tests, and add extra dictionary parameters."
   ]
  },
  {
   "cell_type": "code",
   "execution_count": 5,
   "id": "9c4d9daa",
   "metadata": {
    "tags": []
   },
   "outputs": [],
   "source": [
    "cosmo = Cosmology()\n",
    "cosmo.cosmo_dic.update(base_cosmo_dic)\n",
    "cosmo.cosmo_dic['H0_Mpc'] = cosmo.cosmo_dic['H0'] / const.c.to('km/s').value,\n",
    "cosmo.cosmo_dic['bias_model'] = 1\n",
    "cosmo.cosmo_dic['magbias_model'] = 2\n",
    "cosmo.cosmo_dic['NL_flag_phot_matter'] = 0\n",
    "cosmo.cosmo_dic['NL_flag_spectro'] = 0\n",
    "cosmo.cosmo_dic['redshift_bins_means_spectro'] = [0.9, 1.1, 1.3, 1.5, 1.8]\n",
    "cosmo.cosmo_dic['redshift_bins_means_phot'] = [0.2095, 0.489, 0.619, 0.7335, 0.8445, 0.9595, 1.087, 1.2395, 1.45, 2.038]"
   ]
  },
  {
   "cell_type": "markdown",
   "id": "7b2d4a0f",
   "metadata": {},
   "source": [
    "## Generate standard cosmology pickle\n",
    "\n",
    "Run Cobaya, update the cosmology dictionary, assign mock test objects*, and save the dictionary to a pickle file in `cloe/tests/test_input`.\n",
    "\n",
    "> *this is needed in order to pickle the dictionary"
   ]
  },
  {
   "cell_type": "code",
   "execution_count": 6,
   "id": "9ad8bfde",
   "metadata": {
    "scrolled": false,
    "tags": []
   },
   "outputs": [
    {
     "name": "stdout",
     "output_type": "stream",
     "text": [
      "[model] *WARNING* Ignored blocks/options: ['data']\n",
      "[camb] `camb` module loaded successfully from /Users/guadalupe.canasherr/cobaya_modules/code/CAMB/camb\n"
     ]
    },
    {
     "name": "stderr",
     "output_type": "stream",
     "text": [
      "/Users/guadalupe.canasherr/IST_LIKELIHOOD/task_1054/likelihood-implementation/cloe/auxiliary/observables_dealer.py:69: UserWarning: Attention: CLOE only computes cross-correlations for the photometric survey!\n",
      "  warnings.warn(\n",
      "/Users/guadalupe.canasherr/IST_LIKELIHOOD/task_1054/likelihood-implementation/cloe/auxiliary/observables_dealer.py:72: UserWarning: Entries ['WL']['GCspectro'] and ['GCphot']['GCspectro'] are changed to False.\n",
      "  warnings.warn(\n",
      "/Users/guadalupe.canasherr/IST_LIKELIHOOD/task_1054/likelihood-implementation/cloe/photometric_survey/photo.py:202: UserWarning: Bessel tables have been set with the specified angular separations. Computing 3x2pt correlation functions at different angles will lead to unexpected outputs.\n",
      "  warnings.warn('Bessel tables have been set with the specified angular '\n"
     ]
    },
    {
     "name": "stdout",
     "output_type": "stream",
     "text": [
      "[camb] `camb` module loaded successfully from /Users/guadalupe.canasherr/cobaya_modules/code/CAMB/camb\n",
      "[model] *WARNING* Theories {camb.transfers, camb} do not appear to be actually used for anything\n"
     ]
    }
   ],
   "source": [
    "model_test = CobayaModel(cosmo)\n",
    "model_test.update_cosmo()\n",
    "model_test_dict = mock_objects.update_dict_w_mock(model_test.cosmology.cosmo_dic)\n",
    "save_test_pickle('cosmo_test_dic.pickle', model_test_dict, path)"
   ]
  },
  {
   "cell_type": "markdown",
   "id": "8b48fc3d",
   "metadata": {},
   "source": [
    "## Generate pickle for negative curvature\n",
    "\n",
    "Copy the instance of `Cosmology`, set negative curvature, run Cobaya, update the cosmology dictionary, assign mock test objects, and save the dictionary to a pickle file in `cloe/tests/test_input`."
   ]
  },
  {
   "cell_type": "code",
   "execution_count": 7,
   "id": "413232c3",
   "metadata": {
    "tags": []
   },
   "outputs": [
    {
     "name": "stdout",
     "output_type": "stream",
     "text": [
      "[model] *WARNING* Ignored blocks/options: ['data']\n",
      "[camb] `camb` module loaded successfully from /Users/guadalupe.canasherr/cobaya_modules/code/CAMB/camb\n",
      "[camb] `camb` module loaded successfully from /Users/guadalupe.canasherr/cobaya_modules/code/CAMB/camb\n",
      "[model] *WARNING* Theories {camb, camb.transfers} do not appear to be actually used for anything\n"
     ]
    }
   ],
   "source": [
    "cosmo_curv_neg = copy.deepcopy(cosmo)\n",
    "cosmo_curv_neg.cosmo_dic['Omk'] = 0.5\n",
    "model_test_curv_neg = CobayaModel(cosmo_curv_neg)\n",
    "model_test_curv_neg.update_cosmo()\n",
    "model_test_curv_neg_dict = mock_objects.update_dict_w_mock(model_test_curv_neg.cosmology.cosmo_dic)\n",
    "save_test_pickle('cosmo_test_curv_neg_dic.pickle', model_test_curv_neg_dict, path)"
   ]
  },
  {
   "cell_type": "markdown",
   "id": "22ea5a78",
   "metadata": {},
   "source": [
    "## Generate pickle for positive curvature\n",
    "\n",
    "Copy the instance of `Cosmology`, set positive curvature, run Cobaya, update the cosmology dictionary, assign mock test objects, and save the dictionary to a pickle file in `cloe/tests/test_input`."
   ]
  },
  {
   "cell_type": "code",
   "execution_count": 8,
   "id": "174b55d2",
   "metadata": {
    "tags": []
   },
   "outputs": [
    {
     "name": "stdout",
     "output_type": "stream",
     "text": [
      "[model] *WARNING* Ignored blocks/options: ['data']\n",
      "[camb] `camb` module loaded successfully from /Users/guadalupe.canasherr/cobaya_modules/code/CAMB/camb\n",
      "[camb] `camb` module loaded successfully from /Users/guadalupe.canasherr/cobaya_modules/code/CAMB/camb\n",
      "[model] *WARNING* Theories {camb, camb.transfers} do not appear to be actually used for anything\n"
     ]
    }
   ],
   "source": [
    "cosmo_curv_pos = copy.deepcopy(cosmo)\n",
    "cosmo_curv_pos.cosmo_dic['Omk'] = -0.5\n",
    "model_test_curv_pos = CobayaModel(cosmo_curv_pos)\n",
    "model_test_curv_pos.update_cosmo()\n",
    "model_test_curv_pos_dict = mock_objects.update_dict_w_mock(model_test_curv_pos.cosmology.cosmo_dic)\n",
    "save_test_pickle('cosmo_test_curv_pos_dic.pickle', model_test_curv_pos_dict, path)"
   ]
  },
  {
   "cell_type": "markdown",
   "id": "60eba47c",
   "metadata": {},
   "source": [
    "## Generate pickle for Nonlinear models\n",
    "\n",
    "Copy the instance of `Cosmology`, set NL_flag_phot_matter = 1,2 only, run Cobaya, update the cosmology dictionary, assign mock test objects, and save the dictionary to a pickle file in `cloe/tests/test_input`."
   ]
  },
  {
   "cell_type": "code",
   "execution_count": 9,
   "id": "f73e541b",
   "metadata": {
    "scrolled": false,
    "tags": []
   },
   "outputs": [
    {
     "name": "stdout",
     "output_type": "stream",
     "text": [
      "[model] *WARNING* Ignored blocks/options: ['data']\n",
      "[camb] `camb` module loaded successfully from /Users/guadalupe.canasherr/cobaya_modules/code/CAMB/camb\n",
      "[camb] `camb` module loaded successfully from /Users/guadalupe.canasherr/cobaya_modules/code/CAMB/camb\n",
      "[model] *WARNING* Theories {camb, camb.transfers} do not appear to be actually used for anything\n"
     ]
    }
   ],
   "source": [
    "cosmo_NL1 = copy.deepcopy(cosmo)\n",
    "cosmo_NL1.cosmo_dic['NL_flag_phot_matter'] = 1\n",
    "model_test_NL1 = CobayaModel(cosmo_NL1)\n",
    "model_test_NL1.update_cosmo()\n",
    "model_test_NL1_dict = mock_objects.update_dict_w_mock(model_test_NL1.cosmology.cosmo_dic)\n",
    "save_test_pickle('cosmo_test_NLphot1_dic.pickle', model_test_NL1_dict, path)"
   ]
  },
  {
   "cell_type": "code",
   "execution_count": 10,
   "id": "19229e33",
   "metadata": {
    "tags": []
   },
   "outputs": [
    {
     "name": "stdout",
     "output_type": "stream",
     "text": [
      "[model] *WARNING* Ignored blocks/options: ['data']\n",
      "[camb] `camb` module loaded successfully from /Users/guadalupe.canasherr/cobaya_modules/code/CAMB/camb\n",
      "[camb] `camb` module loaded successfully from /Users/guadalupe.canasherr/cobaya_modules/code/CAMB/camb\n",
      "[model] *WARNING* Theories {camb, camb.transfers} do not appear to be actually used for anything\n"
     ]
    }
   ],
   "source": [
    "cosmo_NL2 = copy.deepcopy(cosmo)\n",
    "cosmo_NL2.cosmo_dic['NL_flag_phot_matter'] = 2\n",
    "model_test_NL2 = CobayaModel(cosmo_NL2)\n",
    "model_test_NL2.update_cosmo()\n",
    "model_test_NL2_dict = mock_objects.update_dict_w_mock(model_test_NL2.cosmology.cosmo_dic)\n",
    "save_test_pickle('cosmo_test_NLphot2_dic.pickle', model_test_NL2_dict, path)"
   ]
  },
  {
   "cell_type": "code",
   "execution_count": 11,
   "id": "cf9c223f",
   "metadata": {},
   "outputs": [
    {
     "name": "stdout",
     "output_type": "stream",
     "text": [
      "[model] *WARNING* Ignored blocks/options: ['data']\n",
      "[camb] `camb` module loaded successfully from /Users/guadalupe.canasherr/cobaya_modules/code/CAMB/camb\n",
      "[camb] `camb` module loaded successfully from /Users/guadalupe.canasherr/cobaya_modules/code/CAMB/camb\n",
      "[model] *WARNING* Theories {camb, camb.transfers} do not appear to be actually used for anything\n"
     ]
    }
   ],
   "source": [
    "cosmo_NL3 = copy.deepcopy(cosmo)\n",
    "cosmo_NL3.cosmo_dic['NL_flag_phot_matter'] = 3\n",
    "model_test_NL3 = CobayaModel(cosmo_NL3)\n",
    "model_test_NL3.update_cosmo()\n",
    "model_test_NL3_dict = mock_objects.update_dict_w_mock(model_test_NL3.cosmology.cosmo_dic)\n",
    "save_test_pickle('cosmo_test_NLphot3_dic.pickle', model_test_NL3_dict, path)"
   ]
  },
  {
   "cell_type": "code",
   "execution_count": 12,
   "id": "16450d20",
   "metadata": {
    "tags": []
   },
   "outputs": [
    {
     "name": "stdout",
     "output_type": "stream",
     "text": [
      "[model] *WARNING* Ignored blocks/options: ['data']\n",
      "[camb] `camb` module loaded successfully from /Users/guadalupe.canasherr/cobaya_modules/code/CAMB/camb\n",
      "[camb] `camb` module loaded successfully from /Users/guadalupe.canasherr/cobaya_modules/code/CAMB/camb\n",
      "[model] *WARNING* Theories {camb.transfers, camb} do not appear to be actually used for anything\n"
     ]
    }
   ],
   "source": [
    "cosmo_NL3_extra = copy.deepcopy(cosmo)\n",
    "cosmo_NL3_extra.cosmo_dic['NL_flag_phot_matter'] = 3\n",
    "# Parameter value outside of range\n",
    "cosmo_NL3_extra.cosmo_dic['H0'] = 85\n",
    "cosmo_NL3_extra.cosmo_dic['H0_Mpc'] = cosmo_NL3_extra.cosmo_dic['H0'] / const.c.to('km/s').value\n",
    "model_test_NL3_extra = CobayaModel(cosmo_NL3_extra)\n",
    "model_test_NL3_extra.update_cosmo()\n",
    "model_test_NL3_extra_dict = mock_objects.update_dict_w_mock(model_test_NL3_extra.cosmology.cosmo_dic)\n",
    "save_test_pickle('cosmo_test_NLphot3_extra_dic.pickle', model_test_NL3_extra_dict, path)"
   ]
  },
  {
   "cell_type": "code",
   "execution_count": 13,
   "id": "e65c2017",
   "metadata": {},
   "outputs": [
    {
     "name": "stdout",
     "output_type": "stream",
     "text": [
      "[model] *WARNING* Ignored blocks/options: ['data']\n",
      "[camb] `camb` module loaded successfully from /Users/guadalupe.canasherr/cobaya_modules/code/CAMB/camb\n",
      "[camb] `camb` module loaded successfully from /Users/guadalupe.canasherr/cobaya_modules/code/CAMB/camb\n",
      "[model] *WARNING* Theories {camb, camb.transfers} do not appear to be actually used for anything\n"
     ]
    }
   ],
   "source": [
    "cosmo_NL4 = copy.deepcopy(cosmo)\n",
    "cosmo_NL4.cosmo_dic['NL_flag_phot_matter'] = 4\n",
    "model_test_NL4 = CobayaModel(cosmo_NL4)\n",
    "model_test_NL4.update_cosmo()\n",
    "model_test_NL4_dict = mock_objects.update_dict_w_mock(model_test_NL4.cosmology.cosmo_dic)\n",
    "save_test_pickle('cosmo_test_NLphot4_dic.pickle', model_test_NL4_dict, path)"
   ]
  },
  {
   "cell_type": "markdown",
   "id": "a0e8250d",
   "metadata": {},
   "source": [
    "Copy the instance of `Cosmology`, set NL_flag_spectro = 1 (for EFT model), run Cobaya, update the cosmology dictionary, assign mock test objects, and save the dictionary to a pickle in `cloe/tests/test_input`. For the non linear tests we also need a pickle for the nonlinear_dic defined as attribute of the `Nonlinear` class."
   ]
  },
  {
   "cell_type": "code",
   "execution_count": 14,
   "id": "2cd1b860",
   "metadata": {
    "tags": []
   },
   "outputs": [
    {
     "name": "stdout",
     "output_type": "stream",
     "text": [
      "[model] *WARNING* Ignored blocks/options: ['data']\n",
      "[camb] `camb` module loaded successfully from /Users/guadalupe.canasherr/cobaya_modules/code/CAMB/camb\n",
      "[camb] `camb` module loaded successfully from /Users/guadalupe.canasherr/cobaya_modules/code/CAMB/camb\n",
      "[model] *WARNING* Theories {camb, camb.transfers} do not appear to be actually used for anything\n"
     ]
    }
   ],
   "source": [
    "cosmo_NL5 = copy.deepcopy(cosmo)\n",
    "cosmo_NL5.cosmo_dic['NL_flag_spectro'] = 1\n",
    "model_test_NL5 = CobayaModel(cosmo_NL5)\n",
    "model_test_NL5.update_cosmo()\n",
    "model_test_NL5_dict = mock_objects.update_dict_w_mock(model_test_NL5.cosmology.cosmo_dic)\n",
    "model_test_NL5_nonlin_dict = model_test_NL5.cosmology.nonlinear.nonlinear_dic\n",
    "save_test_pickle('cosmo_test_NLspectro1_dic.pickle', model_test_NL5_dict, path)\n",
    "save_test_pickle('cosmo_test_NLspectro1_nonlin_dic.pickle', model_test_NL5_nonlin_dict, path)"
   ]
  },
  {
   "cell_type": "code",
   "execution_count": null,
   "id": "05979bc0",
   "metadata": {},
   "outputs": [],
   "source": []
  }
 ],
 "metadata": {
  "kernelspec": {
   "display_name": "Python 3 (ipykernel)",
   "language": "python",
   "name": "python3"
  },
  "language_info": {
   "codemirror_mode": {
    "name": "ipython",
    "version": 3
   },
   "file_extension": ".py",
   "mimetype": "text/x-python",
   "name": "python",
   "nbconvert_exporter": "python",
   "pygments_lexer": "ipython3",
   "version": "3.9.16"
  }
 },
 "nbformat": 4,
 "nbformat_minor": 5
}
